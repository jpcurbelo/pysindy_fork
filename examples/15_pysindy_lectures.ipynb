{
 "cells": [
  {
   "cell_type": "markdown",
   "metadata": {},
   "source": [
    "# Summary of PySINDy lecture videos\n",
    "\n",
    "This notebook is a summary of the PySINDy YouTube lectures found here. In particular, it shows how to use the SINDy method in practice, addressing the following practical questions:\n",
    "1. How does one choose the thresholding parameter $\\lambda$?\n",
    "2. How to make SINDy more robust? <br>\n",
    "    a) Smoothing and more robust derivatives <br>\n",
    "    b) More data through multiple trajectories <br>\n",
    "    c) Ensemble methods <br>\n",
    "    d) Weak-formulation SINDy <br>\n",
    "3. How to handle equations beyond systems of ODES? <br>\n",
    "    a) Implicit ODEs with SINDy-PI <br>\n",
    "    b) PDEs with PDE-FIND <br>\n",
    "4. How to identify models that are globally stable?\n",
    "5. How to choose a regularizer and a sparse regression algorithm?\n",
    "6. How to build tailored candidate libraries?\n",
    "\n",
    "An interactive version of this notebook is available on binder."
   ]
  },
  {
   "cell_type": "markdown",
   "metadata": {
    "ExecuteTime": {
     "end_time": "2020-03-09T00:05:47.829870Z",
     "start_time": "2020-03-09T00:05:47.821638Z"
    }
   },
   "source": [
    "[![Binder](https://mybinder.org/badge_logo.svg)](https://mybinder.org/v2/gh/dynamicslab/pysindy/v1.4.3?filepath=examples/1_feature_overview.ipynb)"
   ]
  },
  {
   "cell_type": "code",
   "execution_count": 1,
   "metadata": {
    "ExecuteTime": {
     "end_time": "2020-10-22T22:20:41.222450Z",
     "start_time": "2020-10-22T22:20:40.308783Z"
    }
   },
   "outputs": [],
   "source": [
    "import matplotlib.pyplot as plt\n",
    "from IPython.display import Image\n",
    "from mpl_toolkits.mplot3d import Axes3D\n",
    "import numpy as np\n",
    "from scipy.integrate import solve_ivp\n",
    "from sklearn.metrics import mean_squared_error\n",
    "from sklearn.linear_model import Lasso\n",
    "\n",
    "from pysindy.utils import lorenz, enzyme\n",
    "import pysindy as ps\n",
    "\n",
    "# bad code but allows us to ignore warnings\n",
    "import warnings\n",
    "warnings.filterwarnings(\"ignore\")"
   ]
  },
  {
   "cell_type": "code",
   "execution_count": 2,
   "metadata": {
    "ExecuteTime": {
     "end_time": "2020-10-22T22:20:41.226830Z",
     "start_time": "2020-10-22T22:20:41.224162Z"
    }
   },
   "outputs": [],
   "source": [
    "# Seed the random number generators for reproducibility\n",
    "np.random.seed(100)\n",
    "\n",
    "# Initialize integrator keywords for solve_ivp to replicate the odeint defaults\n",
    "integrator_keywords = {}\n",
    "integrator_keywords['rtol'] = 1e-15\n",
    "integrator_keywords['method'] = 'LSODA'\n",
    "integrator_keywords['atol'] = 1e-10"
   ]
  },
  {
   "cell_type": "code",
   "execution_count": 6,
   "metadata": {},
   "outputs": [],
   "source": [
    "from scipy.integrate import trapezoid\n",
    "from scipy.interpolate import interp1d\n",
    "\n",
    "# Make coefficient plot for threshold scan\n",
    "def plot_pareto(coefs, opt, model, threshold_scan, x_test, t_test):\n",
    "    dt = t_test[1] - t_test[0]\n",
    "    mse = np.zeros(len(threshold_scan))\n",
    "    mse_sim = np.zeros(len(threshold_scan))\n",
    "    for i in range(len(threshold_scan)):\n",
    "        opt.coef_ = coefs[i]\n",
    "        mse[i] = model.score(x_test, t=dt, metric=mean_squared_error)\n",
    "        x_test_sim = model.simulate(x_test[0, :], t_test, integrator='odeint')\n",
    "        mse_sim[i] = np.sum((x_test - x_test_sim) ** 2)\n",
    "    plt.figure()\n",
    "    plt.plot(threshold_scan, mse, 'bo')\n",
    "    plt.plot(threshold_scan, mse, 'b')\n",
    "    plt.ylabel(r'Fitting RMSE', fontsize=20)\n",
    "    plt.xlabel(r'$\\lambda$', fontsize=20)\n",
    "    plt.xticks(fontsize=16)\n",
    "    plt.yticks(fontsize=16)\n",
    "    plt.grid(True)\n",
    "    plt.figure()\n",
    "    plt.plot(threshold_scan, mse_sim, 'bo')\n",
    "    plt.plot(threshold_scan, mse_sim, 'b')\n",
    "    plt.ylabel('Testing trajectory RMSE', fontsize=20)\n",
    "    plt.xlabel(r'$\\lambda$', fontsize=20)\n",
    "    plt.xticks(fontsize=16)\n",
    "    plt.yticks(fontsize=16)\n",
    "    plt.grid(True)\n",
    "    \n",
    "def plot_data_and_derivative(x, dt, deriv):\n",
    "    feature_name = ['x', 'y', 'z']\n",
    "    plt.figure(figsize=(20, 5))\n",
    "    for i in range(3):\n",
    "        plt.subplot(1, 3, i + 1)\n",
    "        plt.plot(x[:, i], label=feature_name[i])\n",
    "        plt.grid(True)\n",
    "        plt.xlabel('t', fontsize=24)\n",
    "        plt.xticks(fontsize=18)\n",
    "        plt.yticks(fontsize=18)\n",
    "        plt.legend(fontsize=24)\n",
    "    x_dot = deriv(x, t=dt)\n",
    "    plt.figure(figsize=(20, 5))\n",
    "    for i in range(3):\n",
    "        plt.subplot(1, 3, i + 1)\n",
    "        plt.plot(x_dot[:, i], label=r'$\\dot{' + feature_name[i] + '}$')\n",
    "        plt.grid(True)\n",
    "        plt.xlabel('t', fontsize=24)\n",
    "        plt.xticks(fontsize=18)\n",
    "        plt.yticks(fontsize=18)\n",
    "        plt.legend(fontsize=24)\n",
    "        \n",
    "def plot_ensemble_results(model, mean_ensemble, std_ensemble, \n",
    "                          mean_library_ensemble, std_library_ensemble):\n",
    "    # Plot results\n",
    "    xticknames = model.get_feature_names()\n",
    "    for i in range(10):\n",
    "        xticknames[i] = '$' + xticknames[i] + '$'\n",
    "    plt.figure(figsize=(18, 4))\n",
    "    colors = ['b', 'r', 'k']\n",
    "    plt.subplot(1, 2, 1)\n",
    "    plt.title('ensembling', fontsize=22)\n",
    "    plt.xlabel('Candidate terms', fontsize=22)\n",
    "    plt.ylabel('Coefficient values', fontsize=22)\n",
    "    for i in range(3):\n",
    "        plt.errorbar(range(10), mean_ensemble[i, :], yerr=std_ensemble[i, :], \n",
    "                     fmt='o', color=colors[i],\n",
    "                     label=r'Equation for $\\dot{' + feature_names[i] + r'}$')\n",
    "    ax = plt.gca()\n",
    "    plt.grid(True)\n",
    "    ax.set_xticks(range(10))\n",
    "    plt.xticks(fontsize=20)\n",
    "    plt.yticks(fontsize=20)\n",
    "    ax.set_xticklabels(xticknames, verticalalignment='top')\n",
    "    plt.subplot(1, 2, 2)\n",
    "    plt.xlabel('Candidate terms', fontsize=18)\n",
    "    plt.title('library ensembling', fontsize=18)\n",
    "    for i in range(3):\n",
    "        plt.errorbar(range(10), mean_library_ensemble[i, :], yerr=std_library_ensemble[i, :], \n",
    "                     fmt='o', color=colors[i], \n",
    "                     label=r'Equation for $\\dot{' + feature_names[i] + r'}$')\n",
    "    ax = plt.gca()\n",
    "    plt.grid(True)\n",
    "    plt.xticks(fontsize=20)\n",
    "    plt.yticks(fontsize=20)\n",
    "    plt.legend(fontsize=16, loc='upper right')\n",
    "    ax.set_xticks(range(10))\n",
    "    ax.set_xticklabels(xticknames, verticalalignment='top')\n",
    "\n",
    "\n",
    "# Convert u_dot into a weak form using the pre-defined ode_lib\n",
    "def convert_u_dot_0D(u, t, ode_lib):  # For weak form ODES\n",
    "    K = ode_lib.K\n",
    "    num_pts_per_domain = ode_lib.num_pts_per_domain\n",
    "    u_dot_integral = np.zeros((K, u.shape[-1]))\n",
    "    for j in range(u.shape[-1]):\n",
    "        u_interp = interp1d(t, u[:, j], kind='cubic')\n",
    "        for k in range(K):\n",
    "            # Interpolate u onto the kth subdomain\n",
    "            u_new = u_interp(ode_lib.tgrid_k[k, :])\n",
    "            # Get the smooth weights on the kth subdomain\n",
    "            w_diff = ode_lib._smooth_ppoly(\n",
    "                        [],\n",
    "                        ode_lib.tgrid_k[k, :], k, 0, 0, 0, 1\n",
    "                    )\n",
    "            # Integrate over t points in the kth subdomain\n",
    "            u_dot_integral[k, j] = (-1) * (\n",
    "                trapezoid(\n",
    "                    u_new * w_diff, \n",
    "                    x=ode_lib.tgrid_k[k, :], \n",
    "                    axis=0\n",
    "                )\n",
    "            )\n",
    "    return u_dot_integral\n",
    "\n",
    "def make_constraints(r):\n",
    "    q = 0\n",
    "    N = int((r ** 2 + 3 * r) / 2.0)\n",
    "    p = r + r * (r - 1) + int(r * (r - 1)*(r - 2) / 6.0)\n",
    "    constraint_zeros = np.zeros(p)\n",
    "    constraint_matrix = np.zeros((p, r * N))    \n",
    "    \n",
    "    # Set coefficients adorning terms like a_i^3 to zero\n",
    "    for i in range(r):\n",
    "        constraint_matrix[q, r * (N - r) + i * (r + 1)] = 1.0\n",
    "        q = q + 1\n",
    "\n",
    "    # Set coefficients adorning terms like a_ia_j^2 to be antisymmetric\n",
    "    for i in range(r):\n",
    "        for j in range(i + 1, r):\n",
    "            constraint_matrix[q, r * (N - r + j) + i] = 1.0\n",
    "            constraint_matrix[q, r * (r + j - 1) + j + r * int(i * (2 * r - i - 3) / 2.0)] = 1.0\n",
    "            q = q + 1\n",
    "    for i in range(r):\n",
    "         for j in range(0, i):\n",
    "            constraint_matrix[q, r * (N - r + j) + i] = 1.0\n",
    "            constraint_matrix[q, r * (r + i - 1) + j + r * int(j * (2 * r - j - 3) / 2.0)] = 1.0\n",
    "            q = q + 1\n",
    "\n",
    "    # Set coefficients adorning terms like a_ia_ja_k to be antisymmetric\n",
    "    for i in range(r):\n",
    "        for j in range(i + 1, r):\n",
    "            for k in range(j + 1, r):\n",
    "                constraint_matrix[q, r * (r + k - 1) + i + r * int(j * (2 * r - j - 3) / 2.0)] = 1.0\n",
    "                constraint_matrix[q, r * (r + k - 1) + j + r * int(i * (2 * r - i - 3) / 2.0)] = 1.0\n",
    "                constraint_matrix[q, r * (r + j - 1) + k + r * int(i * (2 * r - i - 3) / 2.0)] = 1.0\n",
    "                q = q + 1\n",
    "                \n",
    "    return constraint_zeros, constraint_matrix\n",
    "\n",
    "# Use optimal m, and calculate eigenvalues(PW) to see if identified model is stable\n",
    "def check_stability(r, Xi, sindy_opt):\n",
    "    N = int((r ** 2 + 3 * r) / 2.0)\n",
    "    opt_m = sindy_opt.m_history_[-1]\n",
    "    PL_tensor_unsym = sindy_opt.PL_unsym_\n",
    "    PL_tensor = sindy_opt.PL_\n",
    "    PQ_tensor = sindy_opt.PQ_\n",
    "    mPQ = np.tensordot(opt_m, PQ_tensor, axes=([0], [0]))\n",
    "    P_tensor = PL_tensor - mPQ\n",
    "    As = np.tensordot(P_tensor, Xi, axes=([3, 2], [0, 1]))\n",
    "    eigvals, eigvecs = np.linalg.eigh(As)\n",
    "    print('optimal m: ', opt_m)\n",
    "    print('As eigvals: ', np.sort(eigvals))\n",
    "    max_eigval = np.sort(eigvals)[-1]\n",
    "    min_eigval = np.sort(eigvals)[0]\n",
    "    L = np.tensordot(PL_tensor_unsym, Xi, axes=([3, 2], [0, 1]))\n",
    "    Q = np.tensordot(PQ_tensor, Xi, axes=([4, 3], [0, 1]))\n",
    "    d = np.dot(L, opt_m) + np.dot(np.tensordot(Q, opt_m, axes=([2], [0])), opt_m)\n",
    "    Rm = np.linalg.norm(d) / np.abs(max_eigval)\n",
    "    print('Estimate of trapping region size, Rm = ', Rm)\n",
    "    \n",
    "\n",
    "# define the testing and training Lorenz data we will use for these examples\n",
    "dt = .002\n",
    "\n",
    "t_train = np.arange(0, 10, dt)\n",
    "x0_train = [-8, 8, 27]\n",
    "t_train_span = (t_train[0], t_train[-1])\n",
    "x_train = solve_ivp(lorenz, t_train_span, x0_train, t_eval=t_train, **integrator_keywords).y.T\n",
    "\n",
    "t_test = np.arange(0, 15, dt)\n",
    "t_test_span = (t_test[0], t_test[-1])\n",
    "x0_test = np.array([8, 7, 15])\n",
    "x_test = solve_ivp(lorenz, t_test_span, x0_test, t_eval=t_test, **integrator_keywords).y.T"
   ]
  },
  {
   "cell_type": "markdown",
   "metadata": {},
   "source": [
    "## Lorenz system\n",
    "We will fit a SINDy model to the famous Lorenz system:\n",
    "$$ \\dot{x} = \\sigma (y - x),$$\n",
    "$$ \\dot{y} = x(\\rho - z) - y, $$\n",
    "$$ \\dot{z} = x y - \\beta z, $$\n",
    "with $\\sigma = 10$, $\\rho = 28$, and $\\beta = 8/3$."
   ]
  },
  {
   "cell_type": "markdown",
   "metadata": {},
   "source": [
    "# Part 1: How to choose algorithm hyperparameters?"
   ]
  },
  {
   "cell_type": "code",
   "execution_count": null,
   "metadata": {
    "ExecuteTime": {
     "end_time": "2020-10-22T22:20:41.306516Z",
     "start_time": "2020-10-22T22:20:41.266947Z"
    }
   },
   "outputs": [],
   "source": [
    "# Instantiate and fit the SINDy model\n",
    "feature_names = ['x', 'y', 'z']\n",
    "sparse_regression_optimizer = ps.STLSQ(threshold=0)  # default is lambda = 0.1\n",
    "model = ps.SINDy(feature_names=feature_names, optimizer=sparse_regression_optimizer)\n",
    "model.fit(x_train, t=dt)\n",
    "model.print()"
   ]
  },
  {
   "cell_type": "code",
   "execution_count": null,
   "metadata": {},
   "outputs": [],
   "source": [
    "sparse_regression_optimizer = ps.STLSQ(threshold=0.1)\n",
    "model = ps.SINDy(feature_names=feature_names, optimizer=sparse_regression_optimizer)\n",
    "model.fit(x_train, t=dt)\n",
    "model.print()"
   ]
  },
  {
   "cell_type": "code",
   "execution_count": null,
   "metadata": {},
   "outputs": [],
   "source": [
    "sparse_regression_optimizer = ps.STLSQ(threshold=1.0)\n",
    "model = ps.SINDy(feature_names=feature_names, optimizer=sparse_regression_optimizer)\n",
    "model.fit(x_train, t=dt)\n",
    "model.print()"
   ]
  },
  {
   "cell_type": "code",
   "execution_count": null,
   "metadata": {},
   "outputs": [],
   "source": [
    "threshold_scan = np.linspace(0, 0.5, 10)\n",
    "coefs = []\n",
    "rmse = mean_squared_error(x_train, np.zeros(x_train.shape), squared=False)\n",
    "x_train_added_noise = x_train + np.random.normal(0, rmse / 10.0,  x_train.shape)\n",
    "for i, threshold in enumerate(threshold_scan):\n",
    "    sparse_regression_optimizer = ps.STLSQ(threshold=threshold)\n",
    "    model = ps.SINDy(feature_names=feature_names, optimizer=sparse_regression_optimizer)\n",
    "    model.fit(x_train_added_noise, t=dt, quiet=True)\n",
    "    coefs.append(model.coefficients())\n",
    "    \n",
    "plot_pareto(coefs, sparse_regression_optimizer, model, threshold_scan, x_test, t_test)"
   ]
  },
  {
   "cell_type": "markdown",
   "metadata": {},
   "source": [
    "# Part 2: How to make SINDy more robust?"
   ]
  },
  {
   "cell_type": "markdown",
   "metadata": {},
   "source": [
    "### Part 2a: Differentiate the data with method other than finite differences!\n",
    "First, let's look at what's wrong with finite differences"
   ]
  },
  {
   "cell_type": "code",
   "execution_count": null,
   "metadata": {},
   "outputs": [],
   "source": [
    "rmse = mean_squared_error(x_train, np.zeros(x_train.shape), squared=False)\n",
    "x_train_added_noise = x_train \n",
    "plot_data_and_derivative(x_train_added_noise, dt, ps.FiniteDifference()._differentiate)"
   ]
  },
  {
   "cell_type": "code",
   "execution_count": null,
   "metadata": {},
   "outputs": [],
   "source": [
    "# 2% added noise\n",
    "rmse = mean_squared_error(x_train, np.zeros(x_train.shape), squared=False)\n",
    "x_train_added_noise = x_train + np.random.normal(0, rmse / 50.0,  x_train.shape)\n",
    "plot_data_and_derivative(x_train_added_noise, dt, ps.FiniteDifference()._differentiate)"
   ]
  },
  {
   "cell_type": "code",
   "execution_count": null,
   "metadata": {},
   "outputs": [],
   "source": [
    "# Repeat but with smoothed finite differences!\n",
    "plot_data_and_derivative(x_train_added_noise, dt, ps.SmoothedFiniteDifference()._differentiate)"
   ]
  },
  {
   "cell_type": "markdown",
   "metadata": {},
   "source": [
    "### Part 2b: Simply add more data!"
   ]
  },
  {
   "cell_type": "code",
   "execution_count": null,
   "metadata": {},
   "outputs": [],
   "source": [
    "rmse = mean_squared_error(x_train, np.zeros(x_train.shape), squared=False)\n",
    "x_train_added_noise = x_train + np.random.normal(0, rmse / 50.0,  x_train.shape)\n",
    "sparse_regression_optimizer = ps.STLSQ()\n",
    "model = ps.SINDy(feature_names=feature_names, optimizer=sparse_regression_optimizer)\n",
    "model.fit(x_train_added_noise, t=dt)\n",
    "model.print()"
   ]
  },
  {
   "cell_type": "code",
   "execution_count": null,
   "metadata": {
    "ExecuteTime": {
     "end_time": "2020-10-22T22:20:45.470710Z",
     "start_time": "2020-10-22T22:20:45.319012Z"
    }
   },
   "outputs": [],
   "source": [
    "n_trajectories = 40\n",
    "x0s = (np.random.rand(n_trajectories, 3) - 0.5) * 20\n",
    "x_train_multi = []\n",
    "for i in range(n_trajectories):\n",
    "    x_train_temp = solve_ivp(lorenz, t_train_span, x0s[i], \n",
    "                             t_eval=t_train, **integrator_keywords).y.T\n",
    "    rmse = mean_squared_error(x_train_temp, np.zeros(x_train_temp.shape), squared=False)\n",
    "    x_train_multi.append(x_train_temp + np.random.normal(0, rmse / 50.0,  x_train_temp.shape))\n",
    "\n",
    "sparse_regression_optimizer = ps.STLSQ()\n",
    "model = ps.SINDy(feature_names=feature_names, optimizer=sparse_regression_optimizer)\n",
    "model.fit(x_train_multi, t=dt, multiple_trajectories=True)\n",
    "model.print()"
   ]
  },
  {
   "cell_type": "markdown",
   "metadata": {},
   "source": [
    "### Part 2c: Use ensemble methods"
   ]
  },
  {
   "cell_type": "code",
   "execution_count": null,
   "metadata": {},
   "outputs": [],
   "source": [
    "rmse = mean_squared_error(x_train, np.zeros(x_train.shape), squared=False)\n",
    "x_train_added_noise = x_train + np.random.normal(0, rmse / 20.0,  x_train.shape)\n",
    "sparse_regression_optimizer = ps.STLSQ(threshold=0.5)\n",
    "model = ps.SINDy(feature_names=feature_names, optimizer=sparse_regression_optimizer)\n",
    "model.fit(x_train_added_noise, t=dt)\n",
    "model.print()"
   ]
  },
  {
   "cell_type": "code",
   "execution_count": null,
   "metadata": {},
   "outputs": [],
   "source": [
    "model = ps.SINDy(feature_names=feature_names, optimizer=sparse_regression_optimizer)\n",
    "model.fit(x_train_added_noise, t=dt, ensemble=True, quiet=True)\n",
    "ensemble_coefs = model.coef_list\n",
    "mean_ensemble = np.mean(ensemble_coefs, axis=0)\n",
    "std_ensemble = np.std(ensemble_coefs, axis=0)"
   ]
  },
  {
   "cell_type": "code",
   "execution_count": null,
   "metadata": {},
   "outputs": [],
   "source": [
    "# Now we sub-sample the library. The default is to omit a single library term.\n",
    "model = ps.SINDy(feature_names=feature_names, optimizer=sparse_regression_optimizer)\n",
    "model.fit(x_train, t=dt, library_ensemble=True, quiet=True)\n",
    "library_ensemble_coefs = model.coef_list\n",
    "mean_library_ensemble = np.mean(library_ensemble_coefs, axis=0)\n",
    "std_library_ensemble = np.std(library_ensemble_coefs, axis=0)"
   ]
  },
  {
   "cell_type": "code",
   "execution_count": null,
   "metadata": {},
   "outputs": [],
   "source": [
    "plot_ensemble_results(model, mean_ensemble, std_ensemble, \n",
    "                      mean_library_ensemble, std_library_ensemble)"
   ]
  },
  {
   "cell_type": "markdown",
   "metadata": {},
   "source": [
    "### Part 2d: use prior physical knowledge to constrain the model"
   ]
  },
  {
   "cell_type": "code",
   "execution_count": null,
   "metadata": {
    "ExecuteTime": {
     "end_time": "2020-10-22T22:20:46.108252Z",
     "start_time": "2020-10-22T22:20:46.073968Z"
    }
   },
   "outputs": [],
   "source": [
    "# Figure out how many library features there will be\n",
    "library = ps.PolynomialLibrary()\n",
    "library.fit(x_train)\n",
    "n_features = library.n_output_features_\n",
    "print(f\"Features ({n_features}):\", library.get_feature_names())\n",
    "\n",
    "# Set constraints\n",
    "n_targets = x_train.shape[1]\n",
    "constraint_rhs = np.array([0, 28])\n",
    "\n",
    "# One row per constraint, one column per coefficient\n",
    "constraint_lhs = np.zeros((2, n_targets * n_features))\n",
    "\n",
    "# 1 * (x0 coefficient) + 1 * (x1 coefficient) = 0\n",
    "constraint_lhs[0, 1] = 1\n",
    "constraint_lhs[0, 2] = 1\n",
    "\n",
    "# 1 * (x0 coefficient) = 28\n",
    "constraint_lhs[1, 1 + n_features] = 1\n",
    "\n",
    "optimizer = ps.ConstrainedSR3(constraint_rhs=constraint_rhs, constraint_lhs=constraint_lhs)\n",
    "model = ps.SINDy(optimizer=optimizer, feature_library=library).fit(x_train, t=dt)\n",
    "model.print()"
   ]
  },
  {
   "cell_type": "markdown",
   "metadata": {},
   "source": [
    "### Part 2e (advanced): use trapping SINDy for globally stable models"
   ]
  },
  {
   "cell_type": "code",
   "execution_count": 30,
   "metadata": {},
   "outputs": [
    {
     "name": "stdout",
     "output_type": "stream",
     "text": [
      " Iteration | Data Error | Stability Error |   L1 Error\n",
      "           0  1.77807e+03  1.27912e+04  0.00000e+00\n",
      "        1000  1.18724e+03  5.27316e-01  0.00000e+00\n",
      "        2000  1.15435e+03  9.00453e-02  0.00000e+00\n",
      "        3000  1.13203e+03  2.98598e-02  0.00000e+00\n",
      "        4000  1.11682e+03  1.28001e-02  0.00000e+00\n",
      "        5000  1.10598e+03  6.27961e-03  0.00000e+00\n",
      "        6000  1.09801e+03  3.34353e-03  0.00000e+00\n",
      "        7000  1.09199e+03  1.87903e-03  0.00000e+00\n",
      "        8000  1.08739e+03  1.09646e-03  0.00000e+00\n",
      "        9000  1.08381e+03  6.57443e-04  0.00000e+00\n",
      "(x0)' = -9.574 x0 + 9.774 x1 + -0.049 x2 + -0.020 x0x1 + -0.011 x0x2 + 0.005 x1x2 + 0.014 x1x1 + 0.002 x2x2\n",
      "(x1)' = 27.348 x0 + -0.596 x1 + 0.055 x2 + -0.014 x0x1 + -0.982 x0x2 + -0.011 x1x2 + 0.020 x0x0 + -0.002 x2x2\n",
      "(x2)' = 0.074 x0 + -0.073 x1 + -2.675 x2 + 0.977 x0x1 + -0.002 x0x2 + 0.002 x1x2 + 0.011 x0x0 + 0.011 x1x1\n",
      "optimal m:  [-0.64974821 -0.06308436 37.23477931]\n",
      "As eigvals:  [-9.98884045 -2.67551145 -0.99716377]\n",
      "Estimate of trapping region size, Rm =  100.9201742727396\n"
     ]
    }
   ],
   "source": [
    "# define hyperparameters\n",
    "threshold = 0\n",
    "max_iter = 10000\n",
    "eta = 1.0e-2\n",
    "constraint_zeros, constraint_matrix = make_constraints(3)\n",
    "\n",
    "# run trapping SINDy\n",
    "sindy_opt = ps.TrappingSR3(threshold=threshold, eta=eta, gamma=-1, max_iter=max_iter,\n",
    "                           constraint_lhs=constraint_matrix,\n",
    "                           constraint_rhs=constraint_zeros,\n",
    "                           constraint_order=\"feature\"\n",
    "                           )\n",
    "\n",
    "# Initialize quadratic SINDy library, with custom ordering to be consistent with the constraint\n",
    "library_functions = [lambda x:x, lambda x, y:x * y, lambda x:x ** 2]\n",
    "library_function_names = [lambda x:x, lambda x, y:x + y, lambda x:x + x]\n",
    "sindy_library = ps.CustomLibrary(library_functions=library_functions, function_names=library_function_names)\n",
    "\n",
    "model = ps.SINDy(\n",
    "    optimizer=sindy_opt,\n",
    "    feature_library=sindy_library,\n",
    ")\n",
    "model.fit(x_train, t=dt, quiet=True)\n",
    "model.print()\n",
    "\n",
    "Xi = model.coefficients().T\n",
    "check_stability(3, Xi, sindy_opt)"
   ]
  },
  {
   "cell_type": "code",
   "execution_count": 31,
   "metadata": {},
   "outputs": [
    {
     "data": {
      "image/png": "[encoded data removed]",
      "text/plain": [
       "<Figure size 432x288 with 1 Axes>"
      ]
     },
     "metadata": {
      "needs_background": "light"
     },
     "output_type": "display_data"
    }
   ],
   "source": [
    "# show that new model trajectories are all stable\n",
    "fig = plt.figure()\n",
    "ax = fig.add_subplot(111, projection='3d')\n",
    "for i in range(10):\n",
    "    x0_new = (np.random.rand(3) - 0.5) * 200\n",
    "    x_test_new = solve_ivp(lorenz, t_test_span, x0_new, t_eval=t_test, **integrator_keywords).y.T\n",
    "    ax.plot(x_test_new[:, 0], x_test_new[:, 1], x_test_new[:, 2], 'r')\n",
    "    x_test_pred_new = model.simulate(x0_new, t=t_test, integrator=\"odeint\")\n",
    "    plt.plot(x_test_pred_new[:, 0], x_test_pred_new[:, 1], x_test_pred_new[:, 2], 'b')"
   ]
  },
  {
   "cell_type": "markdown",
   "metadata": {},
   "source": [
    "### Part 2f (advanced): use the weak formulation of SINDy"
   ]
  },
  {
   "cell_type": "code",
   "execution_count": null,
   "metadata": {},
   "outputs": [],
   "source": [
    "ode_lib = ps.PDELibrary(\n",
    "    library_functions=library_functions,\n",
    "    function_names=library_function_names,\n",
    "    temporal_grid=t_train,\n",
    "    weak_form=True,\n",
    ")\n",
    "rmse = mean_squared_error(x_train, np.zeros(x_train.shape), squared=False)\n",
    "x_train_added_noise = x_train + np.random.normal(0, rmse / 50.0,  x_train.shape)\n",
    "\n",
    "x_dot_train_integral = convert_u_dot_0D(x_train_added_noise, t_train, ode_lib)\n",
    "\n",
    "# Instantiate and fit the SINDy model with the integral of u_dot\n",
    "optimizer = ps.STLSQ()\n",
    "model = ps.SINDy(feature_library=ode_lib, optimizer=optimizer)\n",
    "model.fit(x_train, x_dot=x_dot_train_integral)\n",
    "model.print()"
   ]
  },
  {
   "cell_type": "markdown",
   "metadata": {},
   "source": [
    "# Part 3a: Implicit ODEs"
   ]
  },
  {
   "cell_type": "markdown",
   "metadata": {},
   "source": [
    "## Implicit ODEs \n",
    "How would we use SINDy to solve an implicit ODE? In other words, now the LHS can depend on x and x_dot, \n",
    "$$\\dot{\\mathbf{x}} = \\mathbf{f}(\\mathbf{x}, \\dot{\\mathbf{x}})$$\n",
    "\n",
    "\n",
    "In order to deal with this, we need a library $\\Theta(\\mathbf{x}, \\dot{\\mathbf{x}})$. SINDy parallel implicit (SINDy-PI) is geared to solve these problems. It solves the optimization problem,\n",
    "$$argmin_\\mathbf{\\Xi} (\\|\\Theta(\\mathbf{X}, \\dot{\\mathbf{X}}) - \\Theta(\\mathbf{X}, \\dot{\\mathbf{X}})\\mathbf{\\Xi}\\| + \\lambda \\|\\mathbf{\\Xi}\\|_1)$$\n",
    "such that diag$(\\mathbf{\\Xi}) = 0$. So for every candidate library term it generates a different model. With N state variables, we need to choose N of the equations to solve for the system evolution. See the [SINDy-PI notebook](https://github.com/dynamicslab/pysindy/blob/master/examples/9_sindypi_with_sympy.ipynb) for more details. \n",
    "\n",
    "Here we illustrate successful identification of the 1D Michelson-Menten enzyme model\n",
    "$$\\dot{x} = 0.6 - \\frac{1.5 x}{0.3 + x}.$$\n",
    "Or, equivalently\n",
    "$$\\dot{x} = 0.6 - 3 x - \\frac{10}{3} x\\dot{x}.$$\n",
    "\n",
    "Note that some of the model fits fail. This is usually because the LHS term being fitted is a poor match to the data, but this error can also be caused by CVXPY not liking the parameters passed to the solver.\n"
   ]
  },
  {
   "cell_type": "markdown",
   "metadata": {},
   "source": [
    "# Part 3b: Partial differential equations (PDEs)"
   ]
  },
  {
   "cell_type": "code",
   "execution_count": null,
   "metadata": {},
   "outputs": [],
   "source": [
    "# Initialize two libraries\n",
    "poly_library = ps.PolynomialLibrary(include_bias=False)\n",
    "fourier_library = ps.FourierLibrary()\n",
    "\n",
    "# Initialize the default inputs, i.e. each library\n",
    "# uses all the input variables\n",
    "inputs_temp = np.tile([0, 1, 2], 2)\n",
    "inputs_per_library = np.reshape(inputs_temp, (2, 3))\n",
    "print(inputs_per_library)\n",
    "\n",
    "# Don't use the x0 input for generating the Fourier library\n",
    "inputs_per_library[1, 0] = 1\n",
    "\n",
    "# Tensor all the polynomial and Fourier library terms together\n",
    "tensor_array = [[1, 1]]\n",
    "\n",
    "# Initialize this generalized library, all the work hidden from the user!\n",
    "generalized_library = ps.GeneralizedLibrary([poly_library, fourier_library], \n",
    "                                            tensor_array=tensor_array,\n",
    "                                            inputs_per_library=inputs_per_library)\n",
    "\n",
    "# Fit the model and print the library feature names to check success\n",
    "model = ps.SINDy(feature_library=generalized_library)\n",
    "model.fit(x_train, t=dt)\n",
    "model.print()\n",
    "model.get_feature_names()\n",
    "\n",
    "# define parameters\n",
    "r = 1\n",
    "dt = 0.001\n",
    "T = 4\n",
    "t = np.arange(0, T + dt, dt)\n",
    "t_span = (t[0], t[-1])\n",
    "x0_train = [0.55]\n",
    "x_train = solve_ivp(enzyme, t_span, x0_train, t_eval=t, **integrator_keywords).y.T\n",
    "\n",
    "# Initialize custom SINDy library so that we can have x_dot inside it. Using the library\n",
    "# Found in Equation A1 in the SINDy-PI paper\n",
    "x_library_functions = [\n",
    "    lambda x: x,\n",
    "    lambda x, y: x * y,\n",
    "    lambda x: x ** 2,\n",
    "    lambda x, y, z: x * y * z,\n",
    "    lambda x, y: x * y ** 2,\n",
    "    lambda x: x ** 3,\n",
    "    lambda x, y, z, w: x * y * z * w,\n",
    "    lambda x, y, z: x * y * z ** 2,\n",
    "    lambda x, y: x * y ** 3,\n",
    "    lambda x: x ** 4,\n",
    "]\n",
    "x_dot_library_functions = [lambda x: x]\n",
    "\n",
    "# library function names includes both the x_library_functions and x_dot_library_functions names\n",
    "library_function_names = [\n",
    "    lambda x: x,\n",
    "    lambda x, y: x + y,\n",
    "    lambda x: x + x,\n",
    "    lambda x, y, z: x + y + z,\n",
    "    lambda x, y: x + y + y,\n",
    "    lambda x: x + x + x,\n",
    "    lambda x, y, z, w: x + y + z + w,\n",
    "    lambda x, y, z: x + y + z + z,\n",
    "    lambda x, y: x + y + y + y,\n",
    "    lambda x: x + x + x + x,\n",
    "    lambda x: x,\n",
    "]\n",
    "\n",
    "# Need to pass time base to the library so can build the x_dot library from x\n",
    "sindy_library = ps.SINDyPILibrary(\n",
    "    library_functions=x_library_functions,\n",
    "    x_dot_library_functions=x_dot_library_functions,\n",
    "    t=t[1:-1],\n",
    "    function_names=library_function_names,\n",
    "    include_bias=True,\n",
    ")\n",
    "\n",
    "# Use the SINDy-PI optimizer, which relies on CVXPY.\n",
    "# Note that if LHS of the equation fits the data poorly,\n",
    "# CVXPY often returns failure.\n",
    "sindy_opt = ps.SINDyPI(\n",
    "    threshold=1e-6,\n",
    "    tol=1e-8,\n",
    "    thresholder=\"l1\",\n",
    "    max_iter=20000,\n",
    ")\n",
    "model = ps.SINDy(\n",
    "    optimizer=sindy_opt,\n",
    "    feature_library=sindy_library,\n",
    "    differentiation_method=ps.FiniteDifference(drop_endpoints=True),\n",
    ")\n",
    "model.fit(x_train, t=t)\n",
    "model.print()"
   ]
  },
  {
   "cell_type": "markdown",
   "metadata": {},
   "source": [
    "# Part 4: How to choose a regularizer and a sparse regression algorithm?\n",
    "![title](optimizer_summary.jpg)\n"
   ]
  },
  {
   "cell_type": "code",
   "execution_count": null,
   "metadata": {},
   "outputs": [],
   "source": []
  },
  {
   "cell_type": "markdown",
   "metadata": {},
   "source": [
    "# Part 5: How to build complex candidate libraries"
   ]
  },
  {
   "cell_type": "markdown",
   "metadata": {},
   "source": [
    "### Concatenate two libraries\n",
    "Two or more libraries can be combined via the `+` operator."
   ]
  },
  {
   "cell_type": "code",
   "execution_count": null,
   "metadata": {
    "ExecuteTime": {
     "end_time": "2020-10-22T22:20:47.334576Z",
     "start_time": "2020-10-22T22:20:47.264641Z"
    }
   },
   "outputs": [],
   "source": [
    "identity_library = ps.IdentityLibrary()\n",
    "fourier_library = ps.FourierLibrary()\n",
    "combined_library = identity_library + fourier_library\n",
    "\n",
    "model = ps.SINDy(feature_library=combined_library, feature_names=feature_names)\n",
    "model.fit(x_train, t=dt)\n",
    "model.get_feature_names()"
   ]
  },
  {
   "cell_type": "markdown",
   "metadata": {},
   "source": [
    "### Tensor two libraries together\n",
    "Two or more libraries can be tensored together via the `*` operator."
   ]
  },
  {
   "cell_type": "code",
   "execution_count": null,
   "metadata": {},
   "outputs": [],
   "source": [
    "poly_library = ps.PolynomialLibrary(include_bias=False)\n",
    "fourier_library = ps.FourierLibrary()\n",
    "combined_library = poly_library * fourier_library\n",
    "\n",
    "model = ps.SINDy(feature_library=combined_library, feature_names=feature_names)\n",
    "model.fit(x_train, t=dt)\n",
    "model.get_feature_names()"
   ]
  },
  {
   "cell_type": "markdown",
   "metadata": {},
   "source": [
    "### Generalized library\n",
    "\n",
    "Create the most general and flexible possible library by combining and tensoring as many libraries as you want, and you can even specify which input variables to use to generate each library! \n",
    "One can specify:\n",
    "<br>\n",
    "1. N different libraries to add together\n",
    "2. A list of inputs to use for each library. For two libraries with four inputs this would look like inputs_per_library = [[0, 1, 2, 3], [0, 1, 2, 3]] and to avoid using the first two input variables in the second library, you would change it to something like inputs_per_library = [[0, 1, 2, 3], [2, 2, 2, 3]], since duplicates are thrown out and [2, 2, 2, 3] will reduce to [2, 3]. \n",
    "        \n",
    "3. A list of libraries to tensor together and add to the overall library. For four libraries, we could make three tensor libraries by using tensor_array = [[1, 0, 1, 1], [1, 1, 1, 1], [0, 0, 1, 1]]. The first sub-array takes the tensor product of libraries 0, 2, 3, the second takes the tensor product of all of them, and the last takes the tensor product of the libraries 2 and 3. This is a silly example since the [1, 1, 1, 1] tensor product already contains all the possible terms. <br>\n",
    "<br>\n",
    "Note that using this is a more advanced feature, but with the benefit that it allows any SINDy library you want. <br>"
   ]
  },
  {
   "cell_type": "code",
   "execution_count": null,
   "metadata": {},
   "outputs": [],
   "source": [
    "from scipy.io import loadmat\n",
    "\n",
    "# Load data\n",
    "data = loadmat(\"data/burgers.mat\")\n",
    "t = np.ravel(data[\"t\"])\n",
    "x = np.ravel(data[\"x\"])\n",
    "u = np.real(data[\"usol\"])\n",
    "dt = t[1] - t[0]\n",
    "dx = x[1] - x[0]\n",
    "\n",
    "# Plot the spatiotemporal data\n",
    "plt.figure()\n",
    "plt.imshow(u, aspect=\"auto\")\n",
    "u_shaped = np.reshape(u, (len(x), len(t), 1))\n",
    "plt.figure()\n",
    "u_dot = np.zeros((len(x), len(t), 1))\n",
    "for i in range(len(x)):\n",
    "    u_dot[i, :, :] = ps.FiniteDifference()._differentiate(u_shaped[i, :, :], t=dt)\n",
    "plt.imshow(u_dot[:, :, 0], aspect=\"auto\")\n",
    "\n",
    "u_flattened = np.reshape(u, (len(x) * len(t), 1))\n",
    "u_dot_flattened = np.reshape(u_dot, (len(x) * len(t), 1))\n",
    "\n",
    "# Define quadratic library with up to third order derivatives on a uniform spatial grid\n",
    "library_functions = [lambda x: x, lambda x: x * x]\n",
    "library_function_names = [lambda x: x, lambda x: x + x]\n",
    "pde_lib = ps.PDELibrary(\n",
    "    library_functions=library_functions,\n",
    "    function_names=library_function_names,\n",
    "    derivative_order=3,\n",
    "    spatial_grid=x,\n",
    "    is_uniform=True,\n",
    ")\n",
    "\n",
    "optimizer = ps.STLSQ(threshold=2, alpha=1e-5, normalize_columns=True)\n",
    "model = ps.SINDy(feature_library=pde_lib, optimizer=optimizer)\n",
    "\n",
    "# Note that u and u_dot are flattened, and u_dot must be passed to model.fit\n",
    "model.fit(u_flattened, x_dot=u_dot_flattened)\n",
    "model.print()"
   ]
  }
 ],
 "metadata": {
  "kernelspec": {
   "display_name": "Python 3",
   "language": "python",
   "name": "python3"
  },
  "language_info": {
   "codemirror_mode": {
    "name": "ipython",
    "version": 3
   },
   "file_extension": ".py",
   "mimetype": "text/x-python",
   "name": "python",
   "nbconvert_exporter": "python",
   "pygments_lexer": "ipython3",
   "version": "3.7.4"
  },
  "toc": {
   "base_numbering": 1,
   "nav_menu": {},
   "number_sections": true,
   "sideBar": true,
   "skip_h1_title": false,
   "title_cell": "Table of Contents",
   "title_sidebar": "Contents",
   "toc_cell": false,
   "toc_position": {
    "height": "calc(100% - 180px)",
    "left": "10px",
    "top": "150px",
    "width": "296.475px"
   },
   "toc_section_display": true,
   "toc_window_display": true
  },
  "varInspector": {
   "cols": {
    "lenName": 16,
    "lenType": 16,
    "lenVar": 40
   },
   "kernels_config": {
    "python": {
     "delete_cmd_postfix": "",
     "delete_cmd_prefix": "del ",
     "library": "var_list.py",
     "varRefreshCmd": "print(var_dic_list())"
    },
    "r": {
     "delete_cmd_postfix": ") ",
     "delete_cmd_prefix": "rm(",
     "library": "var_list.r",
     "varRefreshCmd": "cat(var_dic_list()) "
    }
   },
   "types_to_exclude": [
    "module",
    "function",
    "builtin_function_or_method",
    "instance",
    "_Feature"
   ],
   "window_display": false
  }
 },
 "nbformat": 4,
 "nbformat_minor": 2
}
