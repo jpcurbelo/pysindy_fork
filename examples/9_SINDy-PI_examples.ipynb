{
 "cells": [
  {
   "cell_type": "code",
   "execution_count": 1,
   "metadata": {},
   "outputs": [],
   "source": [
    "# Import libraries.\n",
    "import numpy as np\n",
    "from matplotlib import pyplot as plt\n",
    "from mpl_toolkits.mplot3d import Axes3D\n",
    "import pysindy as ps \n",
    "from pysindy.differentiation import FiniteDifference\n",
    "import scipy.integrate as integrate \n",
    "import matplotlib.gridspec as gridspec\n",
    "import scipy.io as sio"
   ]
  },
  {
   "cell_type": "code",
   "execution_count": 2,
   "metadata": {},
   "outputs": [],
   "source": [
    "# Plot first three modes in 3D for ground truth and SINDy prediction\n",
    "def make_3d_plots(x_test, x_test_pred, filename):\n",
    "    fig, ax = plt.subplots(1, 1, subplot_kw={'projection': '3d'}, figsize=(8,8))\n",
    "    if filename == 'VonKarman':\n",
    "        ind = -1\n",
    "    else:\n",
    "        ind = 2\n",
    "    plt.plot(x_test[:, 0], x_test[:, 1], x_test[:, ind], 'r')\n",
    "    plt.plot(x_test_pred[:, 0], x_test_pred[:, 1], x_test_pred[:, ind], 'k')\n",
    "    ax = plt.gca()\n",
    "    ax.set_xticklabels([])\n",
    "    ax.set_yticklabels([])\n",
    "    ax.set_zticklabels([])\n",
    "    ax.set_axis_off()\n",
    "    plt.savefig(filename + '_3d.pdf')\n",
    "\n",
    "\n",
    "# Plot the SINDy fits of X and Xdot against the ground truth\n",
    "def make_fits(r, t, xdot_test, xdot_test_pred, x_test, x_test_pred, filename):\n",
    "    fig = plt.figure(figsize=(30, 30))\n",
    "    spec = gridspec.GridSpec(ncols=2, nrows=r, figure=fig, hspace=0.0, wspace=0.0)\n",
    "    for i in range(r):\n",
    "        plt.subplot(spec[i, 0]) #r, 2, 2 * i + 2)\n",
    "        plt.plot(t, xdot_test[:, i], 'r')\n",
    "        plt.plot(t, xdot_test_pred[:, i], 'k--')\n",
    "        ax = plt.gca()\n",
    "        ax.set_xticklabels([])\n",
    "        ax.set_yticklabels([])\n",
    "        plt.subplot(spec[i, 1])\n",
    "        plt.plot(t, x_test[:, i], 'r')\n",
    "        plt.plot(t, x_test_pred[:, i], 'k--')\n",
    "        ax = plt.gca()\n",
    "        ax.set_xticklabels([])\n",
    "        ax.set_yticklabels([])\n",
    "    plt.savefig(filename + '_fits.pdf')"
   ]
  },
  {
   "cell_type": "code",
   "execution_count": 3,
   "metadata": {},
   "outputs": [],
   "source": [
    "# Define the analytic derivatives for each of the examples in this notebook\n",
    "\n",
    "# Michaelis–Menten model for enzyme kinetics\n",
    "def enzyme_deriv(x, t0, jx=0.6, Vmax=1.5, Km=0.3):\n",
    "    return jx - Vmax * x / (Km + x)\n",
    "\n",
    "# yeast glycolysis model\n",
    "def yeast_deriv(x_y_z_t_u_v_w, t0, c1=2.5, c2=-100, c3=13.6769, d1=200, d2=13.6769,\n",
    "                d3=-6, d4=-6, e1=6, e2=-64, e3=6, e4=16, f1=64, f2=-13, f3=13, f4=-16,\n",
    "                f5=-100, g1=1.3, g2=-3.1, h1=-200, h2=13.6769, h3=128, h4=-1.28, h5=-32,\n",
    "                j1=6, j2=-18, j3=-100):\n",
    "    x, y, z, u, v, w = x_y_z_u_v_w\n",
    "    return [c1 + c2 * x * v / (1 + c3 * v ** 4), \n",
    "            d1 * x * v / (1 + d2 * v ** 4) + d3 * y - d4 * y * w,\n",
    "            e1 * y + e2 * z + e3 * y * w + e4 *z * v + f5 * t * w, \n",
    "            f1 * z + e2 * t + f3 *u + f4 * z * w + f5 * t * w,\n",
    "            g1 * x + g2 * u, \n",
    "            h3 * z + h5 * v + h4 * z * v + h1 * x * v / (1 + h2 * v ** 4), \n",
    "            j1 * y + j2 * y * w + j3 * t * w]\n",
    "    \n",
    "def pendulum_on_cart_deriv(w_x_y_z, t0, m=1, M=1, L1=1, L2=1, F=1, g=9.81):\n",
    "    w, x, y, z = w_x_y_z\n",
    "    return [y, z, - ((M + m) * g * np.sin(w) + F * L1 * np.cos(w) + m * L1 ** 2 * np.sin(w) * np.cos(\n",
    "                w) * y ** 2) / (L1 ** 2 * (M + m - m *np.cos(w) ** 2)),\n",
    "            m * L1 ** 2 * np.sin(w) * y ** 2 + F * L1 + m * g * np.sin(w) * np.cos(\n",
    "                w) / (L1 * (M + m - m * np.cos(w)) ** 2)]\n",
    "\n",
    "def double_pendulum_deriv(w_x_y_z, t0, m1=0.2704, m2=0.2056, a1=0.191, a2=0.1621, L1=0.2667, L2=0.2667, \n",
    "                          I1=0.003, I2=0.0011, g=9.81, k1=0, k2=0):\n",
    "    return [y, z, (L1 * a2 ** 2 * g * m2 ** 2 * np.sin(w) - 2 * L1 * a2 ** 3 * z **2 * m2 **2 * np.sin(\n",
    "                w - x) + 2 * I2 * L1 * g * m2 * np.sin(w) + L1 * a2 **2 * g * m2 **2 *np.sin(\n",
    "                w - 2 * x) + 2 * I2 * a1 * g * m1 * np.sin(w) - (L1 * a2 * y * m2) ** 2 * np.sin(\n",
    "                2 * (w - x)) - 2 * I2 * L1 * a2 * z ** 2 * m2 * np.sin(\n",
    "                w - x) + 2 * a1 * a2 ** 2 * g * m1 * m2 * np.sin(w)) / (2 * I1 * I2 + (L1 * a2 * m2\n",
    "                ) ** 2 + 2 * I2 * L1 ** 2 * m2 + 2 * I2 * a1 ** 2 * m1 + 2 * I1 * a2 ** 2 * m2 - (\n",
    "                L1 * a2 * m2) ** 2 * np.cos(2 * (w - x)) + 2 * (a1 * a2) ** 2 * m1 * m2), \n",
    "                (a2 * m2 * (2 * I1 * g * np.sin(\n",
    "                x) + 2 * L1 ** 3 * y ** 2 * m2 * np.sin(w - x) + 2* L1 ** 2 * g * m2 * np.sin(x) + 2* I1 * L1 * y **2 * np.sin(\n",
    "                w - x) + 2* a1 ** 2 * g * m1 * np.sin(x) + L1 ** 2 * a2 * z ** 2 * m2 * np.sin(\n",
    "                 * (w - x)) + 2 * L1 * a1 ** 2 * y ** 2 * m1 * np.sin(w - x) - 2 * L1 ** 2 * g * m2 * np.cos(\n",
    "                w - x) * np.sin(w) - 2 * L1 * a1 * g * m1 * np.cos(w - x) * np.sin(w))) / ( 2 * (\n",
    "                I1 * I2 + (L1 * a2 * m2) ** 2 + I2 * L1 ** 2 * m2 + I2 * a1 ** 2 * m1 + I1 * a2 ** 2 * m2 - (L1 * a2 * m2) ** 2 * np.cos(\n",
    "                w - x) ** 2 + a1 ** 2 * a2 ** 2 * m1 * m2))]\n",
    "\n"
   ]
  },
  {
   "cell_type": "code",
   "execution_count": 4,
   "metadata": {},
   "outputs": [
    {
     "name": "stdout",
     "output_type": "stream",
     "text": [
      "(4999, 1)\n"
     ]
    },
    {
     "name": "stderr",
     "output_type": "stream",
     "text": [
      "/media/akaptano/HITSI-Work/pysindy/pysindy/optimizers/sindypi_optimizer.py:205: ConvergenceWarning: SINDyPI._reduce did not converge after 20 iterations.\n",
      "  ConvergenceWarning,\n"
     ]
    },
    {
     "ename": "TypeError",
     "evalue": "'list' object is not callable",
     "output_type": "error",
     "traceback": [
      "\u001b[0;31m---------------------------------------------------------------------------\u001b[0m",
      "\u001b[0;31mTypeError\u001b[0m                                 Traceback (most recent call last)",
      "\u001b[0;32m<ipython-input-4-8f8809b1afb7>\u001b[0m in \u001b[0;36m<module>\u001b[0;34m\u001b[0m\n\u001b[1;32m     34\u001b[0m )\n\u001b[1;32m     35\u001b[0m \u001b[0mmodel\u001b[0m\u001b[0;34m.\u001b[0m\u001b[0mfit\u001b[0m\u001b[0;34m(\u001b[0m\u001b[0mx_train\u001b[0m\u001b[0;34m,\u001b[0m \u001b[0mt\u001b[0m\u001b[0;34m=\u001b[0m\u001b[0mt\u001b[0m\u001b[0;34m)\u001b[0m\u001b[0;34m\u001b[0m\u001b[0;34m\u001b[0m\u001b[0m\n\u001b[0;32m---> 36\u001b[0;31m \u001b[0mmodel\u001b[0m\u001b[0;34m.\u001b[0m\u001b[0mprint\u001b[0m\u001b[0;34m(\u001b[0m\u001b[0;34m)\u001b[0m\u001b[0;34m\u001b[0m\u001b[0;34m\u001b[0m\u001b[0m\n\u001b[0m\u001b[1;32m     37\u001b[0m \u001b[0mXi\u001b[0m \u001b[0;34m=\u001b[0m \u001b[0mmodel\u001b[0m\u001b[0;34m.\u001b[0m\u001b[0mcoefficients\u001b[0m\u001b[0;34m(\u001b[0m\u001b[0;34m)\u001b[0m\u001b[0;34m.\u001b[0m\u001b[0mT\u001b[0m\u001b[0;34m\u001b[0m\u001b[0;34m\u001b[0m\u001b[0m\n\u001b[1;32m     38\u001b[0m \u001b[0mxdot_test\u001b[0m \u001b[0;34m=\u001b[0m \u001b[0mmodel\u001b[0m\u001b[0;34m.\u001b[0m\u001b[0mdifferentiate\u001b[0m\u001b[0;34m(\u001b[0m\u001b[0mx_test\u001b[0m\u001b[0;34m,\u001b[0m \u001b[0mt\u001b[0m\u001b[0;34m=\u001b[0m\u001b[0mt\u001b[0m\u001b[0;34m)\u001b[0m\u001b[0;34m\u001b[0m\u001b[0;34m\u001b[0m\u001b[0m\n",
      "\u001b[0;32m/media/akaptano/HITSI-Work/pysindy/pysindy/pysindy.py\u001b[0m in \u001b[0;36mprint\u001b[0;34m(self, lhs, precision)\u001b[0m\n\u001b[1;32m    398\u001b[0m             \u001b[0mPrecision\u001b[0m \u001b[0mto\u001b[0m \u001b[0mbe\u001b[0m \u001b[0mused\u001b[0m \u001b[0mwhen\u001b[0m \u001b[0mprinting\u001b[0m \u001b[0mout\u001b[0m \u001b[0mmodel\u001b[0m \u001b[0mcoefficients\u001b[0m\u001b[0;34m.\u001b[0m\u001b[0;34m\u001b[0m\u001b[0;34m\u001b[0m\u001b[0m\n\u001b[1;32m    399\u001b[0m         \"\"\"\n\u001b[0;32m--> 400\u001b[0;31m         \u001b[0meqns\u001b[0m \u001b[0;34m=\u001b[0m \u001b[0mself\u001b[0m\u001b[0;34m.\u001b[0m\u001b[0mequations\u001b[0m\u001b[0;34m(\u001b[0m\u001b[0mprecision\u001b[0m\u001b[0;34m)\u001b[0m\u001b[0;34m\u001b[0m\u001b[0;34m\u001b[0m\u001b[0m\n\u001b[0m\u001b[1;32m    401\u001b[0m         \u001b[0;32mfor\u001b[0m \u001b[0mi\u001b[0m\u001b[0;34m,\u001b[0m \u001b[0meqn\u001b[0m \u001b[0;32min\u001b[0m \u001b[0menumerate\u001b[0m\u001b[0;34m(\u001b[0m\u001b[0meqns\u001b[0m\u001b[0;34m)\u001b[0m\u001b[0;34m:\u001b[0m\u001b[0;34m\u001b[0m\u001b[0;34m\u001b[0m\u001b[0m\n\u001b[1;32m    402\u001b[0m             \u001b[0;32mif\u001b[0m \u001b[0mself\u001b[0m\u001b[0;34m.\u001b[0m\u001b[0mdiscrete_time\u001b[0m\u001b[0;34m:\u001b[0m\u001b[0;34m\u001b[0m\u001b[0;34m\u001b[0m\u001b[0m\n",
      "\u001b[0;32m/media/akaptano/HITSI-Work/pysindy/pysindy/pysindy.py\u001b[0m in \u001b[0;36mequations\u001b[0;34m(self, precision)\u001b[0m\n\u001b[1;32m    383\u001b[0m             \u001b[0mbase_feature_names\u001b[0m \u001b[0;34m=\u001b[0m \u001b[0mself\u001b[0m\u001b[0;34m.\u001b[0m\u001b[0mfeature_names\u001b[0m\u001b[0;34m\u001b[0m\u001b[0;34m\u001b[0m\u001b[0m\n\u001b[1;32m    384\u001b[0m         return equations(\n\u001b[0;32m--> 385\u001b[0;31m             \u001b[0mself\u001b[0m\u001b[0;34m.\u001b[0m\u001b[0mmodel\u001b[0m\u001b[0;34m,\u001b[0m \u001b[0minput_features\u001b[0m\u001b[0;34m=\u001b[0m\u001b[0mbase_feature_names\u001b[0m\u001b[0;34m,\u001b[0m \u001b[0mprecision\u001b[0m\u001b[0;34m=\u001b[0m\u001b[0mprecision\u001b[0m\u001b[0;34m\u001b[0m\u001b[0;34m\u001b[0m\u001b[0m\n\u001b[0m\u001b[1;32m    386\u001b[0m         )\n\u001b[1;32m    387\u001b[0m \u001b[0;34m\u001b[0m\u001b[0m\n",
      "\u001b[0;32m/media/akaptano/HITSI-Work/pysindy/pysindy/utils/base.py\u001b[0m in \u001b[0;36mequations\u001b[0;34m(pipeline, input_features, precision, input_fmt)\u001b[0m\n\u001b[1;32m    260\u001b[0m \u001b[0;34m\u001b[0m\u001b[0m\n\u001b[1;32m    261\u001b[0m \u001b[0;32mdef\u001b[0m \u001b[0mequations\u001b[0m\u001b[0;34m(\u001b[0m\u001b[0mpipeline\u001b[0m\u001b[0;34m,\u001b[0m \u001b[0minput_features\u001b[0m\u001b[0;34m=\u001b[0m\u001b[0;32mNone\u001b[0m\u001b[0;34m,\u001b[0m \u001b[0mprecision\u001b[0m\u001b[0;34m=\u001b[0m\u001b[0;36m3\u001b[0m\u001b[0;34m,\u001b[0m \u001b[0minput_fmt\u001b[0m\u001b[0;34m=\u001b[0m\u001b[0;32mNone\u001b[0m\u001b[0;34m)\u001b[0m\u001b[0;34m:\u001b[0m\u001b[0;34m\u001b[0m\u001b[0;34m\u001b[0m\u001b[0m\n\u001b[0;32m--> 262\u001b[0;31m     \u001b[0minput_features\u001b[0m \u001b[0;34m=\u001b[0m \u001b[0mpipeline\u001b[0m\u001b[0;34m.\u001b[0m\u001b[0msteps\u001b[0m\u001b[0;34m[\u001b[0m\u001b[0;36m0\u001b[0m\u001b[0;34m]\u001b[0m\u001b[0;34m[\u001b[0m\u001b[0;36m1\u001b[0m\u001b[0;34m]\u001b[0m\u001b[0;34m.\u001b[0m\u001b[0mget_feature_names\u001b[0m\u001b[0;34m(\u001b[0m\u001b[0minput_features\u001b[0m\u001b[0;34m)\u001b[0m\u001b[0;34m\u001b[0m\u001b[0;34m\u001b[0m\u001b[0m\n\u001b[0m\u001b[1;32m    263\u001b[0m     \u001b[0;32mif\u001b[0m \u001b[0minput_fmt\u001b[0m\u001b[0;34m:\u001b[0m\u001b[0;34m\u001b[0m\u001b[0;34m\u001b[0m\u001b[0m\n\u001b[1;32m    264\u001b[0m         \u001b[0minput_features\u001b[0m \u001b[0;34m=\u001b[0m \u001b[0;34m[\u001b[0m\u001b[0minput_fmt\u001b[0m\u001b[0;34m(\u001b[0m\u001b[0mi\u001b[0m\u001b[0;34m)\u001b[0m \u001b[0;32mfor\u001b[0m \u001b[0mi\u001b[0m \u001b[0;32min\u001b[0m \u001b[0minput_features\u001b[0m\u001b[0;34m]\u001b[0m\u001b[0;34m\u001b[0m\u001b[0;34m\u001b[0m\u001b[0m\n",
      "\u001b[0;32m/media/akaptano/HITSI-Work/pysindy/pysindy/feature_library/SINDyPI_library.py\u001b[0m in \u001b[0;36mget_feature_names\u001b[0;34m(self, input_features)\u001b[0m\n\u001b[1;32m    128\u001b[0m                         feature_names.append(\n\u001b[1;32m    129\u001b[0m                             self.function_names[i](*[input_features[j] for j in c]\n\u001b[0;32m--> 130\u001b[0;31m                                 ) + self.function_names[k](*[input_features[j] for j in d])\n\u001b[0m\u001b[1;32m    131\u001b[0m                         )\n\u001b[1;32m    132\u001b[0m         \u001b[0;32mreturn\u001b[0m \u001b[0mfeature_names\u001b[0m\u001b[0;34m\u001b[0m\u001b[0;34m\u001b[0m\u001b[0m\n",
      "\u001b[0;31mTypeError\u001b[0m: 'list' object is not callable"
     ]
    }
   ],
   "source": [
    "# define parameters\n",
    "r = 1\n",
    "dt = 0.01\n",
    "T = 50\n",
    "t = np.arange(0, T + dt, dt)\n",
    "x0 = np.random.rand(r) - 0.5\n",
    "x_train = integrate.odeint(enzyme_deriv, x0, t)\n",
    "x0 = np.random.rand(r)\n",
    "x_test = integrate.odeint(enzyme_deriv, x0, t)\n",
    "\n",
    "# define hyperparameters\n",
    "threshold = 0.0\n",
    "\n",
    "fd = FiniteDifference()\n",
    "xdot_train = fd._differentiate(x_train, t)\n",
    "xdot_test = fd._differentiate(x_test, t)\n",
    "\n",
    "# Initialize custom SINDy library so that we can have xdot inside it. Using the library\n",
    "# Found in Equation A1 in the SINDy-PI paper\n",
    "x_library_functions = [lambda x:x] #, lambda x, y:x * y, lambda x:x ** 2, \n",
    "                     #lambda x, y, z:x * y * z, lambda x, y: x * y ** 2, lambda x: x ** 3,\n",
    "                     #lambda x, y, z, w: x * y * z * w, lambda x, y, z:x * y * z ** 2,\n",
    "                     #lambda x, y:x * y ** 3, lambda x:x ** 4]\n",
    "xdot_library_functions = [lambda x: 1, lambda x:x]\n",
    "sindy_library = ps.SINDyPILibrary(library_functions=x_library_functions, \n",
    "                                  xdot_library_functions=xdot_library_functions,\n",
    "                                  )\n",
    "sindy_opt = ps.SINDyPIoptimizer(threshold=threshold, \n",
    "                                 max_iter=20, tol=1e-10, thresholder=\"l1\")\n",
    "model = ps.SINDy(\n",
    "    optimizer=sindy_opt,\n",
    "    feature_library=sindy_library,\n",
    "    differentiation_method=ps.FiniteDifference(drop_endpoints=True),\n",
    ")\n",
    "model.fit(x_train, t=t)\n",
    "model.print()\n",
    "Xi = model.coefficients().T\n",
    "xdot_test = model.differentiate(x_test, t=t)\n",
    "xdot_test_pred = model.predict(x_test)\n",
    "x_train_pred = model.simulate(x_train[0, :], t)\n",
    "x_test_pred = model.simulate(x_test[0, :], t)\n",
    "make_fits(r, t, xdot_test_pred, xdot_test, x_test, x_test_pred, \"Michaelis–Menten\")"
   ]
  },
  {
   "cell_type": "code",
   "execution_count": null,
   "metadata": {},
   "outputs": [],
   "source": []
  }
 ],
 "metadata": {
  "kernelspec": {
   "display_name": "Python 3",
   "language": "python",
   "name": "python3"
  },
  "language_info": {
   "codemirror_mode": {
    "name": "ipython",
    "version": 3
   },
   "file_extension": ".py",
   "mimetype": "text/x-python",
   "name": "python",
   "nbconvert_exporter": "python",
   "pygments_lexer": "ipython3",
   "version": "3.7.7"
  }
 },
 "nbformat": 4,
 "nbformat_minor": 4
}
