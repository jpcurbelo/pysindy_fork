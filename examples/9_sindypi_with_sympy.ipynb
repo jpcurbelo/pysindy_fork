{
 "cells": [
  {
   "cell_type": "markdown",
   "metadata": {},
   "source": [
    "# SINDy-PI Feature Overview\n",
    "\n",
    "This notebook provides a simple overview of the basic functionality of SINDy-PI implemented in PySINDy, and is written by Alan Kaptanoglu and Kadierdan Kaheman. SINDy-PI is used to handle generic implicit ODEs of the form,\n",
    "$$ \\frac{d}{dt}\\mathbf{x} = \\mathbf{f}(\\mathbf{x}, \\dot{\\mathbf{x}})$$\n",
    "This is based off of the paper \"Kaheman, K., Kutz, J. N., & Brunton, S. L. (2020). SINDy-PI: a robust algorithm for parallel implicit sparse identification of nonlinear dynamics. Proceedings of the Royal Society A, 476(2242), 20200279.\""
   ]
  },
  {
   "cell_type": "code",
   "execution_count": 1,
   "metadata": {},
   "outputs": [],
   "source": [
    "# Import libraries.\n",
    "import numpy as np\n",
    "from matplotlib import pyplot as plt\n",
    "import pysindy as ps \n",
    "from pysindy.differentiation import FiniteDifference\n",
    "from pysindy.utils import enzyme, bacterial\n",
    "import sympy as sp\n",
    "from scipy.integrate import odeint\n",
    "\n",
    "# For reproducibility\n",
    "np.random.seed(100)"
   ]
  },
  {
   "cell_type": "markdown",
   "metadata": {},
   "source": [
    "# Example to show library functionality\n",
    "Below, we define custom libraries for x and x_dot, showing that the resulting full library and library names are a tensor product of the two independent libraries. Note that to generate the constant function 1 without generating repeated entries, we need to use include_bias=True."
   ]
  },
  {
   "cell_type": "code",
   "execution_count": 2,
   "metadata": {},
   "outputs": [
    {
     "name": "stdout",
     "output_type": "stream",
     "text": [
      "Without function names: \n",
      "['f0(x0)', 'f0(x1)', 'f1(x0,x1)', 'f_dot0(x0_dot)', 'f_dot0(x1_dot)', 'f0(x0)f_dot0(x0_dot)', 'f0(x1)f_dot0(x0_dot)', 'f1(x0,x1)f_dot0(x0_dot)', 'f0(x0)f_dot0(x1_dot)', 'f0(x1)f_dot0(x1_dot)', 'f1(x0,x1)f_dot0(x1_dot)']\n",
      "With function names: \n",
      "['exp(x0)', 'exp(x1)', 'sin(x0x1)', 'x0_dot', 'x1_dot', 'exp(x0)x0_dot', 'exp(x1)x0_dot', 'sin(x0x1)x0_dot', 'exp(x0)x1_dot', 'exp(x1)x1_dot', 'sin(x0x1)x1_dot']\n",
      "With function names and bias term: \n",
      "['1', 'exp(x0)', 'exp(x1)', 'sin(x0x1)', 'x0_dot', 'x1_dot', 'exp(x0)x0_dot', 'exp(x1)x0_dot', 'sin(x0x1)x0_dot', 'exp(x0)x1_dot', 'exp(x1)x1_dot', 'sin(x0x1)x1_dot']\n"
     ]
    }
   ],
   "source": [
    "t = np.linspace(0, 1, 5)\n",
    "x = np.ones((5, 2))\n",
    "\n",
    "# Functions to be applied to the data x\n",
    "functions = [lambda x : np.exp(x), lambda x,y : np.sin(x+y)]\n",
    "\n",
    "# Functions to be applied to the data x_dot\n",
    "x_dot_functions = [lambda x : x]\n",
    "\n",
    "lib = ps.SINDyPILibrary(library_functions=functions,\n",
    "                        x_dot_library_functions=x_dot_functions,\n",
    "                        t=t,\n",
    "                        ).fit(x)\n",
    "lib.transform(x)\n",
    "print('Without function names: ')\n",
    "print(lib.get_feature_names())\n",
    "\n",
    "# Function names includes both the x and x_dot functions\n",
    "function_names = [lambda x : 'exp(' + x + ')',\n",
    "                  lambda x, y : 'sin(' + x + y + ')',\n",
    "                  lambda x : x]\n",
    "lib = ps.SINDyPILibrary(library_functions=functions,\n",
    "                        x_dot_library_functions=x_dot_functions,\n",
    "                        function_names=function_names, t=t,\n",
    "                        ).fit(x)\n",
    "lib.transform(x)\n",
    "print('With function names: ')\n",
    "print(lib.get_feature_names())\n",
    "\n",
    "# Now include a bias term (constant term)\n",
    "lib = ps.SINDyPILibrary(library_functions=functions,\n",
    "                        x_dot_library_functions=x_dot_functions,\n",
    "                        function_names=function_names, t=t,\n",
    "                        include_bias=True,\n",
    "                        ).fit(x)\n",
    "lib.transform(x)\n",
    "print('With function names and bias term: ')\n",
    "print(lib.get_feature_names())"
   ]
  },
  {
   "cell_type": "markdown",
   "metadata": {},
   "source": [
    "### Solve 1D Michelson-Menten enzyme model as first demonstration\n",
    "$$\\dot{x} = 0.6 - \\frac{1.5 x}{0.3 + x}$$"
   ]
  },
  {
   "cell_type": "code",
   "execution_count": 3,
   "metadata": {},
   "outputs": [
    {
     "name": "stdout",
     "output_type": "stream",
     "text": [
      "1 = 5.000 x0 + 1.667 x0_dot + 5.556 x0x0_dot\n",
      "x0 = 0.200 1 + -0.333 x0_dot + -1.111 x0x0_dot\n",
      "x0x0 = 0.198 x0 + 0.007 x0x0x0 + -0.338 x0x0_dot + -1.099 x0x0x0_dot\n",
      "x0x0x0 = 0.007 1 + 0.418 x0x0x0x0 + -0.021 x0_dot + -0.922 x0x0x0_dot + -0.154 x0x0x0x0_dot\n",
      "x0x0x0x0 = -0.001 1 + 0.363 x0x0x0 + 0.041 x0x0_dot + -1.205 x0x0x0x0x0_dot\n",
      "x0_dot = 0.600 1 + -3.000 x0 + -3.333 x0x0_dot\n",
      "x0x0_dot = 0.180 1 + -0.900 x0 + -0.300 x0_dot\n",
      "x0x0x0_dot = -0.004 1 + 0.136 x0 + -0.507 x0x0 + -0.345 x0x0x0 + -0.101 x0x0_dot + -0.219 x0x0x0x0x0_dot\n",
      "x0x0x0x0_dot = 0.003 1 + 0.001 x0 + -0.391 x0x0x0 + -0.247 x0x0x0x0 + -0.108 x0x0_dot\n",
      "x0x0x0x0x0_dot = 0.001 1 + -0.670 x0x0x0x0 + -0.005 x0_dot + 0.029 x0x0_dot + -0.271 x0x0x0_dot\n"
     ]
    }
   ],
   "source": [
    "# define parameters\n",
    "r = 1\n",
    "dt = 0.001\n",
    "T = 4\n",
    "t = np.arange(0, T + dt, dt)\n",
    "x0_train = [0.55]\n",
    "x_train = odeint(enzyme, x0_train, t)\n",
    "\n",
    "# Initialize custom SINDy library so that we can have x_dot inside it. Using the library\n",
    "# Found in Equation A1 in the SINDy-PI paper\n",
    "x_library_functions = [lambda x:x, lambda x, y:x * y, lambda x:x ** 2, \n",
    "                       lambda x, y, z:x * y * z, lambda x, y: x * y ** 2, lambda x: x ** 3,\n",
    "                       lambda x, y, z, w: x * y * z * w, lambda x, y, z:x * y * z ** 2,\n",
    "                       lambda x, y:x * y ** 3, lambda x:x ** 4]\n",
    "x_dot_library_functions = [lambda x:x]\n",
    "        \n",
    "# library function names includes both the x_library_functions and x_dot_library_functions names\n",
    "library_function_names = [lambda x:x, lambda x, y: x + y, lambda x:x + x, \n",
    "                          lambda x, y, z:x + y + z, lambda x, y: x + y + y, lambda x: x + x + x,\n",
    "                          lambda x, y, z, w: x + y + z + w, lambda x, y, z:x + y + z + z,\n",
    "                          lambda x, y:x + y + y + y, lambda x:x + x + x + x,\n",
    "                          lambda x:x] \n",
    "\n",
    "# Need to pass time base to the library so can build the x_dot library from x\n",
    "sindy_library = ps.SINDyPILibrary(library_functions=x_library_functions, \n",
    "                                  x_dot_library_functions=x_dot_library_functions,\n",
    "                                  t=t[1:-1],\n",
    "                                  function_names=library_function_names,\n",
    "                                  include_bias=True\n",
    "                                  )\n",
    "\n",
    "# Use the SINDy-PI optimizer, which relies on CVXPY.\n",
    "# Note that if LHS of the equation fits the data poorly, \n",
    "# CVXPY often returns failure.\n",
    "sindy_opt = ps.SINDyPI(threshold=1e-6, tol=1e-8, \n",
    "                       thresholder=\"l1\", max_iter=20000,\n",
    "                       )\n",
    "model = ps.SINDy(\n",
    "    optimizer=sindy_opt,\n",
    "    feature_library=sindy_library,\n",
    "    differentiation_method=ps.FiniteDifference(drop_endpoints=True),\n",
    ")\n",
    "model.fit(x_train, t=t)\n",
    "model.print()"
   ]
  },
  {
   "cell_type": "code",
   "execution_count": 4,
   "metadata": {},
   "outputs": [
    {
     "data": {
      "image/png": "[encoded data removed]",
      "text/plain": [
       "<Figure size 432x288 with 1 Axes>"
      ]
     },
     "metadata": {
      "needs_background": "light"
     },
     "output_type": "display_data"
    }
   ],
   "source": [
    "# Plot the fit of the derivative\n",
    "x_dot_train = model.differentiate(x_train, t)\n",
    "x_dot_train_pred = sindy_opt.Theta_ @ sindy_opt.coef_.T\n",
    "plt.figure()\n",
    "for i in range(r):\n",
    "    plt.subplot(1, r, i + 1)\n",
    "    plt.plot(t, x_dot_train[:, i], 'k')\n",
    "    plt.plot(t[1:-1], x_dot_train_pred[:, 5], 'r--')"
   ]
  },
  {
   "cell_type": "markdown",
   "metadata": {},
   "source": [
    "### Now we need to reformat all the feature strings for conversion into symbolic variables"
   ]
  },
  {
   "cell_type": "code",
   "execution_count": 5,
   "metadata": {},
   "outputs": [
    {
     "name": "stdout",
     "output_type": "stream",
     "text": [
      "['1', 'x0', 'x0x0', 'x0x0x0', 'x0x0x0x0', 'x0_dot', 'x0x0_dot', 'x0x0x0_dot', 'x0x0x0x0_dot', 'x0x0x0x0x0_dot']\n",
      "['1', 'x0', 'x0 * x0', 'x0 * x0 * x0', 'x0 * x0 * x0 * x0', 'x0_dot', 'x0 * x0_dot', 'x0 * x0 * x0_dot', 'x0 * x0 * x0 * x0_dot', 'x0 * x0 * x0 * x0 * x0_dot']\n"
     ]
    }
   ],
   "source": [
    "features = model.get_feature_names()\n",
    "features[0] = '1'\n",
    "features_copy = list(np.copy(features))\n",
    "nfeatures = len(features)\n",
    "features_formatted = []\n",
    "# Need to put multiplication between terms for sympy\n",
    "for i in range(nfeatures):\n",
    "    for j in range(r):\n",
    "        # Overkill to make sure all the x0, x1, etc. get replaced\n",
    "        temp_string = features[i].replace('x' + str(j) + 'x', 'x' + str(j) + ' * x')\n",
    "        temp_string = temp_string.replace('x' + str(j) + 'x', 'x' + str(j) + ' * x')\n",
    "        temp_string = temp_string.replace('x' + str(j) + 'x', 'x' + str(j) + ' * x')\n",
    "        temp_string = temp_string.replace('x' + str(j) + 'x', 'x' + str(j) + ' * x')\n",
    "        features[i] = temp_string\n",
    "    features_formatted.append(temp_string)\n",
    "features = features_copy\n",
    "print(features)\n",
    "print(features_formatted)\n",
    "coefs = model.coefficients()\n",
    "sym_features = [sp.symbols(feature) for feature in features]\n",
    "sym_theta = [sp.symbols(feature) for feature in features]"
   ]
  },
  {
   "cell_type": "markdown",
   "metadata": {},
   "source": [
    "### Check all the successful model fits produce sensible models"
   ]
  },
  {
   "cell_type": "code",
   "execution_count": 6,
   "metadata": {},
   "outputs": [
    {
     "name": "stdout",
     "output_type": "stream",
     "text": [
      "1  =  5.0*x0 + 1.67*x0_dot + 5.56*x0x0_dot\n",
      "x0  =  0.2*1 - 0.33*x0_dot - 1.11*x0x0_dot\n",
      "x0x0  =  0.2*x0 - 0.34*x0x0_dot + 0.01*x0x0x0 - 1.1*x0x0x0_dot\n",
      "x0x0x0  =  0.01*1 - 0.02*x0_dot - 0.92*x0x0x0_dot + 0.42*x0x0x0x0 - 0.15*x0x0x0x0_dot\n",
      "x0x0x0x0  =  0.04*x0x0_dot + 0.36*x0x0x0 - 1.21*x0x0x0x0x0_dot\n",
      "x0_dot  =  0.6*1 - 3.0*x0 - 3.33*x0x0_dot\n",
      "x0x0_dot  =  0.18*1 - 0.9*x0 - 0.3*x0_dot\n",
      "x0x0x0_dot  =  0.14*x0 - 0.51*x0x0 - 0.1*x0x0_dot - 0.34*x0x0x0 - 0.22*x0x0x0x0x0_dot\n",
      "x0x0x0x0_dot  =  -0.11*x0x0_dot - 0.39*x0x0x0 - 0.25*x0x0x0x0\n",
      "x0x0x0x0x0_dot  =  -0.01*x0_dot + 0.03*x0x0_dot - 0.27*x0x0x0_dot - 0.67*x0x0x0x0\n"
     ]
    }
   ],
   "source": [
    "sym_equations = []\n",
    "sym_equations_rounded = []\n",
    "for i in range(nfeatures):\n",
    "    sym_equations.append(sp.solve(sp.Eq(sym_theta[i], \n",
    "                                        sym_theta @ np.around(coefs[i], 10)), \n",
    "                                  sym_features[i]))\n",
    "    sym_equations_rounded.append(sp.solve(sp.Eq(sym_theta[i], \n",
    "                                        sym_theta @ np.around(coefs[i], 2)), \n",
    "                                  sym_features[i]))\n",
    "    print(sym_theta[i], ' = ', sym_equations_rounded[i][0])"
   ]
  },
  {
   "cell_type": "markdown",
   "metadata": {},
   "source": [
    "### Now we will:\n",
    "1. reformat all the equations\n",
    "2. solve for x_dot \n",
    "3. integrate and plot the new equations for x_dot"
   ]
  },
  {
   "cell_type": "code",
   "execution_count": 7,
   "metadata": {},
   "outputs": [
    {
     "name": "stderr",
     "output_type": "stream",
     "text": [
      "/usr/local/anaconda3/lib/python3.7/site-packages/scipy/integrate/odepack.py:247: ODEintWarning: Excess work done on this call (perhaps wrong Dfun type). Run with full_output = 1 to get quantitative information.\n",
      "  warnings.warn(warning_msg, ODEintWarning)\n"
     ]
    },
    {
     "data": {
      "text/plain": [
       "<matplotlib.legend.Legend at 0x7ff4ffb47190>"
      ]
     },
     "execution_count": 7,
     "metadata": {},
     "output_type": "execute_result"
    },
    {
     "data": {
      "image/png": "[encoded data removed]",
      "text/plain": [
       "<Figure size 1152x216 with 1 Axes>"
      ]
     },
     "metadata": {
      "needs_background": "light"
     },
     "output_type": "display_data"
    }
   ],
   "source": [
    "# Define the ODE symbol variables\n",
    "t_sym = sp.symbols('t_sym')\n",
    "x_sym = sp.symbols('x:%d' % r)\n",
    "x_dot_sym = sp.symbols('x:%d_dot' % r)\n",
    "\n",
    "# Need to format the above equations so that there are space between x0 * x0, x0 * x_dot0, and so on.\n",
    "sym_equations_formatted = []\n",
    "sym_equations_rounded_formatted = []\n",
    "for i in range(nfeatures):\n",
    "    for j in range(r):\n",
    "        # Overkill to make sure all the x0, x1, etc. get replaced\n",
    "        temp_string = str(sym_equations[i]).replace('x' + str(j) + 'x', 'x' + str(j) + ' * x')\n",
    "        temp_string = temp_string.replace('x' + str(j) + 'x', 'x' + str(j) + ' * x')\n",
    "        temp_string = temp_string.replace('x' + str(j) + 'x', 'x' + str(j) + ' * x')\n",
    "        temp_string = temp_string.replace('x' + str(j) + 'x', 'x' + str(j) + ' * x')\n",
    "        temp_rounded_string = str(sym_equations_rounded[i]).replace('x' + str(j) + 'x', 'x' + str(j) + ' * x')\n",
    "        temp_rounded_string = temp_rounded_string.replace('x' + str(j) + 'x', 'x' + str(j) + ' * x')\n",
    "        temp_rounded_string = temp_rounded_string.replace('x' + str(j) + 'x', 'x' + str(j) + ' * x')\n",
    "        temp_rounded_string = temp_rounded_string.replace('x' + str(j) + 'x', 'x' + str(j) + ' * x')\n",
    "        sym_equations_formatted.append(temp_string)\n",
    "        sym_equations_rounded_formatted.append(temp_rounded_string)\n",
    "\n",
    "# Now that the equations are mathematically formatted, solve for x_dot0 in the algebraic equation\n",
    "sym_equations_simplified = []\n",
    "sym_equations_rounded_simplified = []\n",
    "for i in range(nfeatures):\n",
    "    sym_equations_simplified.append(sp.solve(\n",
    "        sp.Add(\n",
    "            sp.sympify(sym_equations_formatted)[i][0], \n",
    "            - sp.sympify(features_formatted[i])), \n",
    "        x_dot_sym))\n",
    "    rounded = sp.solve(\n",
    "        sp.Add(\n",
    "            sp.sympify(sym_equations_rounded_formatted)[i][0], \n",
    "            - sp.sympify(features_formatted[i])), \n",
    "        x_dot_sym)\n",
    "    if len(rounded) != 0:\n",
    "        rounded_temp = rounded[0]\n",
    "        for a in sp.preorder_traversal(rounded):\n",
    "            if isinstance(a, sp.Float):\n",
    "                rounded_temp = rounded_temp.subs(a, round(a, 2))\n",
    "        sym_equations_rounded_simplified.append(rounded_temp)\n",
    "    else:\n",
    "        sym_equations_rounded_simplified.append([])\n",
    "\n",
    "# Plot the results for each of the models\n",
    "plt.figure(figsize=(16, 3))\n",
    "x0_test = np.random.rand(1)\n",
    "x_test = odeint(enzyme, x0_test, t)\n",
    "plt.plot(t, x_test, color='k', linestyle='solid', label='True')\n",
    "for i in range(nfeatures):\n",
    "    ax = plt.gca()\n",
    "    if i != nfeatures - 1:\n",
    "        ax.set_xticklabels([])\n",
    "    if len(sym_equations_simplified[i]) != 0:\n",
    "        ODE_Func = sp.lambdify([x_sym, t_sym], sym_equations_simplified[i][0])\n",
    "\n",
    "        # Now simulate the system we identified\n",
    "        x_test_sim = odeint(ODE_Func, x0_test, t)\n",
    "        if np.linalg.norm(x_test_sim) < 1e3 and sym_equations_rounded_simplified[i] != 0:\n",
    "            plt.plot(t, x_test_sim, linestyle='dashed',\n",
    "                     label=str(sp.sympify(features_formatted[i])\n",
    "                              ) + ' = ' + str(\n",
    "                         sym_equations_rounded_simplified[i]))\n",
    "plt.grid(True)\n",
    "plt.legend(fontsize=8)"
   ]
  },
  {
   "cell_type": "markdown",
   "metadata": {},
   "source": [
    "### We will now try a 2D example, the bacterial competence system (Mangan et al. 2016)\n",
    "$$ \\dot{x} = a_1 + a_2x^2 / (a_3 + x^2) - x / (1 + x + y) $$\n",
    "$$ \\dot{y} = b_1 / (1 + b_2 x^5) - y / (1 + x + y) $$\n",
    "with $a_1=0.004$, $a_2=0.07$, $a_3=0.04$, $b_1=0.82$, $b_2=1854.5$. Note that multi-variable SymPy will require some changes, and multi-variable SINDy-PI typically requires many trajectories to correctly identify models."
   ]
  },
  {
   "cell_type": "code",
   "execution_count": 8,
   "metadata": {},
   "outputs": [
    {
     "name": "stdout",
     "output_type": "stream",
     "text": [
      "x0 = 0.000\n",
      "x1 = 0.000\n",
      "x0x1 = 0.000\n",
      "x0x0 = 0.000\n",
      "x1x1 = 0.000\n",
      "x0x1x1 = 0.000\n",
      "x0x0x0 = 0.000\n",
      "x1x1x1 = 0.000\n",
      "x0x1x1x1 = 0.000\n",
      "x0x0x0x0 = 0.000\n",
      "x1x1x1x1 = 0.000\n",
      "x0x0x0x0x0 = 0.000\n",
      "x1x1x1x1x1 = 0.000\n",
      "x0x0x0x0x0x0 = 0.000\n",
      "x1x1x1x1x1x1 = 0.000\n",
      "x0_dot = -0.407 x0 + 0.007 x1 + 0.022 x0x1\n",
      "x1_dot = 0.009 x0 + 0.244 x1 + -0.331 x1x1 + 0.084 x1x1x1x1 + -0.025 x1x1x1x1x1 + 0.002 x1x1x1x1x1x1 + 0.768 x0x1_dot + 1.045 x1x1_dot + -0.002 x1x1x1x1x1x1x1_dot\n",
      "x0x0_dot = 0.000\n",
      "x1x0_dot = 0.000\n",
      "x0x1x0_dot = 0.000\n",
      "x0x0x0_dot = 0.000\n",
      "x1x1x0_dot = 0.000\n",
      "x0x1x1x0_dot = 0.000\n",
      "x0x0x0x0_dot = 0.000\n",
      "x1x1x1x0_dot = 0.000\n",
      "x0x1x1x1x0_dot = 0.000\n",
      "x0x0x0x0x0_dot = 0.000\n",
      "x1x1x1x1x0_dot = 0.000\n",
      "x0x0x0x0x0x0_dot = 0.000\n",
      "x1x1x1x1x1x0_dot = 0.000\n",
      "x0x0x0x0x0x0x0_dot = 0.000\n",
      "x1x1x1x1x1x1x0_dot = 0.000\n",
      "x0x1_dot = 0.000\n",
      "x1x1_dot = 0.000\n",
      "x0x1x1_dot = 0.000\n",
      "x0x0x1_dot = 0.000\n",
      "x1x1x1_dot = 0.000\n",
      "x0x1x1x1_dot = 0.000\n",
      "x0x0x0x1_dot = 0.000\n",
      "x1x1x1x1_dot = 0.000\n",
      "x0x1x1x1x1_dot = 0.000\n",
      "x0x0x0x0x1_dot = 0.000\n",
      "x1x1x1x1x1_dot = 0.000\n",
      "x0x0x0x0x0x1_dot = 0.000\n",
      "x1x1x1x1x1x1_dot = 0.000\n",
      "x0x0x0x0x0x0x1_dot = 0.000\n",
      "x1x1x1x1x1x1x1_dot = 0.000\n"
     ]
    }
   ],
   "source": [
    "# define parameters\n",
    "r = 2\n",
    "dt = 0.01\n",
    "T = 20\n",
    "t_train = np.arange(0, T + dt, dt)\n",
    "\n",
    "# Typically need at least 20-40 trajectories for a decent model.\n",
    "# Note that this can be fairly time-consuming. \n",
    "n_trajectories = 10\n",
    "x_train_multi = []\n",
    "t_train_multi = []\n",
    "x0 = np.random.rand(n_trajectories, 2)\n",
    "for i in range(n_trajectories):\n",
    "    x_train_multi.append(odeint(bacterial, x0[i, :], t_train))\n",
    "    t_train_multi.append(t_train[1:-1])\n",
    "\n",
    "# Initialize custom SINDy library up to sixth order polynomials\n",
    "x_library_functions = [lambda x:x, lambda x, y:x * y, lambda x:x ** 2, \n",
    "                       lambda x, y, z:x * y * z, lambda x, y: x * y ** 2, lambda x: x ** 3,\n",
    "                       lambda x, y, z, w: x * y * z * w, lambda x, y, z:x * y * z ** 2,\n",
    "                       lambda x, y:x * y ** 3, lambda x:x ** 4, lambda x:x ** 5, lambda x:x ** 6]\n",
    "x_dot_library_functions = [lambda x:x]\n",
    "        \n",
    "library_function_names = [lambda x:x, lambda x, y: x + y, lambda x:x + x, \n",
    "                          lambda x, y, z:x + y + z, lambda x, y: x + y + y, lambda x: x + x + x,\n",
    "                          lambda x, y, z, w: x + y + z + w, lambda x, y, z:x + y + z + z,\n",
    "                          lambda x, y:x + y + y + y, lambda x:x + x + x + x, \n",
    "                          lambda x:x + x + x + x + x, lambda x:x + x + x + x + x + x, \n",
    "                          lambda x:x] \n",
    "\n",
    "# Get the indices of the equations for x0_dot and x1_dot\n",
    "lib = ps.SINDyPILibrary(library_functions=x_library_functions, \n",
    "                        x_dot_library_functions=x_dot_library_functions,\n",
    "                        t=t_train,\n",
    "                        function_names=library_function_names,\n",
    "                        include_bias=True\n",
    "                        ).fit(np.asarray(x_train_multi)[0, :, :])\n",
    "lib.transform(np.asarray(x_train_multi)[0, :, :])\n",
    "features = np.asarray(lib.get_feature_names())\n",
    "ind1 = int(np.ravel(np.where(features == \"x0_dot\"))[0] - 1)  # - 1 because bias term\n",
    "ind2 = int(np.ravel(np.where(features == \"x1_dot\"))[0] - 1)\n",
    "\n",
    "# Need to flatten t_train_multi before passing time base to SINDyPILibrary\n",
    "sindy_library = ps.SINDyPILibrary(library_functions=x_library_functions, \n",
    "                                  x_dot_library_functions=x_dot_library_functions,\n",
    "                                  t=np.ravel(np.asarray(t_train_multi)),\n",
    "                                  function_names=library_function_names,\n",
    "                                  )\n",
    "\n",
    "# Note, using model_subset (list of indices) to only compute two of the fits\n",
    "sindy_opt = ps.SINDyPI(threshold=10, tol=1e-5, \n",
    "                       thresholder=\"l1\", max_iter=20000,\n",
    "                       model_subset=[ind1, ind2],\n",
    "                       )\n",
    "model = ps.SINDy(\n",
    "    optimizer=sindy_opt,\n",
    "    feature_library=sindy_library,\n",
    "    differentiation_method=ps.FiniteDifference(drop_endpoints=True),\n",
    ")\n",
    "model.fit(x_train_multi, t=dt, multiple_trajectories=True)\n",
    "model.print()"
   ]
  },
  {
   "cell_type": "code",
   "execution_count": 9,
   "metadata": {},
   "outputs": [
    {
     "data": {
      "image/png": "[encoded data removed]",
      "text/plain": [
       "<Figure size 432x288 with 2 Axes>"
      ]
     },
     "metadata": {
      "needs_background": "light"
     },
     "output_type": "display_data"
    }
   ],
   "source": [
    "# Plot the fit of the derivative\n",
    "x_train = np.asarray(x_train_multi)[0, :, :]\n",
    "x_dot_train = model.differentiate(x_train, t_train)\n",
    "x_dot_train_pred = sindy_opt.Theta_[:len(t_train) - 2, :] @ sindy_opt.coef_.T\n",
    "plt.figure()\n",
    "inds = [ind1, ind2]\n",
    "for i in range(r):\n",
    "    plt.subplot(1, r, i + 1)\n",
    "    plt.plot(t_train, x_dot_train[:, i], 'k')\n",
    "    plt.plot(t_train[1:-1], x_dot_train_pred[:, inds[i]], 'r--')"
   ]
  },
  {
   "cell_type": "code",
   "execution_count": 10,
   "metadata": {},
   "outputs": [
    {
     "name": "stdout",
     "output_type": "stream",
     "text": [
      "['1', 'x1', 'x0x1', 'x0x0', 'x1x1', 'x0x1x1', 'x0x0x0', 'x1x1x1', 'x0x1x1x1', 'x0x0x0x0', 'x1x1x1x1', 'x0x0x0x0x0', 'x1x1x1x1x1', 'x0x0x0x0x0x0', 'x1x1x1x1x1x1', 'x0_dot', 'x1_dot', 'x0x0_dot', 'x1x0_dot', 'x0x1x0_dot', 'x0x0x0_dot', 'x1x1x0_dot', 'x0x1x1x0_dot', 'x0x0x0x0_dot', 'x1x1x1x0_dot', 'x0x1x1x1x0_dot', 'x0x0x0x0x0_dot', 'x1x1x1x1x0_dot', 'x0x0x0x0x0x0_dot', 'x1x1x1x1x1x0_dot', 'x0x0x0x0x0x0x0_dot', 'x1x1x1x1x1x1x0_dot', 'x0x1_dot', 'x1x1_dot', 'x0x1x1_dot', 'x0x0x1_dot', 'x1x1x1_dot', 'x0x1x1x1_dot', 'x0x0x0x1_dot', 'x1x1x1x1_dot', 'x0x1x1x1x1_dot', 'x0x0x0x0x1_dot', 'x1x1x1x1x1_dot', 'x0x0x0x0x0x1_dot', 'x1x1x1x1x1x1_dot', 'x0x0x0x0x0x0x1_dot', 'x1x1x1x1x1x1x1_dot']\n",
      "['1', 'x1', 'x0 * x1', 'x0 * x0', 'x1 * x1', 'x0 * x1 * x1', 'x0 * x0 * x0', 'x1 * x1 * x1', 'x0 * x1 * x1 * x1', 'x0 * x0 * x0 * x0', 'x1 * x1 * x1 * x1', 'x0 * x0 * x0 * x0 * x0', 'x1 * x1 * x1 * x1 * x1', 'x0 * x0 * x0 * x0 * x0 * x0', 'x1 * x1 * x1 * x1 * x1 * x1', 'x0_dot', 'x1_dot', 'x0 * x0_dot', 'x1 * x0_dot', 'x0 * x1 * x0_dot', 'x0 * x0 * x0_dot', 'x1 * x1 * x0_dot', 'x0 * x1 * x1 * x0_dot', 'x0 * x0 * x0 * x0_dot', 'x1 * x1 * x1 * x0_dot', 'x0 * x1 * x1 * x1 * x0_dot', 'x0 * x0 * x0 * x0 * x0_dot', 'x1 * x1 * x1 * x1 * x0_dot', 'x0 * x0 * x0 * x0 * x0 * x0_dot', 'x1 * x1 * x1 * x1 * x1 * x0_dot', 'x0 * x0 * x0 * x0 * x0 * x0 * x0_dot', 'x1 * x1 * x1 * x1 * x1 * x1 * x0_dot', 'x0 * x1_dot', 'x1 * x1_dot', 'x0 * x1 * x1_dot', 'x0 * x0 * x1_dot', 'x1 * x1 * x1_dot', 'x0 * x1 * x1 * x1_dot', 'x0 * x0 * x0 * x1_dot', 'x1 * x1 * x1 * x1_dot', 'x0 * x1 * x1 * x1 * x1_dot', 'x0 * x0 * x0 * x0 * x1_dot', 'x1 * x1 * x1 * x1 * x1_dot', 'x0 * x0 * x0 * x0 * x0 * x1_dot', 'x1 * x1 * x1 * x1 * x1 * x1_dot', 'x0 * x0 * x0 * x0 * x0 * x0 * x1_dot', 'x1 * x1 * x1 * x1 * x1 * x1 * x1_dot']\n",
      "x0_dot  =  -0.41*1 + 0.02*x0x1 + 0.01*x1\n",
      "x1_dot  =  0.01*1 + 0.77*x0x1_dot + 0.24*x1 - 0.33*x1x1 + 1.05*x1x1_dot + 0.08*x1x1x1x1 - 0.03*x1x1x1x1x1\n"
     ]
    }
   ],
   "source": [
    "# Repeat formatting the feature names and building the symbolic equations\n",
    "features = model.get_feature_names()\n",
    "nfeatures = len(features)\n",
    "features[0] = '1'\n",
    "features_copy = list(np.copy(features))\n",
    "nfeatures = len(features)\n",
    "features_formatted = []\n",
    "# Need to put multiplication between terms for sympy\n",
    "for i in range(nfeatures):\n",
    "    for j in range(r):\n",
    "        # Overkill to make sure all the x0, x1, etc. get replaced\n",
    "        temp_string = features[i].replace('x' + str(j) + 'x', 'x' + str(j) + ' * x')\n",
    "        temp_string = temp_string.replace('x' + str(j) + 'x', 'x' + str(j) + ' * x')\n",
    "        temp_string = temp_string.replace('x' + str(j) + 'x', 'x' + str(j) + ' * x')\n",
    "        temp_string = temp_string.replace('x' + str(j) + 'x', 'x' + str(j) + ' * x')\n",
    "        features[i] = temp_string\n",
    "    features_formatted.append(temp_string)\n",
    "features = features_copy\n",
    "print(features)\n",
    "print(features_formatted)\n",
    "\n",
    "coefs = model.coefficients()\n",
    "sym_features = [sp.symbols(feature) for feature in features]\n",
    "sym_theta = [sp.symbols(feature) for feature in features]\n",
    "sym_equations = []\n",
    "sym_equations_rounded = []\n",
    "for i in range(nfeatures):\n",
    "    if np.any(np.around(coefs[i], 2) != 0.0):\n",
    "        sym_equation = sp.solve(sp.Eq(sym_theta[i], \n",
    "                                            sym_theta @ np.around(coefs[i], 6)), \n",
    "                                      sym_features[i])\n",
    "        sym_equations.append(sym_equation)\n",
    "        sym_equation_rounded = sp.solve(sp.Eq(sym_theta[i], \n",
    "                                            sym_theta @ np.around(coefs[i], 2)), \n",
    "                                      sym_features[i])\n",
    "        sym_equations_rounded.append(sym_equation_rounded)\n",
    "        print(sym_theta[i], ' = ', sym_equation_rounded[0])"
   ]
  },
  {
   "cell_type": "code",
   "execution_count": 11,
   "metadata": {},
   "outputs": [
    {
     "name": "stdout",
     "output_type": "stream",
     "text": [
      "Solved for xdot equations =  {x0_dot: (16830573616.0*x0**2*x1 + 210.0*x0*x1**9 - 42428048.0*x0*x1**7 + 18441096.0*x0*x1**6 - 191326371.0*x0*x1**4 + 22894783632.0*x0*x1**2 - 16702074170.0*x0*x1 - 312825531996.0*x0 + 394302.0*x1**12 - 5298930.0*x1**11 + 18117693.0*x1**10 - 69594420.0*x1**8 + 63181862.0*x1**7 + 766455168.0*x1**6 - 260263017.0*x1**5 + 249000000.0*x1**4 + 7076227410.0*x1**2 - 432309439892.0*x1 + 407124000000.0)/(768379000000.0*x0 + 4830.0*x1**12 + 1470.0*x1**11 + 420.0*x1**10 + 210.0*x1**9 - 1937000000.0*x1**6 + 1045233000000.0*x1 - 1000000000000.0), x1_dot: (503792.0*x0*x1**7 + 153328.0*x0*x1**6 + 43808.0*x0*x1**5 + 21904.0*x0*x1**4 - 1000000.0*x0*x1**3 + 552.0*x1**12 + 168.0*x1**11 - 5679.0*x1**10 - 1719.0*x1**9 - 498.0*x1**8 + 155461.0*x1**7 - 2108316462.0*x1**6 + 25230163672.0*x1**5 - 83978807478.0*x1**4 - 407124.0*x1**3 + 331402000000.0*x1**2 - 243856000000.0*x1 - 8838000000.0)/(768379000000.0*x0 + 4830.0*x1**12 + 1470.0*x1**11 + 420.0*x1**10 + 210.0*x1**9 - 1937000000.0*x1**6 + 1045233000000.0*x1 - 1000000000000.0)}\n"
     ]
    }
   ],
   "source": [
    "# Define the ODE symbol variables\n",
    "t_sym = sp.symbols('t_sym')\n",
    "x_sym = sp.symbols('x:%d' % r)\n",
    "x_dot_sym = sp.symbols('x:%d_dot' % r)\n",
    "\n",
    "# Need to format the above equations so that there are space between x0 * x0, x0 * x_dot0, and so on.\n",
    "sym_equations_formatted = []\n",
    "for i in range(len(sym_equations)):\n",
    "    for j in range(r):\n",
    "        # Overkill to make sure all the x0, x1, etc. get replaced\n",
    "        temp_string = str(sym_equations[i]).replace('x' + str(j) + 'x', 'x' + str(j) + ' * x')\n",
    "        temp_string = temp_string.replace('x' + str(j) + 'x', 'x' + str(j) + ' * x')\n",
    "        temp_string = temp_string.replace('x' + str(j) + 'x', 'x' + str(j) + ' * x')\n",
    "        temp_string = temp_string.replace('x' + str(j) + 'x', 'x' + str(j) + ' * x')\n",
    "        sym_equations[i] = temp_string\n",
    "    sym_equations_formatted.append(temp_string)\n",
    "\n",
    "# IMPORTANT change for multi-variable implicit equations:\n",
    "# Now that the equations are mathematically formatted, \n",
    "# solve for x0_dot and x1_dot in the algebraic equation.\n",
    "# Have two unknowns, (x0_dot, x1_dot), \n",
    "# so need to solve using two of ANY of the equations,\n",
    "# but for simplicity we choose the equations for x0_dot and x1_dot\n",
    "sym_equations_simplified = sp.solve(\n",
    "    (sp.Add(\n",
    "        sp.sympify(sym_equations_formatted)[0][0], \n",
    "        - sp.sympify(features_formatted[ind1])), \n",
    "    sp.Add(\n",
    "        sp.sympify(sym_equations_formatted)[1][0], \n",
    "        - sp.sympify(features_formatted[ind2]))),\n",
    "    x_dot_sym)\n",
    "print('Solved for xdot equations = ', sym_equations_simplified)\n",
    "\n",
    "# Not the cleanest notation for multiple variables, but it works\n",
    "ODE_Func = sp.lambdify([x_sym, t_sym], \n",
    "                       [sym_equations_simplified[x_dot_sym[0]], \n",
    "                        sym_equations_simplified[x_dot_sym[1]]])\n",
    "\n",
    "# We can simulate the system we identified but tends to be unstable -- need more memory to train on\n",
    "# additional trajectories."
   ]
  }
 ],
 "metadata": {
  "kernelspec": {
   "display_name": "Python 3",
   "language": "python",
   "name": "python3"
  },
  "language_info": {
   "codemirror_mode": {
    "name": "ipython",
    "version": 3
   },
   "file_extension": ".py",
   "mimetype": "text/x-python",
   "name": "python",
   "nbconvert_exporter": "python",
   "pygments_lexer": "ipython3",
   "version": "3.7.7"
  }
 },
 "nbformat": 4,
 "nbformat_minor": 4
}
