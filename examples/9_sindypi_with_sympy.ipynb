{
 "cells": [
  {
   "cell_type": "markdown",
   "metadata": {},
   "source": [
    "# SINDy-PI Feature Overview\n",
    "\n",
    "This notebook provides a simple overview of the basic functionality of SINDy-PI implemented in PySINDy, and is written by Alan Kaptanoglu and Kadierdan Kaheman. SINDy-PI is used to handle generic implicit ODEs of the form,\n",
    "$$ \\frac{d}{dt}\\mathbf{x} = \\mathbf{f}(\\mathbf{x}, \\dot{\\mathbf{x}})$$\n",
    "This is based off of the paper \"Kaheman, K., Kutz, J. N., & Brunton, S. L. (2020). SINDy-PI: a robust algorithm for parallel implicit sparse identification of nonlinear dynamics. Proceedings of the Royal Society A, 476(2242), 20200279.\""
   ]
  },
  {
   "cell_type": "code",
   "execution_count": 1,
   "metadata": {},
   "outputs": [],
   "source": [
    "# Import libraries.\n",
    "import numpy as np\n",
    "from matplotlib import pyplot as plt\n",
    "from mpl_toolkits.mplot3d import Axes3D\n",
    "import pysindy as ps \n",
    "from pysindy.differentiation import FiniteDifference\n",
    "import matplotlib.gridspec as gridspec\n",
    "import numexpr as ne\n",
    "from numpy import cos, sin\n",
    "from pysindy.utils import enzyme, bacterial, pendulum_on_cart\n",
    "import sympy as sp\n",
    "from scipy.integrate import odeint\n",
    "\n",
    "# For reproducibility\n",
    "np.random.seed(100)"
   ]
  },
  {
   "cell_type": "markdown",
   "metadata": {},
   "source": [
    "# Example to show library functionality\n",
    "Below, we define custom libraries for x and x_dot, showing that the resulting full library and library names are a tensor product of the two independent libraries. Note that to generate the constant function 1 without generating repeated entries, we need to use include_bias=True."
   ]
  },
  {
   "cell_type": "code",
   "execution_count": 2,
   "metadata": {},
   "outputs": [
    {
     "name": "stdout",
     "output_type": "stream",
     "text": [
      "Without function names: \n",
      "['f0(x0)', 'f0(x1)', 'f1(x0,x1)', 'f_dot0(x0_dot)', 'f_dot0(x1_dot)', 'f0(x0)f_dot0(x0_dot)', 'f0(x1)f_dot0(x0_dot)', 'f1(x0,x1)f_dot0(x0_dot)', 'f0(x0)f_dot0(x1_dot)', 'f0(x1)f_dot0(x1_dot)', 'f1(x0,x1)f_dot0(x1_dot)']\n",
      "With function names: \n",
      "['exp(x0)', 'exp(x1)', 'sin(x0x1)', 'x0_dot', 'x1_dot', 'exp(x0)x0_dot', 'exp(x1)x0_dot', 'sin(x0x1)x0_dot', 'exp(x0)x1_dot', 'exp(x1)x1_dot', 'sin(x0x1)x1_dot']\n",
      "With function names and bias term: \n",
      "['1', 'exp(x0)', 'exp(x1)', 'sin(x0x1)', 'x0_dot', 'x1_dot', 'exp(x0)x0_dot', 'exp(x1)x0_dot', 'sin(x0x1)x0_dot', 'exp(x0)x1_dot', 'exp(x1)x1_dot', 'sin(x0x1)x1_dot']\n"
     ]
    }
   ],
   "source": [
    "t = np.linspace(0, 1, 5)\n",
    "x = np.ones((5, 2))\n",
    "\n",
    "# Functions to be applied to the data x\n",
    "functions = [lambda x : np.exp(x), lambda x,y : np.sin(x+y)]\n",
    "\n",
    "# Functions to be applied to the data x_dot\n",
    "x_dot_functions = [lambda x : x]\n",
    "\n",
    "lib = ps.SINDyPILibrary(library_functions=functions,\n",
    "                        x_dot_library_functions=x_dot_functions,\n",
    "                        t=t,\n",
    "                        ).fit(x)\n",
    "lib.transform(x)\n",
    "print('Without function names: ')\n",
    "print(lib.get_feature_names())\n",
    "\n",
    "# Function names includes both the x and x_dot functions\n",
    "function_names = [lambda x : 'exp(' + x + ')',\n",
    "                  lambda x, y : 'sin(' + x + y + ')',\n",
    "                  lambda x : x]\n",
    "lib = ps.SINDyPILibrary(library_functions=functions,\n",
    "                        x_dot_library_functions=x_dot_functions,\n",
    "                        function_names=function_names, t=t,\n",
    "                        ).fit(x)\n",
    "lib.transform(x)\n",
    "print('With function names: ')\n",
    "print(lib.get_feature_names())\n",
    "\n",
    "# Now include a bias term (constant term)\n",
    "lib = ps.SINDyPILibrary(library_functions=functions,\n",
    "                        x_dot_library_functions=x_dot_functions,\n",
    "                        function_names=function_names, t=t,\n",
    "                        include_bias=True,\n",
    "                        ).fit(x)\n",
    "lib.transform(x)\n",
    "print('With function names and bias term: ')\n",
    "print(lib.get_feature_names())"
   ]
  },
  {
   "cell_type": "markdown",
   "metadata": {},
   "source": [
    "### Solve 1D Michelson-Menten enzyme model as first demonstration\n",
    "$$\\dot{x} = 0.6 - \\frac{1.5 x}{0.3 + x}$$"
   ]
  },
  {
   "cell_type": "code",
   "execution_count": 3,
   "metadata": {},
   "outputs": [
    {
     "name": "stdout",
     "output_type": "stream",
     "text": [
      "Solver failed on model  4 , setting coefs to zeros\n",
      "1 = 5.000 x0 + 1.667 x0_dot + 5.556 x0x0_dot\n",
      "x0 = 0.200 1 + 0.004 x0x0 + -0.334 x0_dot + -1.105 x0x0_dot\n",
      "x0x0 = 0.023 1 + 0.063 x0 + 0.589 x0x0x0 + -0.724 x0x0_dot\n",
      "x0x0x0 = -0.007 1 + 0.352 x0x0 + 0.743 x0x0x0x0 + 0.032 x0_dot + -0.101 x0x0x0_dot\n",
      "x0x0x0x0 = 0.000\n",
      "x0_dot = 0.598 1 + -2.995 x0 + 0.014 x0x0 + -3.306 x0x0_dot\n",
      "x0x0_dot = 0.177 1 + -0.883 x0 + -0.013 x0x0 + -0.293 x0_dot\n",
      "x0x0x0_dot = 0.014 1 + -0.273 x0x0 + -0.368 x0x0x0 + -0.047 x0_dot\n",
      "x0x0x0x0_dot = 0.010 x0 + -0.157 x0x0x0 + -0.477 x0x0x0x0 + -0.007 x0_dot\n",
      "x0x0x0x0x0_dot = 0.001 1 + -0.519 x0x0x0x0 + 0.010 x0_dot + -0.082 x0x0_dot\n"
     ]
    }
   ],
   "source": [
    "# define parameters\n",
    "r = 1\n",
    "dt = 0.01\n",
    "T = 5\n",
    "t = np.arange(0, T + dt, dt)\n",
    "x0_train = [0.55]\n",
    "x_train = odeint(enzyme, x0_train, t)\n",
    "\n",
    "# Initialize custom SINDy library so that we can have x_dot inside it. Using the library\n",
    "# Found in Equation A1 in the SINDy-PI paper\n",
    "x_library_functions = [lambda x:x, lambda x, y:x * y, lambda x:x ** 2, \n",
    "                       lambda x, y, z:x * y * z, lambda x, y: x * y ** 2, lambda x: x ** 3,\n",
    "                       lambda x, y, z, w: x * y * z * w, lambda x, y, z:x * y * z ** 2,\n",
    "                       lambda x, y:x * y ** 3, lambda x:x ** 4]\n",
    "x_dot_library_functions = [lambda x:x]\n",
    "        \n",
    "# library function names includes both the x_library_functions and x_dot_library_functions names\n",
    "library_function_names = [lambda x:x, lambda x, y: x + y, lambda x:x + x, \n",
    "                          lambda x, y, z:x + y + z, lambda x, y: x + y + y, lambda x: x + x + x,\n",
    "                          lambda x, y, z, w: x + y + z + w, lambda x, y, z:x + y + z + z,\n",
    "                          lambda x, y:x + y + y + y, lambda x:x + x + x + x,\n",
    "                          lambda x:x] \n",
    "\n",
    "# Need to pass time base to the library so can build the x_dot library from x\n",
    "sindy_library = ps.SINDyPILibrary(library_functions=x_library_functions, \n",
    "                                  x_dot_library_functions=x_dot_library_functions,\n",
    "                                  t=t[1:-1],\n",
    "                                  function_names=library_function_names,\n",
    "                                  include_bias=True\n",
    "                                  )\n",
    "\n",
    "# Use the SINDy-PI optimizer, which relies on CVXPY.\n",
    "# Note that if LHS of the equation fits the data poorly, \n",
    "# CVXPY often returns failure.\n",
    "sindy_opt = ps.SINDyPI(threshold=1e-5, tol=1e-10, \n",
    "                       thresholder=\"l1\", max_iter=20000)\n",
    "model = ps.SINDy(\n",
    "    optimizer=sindy_opt,\n",
    "    feature_library=sindy_library,\n",
    "    differentiation_method=ps.FiniteDifference(drop_endpoints=True),\n",
    ")\n",
    "model.fit(x_train, t=t)\n",
    "model.print()"
   ]
  },
  {
   "cell_type": "code",
   "execution_count": 4,
   "metadata": {},
   "outputs": [
    {
     "data": {
      "image/png": "[encoded data removed]",
      "text/plain": [
       "<Figure size 432x288 with 1 Axes>"
      ]
     },
     "metadata": {
      "needs_background": "light"
     },
     "output_type": "display_data"
    }
   ],
   "source": [
    "# Plot the fit of the derivative\n",
    "x_dot_train = model.differentiate(x_train, t)\n",
    "x_dot_train_pred = sindy_opt.Theta @ sindy_opt.coef_.T\n",
    "plt.figure()\n",
    "for i in range(r):\n",
    "    plt.subplot(1, r, i + 1)\n",
    "    plt.plot(t, x_dot_train[:, i], 'k')\n",
    "    plt.plot(t[1:-1], x_dot_train_pred[:, 5], 'r--')"
   ]
  },
  {
   "cell_type": "markdown",
   "metadata": {},
   "source": [
    "### Now we need to reformat all the feature strings for conversion into symbolic variables"
   ]
  },
  {
   "cell_type": "code",
   "execution_count": 5,
   "metadata": {},
   "outputs": [
    {
     "name": "stdout",
     "output_type": "stream",
     "text": [
      "['1', 'x0', 'x0x0', 'x0x0x0', 'x0x0x0x0', 'x0_dot', 'x0x0_dot', 'x0x0x0_dot', 'x0x0x0x0_dot', 'x0x0x0x0x0_dot']\n",
      "['1', 'x0', 'x0 * x0', 'x0 * x0 * x0', 'x0 * x0 * x0 * x0', 'x0_dot', 'x0 * x0_dot', 'x0 * x0 * x0_dot', 'x0 * x0 * x0 * x0_dot', 'x0 * x0 * x0 * x0 * x0_dot']\n"
     ]
    }
   ],
   "source": [
    "features = model.get_feature_names()\n",
    "features[0] = '1'\n",
    "features_copy = list(np.copy(features))\n",
    "nfeatures = len(features)\n",
    "features_formatted = []\n",
    "# Need to put multiplication between terms for sympy\n",
    "for i in range(nfeatures):\n",
    "    for j in range(r):\n",
    "        # Overkill to make sure all the x0, x1, etc. get replaced\n",
    "        temp_string = features[i].replace('x' + str(j) + 'x', 'x' + str(j) + ' * x')\n",
    "        temp_string = temp_string.replace('x' + str(j) + 'x', 'x' + str(j) + ' * x')\n",
    "        temp_string = temp_string.replace('x' + str(j) + 'x', 'x' + str(j) + ' * x')\n",
    "        temp_string = temp_string.replace('x' + str(j) + 'x', 'x' + str(j) + ' * x')\n",
    "        features[i] = temp_string\n",
    "    features_formatted.append(temp_string)\n",
    "features = features_copy\n",
    "print(features)\n",
    "print(features_formatted)\n",
    "coefs = model.coefficients()\n",
    "sym_features = [sp.symbols(feature) for feature in features]\n",
    "sym_theta = [sp.symbols(feature) for feature in features]"
   ]
  },
  {
   "cell_type": "markdown",
   "metadata": {},
   "source": [
    "### Check all the successful model fits produce sensible models"
   ]
  },
  {
   "cell_type": "code",
   "execution_count": 6,
   "metadata": {},
   "outputs": [
    {
     "name": "stdout",
     "output_type": "stream",
     "text": [
      "1  =  5.0*x0 + 1.67*x0_dot + 5.56*x0x0_dot\n",
      "x0  =  0.2*1 - 0.33*x0_dot - 1.1*x0x0_dot\n",
      "x0x0  =  0.02*1 + 0.06*x0 - 0.72*x0x0_dot + 0.59*x0x0x0\n",
      "x0x0x0  =  -0.01*1 + 0.03*x0_dot + 0.35*x0x0 - 0.1*x0x0x0_dot + 0.74*x0x0x0x0\n",
      "x0x0x0x0  =  0\n",
      "x0_dot  =  0.6*1 - 2.99*x0 + 0.01*x0x0 - 3.31*x0x0_dot\n",
      "x0x0_dot  =  0.18*1 - 0.88*x0 - 0.29*x0_dot - 0.01*x0x0\n",
      "x0x0x0_dot  =  0.01*1 - 0.05*x0_dot - 0.27*x0x0 - 0.37*x0x0x0\n",
      "x0x0x0x0_dot  =  0.01*x0 - 0.01*x0_dot - 0.16*x0x0x0 - 0.48*x0x0x0x0\n",
      "x0x0x0x0x0_dot  =  0.01*x0_dot - 0.08*x0x0_dot - 0.52*x0x0x0x0\n"
     ]
    }
   ],
   "source": [
    "sym_equations = []\n",
    "sym_equations_rounded = []\n",
    "for i in range(nfeatures):\n",
    "    sym_equations.append(sp.solve(sp.Eq(sym_theta[i], \n",
    "                                        sym_theta @ np.around(coefs[i], 10)), \n",
    "                                  sym_features[i]))\n",
    "    sym_equations_rounded.append(sp.solve(sp.Eq(sym_theta[i], \n",
    "                                        sym_theta @ np.around(coefs[i], 2)), \n",
    "                                  sym_features[i]))\n",
    "    print(sym_theta[i], ' = ', sym_equations_rounded[i][0])"
   ]
  },
  {
   "cell_type": "markdown",
   "metadata": {},
   "source": [
    "### Now we will:\n",
    "1. reformat all the equations\n",
    "2. solve for x_dot \n",
    "3. integrate and plot the new equations for x_dot"
   ]
  },
  {
   "cell_type": "code",
   "execution_count": 7,
   "metadata": {},
   "outputs": [
    {
     "data": {
      "text/plain": [
       "<matplotlib.legend.Legend at 0x7ff4139352d0>"
      ]
     },
     "execution_count": 7,
     "metadata": {},
     "output_type": "execute_result"
    },
    {
     "data": {
      "image/png": "[encoded data removed]",
      "text/plain": [
       "<Figure size 1152x216 with 1 Axes>"
      ]
     },
     "metadata": {
      "needs_background": "light"
     },
     "output_type": "display_data"
    }
   ],
   "source": [
    "# Define the ODE symbol variables\n",
    "t_sym = sp.symbols('t_sym')\n",
    "x_sym = sp.symbols('x:%d' % r)\n",
    "x_dot_sym = sp.symbols('x:%d_dot' % r)\n",
    "\n",
    "# Need to format the above equations so that there are space between x0 * x0, x0 * x_dot0, and so on.\n",
    "sym_equations_formatted = []\n",
    "sym_equations_rounded_formatted = []\n",
    "for i in range(nfeatures):\n",
    "    for j in range(r):\n",
    "        # Overkill to make sure all the x0, x1, etc. get replaced\n",
    "        temp_string = str(sym_equations[i]).replace('x' + str(j) + 'x', 'x' + str(j) + ' * x')\n",
    "        temp_string = temp_string.replace('x' + str(j) + 'x', 'x' + str(j) + ' * x')\n",
    "        temp_string = temp_string.replace('x' + str(j) + 'x', 'x' + str(j) + ' * x')\n",
    "        temp_string = temp_string.replace('x' + str(j) + 'x', 'x' + str(j) + ' * x')\n",
    "        temp_rounded_string = str(sym_equations_rounded[i]).replace('x' + str(j) + 'x', 'x' + str(j) + ' * x')\n",
    "        temp_rounded_string = temp_rounded_string.replace('x' + str(j) + 'x', 'x' + str(j) + ' * x')\n",
    "        temp_rounded_string = temp_rounded_string.replace('x' + str(j) + 'x', 'x' + str(j) + ' * x')\n",
    "        temp_rounded_string = temp_rounded_string.replace('x' + str(j) + 'x', 'x' + str(j) + ' * x')\n",
    "        sym_equations_formatted.append(temp_string)\n",
    "        sym_equations_rounded_formatted.append(temp_rounded_string)\n",
    "\n",
    "# Now that the equations are mathematically formatted, solve for x_dot0 in the algebraic equation\n",
    "sym_equations_simplified = []\n",
    "sym_equations_rounded_simplified = []\n",
    "for i in range(nfeatures):\n",
    "    sym_equations_simplified.append(sp.solve(\n",
    "        sp.Add(\n",
    "            sp.sympify(sym_equations_formatted)[i][0], \n",
    "            - sp.sympify(features_formatted[i])), \n",
    "        x_dot_sym))\n",
    "    rounded = sp.solve(\n",
    "        sp.Add(\n",
    "            sp.sympify(sym_equations_rounded_formatted)[i][0], \n",
    "            - sp.sympify(features_formatted[i])), \n",
    "        x_dot_sym)\n",
    "    if len(rounded) != 0:\n",
    "        rounded_temp = rounded[0]\n",
    "        for a in sp.preorder_traversal(rounded):\n",
    "            if isinstance(a, sp.Float):\n",
    "                rounded_temp = rounded_temp.subs(a, round(a, 2))\n",
    "        sym_equations_rounded_simplified.append(rounded_temp)\n",
    "    else:\n",
    "        sym_equations_rounded_simplified.append([])\n",
    "\n",
    "# Plot the results for each of the models\n",
    "plt.figure(figsize=(16, 3))\n",
    "x0_test = np.random.rand(1)\n",
    "x_test = odeint(enzyme, x0_test, t)\n",
    "plt.plot(t, x_test, color='k', linestyle='solid', label='True')\n",
    "for i in range(nfeatures):\n",
    "    ax = plt.gca()\n",
    "    if i != nfeatures - 1:\n",
    "        ax.set_xticklabels([])\n",
    "    if len(sym_equations_simplified[i]) != 0:\n",
    "        ODE_Func = sp.lambdify([x_sym, t_sym], sym_equations_simplified[i][0])\n",
    "\n",
    "        # Now simulate the system we identified\n",
    "        x_test_sim = odeint(ODE_Func, x0_test, t)\n",
    "        if np.linalg.norm(x_test_sim) < 1e3 and sym_equations_rounded_simplified[i] != 0:\n",
    "            plt.plot(t, x_test_sim, linestyle='dashed',\n",
    "                     label=str(sp.sympify(features_formatted[i])\n",
    "                              ) + ' = ' + str(\n",
    "                         sym_equations_rounded_simplified[i]))\n",
    "plt.grid(True)\n",
    "plt.legend(fontsize=10)"
   ]
  },
  {
   "cell_type": "markdown",
   "metadata": {},
   "source": [
    "### We will now try a 2D example, the bacterial competence system (Mangan et al. 2016)\n",
    "$$ \\dot{x} = a_1 + a_2x^2 / (a_3 + x^2) - x / (1 + x + y) $$\n",
    "$$ \\dot{y} = b_1 / (1 + b_2 x^5) - y / (1 + x + y) $$\n",
    "with $a_1=0.004$, $a_2=0.07$, $a_3=0.04$, $b_1=0.82$, $b_2=1854.5$. Note that multi-variable SymPy will require some changes, and multi-variable SINDy-PI typically requires many trajectories to correctly identify models."
   ]
  },
  {
   "cell_type": "code",
   "execution_count": 8,
   "metadata": {},
   "outputs": [
    {
     "name": "stdout",
     "output_type": "stream",
     "text": [
      "x0 = 0.000\n",
      "x1 = 0.000\n",
      "x0x1 = 0.000\n",
      "x0x0 = 0.000\n",
      "x1x1 = 0.000\n",
      "x0x1x1 = 0.000\n",
      "x0x0x0 = 0.000\n",
      "x1x1x1 = 0.000\n",
      "x0x1x1x1 = 0.000\n",
      "x0x0x0x0 = 0.000\n",
      "x1x1x1x1 = 0.000\n",
      "x0x0x0x0x0 = 0.000\n",
      "x1x1x1x1x1 = 0.000\n",
      "x0x0x0x0x0x0 = 0.000\n",
      "x1x1x1x1x1x1 = 0.000\n",
      "x0_dot = -0.378 x0 + 0.039 x1 + -0.063 x0x1 + 0.986 x0x0 + -0.003 x1x1 + -0.006 x1x1x1 + 0.009 x0x1x1x1 + -0.894 x0x0x0x0 + 0.001 x1x1x1x1x1 + 0.325 x0x0x0x0x0x0 + -0.018 x1_dot + 3.206 x0x0_dot + 0.166 x1x0_dot + 0.289 x0x1x0_dot + -2.317 x0x0x0_dot + -0.165 x1x1x0_dot + -0.254 x0x1x1x1x0_dot + 0.024 x1x1x1x1x1x0_dot + 0.187 x0x0x0x0x0x0x0_dot + -0.006 x1x1x1x1x1x1x0_dot + -0.033 x0x1_dot + 0.326 x0x1x1_dot + -0.356 x0x0x1_dot + -0.080 x1x1x1_dot + 0.094 x0x1x1x1x1_dot + 0.013 x1x1x1x1x1_dot\n",
      "x1_dot = -0.320 x0 + 0.249 x1 + 0.432 x0x1 + 0.476 x0x0 + -0.316 x1x1 + -0.473 x0x1x1 + 0.011 x0x0x0 + 0.145 x1x1x1 + 0.260 x0x1x1x1 + -0.016 x1x1x1x1x1 + 0.007 x0x0x0x0x0x0 + 0.003 x1x1x1x1x1x1 + -0.522 x0_dot + 0.619 x0x0_dot + 0.997 x1x0_dot + 1.376 x0x1x0_dot + 5.249 x0x1x1x0_dot + 0.217 x0x0x0x0_dot + -3.664 x0x1x1x1x0_dot + 0.086 x0x0x0x0x0_dot + -0.161 x1x1x1x1x0_dot + 0.014 x1x1x1x1x1x1x0_dot + 3.910 x0x1_dot + 4.800 x1x1_dot + -12.049 x0x1x1_dot + -3.723 x0x0x1_dot + -9.483 x1x1x1_dot + 14.895 x0x1x1x1_dot + 0.791 x0x0x0x1_dot + 8.820 x1x1x1x1_dot + -5.543 x0x1x1x1x1_dot + -4.292 x1x1x1x1x1_dot + 1.037 x1x1x1x1x1x1_dot + -0.098 x0x0x0x0x0x0x1_dot + -0.096 x1x1x1x1x1x1x1_dot\n",
      "x0x0_dot = 0.000\n",
      "x1x0_dot = 0.000\n",
      "x0x1x0_dot = 0.000\n",
      "x0x0x0_dot = 0.000\n",
      "x1x1x0_dot = 0.000\n",
      "x0x1x1x0_dot = 0.000\n",
      "x0x0x0x0_dot = 0.000\n",
      "x1x1x1x0_dot = 0.000\n",
      "x0x1x1x1x0_dot = 0.000\n",
      "x0x0x0x0x0_dot = 0.000\n",
      "x1x1x1x1x0_dot = 0.000\n",
      "x0x0x0x0x0x0_dot = 0.000\n",
      "x1x1x1x1x1x0_dot = 0.000\n",
      "x0x0x0x0x0x0x0_dot = 0.000\n",
      "x1x1x1x1x1x1x0_dot = 0.000\n",
      "x0x1_dot = 0.000\n",
      "x1x1_dot = 0.000\n",
      "x0x1x1_dot = 0.000\n",
      "x0x0x1_dot = 0.000\n",
      "x1x1x1_dot = 0.000\n",
      "x0x1x1x1_dot = 0.000\n",
      "x0x0x0x1_dot = 0.000\n",
      "x1x1x1x1_dot = 0.000\n",
      "x0x1x1x1x1_dot = 0.000\n",
      "x0x0x0x0x1_dot = 0.000\n",
      "x1x1x1x1x1_dot = 0.000\n",
      "x0x0x0x0x0x1_dot = 0.000\n",
      "x1x1x1x1x1x1_dot = 0.000\n",
      "x0x0x0x0x0x0x1_dot = 0.000\n",
      "x1x1x1x1x1x1x1_dot = 0.000\n"
     ]
    },
    {
     "name": "stderr",
     "output_type": "stream",
     "text": [
      "/Users/alankaptanoglu/anaconda3/lib/python3.7/site-packages/cvxpy/problems/problem.py:1279: UserWarning: Solution may be inaccurate. Try another solver, adjusting the solver settings, or solve with verbose=True for more information.\n",
      "  \"Solution may be inaccurate. Try another solver, \"\n"
     ]
    }
   ],
   "source": [
    "# define parameters\n",
    "r = 2\n",
    "dt = 0.02\n",
    "T = 20\n",
    "t_train = np.arange(0, T + dt, dt)\n",
    "\n",
    "# Typically need at least 20-40 trajectories for a decent model.\n",
    "# Note that this can be fairly time-consuming. \n",
    "n_trajectories = 80\n",
    "x_train_multi = []\n",
    "t_train_multi = []\n",
    "for i in range(n_trajectories):\n",
    "    x0 = np.random.rand(2)\n",
    "    x_train_multi.append(odeint(bacterial, x0, t_train))\n",
    "    t_train_multi.append(t_train[1:-1])\n",
    "\n",
    "# Initialize custom SINDy library up to sixth order polynomials\n",
    "x_library_functions = [lambda x:x, lambda x, y:x * y, lambda x:x ** 2, \n",
    "                       lambda x, y, z:x * y * z, lambda x, y: x * y ** 2, lambda x: x ** 3,\n",
    "                       lambda x, y, z, w: x * y * z * w, lambda x, y, z:x * y * z ** 2,\n",
    "                       lambda x, y:x * y ** 3, lambda x:x ** 4, lambda x:x ** 5, lambda x:x ** 6]\n",
    "x_dot_library_functions = [lambda x:x]\n",
    "        \n",
    "library_function_names = [lambda x:x, lambda x, y: x + y, lambda x:x + x, \n",
    "                          lambda x, y, z:x + y + z, lambda x, y: x + y + y, lambda x: x + x + x,\n",
    "                          lambda x, y, z, w: x + y + z + w, lambda x, y, z:x + y + z + z,\n",
    "                          lambda x, y:x + y + y + y, lambda x:x + x + x + x, \n",
    "                          lambda x:x + x + x + x + x, lambda x:x + x + x + x + x + x, \n",
    "                          lambda x:x] \n",
    "\n",
    "# Get the indices of the equations for x0_dot and x1_dot\n",
    "lib = ps.SINDyPILibrary(library_functions=x_library_functions, \n",
    "                        x_dot_library_functions=x_dot_library_functions,\n",
    "                        t=t_train,\n",
    "                        function_names=library_function_names,\n",
    "                        include_bias=True\n",
    "                        ).fit(np.asarray(x_train_multi)[0, :, :])\n",
    "lib.transform(np.asarray(x_train_multi)[0, :, :])\n",
    "features = np.asarray(lib.get_feature_names())\n",
    "ind1 = np.ravel(np.where(features == \"x0_dot\"))[0] - 1\n",
    "ind2 = np.ravel(np.where(features == \"x1_dot\"))[0] - 1\n",
    "\n",
    "# Need to flatten t_train_multi before passing time base to SINDyPILibrary\n",
    "sindy_library = ps.SINDyPILibrary(library_functions=x_library_functions, \n",
    "                                  x_dot_library_functions=x_dot_library_functions,\n",
    "                                  t=np.ravel(np.asarray(t_train_multi)),\n",
    "                                  function_names=library_function_names,\n",
    "                                  )\n",
    "\n",
    "# Note, using model_subset (list of indices) to only compute two of the fits\n",
    "sindy_opt = ps.SINDyPI(threshold=1e-2, tol=1e-8, \n",
    "                       thresholder=\"l1\", max_iter=20000,\n",
    "                       model_subset=[ind1, ind2],\n",
    "                       )\n",
    "model = ps.SINDy(\n",
    "    optimizer=sindy_opt,\n",
    "    feature_library=sindy_library,\n",
    "    differentiation_method=ps.FiniteDifference(drop_endpoints=True),\n",
    ")\n",
    "model.fit(x_train_multi, t=dt, multiple_trajectories=True)\n",
    "model.print()"
   ]
  },
  {
   "cell_type": "code",
   "execution_count": 9,
   "metadata": {},
   "outputs": [
    {
     "data": {
      "image/png": "[encoded data removed]",
      "text/plain": [
       "<Figure size 432x288 with 2 Axes>"
      ]
     },
     "metadata": {
      "needs_background": "light"
     },
     "output_type": "display_data"
    }
   ],
   "source": [
    "# Plot the fit of the derivative\n",
    "x_train = np.asarray(x_train_multi)[0, :, :]\n",
    "x_dot_train = model.differentiate(x_train, t_train)\n",
    "x_dot_train_pred = sindy_opt.Theta[:len(t_train) - 2, :] @ sindy_opt.coef_.T\n",
    "plt.figure()\n",
    "inds = [ind1, ind2]\n",
    "for i in range(r):\n",
    "    plt.subplot(1, r, i + 1)\n",
    "    plt.plot(t_train, x_dot_train[:, i], 'k')\n",
    "    plt.plot(t_train[1:-1], x_dot_train_pred[:, inds[i]], 'r--')"
   ]
  },
  {
   "cell_type": "code",
   "execution_count": 10,
   "metadata": {},
   "outputs": [
    {
     "name": "stdout",
     "output_type": "stream",
     "text": [
      "['1', 'x1', 'x0x1', 'x0x0', 'x1x1', 'x0x1x1', 'x0x0x0', 'x1x1x1', 'x0x1x1x1', 'x0x0x0x0', 'x1x1x1x1', 'x0x0x0x0x0', 'x1x1x1x1x1', 'x0x0x0x0x0x0', 'x1x1x1x1x1x1', 'x0_dot', 'x1_dot', 'x0x0_dot', 'x1x0_dot', 'x0x1x0_dot', 'x0x0x0_dot', 'x1x1x0_dot', 'x0x1x1x0_dot', 'x0x0x0x0_dot', 'x1x1x1x0_dot', 'x0x1x1x1x0_dot', 'x0x0x0x0x0_dot', 'x1x1x1x1x0_dot', 'x0x0x0x0x0x0_dot', 'x1x1x1x1x1x0_dot', 'x0x0x0x0x0x0x0_dot', 'x1x1x1x1x1x1x0_dot', 'x0x1_dot', 'x1x1_dot', 'x0x1x1_dot', 'x0x0x1_dot', 'x1x1x1_dot', 'x0x1x1x1_dot', 'x0x0x0x1_dot', 'x1x1x1x1_dot', 'x0x1x1x1x1_dot', 'x0x0x0x0x1_dot', 'x1x1x1x1x1_dot', 'x0x0x0x0x0x1_dot', 'x1x1x1x1x1x1_dot', 'x0x0x0x0x0x0x1_dot', 'x1x1x1x1x1x1x1_dot']\n",
      "['1', 'x1', 'x0 * x1', 'x0 * x0', 'x1 * x1', 'x0 * x1 * x1', 'x0 * x0 * x0', 'x1 * x1 * x1', 'x0 * x1 * x1 * x1', 'x0 * x0 * x0 * x0', 'x1 * x1 * x1 * x1', 'x0 * x0 * x0 * x0 * x0', 'x1 * x1 * x1 * x1 * x1', 'x0 * x0 * x0 * x0 * x0 * x0', 'x1 * x1 * x1 * x1 * x1 * x1', 'x0_dot', 'x1_dot', 'x0 * x0_dot', 'x1 * x0_dot', 'x0 * x1 * x0_dot', 'x0 * x0 * x0_dot', 'x1 * x1 * x0_dot', 'x0 * x1 * x1 * x0_dot', 'x0 * x0 * x0 * x0_dot', 'x1 * x1 * x1 * x0_dot', 'x0 * x1 * x1 * x1 * x0_dot', 'x0 * x0 * x0 * x0 * x0_dot', 'x1 * x1 * x1 * x1 * x0_dot', 'x0 * x0 * x0 * x0 * x0 * x0_dot', 'x1 * x1 * x1 * x1 * x1 * x0_dot', 'x0 * x0 * x0 * x0 * x0 * x0 * x0_dot', 'x1 * x1 * x1 * x1 * x1 * x1 * x0_dot', 'x0 * x1_dot', 'x1 * x1_dot', 'x0 * x1 * x1_dot', 'x0 * x0 * x1_dot', 'x1 * x1 * x1_dot', 'x0 * x1 * x1 * x1_dot', 'x0 * x0 * x0 * x1_dot', 'x1 * x1 * x1 * x1_dot', 'x0 * x1 * x1 * x1 * x1_dot', 'x0 * x0 * x0 * x0 * x1_dot', 'x1 * x1 * x1 * x1 * x1_dot', 'x0 * x0 * x0 * x0 * x0 * x1_dot', 'x1 * x1 * x1 * x1 * x1 * x1_dot', 'x0 * x0 * x0 * x0 * x0 * x0 * x1_dot', 'x1 * x1 * x1 * x1 * x1 * x1 * x1_dot']\n",
      "x0_dot  =  -0.38*1 + 0.99*x0x0 + 3.21*x0x0_dot - 2.32*x0x0x0_dot - 0.89*x0x0x0x0 + 0.33*x0x0x0x0x0x0 + 0.19*x0x0x0x0x0x0x0_dot - 0.36*x0x0x1_dot - 0.06*x0x1 - 0.03*x0x1_dot + 0.29*x0x1x0_dot + 0.33*x0x1x1_dot + 0.01*x0x1x1x1 - 0.25*x0x1x1x1x0_dot + 0.09*x0x1x1x1x1_dot + 0.04*x1 - 0.02*x1_dot + 0.17*x1x0_dot - 0.17*x1x1x0_dot - 0.01*x1x1x1 - 0.08*x1x1x1_dot + 0.01*x1x1x1x1x1_dot + 0.02*x1x1x1x1x1x0_dot - 0.01*x1x1x1x1x1x1x0_dot\n",
      "x1_dot  =  -0.32*1 - 0.52*x0_dot + 0.48*x0x0 + 0.62*x0x0_dot + 0.01*x0x0x0 + 0.22*x0x0x0x0_dot + 0.09*x0x0x0x0x0_dot + 0.01*x0x0x0x0x0x0 - 0.1*x0x0x0x0x0x0x1_dot + 0.79*x0x0x0x1_dot - 3.72*x0x0x1_dot + 0.43*x0x1 + 3.91*x0x1_dot + 1.38*x0x1x0_dot - 0.47*x0x1x1 - 12.05*x0x1x1_dot + 5.25*x0x1x1x0_dot + 0.26*x0x1x1x1 + 14.9*x0x1x1x1_dot - 3.66*x0x1x1x1x0_dot - 5.54*x0x1x1x1x1_dot + 0.25*x1 + x1x0_dot - 0.32*x1x1 + 4.8*x1x1_dot + 0.15*x1x1x1 - 9.48*x1x1x1_dot + 8.82*x1x1x1x1_dot - 0.16*x1x1x1x1x0_dot - 0.02*x1x1x1x1x1 - 4.29*x1x1x1x1x1_dot + 1.04*x1x1x1x1x1x1_dot + 0.01*x1x1x1x1x1x1x0_dot - 0.1*x1x1x1x1x1x1x1_dot\n"
     ]
    }
   ],
   "source": [
    "# Repeat formatting the feature names and building the symbolic equations\n",
    "features = model.get_feature_names()\n",
    "nfeatures = len(features)\n",
    "features[0] = '1'\n",
    "features_copy = list(np.copy(features))\n",
    "nfeatures = len(features)\n",
    "features_formatted = []\n",
    "# Need to put multiplication between terms for sympy\n",
    "for i in range(nfeatures):\n",
    "    for j in range(r):\n",
    "        # Overkill to make sure all the x0, x1, etc. get replaced\n",
    "        temp_string = features[i].replace('x' + str(j) + 'x', 'x' + str(j) + ' * x')\n",
    "        temp_string = temp_string.replace('x' + str(j) + 'x', 'x' + str(j) + ' * x')\n",
    "        temp_string = temp_string.replace('x' + str(j) + 'x', 'x' + str(j) + ' * x')\n",
    "        temp_string = temp_string.replace('x' + str(j) + 'x', 'x' + str(j) + ' * x')\n",
    "        features[i] = temp_string\n",
    "    features_formatted.append(temp_string)\n",
    "features = features_copy\n",
    "print(features)\n",
    "print(features_formatted)\n",
    "\n",
    "coefs = model.coefficients()\n",
    "sym_features = [sp.symbols(feature) for feature in features]\n",
    "sym_theta = [sp.symbols(feature) for feature in features]\n",
    "sym_equations = []\n",
    "sym_equations_rounded = []\n",
    "for i in range(nfeatures):\n",
    "    if np.any(np.around(coefs[i], 2) != 0.0):\n",
    "        sym_equation = sp.solve(sp.Eq(sym_theta[i], \n",
    "                                            sym_theta @ np.around(coefs[i], 10)), \n",
    "                                      sym_features[i])\n",
    "        sym_equations.append(sym_equation)\n",
    "        sym_equation_rounded = sp.solve(sp.Eq(sym_theta[i], \n",
    "                                            sym_theta @ np.around(coefs[i], 2)), \n",
    "                                      sym_features[i])\n",
    "        sym_equations_rounded.append(sym_equation_rounded)\n",
    "        print(sym_theta[i], ' = ', sym_equation_rounded[0])"
   ]
  },
  {
   "cell_type": "code",
   "execution_count": 11,
   "metadata": {},
   "outputs": [
    {
     "name": "stdout",
     "output_type": "stream",
     "text": [
      "Solved for xdot equations =  {x0_dot: (-(-3252628702.0*x0**6 + 4.0*x0**5 + 8942341827.0*x0**4 + 4.0*x0**3 - 9863709676.0*x0**2 - 92972709.0*x0*x1**3 - 133.0*x0*x1**2 + 628165826.0*x0*x1 + 784686.0*x1**6 - 6112368.0*x1**5 - 96.0*x1**4 + 64068136.0*x1**3 + 29255844.0*x1**2 - 387982603.0*x1 + 3783770095.0)*(9.82879985098288e+18*x0**6 - 20000000002.0*x0**5 + 70000000007.0*x0**4 - 7.90966603779097e+19*x0**3 + 3.7229714597723e+20*x0**2 + 5.54337155085434e+20*x0*x1**3 - 1.48953011349895e+21*x0*x1**2 + 1.20488067943049e+21*x0*x1 - 3.91043879529104e+20*x0 + 9.58762639095876e+18*x1**6 - 1.03726100560373e+20*x1**5 + 4.29247456532925e+20*x1**4 - 8.819956770982e+20*x1**3 + 9.48251285484825e+20*x1**2 - 4.80017645368002e+20*x1 + 1.0e+20) + (6.98529600069853e+17*x0**6 - 40000000004.0*x0**5 + 50000000005.0*x0**4 + 1.09245460010925e+18*x0**3 + 4.75781381647578e+19*x0**2 + 2.60212391626021e+19*x0*x1**3 - 4.72713517147271e+19*x0*x1**2 + 4.32254609843225e+19*x0*x1 + 2.67119220026712e+17*x1**6 - 1.57538995015754e+18*x1**5 + 1110000000111.0*x1**4 + 1.45279654314528e+19*x1**3 - 3.15853683331585e+19*x1**2 + 2.48909156324891e+19*x1 - 3.20112008132011e+19)*(291.0*x0**6 + 245.0*x0**5 + 176.0*x0**4 + 84.0*x0**3 - 3559295400.0*x0**2 + 938434397.0*x0*x1**3 - 54.0*x0*x1**2 + 3260693435.0*x0*x1 - 327584029.0*x0 - 4308051.0*x1**6 - 4542925.0*x1**5 + 130763496.0*x1**4 - 258.0*x1**3 - 800710613.0*x1**2 + 624.0*x1 - 179300007.0))/((-1873383569.0*x0**6 + 4.0*x0**5 + 10.0*x0**4 + 12.0*x0**3 + 23174690328.0*x0**2 + 2543000683.0*x0*x1**3 + 24.0*x0*x1**2 - 2891169807.0*x0*x1 - 32058381072.0*x0 + 55424234.0*x1**6 - 244285229.0*x1**5 - 112.0*x1**4 - 103.0*x1**3 + 1650085319.0*x1**2 - 1657959387.0*x1 + 10000000000.0)*(9.82879985098288e+18*x0**6 - 20000000002.0*x0**5 + 70000000007.0*x0**4 - 7.90966603779097e+19*x0**3 + 3.7229714597723e+20*x0**2 + 5.54337155085434e+20*x0*x1**3 - 1.48953011349895e+21*x0*x1**2 + 1.20488067943049e+21*x0*x1 - 3.91043879529104e+20*x0 + 9.58762639095876e+18*x1**6 - 1.03726100560373e+20*x1**5 + 4.29247456532925e+20*x1**4 - 8.819956770982e+20*x1**3 + 9.48251285484825e+20*x1**2 - 4.80017645368002e+20*x1 + 1.0e+20) - (291.0*x0**6 + 245.0*x0**5 + 176.0*x0**4 + 84.0*x0**3 - 3559295400.0*x0**2 + 938434397.0*x0*x1**3 - 54.0*x0*x1**2 + 3260693435.0*x0*x1 - 327584029.0*x0 - 4308051.0*x1**6 - 4542925.0*x1**5 + 130763496.0*x1**4 - 258.0*x1**3 - 800710613.0*x1**2 + 624.0*x1 - 179300007.0)*(50000000005.0*x0**6 + 40000000004.0*x0**5 + 8.58950780085895e+18*x0**4 + 2.17482043921748e+19*x0**3 - 110000000011.0*x0**2 - 3.66413849646641e+20*x0*x1**3 + 5.24869926862487e+20*x0*x1**2 + 1.37616893783762e+20*x0*x1 + 6.18622442361862e+19*x0 + 1.42190111014219e+18*x1**6 + 210000000021.0*x1**5 - 1.61121692516112e+19*x1**4 - 780000000078.0*x1**3 + 1470000000147.0*x1**2 + 9.97033170299703e+19*x1 - 5.22322226252232e+19)), x1_dot: (-(-3252628702.0*x0**6 + 4.0*x0**5 + 8942341827.0*x0**4 + 4.0*x0**3 - 9863709676.0*x0**2 - 92972709.0*x0*x1**3 - 133.0*x0*x1**2 + 628165826.0*x0*x1 + 784686.0*x1**6 - 6112368.0*x1**5 - 96.0*x1**4 + 64068136.0*x1**3 + 29255844.0*x1**2 - 387982603.0*x1 + 3783770095.0)*(50000000005.0*x0**6 + 40000000004.0*x0**5 + 8.58950780085895e+18*x0**4 + 2.17482043921748e+19*x0**3 - 110000000011.0*x0**2 - 3.66413849646641e+20*x0*x1**3 + 5.24869926862487e+20*x0*x1**2 + 1.37616893783762e+20*x0*x1 + 6.18622442361862e+19*x0 + 1.42190111014219e+18*x1**6 + 210000000021.0*x1**5 - 1.61121692516112e+19*x1**4 - 780000000078.0*x1**3 + 1470000000147.0*x1**2 + 9.97033170299703e+19*x1 - 5.22322226252232e+19) + (6.98529600069853e+17*x0**6 - 40000000004.0*x0**5 + 50000000005.0*x0**4 + 1.09245460010925e+18*x0**3 + 4.75781381647578e+19*x0**2 + 2.60212391626021e+19*x0*x1**3 - 4.72713517147271e+19*x0*x1**2 + 4.32254609843225e+19*x0*x1 + 2.67119220026712e+17*x1**6 - 1.57538995015754e+18*x1**5 + 1110000000111.0*x1**4 + 1.45279654314528e+19*x1**3 - 3.15853683331585e+19*x1**2 + 2.48909156324891e+19*x1 - 3.20112008132011e+19)*(-1873383569.0*x0**6 + 4.0*x0**5 + 10.0*x0**4 + 12.0*x0**3 + 23174690328.0*x0**2 + 2543000683.0*x0*x1**3 + 24.0*x0*x1**2 - 2891169807.0*x0*x1 - 32058381072.0*x0 + 55424234.0*x1**6 - 244285229.0*x1**5 - 112.0*x1**4 - 103.0*x1**3 + 1650085319.0*x1**2 - 1657959387.0*x1 + 10000000000.0))/((-1873383569.0*x0**6 + 4.0*x0**5 + 10.0*x0**4 + 12.0*x0**3 + 23174690328.0*x0**2 + 2543000683.0*x0*x1**3 + 24.0*x0*x1**2 - 2891169807.0*x0*x1 - 32058381072.0*x0 + 55424234.0*x1**6 - 244285229.0*x1**5 - 112.0*x1**4 - 103.0*x1**3 + 1650085319.0*x1**2 - 1657959387.0*x1 + 10000000000.0)*(9.82879985098288e+18*x0**6 - 20000000002.0*x0**5 + 70000000007.0*x0**4 - 7.90966603779097e+19*x0**3 + 3.7229714597723e+20*x0**2 + 5.54337155085434e+20*x0*x1**3 - 1.48953011349895e+21*x0*x1**2 + 1.20488067943049e+21*x0*x1 - 3.91043879529104e+20*x0 + 9.58762639095876e+18*x1**6 - 1.03726100560373e+20*x1**5 + 4.29247456532925e+20*x1**4 - 8.819956770982e+20*x1**3 + 9.48251285484825e+20*x1**2 - 4.80017645368002e+20*x1 + 1.0e+20) - (291.0*x0**6 + 245.0*x0**5 + 176.0*x0**4 + 84.0*x0**3 - 3559295400.0*x0**2 + 938434397.0*x0*x1**3 - 54.0*x0*x1**2 + 3260693435.0*x0*x1 - 327584029.0*x0 - 4308051.0*x1**6 - 4542925.0*x1**5 + 130763496.0*x1**4 - 258.0*x1**3 - 800710613.0*x1**2 + 624.0*x1 - 179300007.0)*(50000000005.0*x0**6 + 40000000004.0*x0**5 + 8.58950780085895e+18*x0**4 + 2.17482043921748e+19*x0**3 - 110000000011.0*x0**2 - 3.66413849646641e+20*x0*x1**3 + 5.24869926862487e+20*x0*x1**2 + 1.37616893783762e+20*x0*x1 + 6.18622442361862e+19*x0 + 1.42190111014219e+18*x1**6 + 210000000021.0*x1**5 - 1.61121692516112e+19*x1**4 - 780000000078.0*x1**3 + 1470000000147.0*x1**2 + 9.97033170299703e+19*x1 - 5.22322226252232e+19))}\n"
     ]
    },
    {
     "data": {
      "text/plain": [
       "[<matplotlib.lines.Line2D at 0x7ff4139098d0>,\n",
       " <matplotlib.lines.Line2D at 0x7ff3cba5ef10>]"
      ]
     },
     "execution_count": 11,
     "metadata": {},
     "output_type": "execute_result"
    },
    {
     "data": {
      "image/png": "[encoded data removed]",
      "text/plain": [
       "<Figure size 1440x288 with 1 Axes>"
      ]
     },
     "metadata": {
      "needs_background": "light"
     },
     "output_type": "display_data"
    }
   ],
   "source": [
    "# Define the ODE symbol variables\n",
    "t_sym = sp.symbols('t_sym')\n",
    "x_sym = sp.symbols('x:%d' % r)\n",
    "x_dot_sym = sp.symbols('x:%d_dot' % r)\n",
    "\n",
    "# Need to format the above equations so that there are space between x0 * x0, x0 * x_dot0, and so on.\n",
    "sym_equations_formatted = []\n",
    "for i in range(len(sym_equations)):\n",
    "    for j in range(r):\n",
    "        # Overkill to make sure all the x0, x1, etc. get replaced\n",
    "        temp_string = str(sym_equations[i]).replace('x' + str(j) + 'x', 'x' + str(j) + ' * x')\n",
    "        temp_string = temp_string.replace('x' + str(j) + 'x', 'x' + str(j) + ' * x')\n",
    "        temp_string = temp_string.replace('x' + str(j) + 'x', 'x' + str(j) + ' * x')\n",
    "        temp_string = temp_string.replace('x' + str(j) + 'x', 'x' + str(j) + ' * x')\n",
    "        sym_equations[i] = temp_string\n",
    "    sym_equations_formatted.append(temp_string)\n",
    "\n",
    "# IMPORTANT change for multi-variable implicit equations:\n",
    "# Now that the equations are mathematically formatted, \n",
    "# solve for x0_dot and x1_dot in the algebraic equation.\n",
    "# Have two unknowns, (x0_dot, x1_dot), \n",
    "# so need to solve using two of ANY of the equations,\n",
    "# but for simplicity we choose the equations for x0_dot and x1_dot\n",
    "sym_equations_simplified = sp.solve(\n",
    "    (sp.Add(\n",
    "        sp.sympify(sym_equations_formatted)[0][0], \n",
    "        - sp.sympify(features_formatted[ind1])), \n",
    "    sp.Add(\n",
    "        sp.sympify(sym_equations_formatted)[1][0], \n",
    "        - sp.sympify(features_formatted[ind2]))),\n",
    "    x_dot_sym)\n",
    "print('Solved for xdot equations = ', sym_equations_simplified)\n",
    "\n",
    "# Plot the results for each of the models\n",
    "plt.figure(figsize=(20, 4))\n",
    "x0_test = [0.5, 0.1]\n",
    "t_test = t_train\n",
    "x_test = odeint(bacterial, x0_test, t_test)\n",
    "plt.plot(t_test, x_test, color='k',linestyle='solid')\n",
    "\n",
    "# Not the cleanest notation for multiple variables, but it works\n",
    "ODE_Func = sp.lambdify([x_sym, t_sym], \n",
    "                       [sym_equations_simplified[x_dot_sym[0]], \n",
    "                        sym_equations_simplified[x_dot_sym[1]]])\n",
    "\n",
    "# Now simulate the system we identified\n",
    "x_test_sim = odeint(ODE_Func, x0_test, t_test)\n",
    "plt.plot(t_test, x_test_sim, color='r', linestyle='dashed')\n"
   ]
  },
  {
   "cell_type": "markdown",
   "metadata": {},
   "source": [
    "### Although the model performs well on the test trajectory the final model form looks pretty crazy... this is mostly because of the SymPy solve function, which struggles with getting the correct numerical precisions on each coefficient. \n",
    "\n",
    "### Okay, we have illustrated that we can:\n",
    "### 1. Use SINDyPI to derive implicit equations of motion\n",
    "### 2. Convert to symbolic equations of motion, and use this to solve for x_dot\n",
    "### 3. Plug this into an ODE solver and integrate the new equations of motions for x_dot.\n",
    "### However, for some systems, we may want to be able to integrate and manipulate fully differential algebraic equations (DAEs) without trying to solve for x_dot. Unfortunately, this requires the Julia coding package, which can be obtained online easily.\n",
    "To install the dependencies on my computer, at a terminal, I need to do: <br>\n",
    "julia  (enters the julia console) <br>\n",
    "import Pkg <br>\n",
    "Pkg.add(\"PyCall\") <br>\n",
    "Pkg.add(\"DiffEqBase\") <br>\n",
    "Pkg.add(\"DifferentialEquations\") <br>\n",
    "exit() <br>\n",
    "\n",
    "### In this case we will:\n",
    "### 1. Import the diffeqpy package and install it and its dependencies. This requires the coding language Julia to be installed on your computer.\n",
    "### 2. Use SINDyPI to derive implicit equations of motion\n",
    "### 3. Convert to symbolic equations of motion\n",
    "### 3. Plug this into a general DAE solver and integrate the new equations of motions for x_dot."
   ]
  },
  {
   "cell_type": "code",
   "execution_count": 12,
   "metadata": {},
   "outputs": [
    {
     "ename": "FileNotFoundError",
     "evalue": "[Errno 2] No such file or directory: 'julia': 'julia'",
     "output_type": "error",
     "traceback": [
      "\u001b[0;31m---------------------------------------------------------------------------\u001b[0m",
      "\u001b[0;31mFileNotFoundError\u001b[0m                         Traceback (most recent call last)",
      "\u001b[0;32m<ipython-input-12-c4d877d9be8f>\u001b[0m in \u001b[0;36m<module>\u001b[0;34m\u001b[0m\n\u001b[1;32m      5\u001b[0m \u001b[0;31m# This can take a few minutes to install!!\u001b[0m\u001b[0;34m\u001b[0m\u001b[0;34m\u001b[0m\u001b[0;34m\u001b[0m\u001b[0m\n\u001b[1;32m      6\u001b[0m \u001b[0;32mimport\u001b[0m \u001b[0mdiffeqpy\u001b[0m\u001b[0;34m\u001b[0m\u001b[0;34m\u001b[0m\u001b[0m\n\u001b[0;32m----> 7\u001b[0;31m \u001b[0mdiffeqpy\u001b[0m\u001b[0;34m.\u001b[0m\u001b[0minstall\u001b[0m\u001b[0;34m(\u001b[0m\u001b[0;34m)\u001b[0m\u001b[0;34m\u001b[0m\u001b[0;34m\u001b[0m\u001b[0m\n\u001b[0m\u001b[1;32m      8\u001b[0m \u001b[0;32mfrom\u001b[0m \u001b[0mdiffeqpy\u001b[0m \u001b[0;32mimport\u001b[0m \u001b[0mde\u001b[0m\u001b[0;34m\u001b[0m\u001b[0;34m\u001b[0m\u001b[0m\n",
      "\u001b[0;32m~/anaconda3/lib/python3.7/site-packages/diffeqpy/__init__.py\u001b[0m in \u001b[0;36minstall\u001b[0;34m()\u001b[0m\n\u001b[1;32m      9\u001b[0m     \u001b[0mInstall\u001b[0m \u001b[0mJulia\u001b[0m \u001b[0mpackages\u001b[0m \u001b[0mrequired\u001b[0m \u001b[0;32mfor\u001b[0m \u001b[0mdiffeqpy\u001b[0m\u001b[0;34m.\u001b[0m\u001b[0;34m\u001b[0m\u001b[0;34m\u001b[0m\u001b[0m\n\u001b[1;32m     10\u001b[0m     \"\"\"\n\u001b[0;32m---> 11\u001b[0;31m     \u001b[0msubprocess\u001b[0m\u001b[0;34m.\u001b[0m\u001b[0mcheck_call\u001b[0m\u001b[0;34m(\u001b[0m\u001b[0;34m[\u001b[0m\u001b[0;34m'julia'\u001b[0m\u001b[0;34m,\u001b[0m \u001b[0mos\u001b[0m\u001b[0;34m.\u001b[0m\u001b[0mpath\u001b[0m\u001b[0;34m.\u001b[0m\u001b[0mjoin\u001b[0m\u001b[0;34m(\u001b[0m\u001b[0mscript_dir\u001b[0m\u001b[0;34m,\u001b[0m \u001b[0;34m'install.jl'\u001b[0m\u001b[0;34m)\u001b[0m\u001b[0;34m]\u001b[0m\u001b[0;34m)\u001b[0m\u001b[0;34m\u001b[0m\u001b[0;34m\u001b[0m\u001b[0m\n\u001b[0m",
      "\u001b[0;32m~/anaconda3/lib/python3.7/subprocess.py\u001b[0m in \u001b[0;36mcheck_call\u001b[0;34m(*popenargs, **kwargs)\u001b[0m\n\u001b[1;32m    340\u001b[0m     \u001b[0mcheck_call\u001b[0m\u001b[0;34m(\u001b[0m\u001b[0;34m[\u001b[0m\u001b[0;34m\"ls\"\u001b[0m\u001b[0;34m,\u001b[0m \u001b[0;34m\"-l\"\u001b[0m\u001b[0;34m]\u001b[0m\u001b[0;34m)\u001b[0m\u001b[0;34m\u001b[0m\u001b[0;34m\u001b[0m\u001b[0m\n\u001b[1;32m    341\u001b[0m     \"\"\"\n\u001b[0;32m--> 342\u001b[0;31m     \u001b[0mretcode\u001b[0m \u001b[0;34m=\u001b[0m \u001b[0mcall\u001b[0m\u001b[0;34m(\u001b[0m\u001b[0;34m*\u001b[0m\u001b[0mpopenargs\u001b[0m\u001b[0;34m,\u001b[0m \u001b[0;34m**\u001b[0m\u001b[0mkwargs\u001b[0m\u001b[0;34m)\u001b[0m\u001b[0;34m\u001b[0m\u001b[0;34m\u001b[0m\u001b[0m\n\u001b[0m\u001b[1;32m    343\u001b[0m     \u001b[0;32mif\u001b[0m \u001b[0mretcode\u001b[0m\u001b[0;34m:\u001b[0m\u001b[0;34m\u001b[0m\u001b[0;34m\u001b[0m\u001b[0m\n\u001b[1;32m    344\u001b[0m         \u001b[0mcmd\u001b[0m \u001b[0;34m=\u001b[0m \u001b[0mkwargs\u001b[0m\u001b[0;34m.\u001b[0m\u001b[0mget\u001b[0m\u001b[0;34m(\u001b[0m\u001b[0;34m\"args\"\u001b[0m\u001b[0;34m)\u001b[0m\u001b[0;34m\u001b[0m\u001b[0;34m\u001b[0m\u001b[0m\n",
      "\u001b[0;32m~/anaconda3/lib/python3.7/subprocess.py\u001b[0m in \u001b[0;36mcall\u001b[0;34m(timeout, *popenargs, **kwargs)\u001b[0m\n\u001b[1;32m    321\u001b[0m     \u001b[0mretcode\u001b[0m \u001b[0;34m=\u001b[0m \u001b[0mcall\u001b[0m\u001b[0;34m(\u001b[0m\u001b[0;34m[\u001b[0m\u001b[0;34m\"ls\"\u001b[0m\u001b[0;34m,\u001b[0m \u001b[0;34m\"-l\"\u001b[0m\u001b[0;34m]\u001b[0m\u001b[0;34m)\u001b[0m\u001b[0;34m\u001b[0m\u001b[0;34m\u001b[0m\u001b[0m\n\u001b[1;32m    322\u001b[0m     \"\"\"\n\u001b[0;32m--> 323\u001b[0;31m     \u001b[0;32mwith\u001b[0m \u001b[0mPopen\u001b[0m\u001b[0;34m(\u001b[0m\u001b[0;34m*\u001b[0m\u001b[0mpopenargs\u001b[0m\u001b[0;34m,\u001b[0m \u001b[0;34m**\u001b[0m\u001b[0mkwargs\u001b[0m\u001b[0;34m)\u001b[0m \u001b[0;32mas\u001b[0m \u001b[0mp\u001b[0m\u001b[0;34m:\u001b[0m\u001b[0;34m\u001b[0m\u001b[0;34m\u001b[0m\u001b[0m\n\u001b[0m\u001b[1;32m    324\u001b[0m         \u001b[0;32mtry\u001b[0m\u001b[0;34m:\u001b[0m\u001b[0;34m\u001b[0m\u001b[0;34m\u001b[0m\u001b[0m\n\u001b[1;32m    325\u001b[0m             \u001b[0;32mreturn\u001b[0m \u001b[0mp\u001b[0m\u001b[0;34m.\u001b[0m\u001b[0mwait\u001b[0m\u001b[0;34m(\u001b[0m\u001b[0mtimeout\u001b[0m\u001b[0;34m=\u001b[0m\u001b[0mtimeout\u001b[0m\u001b[0;34m)\u001b[0m\u001b[0;34m\u001b[0m\u001b[0;34m\u001b[0m\u001b[0m\n",
      "\u001b[0;32m~/anaconda3/lib/python3.7/subprocess.py\u001b[0m in \u001b[0;36m__init__\u001b[0;34m(self, args, bufsize, executable, stdin, stdout, stderr, preexec_fn, close_fds, shell, cwd, env, universal_newlines, startupinfo, creationflags, restore_signals, start_new_session, pass_fds, encoding, errors, text)\u001b[0m\n\u001b[1;32m    773\u001b[0m                                 \u001b[0mc2pread\u001b[0m\u001b[0;34m,\u001b[0m \u001b[0mc2pwrite\u001b[0m\u001b[0;34m,\u001b[0m\u001b[0;34m\u001b[0m\u001b[0;34m\u001b[0m\u001b[0m\n\u001b[1;32m    774\u001b[0m                                 \u001b[0merrread\u001b[0m\u001b[0;34m,\u001b[0m \u001b[0merrwrite\u001b[0m\u001b[0;34m,\u001b[0m\u001b[0;34m\u001b[0m\u001b[0;34m\u001b[0m\u001b[0m\n\u001b[0;32m--> 775\u001b[0;31m                                 restore_signals, start_new_session)\n\u001b[0m\u001b[1;32m    776\u001b[0m         \u001b[0;32mexcept\u001b[0m\u001b[0;34m:\u001b[0m\u001b[0;34m\u001b[0m\u001b[0;34m\u001b[0m\u001b[0m\n\u001b[1;32m    777\u001b[0m             \u001b[0;31m# Cleanup if the child failed starting.\u001b[0m\u001b[0;34m\u001b[0m\u001b[0;34m\u001b[0m\u001b[0;34m\u001b[0m\u001b[0m\n",
      "\u001b[0;32m~/anaconda3/lib/python3.7/subprocess.py\u001b[0m in \u001b[0;36m_execute_child\u001b[0;34m(self, args, executable, preexec_fn, close_fds, pass_fds, cwd, env, startupinfo, creationflags, shell, p2cread, p2cwrite, c2pread, c2pwrite, errread, errwrite, restore_signals, start_new_session)\u001b[0m\n\u001b[1;32m   1520\u001b[0m                         \u001b[0;32mif\u001b[0m \u001b[0merrno_num\u001b[0m \u001b[0;34m==\u001b[0m \u001b[0merrno\u001b[0m\u001b[0;34m.\u001b[0m\u001b[0mENOENT\u001b[0m\u001b[0;34m:\u001b[0m\u001b[0;34m\u001b[0m\u001b[0;34m\u001b[0m\u001b[0m\n\u001b[1;32m   1521\u001b[0m                             \u001b[0merr_msg\u001b[0m \u001b[0;34m+=\u001b[0m \u001b[0;34m': '\u001b[0m \u001b[0;34m+\u001b[0m \u001b[0mrepr\u001b[0m\u001b[0;34m(\u001b[0m\u001b[0merr_filename\u001b[0m\u001b[0;34m)\u001b[0m\u001b[0;34m\u001b[0m\u001b[0;34m\u001b[0m\u001b[0m\n\u001b[0;32m-> 1522\u001b[0;31m                     \u001b[0;32mraise\u001b[0m \u001b[0mchild_exception_type\u001b[0m\u001b[0;34m(\u001b[0m\u001b[0merrno_num\u001b[0m\u001b[0;34m,\u001b[0m \u001b[0merr_msg\u001b[0m\u001b[0;34m,\u001b[0m \u001b[0merr_filename\u001b[0m\u001b[0;34m)\u001b[0m\u001b[0;34m\u001b[0m\u001b[0;34m\u001b[0m\u001b[0m\n\u001b[0m\u001b[1;32m   1523\u001b[0m                 \u001b[0;32mraise\u001b[0m \u001b[0mchild_exception_type\u001b[0m\u001b[0;34m(\u001b[0m\u001b[0merr_msg\u001b[0m\u001b[0;34m)\u001b[0m\u001b[0;34m\u001b[0m\u001b[0;34m\u001b[0m\u001b[0m\n\u001b[1;32m   1524\u001b[0m \u001b[0;34m\u001b[0m\u001b[0m\n",
      "\u001b[0;31mFileNotFoundError\u001b[0m: [Errno 2] No such file or directory: 'julia': 'julia'"
     ]
    }
   ],
   "source": [
    "# from julia.api import Julia\n",
    "# jl = Julia(compiled_modules=False)\n",
    "# from diffeqpy import de\n",
    "\n",
    "# This can take a few minutes to install!!\n",
    "import diffeqpy\n",
    "diffeqpy.install()\n",
    "from diffeqpy import de"
   ]
  },
  {
   "cell_type": "code",
   "execution_count": null,
   "metadata": {},
   "outputs": [],
   "source": [
    "# Use previously identified models, the system ID part is unchanged\n",
    "\n",
    "# Define the time and p symbols, these are dummy variables\n",
    "t_sym=sp.symbols('t_sym')\n",
    "p_sym=sp.symbols('p_sym')\n",
    "x_sym = sp.symbols('x:%d' % r)\n",
    "x_dot_sym = sp.symbols('x:%d_dot' % r)\n",
    "\n",
    "# lambdify the DAE, not solving for x_dot first!\n",
    "SINDy_model=sp.lambdify([x_dot_sym, x_sym, p_sym, t_sym],  \n",
    "                         [sym_equations_formatted[x_dot_sym[0]], \n",
    "                          sym_equations_formatted[x_dot_sym[1]]])\n",
    "\n",
    "# Integrate the DAE with diffeqpy and plot against true test trajectory\n",
    "plt.figure()\n",
    "plt.plot(t, x_test, 'k')\n",
    "\n",
    "dx0 = [0.05, 0.1]\n",
    "tspan = (t_test[0], t_test[-1])\n",
    "differential_vars = [True, True]\n",
    "prob = de.DAEProblem(SINDy_model, dx0, x0_test, tspan, differential_vars=differential_vars)\n",
    "sol = de.solve(prob)\n",
    "plt.plot(sol.t, sol.u, 'r--')\n",
    "plt.grid(True)"
   ]
  },
  {
   "cell_type": "markdown",
   "metadata": {},
   "source": [
    "### Last example: 4D pendulum on a cart equations,\n",
    "$$\\frac{d}{dt}\\phi = \\dot{\\phi}$$\n",
    "$$\\frac{d}{dt}s = \\dot{s}$$\n",
    "$$\\frac{d}{dt}\\dot{\\phi} = -\\frac{F\\cos(\\phi) - (M + m)g\\sin(\\phi) + mL\\cos(\\phi)\\sin(\\phi)\\dot{\\phi}^2}{L(M + m\\sin^2(\\phi))}$$\n",
    "$$\\frac{d}{dt}\\dot{s} = \\frac{F - mg\\cos(\\phi)\\sin(\\phi) + mL\\sin(\\phi)\\dot{\\phi}^2}{M + m\\sin^2(\\phi)}$$\n"
   ]
  },
  {
   "cell_type": "code",
   "execution_count": null,
   "metadata": {},
   "outputs": [],
   "source": [
    "# define parameters\n",
    "r = 4\n",
    "dt = 0.001\n",
    "T = 20\n",
    "t_train = np.arange(0, T + dt, dt)\n",
    "\n",
    "# no control inputs for simplicity\n",
    "x0 = [0.3, -0.2, 1.0, 0.4]\n",
    "x_train = odeint(pendulum_on_cart, x0, t_train, args=(1, 1, 1, 0, 9.81))\n",
    "\n",
    "# define hyperparameters\n",
    "threshold = 1e-2\n",
    "\n",
    "x_library_functions = [lambda x:1, lambda x:x, lambda x:sin(x),\n",
    "                       lambda x: sin(x) * sin(x), lambda x: sin(x) * cos(x)]\n",
    "x_dot_library_functions = [lambda x:1, lambda x:x, lambda x:x ** 2]\n",
    "        \n",
    "library_function_names = [lambda x:'', lambda x:x, lambda x: 'sin(' + x + ')',\n",
    "                          lambda x: 'sin(' + x + ')' + 'sin(' + x + ')', \n",
    "                          lambda x: 'sin(' + x + ')' + 'cos(' + x + ')',\n",
    "                          lambda x:'', lambda x:x, lambda x: x + x] \n",
    "\n",
    "# Get the indices of the equations for x0_dot, ..., x3_dot\n",
    "lib = ps.SINDyPILibrary(library_functions=x_library_functions, \n",
    "                        x_dot_library_functions=x_dot_library_functions,\n",
    "                        t=t_train,\n",
    "                        function_names=library_function_names,\n",
    "                        ).fit(x_train) \n",
    "lib.transform(x_train)\n",
    "features = np.asarray(lib.get_feature_names())\n",
    "ind1 = np.ravel(np.where(features == \"x0_dot\"))[0]\n",
    "ind2 = np.ravel(np.where(features == \"x1_dot\"))[0]\n",
    "ind3 = np.ravel(np.where(features == \"x2_dot\"))[0]\n",
    "ind4 = np.ravel(np.where(features == \"x3_dot\"))[0]\n",
    "\n",
    "sindy_library = ps.SINDyPILibrary(library_functions=x_library_functions, \n",
    "                                  x_dot_library_functions=x_dot_library_functions,\n",
    "                                  t=t_train[1:-1],\n",
    "                                  function_names=library_function_names,\n",
    "                                  )\n",
    "\n",
    "# Column normalization essential here because phi and s have different units\n",
    "# and problem is very ill-conditioned\n",
    "sindy_opt = ps.SINDyPI(threshold=threshold, tol=1e-6, \n",
    "                       thresholder=\"l1\", max_iter=20000,\n",
    "                       model_subset=[ind1, ind2, ind3, ind4],\n",
    "                       normalize_columns=True)\n",
    "model = ps.SINDy(\n",
    "    optimizer=sindy_opt,\n",
    "    feature_library=sindy_library,\n",
    "    differentiation_method=ps.FiniteDifference(drop_endpoints=True),\n",
    ")\n",
    "model.fit(x_train, t=dt)\n",
    "model.print()"
   ]
  },
  {
   "cell_type": "code",
   "execution_count": null,
   "metadata": {},
   "outputs": [],
   "source": [
    "# Plot the fit of the derivative\n",
    "x_dot_train = model.differentiate(x_train, t_train)\n",
    "x_dot_train_pred = model.predict(x_train[1:-1, :]) \n",
    "reg = np.linalg.norm(sindy_opt.Theta, 2, axis=0)\n",
    "x_dot_train_pred = sindy_opt.Theta @ sindy_opt.coef_.T\n",
    "\n",
    "plt.figure(figsize=(16, 4))\n",
    "inds = [ind1, ind2, ind3, ind4]\n",
    "for i in range(r):\n",
    "    plt.subplot(r, 1, i + 1)\n",
    "    plt.plot(t_train, x_dot_train[:, i], 'k')\n",
    "    plt.plot(t_train[1:-1], x_dot_train_pred[:, inds[i]], 'r--')"
   ]
  },
  {
   "cell_type": "code",
   "execution_count": null,
   "metadata": {},
   "outputs": [],
   "source": [
    "from sympy import sin, cos\n",
    "nfeatures = len(features)\n",
    "features[0] = '1'\n",
    "features_copy = list(np.copy(features))\n",
    "nfeatures = len(features)\n",
    "features_formatted = []\n",
    "# Need to put multiplication between terms for sympy\n",
    "for i in range(nfeatures):\n",
    "    for j in range(r):\n",
    "        # Overkill to make sure all the x0, x1, etc. get replaced\n",
    "        temp_string = features[i].replace('x' + str(j) + 'x', 'x' + str(j) + ' * x')\n",
    "        temp_string = temp_string.replace('x' + str(j) + 'x', 'x' + str(j) + ' * x')\n",
    "        temp_string = temp_string.replace('x' + str(j) + 'x', 'x' + str(j) + ' * x')\n",
    "        temp_string = temp_string.replace('x' + str(j) + 'x', 'x' + str(j) + ' * x')\n",
    "        temp_string = temp_string.replace('tx' + str(j), 't * x' + str(j))\n",
    "        temp_string = temp_string.replace('tx' + str(j), 't * x' + str(j))\n",
    "        temp_string = temp_string.replace(')x', ') * x')\n",
    "        temp_string = temp_string.replace(')c', ') * c')\n",
    "        temp_string = temp_string.replace(')s', ') * s')\n",
    "\n",
    "        features[i] = temp_string\n",
    "    features_formatted.append(temp_string)\n",
    "features = features_copy\n",
    "# print(features)\n",
    "print(features_formatted)\n",
    "\n",
    "coefs = model.coefficients()\n",
    "sym_features = [sp.symbols(feature) for feature in features]\n",
    "sym_theta = [sp.symbols(feature) for feature in features]\n",
    "sym_equations = []\n",
    "sym_equations_rounded = []\n",
    "for i in range(nfeatures):\n",
    "    if np.any(np.around(coefs[i], 2) != 0.0):\n",
    "        sym_equation = sp.solve(sp.Eq(sym_theta[i], \n",
    "                                            sym_theta @ np.around(coefs[i], 10)), \n",
    "                                      sym_features[i])\n",
    "        sym_equations.append(sym_equation)\n",
    "        sym_equation_rounded = sp.solve(sp.Eq(sym_theta[i], \n",
    "                                            sym_theta @ np.around(coefs[i], 2)), \n",
    "                                      sym_features[i])\n",
    "        sym_equations_rounded.append(sym_equation_rounded)\n",
    "        print(sym_theta[i], ' = ', sym_equation_rounded[0])"
   ]
  },
  {
   "cell_type": "code",
   "execution_count": null,
   "metadata": {},
   "outputs": [],
   "source": [
    "# Define the ODE symbol variables\n",
    "t_sym = sp.symbols('t_sym')\n",
    "x_sym = sp.symbols('x:%d' % r)\n",
    "x_dot_sym = sp.symbols('x:%d_dot' % r)\n",
    "\n",
    "# Need to format the above equations so that there are space between x0 * x0, x0 * x_dot0, and so on.\n",
    "sym_equations_formatted = []\n",
    "for i in range(len(sym_equations)):\n",
    "    for j in range(r):\n",
    "        # Overkill to make sure all the x0, x1, etc. get replaced\n",
    "        temp_string = str(sym_equations[i]).replace('x' + str(j) + 'x', 'x' + str(j) + ' * x')\n",
    "        temp_string = temp_string.replace('x' + str(j) + 'x', 'x' + str(j) + ' * x')\n",
    "        temp_string = temp_string.replace('x' + str(j) + 'x', 'x' + str(j) + ' * x')\n",
    "        temp_string = temp_string.replace('x' + str(j) + 'x', 'x' + str(j) + ' * x')\n",
    "        temp_string = temp_string.replace('tx' + str(j), 't * x' + str(j))\n",
    "        temp_string = temp_string.replace('tx' + str(j), 't * x' + str(j))\n",
    "        temp_string = temp_string.replace(')x', ') * x')\n",
    "        temp_string = temp_string.replace(')c', ') * c')\n",
    "        temp_string = temp_string.replace(')s', ') * s')\n",
    "        sym_equations[i] = temp_string\n",
    "    sym_equations_formatted.append(temp_string)\n",
    "\n",
    "# Now that the equations are mathematically formatted, solve for x0_dot and x1_dot in the algebraic equation\n",
    "# Have four unknowns, (x0_dot, x1_dot, x2_dot, x3_dot), so need to solve using four of the equations\n",
    "sym_equations_simplified = sp.solve(\n",
    "    (sp.Add(\n",
    "        sp.sympify(sym_equations_formatted)[0][0], \n",
    "        - sp.sympify(features_formatted[ind1])), \n",
    "    sp.Add(\n",
    "        sp.sympify(sym_equations_formatted)[1][0], \n",
    "        - sp.sympify(features_formatted[ind2])), \n",
    "    sp.Add(\n",
    "        sp.sympify(sym_equations_formatted)[2][0], \n",
    "        - sp.sympify(features_formatted[ind3]))\n",
    "    sp.Add(\n",
    "        sp.sympify(sym_equations_formatted)[3][0], \n",
    "        - sp.sympify(features_formatted[ind4]))),\n",
    "    x_dot_sym)\n",
    "print('Solved for xdot equations = ', sym_equations_simplified)\n",
    "\n",
    "# Plot the results for each of the models\n",
    "plt.figure(figsize=(20, 4))\n",
    "\n",
    "x0_test = [np.pi, 0, 0, 0]\n",
    "t_test = t_train\n",
    "x_test = odeint(pendulum_on_cart, x0_test, t_test, args=(1, 1, 1, 0, 9.81))\n",
    "plt.plot(t_test, x_test, color='k',linestyle='solid')\n",
    "\n",
    "# Not the cleanest notation for multiple variables but it works\n",
    "ODE_Func = sp.lambdify([x_sym, t_sym], \n",
    "                       [sym_equations_simplified[x_dot_sym[0]], \n",
    "                        sym_equations_simplified[x_dot_sym[1]],\n",
    "                        sym_equations_simplified[x_dot_sym[2]],\n",
    "                        sym_equations_simplified[x_dot_sym[3]]])\n",
    "\n",
    "# Now simulate the system we identified\n",
    "x_test_sim = odeint(ODE_Func, x0_test, t_test)\n",
    "plt.plot(t_test, x_test_sim, color='r', linestyle='dashed')"
   ]
  }
 ],
 "metadata": {
  "kernelspec": {
   "display_name": "Python 3",
   "language": "python",
   "name": "python3"
  },
  "language_info": {
   "codemirror_mode": {
    "name": "ipython",
    "version": 3
   },
   "file_extension": ".py",
   "mimetype": "text/x-python",
   "name": "python",
   "nbconvert_exporter": "python",
   "pygments_lexer": "ipython3",
   "version": "3.7.4"
  }
 },
 "nbformat": 4,
 "nbformat_minor": 4
}
