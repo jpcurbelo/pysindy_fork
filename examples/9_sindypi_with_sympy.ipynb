{
 "cells": [
  {
   "cell_type": "markdown",
   "metadata": {},
   "source": [
    "# SINDy-PI Feature Overview\n",
    "\n",
    "This notebook provides a simple overview of the basic functionality of SINDy-PI implemented in PySINDy, and is written by Alan Kaptanoglu and Kadierdan Kaheman. SINDy-PI is used to handle generic implicit ODEs of the form,\n",
    "$$ \\frac{d}{dt}\\mathbf{x} = \\mathbf{f}(\\mathbf{x}, \\dot{\\mathbf{x}})$$\n",
    "This is based off of the paper \"Kaheman, K., Kutz, J. N., & Brunton, S. L. (2020). SINDy-PI: a robust algorithm for parallel implicit sparse identification of nonlinear dynamics. Proceedings of the Royal Society A, 476(2242), 20200279.\""
   ]
  },
  {
   "cell_type": "code",
   "execution_count": 1,
   "metadata": {},
   "outputs": [],
   "source": [
    "# Import libraries.\n",
    "import numpy as np\n",
    "from matplotlib import pyplot as plt\n",
    "from mpl_toolkits.mplot3d import Axes3D\n",
    "import pysindy as ps \n",
    "from pysindy.differentiation import FiniteDifference\n",
    "import matplotlib.gridspec as gridspec\n",
    "import numexpr as ne\n",
    "from numpy import cos, sin\n",
    "from pysindy.utils import enzyme, bacterial, pendulum_on_cart\n",
    "import sympy as sp\n",
    "from scipy.integrate import odeint\n",
    "\n",
    "# For reproducibility\n",
    "np.random.seed(100)"
   ]
  },
  {
   "cell_type": "markdown",
   "metadata": {},
   "source": [
    "# Example to show library functionality\n",
    "Below, we define custom libraries for x and x_dot, showing that the resulting full library and library names are a tensor product of the two independent libraries. Note that lambda x: '', is used to trick the code to generate the constant function 1 without generating repeated entries."
   ]
  },
  {
   "cell_type": "code",
   "execution_count": 2,
   "metadata": {},
   "outputs": [
    {
     "name": "stdout",
     "output_type": "stream",
     "text": [
      "Without function names: \n",
      "['f0(x0)', 'f0(x1)', 'f1(x0,x1)', 'f_dot0(x0_dot)', 'f_dot0(x1_dot)', 'f0(x0)f_dot0(x0_dot)', 'f0(x1)f_dot0(x0_dot)', 'f1(x0,x1)f_dot0(x0_dot)', 'f0(x0)f_dot0(x1_dot)', 'f0(x1)f_dot0(x1_dot)', 'f1(x0,x1)f_dot0(x1_dot)']\n",
      "With function names: \n",
      "['exp(x0)', 'exp(x1)', 'sin(x0x1)', 'x0_dot', 'x1_dot', 'exp(x0)x0_dot', 'exp(x1)x0_dot', 'sin(x0x1)x0_dot', 'exp(x0)x1_dot', 'exp(x1)x1_dot', 'sin(x0x1)x1_dot']\n",
      "With function names and bias term: \n",
      "['1', 'exp(x0)', 'exp(x1)', 'sin(x0x1)', 'x0_dot', 'x1_dot', 'exp(x0)x0_dot', 'exp(x1)x0_dot', 'sin(x0x1)x0_dot', 'exp(x0)x1_dot', 'exp(x1)x1_dot', 'sin(x0x1)x1_dot']\n"
     ]
    }
   ],
   "source": [
    "t = np.linspace(0, 1, 5)\n",
    "x = np.ones((5, 2))\n",
    "\n",
    "# Functions to be applied to the data x\n",
    "functions = [lambda x : np.exp(x), lambda x,y : np.sin(x+y)]\n",
    "\n",
    "# Functions to be applied to the data x_dot\n",
    "x_dot_functions = [lambda x : x]\n",
    "\n",
    "lib = ps.SINDyPILibrary(library_functions=functions,\n",
    "                        x_dot_library_functions=x_dot_functions,\n",
    "                        t=t,\n",
    "                        ).fit(x)\n",
    "lib.transform(x)\n",
    "print('Without function names: ')\n",
    "print(lib.get_feature_names())\n",
    "\n",
    "# Function names includes both the x and x_dot functions\n",
    "function_names = [lambda x : 'exp(' + x + ')',\n",
    "                  lambda x, y : 'sin(' + x + y + ')',\n",
    "                  lambda x : x]\n",
    "lib = ps.SINDyPILibrary(library_functions=functions,\n",
    "                        x_dot_library_functions=x_dot_functions,\n",
    "                        function_names=function_names, t=t,\n",
    "                        ).fit(x)\n",
    "lib.transform(x)\n",
    "print('With function names: ')\n",
    "print(lib.get_feature_names())\n",
    "\n",
    "# Now include a bias term (constant term)\n",
    "lib = ps.SINDyPILibrary(library_functions=functions,\n",
    "                        x_dot_library_functions=x_dot_functions,\n",
    "                        function_names=function_names, t=t,\n",
    "                        include_bias=True,\n",
    "                        ).fit(x)\n",
    "lib.transform(x)\n",
    "print('With function names and bias term: ')\n",
    "print(lib.get_feature_names())"
   ]
  },
  {
   "cell_type": "markdown",
   "metadata": {},
   "source": [
    "### Solve 1D Michelson-Menten enzyme model as first demonstration\n",
    "$$\\dot{x} = 0.6 - \\frac{1.5 x}{0.3 + x}$$"
   ]
  },
  {
   "cell_type": "code",
   "execution_count": 3,
   "metadata": {},
   "outputs": [
    {
     "name": "stdout",
     "output_type": "stream",
     "text": [
      "Solver failed on model  4 , setting coefs to zeros\n",
      "1 = 5.000 x0 + 1.667 x0_dot + 5.556 x0x0_dot\n",
      "x0 = 0.200 1 + 0.004 x0x0 + -0.334 x0_dot + -1.105 x0x0_dot\n",
      "x0x0 = 0.023 1 + 0.063 x0 + 0.589 x0x0x0 + -0.724 x0x0_dot\n",
      "x0x0x0 = -0.007 1 + 0.352 x0x0 + 0.743 x0x0x0x0 + 0.032 x0_dot + -0.101 x0x0x0_dot\n",
      "x0x0x0x0 = 0.000\n",
      "x0_dot = 0.598 1 + -2.995 x0 + 0.014 x0x0 + -3.306 x0x0_dot\n",
      "x0x0_dot = 0.177 1 + -0.883 x0 + -0.013 x0x0 + -0.293 x0_dot\n",
      "x0x0x0_dot = 0.014 1 + -0.273 x0x0 + -0.368 x0x0x0 + -0.047 x0_dot\n",
      "x0x0x0x0_dot = 0.010 x0 + -0.157 x0x0x0 + -0.477 x0x0x0x0 + -0.007 x0_dot\n",
      "x0x0x0x0x0_dot = 0.001 1 + -0.519 x0x0x0x0 + 0.010 x0_dot + -0.082 x0x0_dot\n"
     ]
    }
   ],
   "source": [
    "# define parameters\n",
    "r = 1\n",
    "dt = 0.01\n",
    "T = 5\n",
    "t = np.arange(0, T + dt, dt)\n",
    "x0_train = [0.55]\n",
    "x_train = odeint(enzyme, x0_train, t)\n",
    "\n",
    "# Initialize custom SINDy library so that we can have x_dot inside it. Using the library\n",
    "# Found in Equation A1 in the SINDy-PI paper\n",
    "x_library_functions = [lambda x:x, lambda x, y:x * y, lambda x:x ** 2, \n",
    "                       lambda x, y, z:x * y * z, lambda x, y: x * y ** 2, lambda x: x ** 3,\n",
    "                       lambda x, y, z, w: x * y * z * w, lambda x, y, z:x * y * z ** 2,\n",
    "                       lambda x, y:x * y ** 3, lambda x:x ** 4]\n",
    "x_dot_library_functions = [lambda x:x]\n",
    "        \n",
    "# library function names includes both the x_library_functions and x_dot_library_functions names\n",
    "library_function_names = [lambda x:x, lambda x, y: x + y, lambda x:x + x, \n",
    "                          lambda x, y, z:x + y + z, lambda x, y: x + y + y, lambda x: x + x + x,\n",
    "                          lambda x, y, z, w: x + y + z + w, lambda x, y, z:x + y + z + z,\n",
    "                          lambda x, y:x + y + y + y, lambda x:x + x + x + x,\n",
    "                          lambda x:x] \n",
    "\n",
    "# Need to pass time base to the library so can build the x_dot library from x\n",
    "sindy_library = ps.SINDyPILibrary(library_functions=x_library_functions, \n",
    "                                  x_dot_library_functions=x_dot_library_functions,\n",
    "                                  t=t[1:-1],\n",
    "                                  function_names=library_function_names,\n",
    "                                  include_bias=True\n",
    "                                  )\n",
    "\n",
    "# Use the SINDy-PI optimizer, which relies on CVXPY.\n",
    "# Note that if LHS of the equation fits the data poorly, \n",
    "# CVXPY often returns failure.\n",
    "sindy_opt = ps.SINDyPI(threshold=1e-5, tol=1e-10, \n",
    "                       thresholder=\"l1\", max_iter=20000)\n",
    "model = ps.SINDy(\n",
    "    optimizer=sindy_opt,\n",
    "    feature_library=sindy_library,\n",
    "    differentiation_method=ps.FiniteDifference(drop_endpoints=True),\n",
    ")\n",
    "model.fit(x_train, t=t)\n",
    "model.print()"
   ]
  },
  {
   "cell_type": "code",
   "execution_count": 4,
   "metadata": {},
   "outputs": [
    {
     "data": {
      "image/png": "[encoded data removed]",
      "text/plain": [
       "<Figure size 432x288 with 1 Axes>"
      ]
     },
     "metadata": {
      "needs_background": "light"
     },
     "output_type": "display_data"
    }
   ],
   "source": [
    "# Plot the fit of the derivative\n",
    "x_dot_train = model.differentiate(x_train, t)\n",
    "x_dot_train_pred = sindy_opt.Theta @ sindy_opt.coef_.T\n",
    "plt.figure()\n",
    "for i in range(r):\n",
    "    plt.subplot(1, r, i + 1)\n",
    "    plt.plot(t, x_dot_train[:, i], 'k')\n",
    "    plt.plot(t[1:-1], x_dot_train_pred[:, 5], 'r--')"
   ]
  },
  {
   "cell_type": "markdown",
   "metadata": {},
   "source": [
    "### Now we need to reformat all the feature strings for conversion into symbolic variables"
   ]
  },
  {
   "cell_type": "code",
   "execution_count": 5,
   "metadata": {},
   "outputs": [
    {
     "name": "stdout",
     "output_type": "stream",
     "text": [
      "['1', 'x0', 'x0x0', 'x0x0x0', 'x0x0x0x0', 'x0_dot', 'x0x0_dot', 'x0x0x0_dot', 'x0x0x0x0_dot', 'x0x0x0x0x0_dot']\n",
      "['1', 'x0', 'x0 * x0', 'x0 * x0 * x0', 'x0 * x0 * x0 * x0', 'x0_dot', 'x0 * x0_dot', 'x0 * x0 * x0_dot', 'x0 * x0 * x0 * x0_dot', 'x0 * x0 * x0 * x0 * x0_dot']\n"
     ]
    }
   ],
   "source": [
    "features = model.get_feature_names()\n",
    "features[0] = '1'\n",
    "features_copy = list(np.copy(features))\n",
    "nfeatures = len(features)\n",
    "features_formatted = []\n",
    "# Need to put multiplication between terms for sympy\n",
    "for i in range(nfeatures):\n",
    "    for j in range(r):\n",
    "        # Overkill to make sure all the x0, x1, etc. get replaced\n",
    "        temp_string = features[i].replace('x' + str(j) + 'x', 'x' + str(j) + ' * x')\n",
    "        temp_string = temp_string.replace('x' + str(j) + 'x', 'x' + str(j) + ' * x')\n",
    "        temp_string = temp_string.replace('x' + str(j) + 'x', 'x' + str(j) + ' * x')\n",
    "        temp_string = temp_string.replace('x' + str(j) + 'x', 'x' + str(j) + ' * x')\n",
    "        features[i] = temp_string\n",
    "    features_formatted.append(temp_string)\n",
    "features = features_copy\n",
    "print(features)\n",
    "print(features_formatted)\n",
    "coefs = model.coefficients()\n",
    "sym_features = [sp.symbols(feature) for feature in features]\n",
    "sym_theta = [sp.symbols(feature) for feature in features]"
   ]
  },
  {
   "cell_type": "markdown",
   "metadata": {},
   "source": [
    "### Check all the successful model fits produce sensible models"
   ]
  },
  {
   "cell_type": "code",
   "execution_count": 6,
   "metadata": {},
   "outputs": [
    {
     "name": "stdout",
     "output_type": "stream",
     "text": [
      "1  =  5.0*x0 + 1.67*x0_dot + 5.56*x0x0_dot\n",
      "x0  =  0.2*1 - 0.33*x0_dot - 1.1*x0x0_dot\n",
      "x0x0  =  0.02*1 + 0.06*x0 - 0.72*x0x0_dot + 0.59*x0x0x0\n",
      "x0x0x0  =  -0.01*1 + 0.03*x0_dot + 0.35*x0x0 - 0.1*x0x0x0_dot + 0.74*x0x0x0x0\n",
      "x0x0x0x0  =  0\n",
      "x0_dot  =  0.6*1 - 2.99*x0 + 0.01*x0x0 - 3.31*x0x0_dot\n",
      "x0x0_dot  =  0.18*1 - 0.88*x0 - 0.29*x0_dot - 0.01*x0x0\n",
      "x0x0x0_dot  =  0.01*1 - 0.05*x0_dot - 0.27*x0x0 - 0.37*x0x0x0\n",
      "x0x0x0x0_dot  =  0.01*x0 - 0.01*x0_dot - 0.16*x0x0x0 - 0.48*x0x0x0x0\n",
      "x0x0x0x0x0_dot  =  0.01*x0_dot - 0.08*x0x0_dot - 0.52*x0x0x0x0\n"
     ]
    }
   ],
   "source": [
    "sym_equations = []\n",
    "sym_equations_rounded = []\n",
    "for i in range(nfeatures):\n",
    "    sym_equations.append(sp.solve(sp.Eq(sym_theta[i], \n",
    "                                        sym_theta @ np.around(coefs[i], 10)), \n",
    "                                  sym_features[i]))\n",
    "    sym_equations_rounded.append(sp.solve(sp.Eq(sym_theta[i], \n",
    "                                        sym_theta @ np.around(coefs[i], 2)), \n",
    "                                  sym_features[i]))\n",
    "    print(sym_theta[i], ' = ', sym_equations_rounded[i][0])"
   ]
  },
  {
   "cell_type": "markdown",
   "metadata": {},
   "source": [
    "### Now we will:\n",
    "1. reformat all the equations\n",
    "2. solve for x_dot \n",
    "3. integrate and plot the new equations for x_dot"
   ]
  },
  {
   "cell_type": "code",
   "execution_count": 7,
   "metadata": {},
   "outputs": [
    {
     "data": {
      "text/plain": [
       "<matplotlib.legend.Legend at 0x7f7110543e90>"
      ]
     },
     "execution_count": 7,
     "metadata": {},
     "output_type": "execute_result"
    },
    {
     "data": {
      "image/png": "[encoded data removed]",
      "text/plain": [
       "<Figure size 1152x216 with 1 Axes>"
      ]
     },
     "metadata": {
      "needs_background": "light"
     },
     "output_type": "display_data"
    }
   ],
   "source": [
    "# Define the ODE symbol variables\n",
    "t_sym = sp.symbols('t_sym')\n",
    "x_sym = sp.symbols('x:%d' % r)\n",
    "x_dot_sym = sp.symbols('x:%d_dot' % r)\n",
    "\n",
    "# Need to format the above equations so that there are space between x0 * x0, x0 * x_dot0, and so on.\n",
    "sym_equations_formatted = []\n",
    "sym_equations_rounded_formatted = []\n",
    "for i in range(nfeatures):\n",
    "    for j in range(r):\n",
    "        # Overkill to make sure all the x0, x1, etc. get replaced\n",
    "        temp_string = str(sym_equations[i]).replace('x' + str(j) + 'x', 'x' + str(j) + ' * x')\n",
    "        temp_string = temp_string.replace('x' + str(j) + 'x', 'x' + str(j) + ' * x')\n",
    "        temp_string = temp_string.replace('x' + str(j) + 'x', 'x' + str(j) + ' * x')\n",
    "        temp_string = temp_string.replace('x' + str(j) + 'x', 'x' + str(j) + ' * x')\n",
    "        temp_rounded_string = str(sym_equations_rounded[i]).replace('x' + str(j) + 'x', 'x' + str(j) + ' * x')\n",
    "        temp_rounded_string = temp_rounded_string.replace('x' + str(j) + 'x', 'x' + str(j) + ' * x')\n",
    "        temp_rounded_string = temp_rounded_string.replace('x' + str(j) + 'x', 'x' + str(j) + ' * x')\n",
    "        temp_rounded_string = temp_rounded_string.replace('x' + str(j) + 'x', 'x' + str(j) + ' * x')\n",
    "        sym_equations_formatted.append(temp_string)\n",
    "        sym_equations_rounded_formatted.append(temp_rounded_string)\n",
    "\n",
    "# Now that the equations are mathematically formatted, solve for x_dot0 in the algebraic equation\n",
    "sym_equations_simplified = []\n",
    "sym_equations_rounded_simplified = []\n",
    "for i in range(nfeatures):\n",
    "    sym_equations_simplified.append(sp.solve(\n",
    "        sp.Add(\n",
    "            sp.sympify(sym_equations_formatted)[i][0], \n",
    "            - sp.sympify(features_formatted[i])), \n",
    "        x_dot_sym))\n",
    "    rounded = sp.solve(\n",
    "        sp.Add(\n",
    "            sp.sympify(sym_equations_rounded_formatted)[i][0], \n",
    "            - sp.sympify(features_formatted[i])), \n",
    "        x_dot_sym)\n",
    "    if len(rounded) != 0:\n",
    "        rounded_temp = rounded[0]\n",
    "        for a in sp.preorder_traversal(rounded):\n",
    "            if isinstance(a, sp.Float):\n",
    "                rounded_temp = rounded_temp.subs(a, round(a, 2))\n",
    "        sym_equations_rounded_simplified.append(rounded_temp)\n",
    "    else:\n",
    "        sym_equations_rounded_simplified.append([])\n",
    "\n",
    "# Plot the results for each of the models\n",
    "plt.figure(figsize=(16, 3))\n",
    "x0_test = np.random.rand(1)\n",
    "x_test = odeint(enzyme, x0_test, t)\n",
    "plt.plot(t, x_test, color='k', linestyle='solid', label='True')\n",
    "for i in range(nfeatures):\n",
    "    ax = plt.gca()\n",
    "    if i != nfeatures - 1:\n",
    "        ax.set_xticklabels([])\n",
    "    if len(sym_equations_simplified[i]) != 0:\n",
    "        ODE_Func = sp.lambdify([x_sym, t_sym], sym_equations_simplified[i][0])\n",
    "\n",
    "        # Now simulate the system we identified\n",
    "        x_test_sim = odeint(ODE_Func, x0_test, t)\n",
    "        if np.linalg.norm(x_test_sim) < 1e3 and sym_equations_rounded_simplified[i] != 0:\n",
    "            plt.plot(t, x_test_sim, linestyle='dashed',\n",
    "                     label=str(sp.sympify(features_formatted[i])\n",
    "                              ) + ' = ' + str(\n",
    "                         sym_equations_rounded_simplified[i]))\n",
    "plt.grid(True)\n",
    "plt.legend(fontsize=10)"
   ]
  },
  {
   "cell_type": "markdown",
   "metadata": {},
   "source": [
    "### We will now try a 2D example, the bacterial competence system (Mangan et al. 2016)\n",
    "$$ \\dot{x} = a_1 + a_2x^2 / (a_3 + x^2) - x / (1 + x + y) $$\n",
    "$$ \\dot{y} = b_1 / (1 + b_2 x^5) - y / (1 + x + y) $$\n",
    "with $a_1=0.004$, $a_2=0.07$, $a_3=0.04$, $b_1=0.82$, $b_2=1854.5$. Note that multi-variable SymPy will require some changes, and multi-variable SINDy-PI typically requires many trajectories to correctly identify models."
   ]
  },
  {
   "cell_type": "code",
   "execution_count": 8,
   "metadata": {},
   "outputs": [
    {
     "name": "stdout",
     "output_type": "stream",
     "text": [
      "x0 = 0.000\n",
      "x1 = 0.000\n",
      "x0x1 = 0.000\n",
      "x0x0 = 0.000\n",
      "x1x1 = 0.000\n",
      "x0x1x1 = 0.000\n",
      "x0x0x0 = 0.000\n",
      "x1x1x1 = 0.000\n",
      "x0x1x1x1 = 0.000\n",
      "x0x0x0x0 = 0.000\n",
      "x1x1x1x1 = 0.000\n",
      "x0x0x0x0x0 = 0.000\n",
      "x1x1x1x1x1 = 0.000\n",
      "x0x0x0x0x0x0 = 0.000\n",
      "x1x1x1x1x1x1 = 0.000\n",
      "x0_dot = -0.391 x0 + 0.026 x1 + -0.029 x0x1 + 0.874 x0x0 + -0.001 x1x1x1 + 0.012 x0x1x1x1 + -0.616 x0x0x0x0 + 0.106 x0x0x0x0x0x0 + -0.012 x1_dot + 2.880 x0x0_dot + 0.130 x1x0_dot + 0.071 x0x1x0_dot + -1.943 x0x0x0_dot + -0.218 x1x1x0_dot + 0.017 x1x1x1x1x1x0_dot + -0.003 x1x1x1x1x1x1x0_dot + -0.129 x0x1_dot + 0.320 x0x1x1_dot + -0.054 x1x1x1_dot + -0.004 x1x1x1x1_dot + 0.009 x0x1x1x1x1_dot + 0.001 x1x1x1x1x1x1_dot + -0.104 x0x0x0x0x0x0x1_dot\n",
      "x1_dot = -0.120 x0 + 0.116 x1 + 0.405 x0x1 + -0.439 x1x1 + -0.158 x0x1x1 + 0.538 x1x1x1 + 0.092 x0x1x1x1 + -0.216 x0x0x0x0 + -0.249 x1x1x1x1 + 0.047 x1x1x1x1x1 + 0.278 x0x0x0x0x0x0 + -0.003 x1x1x1x1x1x1 + -0.003 x0_dot + -0.535 x0x0_dot + 0.787 x1x1x0_dot + 3.273 x0x1x1x0_dot + -1.179 x0x1x1x1x0_dot + -0.233 x1x1x1x1x0_dot + 0.398 x0x0x0x0x0x0_dot + 0.015 x1x1x1x1x1x1x0_dot + 3.349 x0x1_dot + 4.474 x1x1_dot + -10.511 x0x1x1_dot + -1.066 x0x0x1_dot + -7.612 x1x1x1_dot + 10.755 x0x1x1x1_dot + 6.790 x1x1x1x1_dot + -3.581 x0x1x1x1x1_dot + -3.515 x1x1x1x1x1_dot + 0.927 x1x1x1x1x1x1_dot + -0.093 x1x1x1x1x1x1x1_dot\n",
      "x0x0_dot = 0.000\n",
      "x1x0_dot = 0.000\n",
      "x0x1x0_dot = 0.000\n",
      "x0x0x0_dot = 0.000\n",
      "x1x1x0_dot = 0.000\n",
      "x0x1x1x0_dot = 0.000\n",
      "x0x0x0x0_dot = 0.000\n",
      "x1x1x1x0_dot = 0.000\n",
      "x0x1x1x1x0_dot = 0.000\n",
      "x0x0x0x0x0_dot = 0.000\n",
      "x1x1x1x1x0_dot = 0.000\n",
      "x0x0x0x0x0x0_dot = 0.000\n",
      "x1x1x1x1x1x0_dot = 0.000\n",
      "x0x0x0x0x0x0x0_dot = 0.000\n",
      "x1x1x1x1x1x1x0_dot = 0.000\n",
      "x0x1_dot = 0.000\n",
      "x1x1_dot = 0.000\n",
      "x0x1x1_dot = 0.000\n",
      "x0x0x1_dot = 0.000\n",
      "x1x1x1_dot = 0.000\n",
      "x0x1x1x1_dot = 0.000\n",
      "x0x0x0x1_dot = 0.000\n",
      "x1x1x1x1_dot = 0.000\n",
      "x0x1x1x1x1_dot = 0.000\n",
      "x0x0x0x0x1_dot = 0.000\n",
      "x1x1x1x1x1_dot = 0.000\n",
      "x0x0x0x0x0x1_dot = 0.000\n",
      "x1x1x1x1x1x1_dot = 0.000\n",
      "x0x0x0x0x0x0x1_dot = 0.000\n",
      "x1x1x1x1x1x1x1_dot = 0.000\n"
     ]
    }
   ],
   "source": [
    "# define parameters\n",
    "r = 2\n",
    "dt = 0.02\n",
    "T = 20\n",
    "t_train = np.arange(0, T + dt, dt)\n",
    "\n",
    "# Typically need at least 20-40 trajectories for a decent model.\n",
    "# Note that this can be fairly time-consuming. \n",
    "n_trajectories = 40\n",
    "x_train_multi = []\n",
    "t_train_multi = []\n",
    "for i in range(n_trajectories):\n",
    "    x0 = np.random.rand(2)\n",
    "    x_train_multi.append(odeint(bacterial, x0, t_train))\n",
    "    t_train_multi.append(t_train[1:-1])\n",
    "\n",
    "# Initialize custom SINDy library up to sixth order polynomials\n",
    "x_library_functions = [lambda x:x, lambda x, y:x * y, lambda x:x ** 2, \n",
    "                       lambda x, y, z:x * y * z, lambda x, y: x * y ** 2, lambda x: x ** 3,\n",
    "                       lambda x, y, z, w: x * y * z * w, lambda x, y, z:x * y * z ** 2,\n",
    "                       lambda x, y:x * y ** 3, lambda x:x ** 4, lambda x:x ** 5, lambda x:x ** 6]\n",
    "x_dot_library_functions = [lambda x:x]\n",
    "        \n",
    "library_function_names = [lambda x:x, lambda x, y: x + y, lambda x:x + x, \n",
    "                          lambda x, y, z:x + y + z, lambda x, y: x + y + y, lambda x: x + x + x,\n",
    "                          lambda x, y, z, w: x + y + z + w, lambda x, y, z:x + y + z + z,\n",
    "                          lambda x, y:x + y + y + y, lambda x:x + x + x + x, \n",
    "                          lambda x:x + x + x + x + x, lambda x:x + x + x + x + x + x, \n",
    "                          lambda x:x] \n",
    "\n",
    "# Get the indices of the equations for x0_dot and x1_dot\n",
    "lib = ps.SINDyPILibrary(library_functions=x_library_functions, \n",
    "                        x_dot_library_functions=x_dot_library_functions,\n",
    "                        t=t_train,\n",
    "                        function_names=library_function_names,\n",
    "                        include_bias=True\n",
    "                        ).fit(np.asarray(x_train_multi)[0, :, :])\n",
    "lib.transform(np.asarray(x_train_multi)[0, :, :])\n",
    "features = np.asarray(lib.get_feature_names())\n",
    "ind1 = np.ravel(np.where(features == \"x0_dot\"))[0] - 1\n",
    "ind2 = np.ravel(np.where(features == \"x1_dot\"))[0] - 1\n",
    "\n",
    "# Need to flatten t_train_multi before passing time base to SINDyPILibrary\n",
    "sindy_library = ps.SINDyPILibrary(library_functions=x_library_functions, \n",
    "                                  x_dot_library_functions=x_dot_library_functions,\n",
    "                                  t=np.ravel(np.asarray(t_train_multi)),\n",
    "                                  function_names=library_function_names,\n",
    "                                  )\n",
    "\n",
    "# Note, using model_subset (list of indices) to only compute two of the fits\n",
    "sindy_opt = ps.SINDyPI(threshold=1e-1, tol=1e-5, \n",
    "                       thresholder=\"l1\", max_iter=20000,\n",
    "                       model_subset=[ind1, ind2],\n",
    "                       )\n",
    "model = ps.SINDy(\n",
    "    optimizer=sindy_opt,\n",
    "    feature_library=sindy_library,\n",
    "    differentiation_method=ps.FiniteDifference(drop_endpoints=True),\n",
    ")\n",
    "model.fit(x_train_multi, t=dt, multiple_trajectories=True)\n",
    "model.print()"
   ]
  },
  {
   "cell_type": "code",
   "execution_count": 9,
   "metadata": {},
   "outputs": [
    {
     "data": {
      "image/png": "[encoded data removed]",
      "text/plain": [
       "<Figure size 432x288 with 2 Axes>"
      ]
     },
     "metadata": {
      "needs_background": "light"
     },
     "output_type": "display_data"
    }
   ],
   "source": [
    "# Plot the fit of the derivative\n",
    "x_train = np.asarray(x_train_multi)[0, :, :]\n",
    "x_dot_train = model.differentiate(x_train, t_train)\n",
    "x_dot_train_pred = sindy_opt.Theta[:len(t_train) - 2, :] @ sindy_opt.coef_.T\n",
    "plt.figure()\n",
    "inds = [ind1, ind2]\n",
    "for i in range(r):\n",
    "    plt.subplot(1, r, i + 1)\n",
    "    plt.plot(t_train, x_dot_train[:, i], 'k')\n",
    "    plt.plot(t_train[1:-1], x_dot_train_pred[:, inds[i]], 'r--')"
   ]
  },
  {
   "cell_type": "code",
   "execution_count": 10,
   "metadata": {},
   "outputs": [
    {
     "name": "stdout",
     "output_type": "stream",
     "text": [
      "['1', 'x1', 'x0x1', 'x0x0', 'x1x1', 'x0x1x1', 'x0x0x0', 'x1x1x1', 'x0x1x1x1', 'x0x0x0x0', 'x1x1x1x1', 'x0x0x0x0x0', 'x1x1x1x1x1', 'x0x0x0x0x0x0', 'x1x1x1x1x1x1', 'x0_dot', 'x1_dot', 'x0x0_dot', 'x1x0_dot', 'x0x1x0_dot', 'x0x0x0_dot', 'x1x1x0_dot', 'x0x1x1x0_dot', 'x0x0x0x0_dot', 'x1x1x1x0_dot', 'x0x1x1x1x0_dot', 'x0x0x0x0x0_dot', 'x1x1x1x1x0_dot', 'x0x0x0x0x0x0_dot', 'x1x1x1x1x1x0_dot', 'x0x0x0x0x0x0x0_dot', 'x1x1x1x1x1x1x0_dot', 'x0x1_dot', 'x1x1_dot', 'x0x1x1_dot', 'x0x0x1_dot', 'x1x1x1_dot', 'x0x1x1x1_dot', 'x0x0x0x1_dot', 'x1x1x1x1_dot', 'x0x1x1x1x1_dot', 'x0x0x0x0x1_dot', 'x1x1x1x1x1_dot', 'x0x0x0x0x0x1_dot', 'x1x1x1x1x1x1_dot', 'x0x0x0x0x0x0x1_dot', 'x1x1x1x1x1x1x1_dot']\n",
      "['1', 'x1', 'x0 * x1', 'x0 * x0', 'x1 * x1', 'x0 * x1 * x1', 'x0 * x0 * x0', 'x1 * x1 * x1', 'x0 * x1 * x1 * x1', 'x0 * x0 * x0 * x0', 'x1 * x1 * x1 * x1', 'x0 * x0 * x0 * x0 * x0', 'x1 * x1 * x1 * x1 * x1', 'x0 * x0 * x0 * x0 * x0 * x0', 'x1 * x1 * x1 * x1 * x1 * x1', 'x0_dot', 'x1_dot', 'x0 * x0_dot', 'x1 * x0_dot', 'x0 * x1 * x0_dot', 'x0 * x0 * x0_dot', 'x1 * x1 * x0_dot', 'x0 * x1 * x1 * x0_dot', 'x0 * x0 * x0 * x0_dot', 'x1 * x1 * x1 * x0_dot', 'x0 * x1 * x1 * x1 * x0_dot', 'x0 * x0 * x0 * x0 * x0_dot', 'x1 * x1 * x1 * x1 * x0_dot', 'x0 * x0 * x0 * x0 * x0 * x0_dot', 'x1 * x1 * x1 * x1 * x1 * x0_dot', 'x0 * x0 * x0 * x0 * x0 * x0 * x0_dot', 'x1 * x1 * x1 * x1 * x1 * x1 * x0_dot', 'x0 * x1_dot', 'x1 * x1_dot', 'x0 * x1 * x1_dot', 'x0 * x0 * x1_dot', 'x1 * x1 * x1_dot', 'x0 * x1 * x1 * x1_dot', 'x0 * x0 * x0 * x1_dot', 'x1 * x1 * x1 * x1_dot', 'x0 * x1 * x1 * x1 * x1_dot', 'x0 * x0 * x0 * x0 * x1_dot', 'x1 * x1 * x1 * x1 * x1_dot', 'x0 * x0 * x0 * x0 * x0 * x1_dot', 'x1 * x1 * x1 * x1 * x1 * x1_dot', 'x0 * x0 * x0 * x0 * x0 * x0 * x1_dot', 'x1 * x1 * x1 * x1 * x1 * x1 * x1_dot']\n",
      "x0_dot  =  -0.39*1 + 0.87*x0x0 + 2.88*x0x0_dot - 1.94*x0x0x0_dot - 0.62*x0x0x0x0 + 0.11*x0x0x0x0x0x0 - 0.1*x0x0x0x0x0x0x1_dot - 0.03*x0x1 - 0.13*x0x1_dot + 0.07*x0x1x0_dot + 0.32*x0x1x1_dot + 0.01*x0x1x1x1 + 0.01*x0x1x1x1x1_dot + 0.03*x1 - 0.01*x1_dot + 0.13*x1x0_dot - 0.22*x1x1x0_dot - 0.05*x1x1x1_dot + 0.02*x1x1x1x1x1x0_dot\n",
      "x1_dot  =  -0.12*1 - 0.54*x0x0_dot - 0.22*x0x0x0x0 + 0.28*x0x0x0x0x0x0 + 0.4*x0x0x0x0x0x0_dot - 1.07*x0x0x1_dot + 0.4*x0x1 + 3.35*x0x1_dot - 0.16*x0x1x1 - 10.51*x0x1x1_dot + 3.27*x0x1x1x0_dot + 0.09*x0x1x1x1 + 10.76*x0x1x1x1_dot - 1.18*x0x1x1x1x0_dot - 3.58*x0x1x1x1x1_dot + 0.12*x1 - 0.44*x1x1 + 4.47*x1x1_dot + 0.79*x1x1x0_dot + 0.54*x1x1x1 - 7.61*x1x1x1_dot - 0.25*x1x1x1x1 + 6.79*x1x1x1x1_dot - 0.23*x1x1x1x1x0_dot + 0.05*x1x1x1x1x1 - 3.51*x1x1x1x1x1_dot + 0.93*x1x1x1x1x1x1_dot + 0.02*x1x1x1x1x1x1x0_dot - 0.09*x1x1x1x1x1x1x1_dot\n"
     ]
    }
   ],
   "source": [
    "# Repeat formatting the feature names and building the symbolic equations\n",
    "features = model.get_feature_names()\n",
    "nfeatures = len(features)\n",
    "features[0] = '1'\n",
    "features_copy = list(np.copy(features))\n",
    "nfeatures = len(features)\n",
    "features_formatted = []\n",
    "# Need to put multiplication between terms for sympy\n",
    "for i in range(nfeatures):\n",
    "    for j in range(r):\n",
    "        # Overkill to make sure all the x0, x1, etc. get replaced\n",
    "        temp_string = features[i].replace('x' + str(j) + 'x', 'x' + str(j) + ' * x')\n",
    "        temp_string = temp_string.replace('x' + str(j) + 'x', 'x' + str(j) + ' * x')\n",
    "        temp_string = temp_string.replace('x' + str(j) + 'x', 'x' + str(j) + ' * x')\n",
    "        temp_string = temp_string.replace('x' + str(j) + 'x', 'x' + str(j) + ' * x')\n",
    "        features[i] = temp_string\n",
    "    features_formatted.append(temp_string)\n",
    "features = features_copy\n",
    "print(features)\n",
    "print(features_formatted)\n",
    "\n",
    "coefs = model.coefficients()\n",
    "sym_features = [sp.symbols(feature) for feature in features]\n",
    "sym_theta = [sp.symbols(feature) for feature in features]\n",
    "sym_equations = []\n",
    "sym_equations_rounded = []\n",
    "for i in range(nfeatures):\n",
    "    if np.any(np.around(coefs[i], 2) != 0.0):\n",
    "        sym_equation = sp.solve(sp.Eq(sym_theta[i], \n",
    "                                            sym_theta @ np.around(coefs[i], 10)), \n",
    "                                      sym_features[i])\n",
    "        sym_equations.append(sym_equation)\n",
    "        sym_equation_rounded = sp.solve(sp.Eq(sym_theta[i], \n",
    "                                            sym_theta @ np.around(coefs[i], 2)), \n",
    "                                      sym_features[i])\n",
    "        sym_equations_rounded.append(sym_equation_rounded)\n",
    "        print(sym_theta[i], ' = ', sym_equation_rounded[0])"
   ]
  },
  {
   "cell_type": "code",
   "execution_count": 11,
   "metadata": {},
   "outputs": [
    {
     "name": "stdout",
     "output_type": "stream",
     "text": [
      "Solved for xdot equations =  {x0_dot: (3.62259394719025e+37*x0**12 - 3.82001176996164e+31*x0**11 - 2.81005634577181e+37*x0**10 + 1.44997599894258e+32*x0**9 - 1.41139899026553e+38*x0**8 - 4.65257677322505e+38*x0**7*x1**3 + 1.40352687462186e+39*x0**7*x1**2 - 1.45038623539907e+39*x0**7*x1 + 4.8843510180743e+38*x0**7 - 1.27281500093651e+37*x0**6*x1**6 + 1.28317942866169e+38*x0**6*x1**5 - 4.97764202929335e+38*x0**6*x1**4 + 9.70589767488437e+38*x0**6*x1**3 - 1.04619721610906e+39*x0**6*x1**2 + 6.0755942889213e+38*x0**6*x1 + 6.77602305088243e+38*x0**6 + 1.45796185491214e+29*x0**5*x1**6 - 1.9375738778509e+30*x0**5*x1**5 + 1.01037918450163e+31*x0**5*x1**4 + 2.76188869445148e+39*x0**5*x1**3 - 8.28829875834426e+39*x0**5*x1**2 + 8.18617470799218e+39*x0**5*x1 - 2.61578391268158e+39*x0**5 + 7.15563113083956e+37*x0**4*x1**6 - 7.13902567882357e+38*x0**4*x1**5 + 2.70844661589623e+39*x0**4*x1**4 - 5.23376778945179e+39*x0**4*x1**3 + 5.85149747403622e+39*x0**4*x1**2 - 3.44785746228444e+39*x0**4*x1 - 3.96955547470938e+38*x0**4 - 2.85410456044508e+30*x0**3*x1**6 + 2.6554139839248e+31*x0**3*x1**5 - 9.71326091509428e+31*x0**3*x1**4 - 3.92733080005783e+39*x0**3*x1**3 + 1.17481202367455e+40*x0**3*x1**2 - 1.14427508033544e+40*x0**3*x1 + 3.65823414230084e+39*x0**3 - 1.56008882015369e+38*x0**2*x1**6 + 1.17546587675113e+39*x0**2*x1**5 - 3.90928845049663e+39*x0**2*x1**4 + 7.16170974508365e+39*x0**2*x1**3 - 8.12614533674957e+39*x0**2*x1**2 + 4.79789828054441e+39*x0**2*x1 - 5.71413381968978e+38*x0**2 - 1.74897806872912e+36*x0*x1**9 + 1.60587879113402e+37*x0*x1**8 - 5.13984644049764e+37*x0*x1**7 + 5.40395202148969e+37*x0*x1**6 + 1.11015115292397e+38*x0*x1**5 - 5.41870438720299e+38*x0*x1**4 + 2.64563228012356e+39*x0*x1**3 - 5.87864012159468e+39*x0*x1**2 + 5.35399078542573e+39*x0*x1 - 1.65591470593335e+39*x0 - 8.91690218986812e+33*x1**12 + 1.34213440664581e+35*x1**11 - 8.28507833529735e+35*x1**10 + 2.81486344570361e+36*x1**9 - 6.24531645376339e+36*x1**8 + 9.07484154471959e+36*x1**7 + 4.867145000823e+37*x1**6 - 5.20445350285624e+38*x1**5 + 1.89934050422602e+39*x1**4 - 3.54962069470761e+39*x1**3 + 3.85106936653404e+39*x1**2 - 2.21719379885824e+39*x1 + 4.86860192431342e+38)/(5.48004537108154e+30*x0**12 - 5.18673438144171e+37*x0**11 + 6.63013217702514e+30*x0**10 + 1.08307250178599e+31*x0**9 - 4.73799441407754e+32*x0**8 + 1.53457856686973e+38*x0**7*x1**3 - 4.26049364060312e+38*x0**7*x1**2 - 1.44545063282338e+32*x0**7*x1 + 6.96946123806637e+37*x0**7 - 1.97483291167318e+36*x0**6*x1**6 - 5.57317268625519e+31*x0**6*x1**5 + 3.03584256658445e+37*x0**6*x1**4 + 4.42599632706966e+36*x0**6*x1**3 - 1.02402286154043e+38*x0**6*x1**2 + 1.59472864951994e+38*x0**6*x1 - 6.40046327304342e+37*x0**6 + 9.78709429262731e+34*x0**5*x1**6 + 6.76023557751894e+35*x0**5*x1**5 - 8.82796870584622e+31*x0**5*x1**4 - 2.18270122933982e+36*x0**5*x1**3 - 2.69240558768028e+37*x0**5*x1**2 - 2.05703034652241e+32*x0**5*x1 - 5.95052912511413e+36*x0**5 - 2.22272253640472e+30*x0**4*x1**6 + 2.74239833711601e+31*x0**4*x1**5 - 1.02020025867307e+32*x0**4*x1**4 - 5.53187111101407e+30*x0**4*x1**3 + 3.22846092293172e+32*x0**4*x1**2 - 1.38905460027798e+32*x0**4*x1 - 2.58910907161012e+39*x0**4 - 2.12567005634568e+30*x0**3*x1**6 + 2.98123055159976e+31*x0**3*x1**5 - 1.19781142434667e+32*x0**3*x1**4 - 8.69761493520878e+39*x0**3*x1**3 + 2.61238171108377e+40*x0**3*x1**2 - 2.54345179046407e+40*x0**3*x1 + 1.19727244077045e+40*x0**3 - 2.42153509007498e+38*x0**2*x1**6 + 2.31015732458282e+39*x0**2*x1**5 - 8.68910550185287e+39*x0**2*x1**4 + 2.99208576069092e+40*x0**2*x1**3 - 5.70969426032725e+40*x0**2*x1**2 + 4.83719710742803e+40*x0**2*x1 - 1.57335014564817e+40*x0**2 - 1.25104587138822e+37*x0*x1**9 + 1.11613934781804e+38*x0*x1**8 - 2.46115895278769e+38*x0*x1**7 + 4.88756860086314e+38*x0*x1**6 - 4.09458915897426e+39*x0*x1**5 + 1.53793175657036e+40*x0*x1**4 - 3.25216656516385e+40*x0*x1**3 + 4.29327860443945e+40*x0*x1**2 - 2.97036814513179e+40*x0*x1 + 7.79547019489113e+39*x0 - 3.17305020828811e+35*x1**12 + 5.19149429465554e+36*x1**11 - 3.17852817419544e+37*x1**10 + 9.72133991535052e+37*x1**9 - 1.95817179772491e+38*x1**8 + 4.46577643777858e+38*x1**7 - 1.30711455636102e+39*x1**6 + 3.59728057924475e+39*x1**5 - 7.62070326344591e+39*x1**4 + 1.09432369721048e+40*x1**3 - 1.05257156853527e+40*x1**2 + 5.7550295940306e+39*x1 - 1.24995271232232e+39), x1_dot: (1.57368802331149e+30*x0**12 - 5.27593429847065e+37*x0**11 - 4.1657215196343e+31*x0**10 + 3.07063931932387e+38*x0**9 - 6.75967753760558e+38*x0**8 + 1.56097030581325e+38*x0**7*x1**3 - 4.33376527122334e+38*x0**7*x1**2 + 2.48272659684955e+37*x0**7*x1 + 6.37694991803405e+38*x0**7 - 2.97168265198016e+36*x0**6*x1**6 + 5.87528689789897e+36*x0**6*x1**5 + 3.08806218874431e+37*x0**6*x1**4 - 5.9561064057175e+36*x0**6*x1**3 - 1.80044467083333e+38*x0**6*x1**2 + 5.94353244385675e+37*x0**6*x1 + 1.7689245374167e+38*x0**6 - 4.13248000220497e+34*x0**5*x1**6 + 1.91763349431466e+35*x0**5*x1**5 - 1.00229648011527e+32*x0**5*x1**4 - 9.07877735000336e+38*x0**5*x1**3 + 2.52228943492286e+39*x0**5*x1**2 - 3.22622723975184e+37*x0**5*x1 - 9.95184659663902e+38*x0**5 + 1.24382704820598e+37*x0**4*x1**6 - 4.5571188038181e+36*x0**4*x1**5 - 1.79727635970199e+38*x0**4*x1**4 - 3.18848622807827e+31*x0**4*x1**3 + 6.65102067110384e+38*x0**4*x1**2 - 3.50420756049054e+37*x0**4*x1 + 2.67410929998694e+38*x0**4 - 1.05010382221127e+30*x0**3*x1**6 + 2.55612564037224e+30*x0**3*x1**5 + 1.49291464184606e+31*x0**3*x1**4 + 1.06445754806282e+39*x0**3*x1**3 - 3.19157056711515e+39*x0**3*x1**2 - 9.83152860895244e+38*x0**3*x1 + 5.8483848803929e+38*x0**3 + 8.0327439363349e+36*x0**2*x1**6 - 1.6210335181985e+38*x0**2*x1**5 + 8.25380516389072e+38*x0**2*x1**4 - 8.64312958684276e+38*x0**2*x1**3 - 3.2640115693773e+38*x0**2*x1**2 + 1.15549917434697e+39*x0**2*x1 + 2.94438684630585e+38*x0**2 - 4.22563739032056e+35*x0*x1**9 + 1.58030533375668e+36*x0*x1**8 + 6.13523924886783e+35*x0*x1**7 + 5.70473501348433e+35*x0*x1**6 + 1.05234506719236e+38*x0*x1**5 - 7.51841256288077e+38*x0*x1**4 + 9.90952702566531e+38*x0*x1**3 + 2.93488703530408e+38*x0*x1**2 - 8.0150306239235e+37*x0*x1 - 6.92978021418075e+38*x0 + 8.37252249347393e+33*x1**12 - 2.14603826146039e+35*x1**11 + 1.86915477948633e+36*x1**10 - 7.20468079947965e+36*x1**9 + 1.35744744912596e+37*x1**8 - 2.33144963561427e+37*x1**7 + 8.93144168267028e+37*x1**6 - 2.38991279219778e+38*x1**5 + 4.04100353096151e+38*x1**4 - 8.00921186511777e+38*x1**3 + 9.84301854411309e+38*x1**2 - 1.64856701266667e+38*x1 + 1.4820223001148e+38)/(5.48004537108154e+30*x0**12 - 5.18673438144171e+37*x0**11 + 6.63013217702514e+30*x0**10 + 1.08307250178599e+31*x0**9 - 4.73799441407754e+32*x0**8 + 1.53457856686973e+38*x0**7*x1**3 - 4.26049364060312e+38*x0**7*x1**2 - 1.44545063282338e+32*x0**7*x1 + 6.96946123806637e+37*x0**7 - 1.97483291167318e+36*x0**6*x1**6 - 5.57317268625519e+31*x0**6*x1**5 + 3.03584256658445e+37*x0**6*x1**4 + 4.42599632706966e+36*x0**6*x1**3 - 1.02402286154043e+38*x0**6*x1**2 + 1.59472864951994e+38*x0**6*x1 - 6.40046327304342e+37*x0**6 + 9.78709429262731e+34*x0**5*x1**6 + 6.76023557751894e+35*x0**5*x1**5 - 8.82796870584622e+31*x0**5*x1**4 - 2.18270122933982e+36*x0**5*x1**3 - 2.69240558768028e+37*x0**5*x1**2 - 2.05703034652241e+32*x0**5*x1 - 5.95052912511413e+36*x0**5 - 2.22272253640472e+30*x0**4*x1**6 + 2.74239833711601e+31*x0**4*x1**5 - 1.02020025867307e+32*x0**4*x1**4 - 5.53187111101407e+30*x0**4*x1**3 + 3.22846092293172e+32*x0**4*x1**2 - 1.38905460027798e+32*x0**4*x1 - 2.58910907161012e+39*x0**4 - 2.12567005634568e+30*x0**3*x1**6 + 2.98123055159976e+31*x0**3*x1**5 - 1.19781142434667e+32*x0**3*x1**4 - 8.69761493520878e+39*x0**3*x1**3 + 2.61238171108377e+40*x0**3*x1**2 - 2.54345179046407e+40*x0**3*x1 + 1.19727244077045e+40*x0**3 - 2.42153509007498e+38*x0**2*x1**6 + 2.31015732458282e+39*x0**2*x1**5 - 8.68910550185287e+39*x0**2*x1**4 + 2.99208576069092e+40*x0**2*x1**3 - 5.70969426032725e+40*x0**2*x1**2 + 4.83719710742803e+40*x0**2*x1 - 1.57335014564817e+40*x0**2 - 1.25104587138822e+37*x0*x1**9 + 1.11613934781804e+38*x0*x1**8 - 2.46115895278769e+38*x0*x1**7 + 4.88756860086314e+38*x0*x1**6 - 4.09458915897426e+39*x0*x1**5 + 1.53793175657036e+40*x0*x1**4 - 3.25216656516385e+40*x0*x1**3 + 4.29327860443945e+40*x0*x1**2 - 2.97036814513179e+40*x0*x1 + 7.79547019489113e+39*x0 - 3.17305020828811e+35*x1**12 + 5.19149429465554e+36*x1**11 - 3.17852817419544e+37*x1**10 + 9.72133991535052e+37*x1**9 - 1.95817179772491e+38*x1**8 + 4.46577643777858e+38*x1**7 - 1.30711455636102e+39*x1**6 + 3.59728057924475e+39*x1**5 - 7.62070326344591e+39*x1**4 + 1.09432369721048e+40*x1**3 - 1.05257156853527e+40*x1**2 + 5.7550295940306e+39*x1 - 1.24995271232232e+39)}\n"
     ]
    },
    {
     "name": "stderr",
     "output_type": "stream",
     "text": [
      "/usr/local/anaconda3/lib/python3.7/site-packages/scipy/integrate/odepack.py:247: ODEintWarning: Excess work done on this call (perhaps wrong Dfun type). Run with full_output = 1 to get quantitative information.\n",
      "  warnings.warn(warning_msg, ODEintWarning)\n"
     ]
    },
    {
     "data": {
      "text/plain": [
       "[<matplotlib.lines.Line2D at 0x7f711014c850>,\n",
       " <matplotlib.lines.Line2D at 0x7f711014c910>]"
      ]
     },
     "execution_count": 11,
     "metadata": {},
     "output_type": "execute_result"
    },
    {
     "data": {
      "image/png": "[encoded data removed]",
      "text/plain": [
       "<Figure size 1440x288 with 1 Axes>"
      ]
     },
     "metadata": {
      "needs_background": "light"
     },
     "output_type": "display_data"
    }
   ],
   "source": [
    "# Define the ODE symbol variables\n",
    "t_sym = sp.symbols('t_sym')\n",
    "x_sym = sp.symbols('x:%d' % r)\n",
    "x_dot_sym = sp.symbols('x:%d_dot' % r)\n",
    "\n",
    "# Need to format the above equations so that there are space between x0 * x0, x0 * x_dot0, and so on.\n",
    "sym_equations_formatted = []\n",
    "for i in range(len(sym_equations)):\n",
    "    for j in range(r):\n",
    "        # Overkill to make sure all the x0, x1, etc. get replaced\n",
    "        temp_string = str(sym_equations[i]).replace('x' + str(j) + 'x', 'x' + str(j) + ' * x')\n",
    "        temp_string = temp_string.replace('x' + str(j) + 'x', 'x' + str(j) + ' * x')\n",
    "        temp_string = temp_string.replace('x' + str(j) + 'x', 'x' + str(j) + ' * x')\n",
    "        temp_string = temp_string.replace('x' + str(j) + 'x', 'x' + str(j) + ' * x')\n",
    "        sym_equations[i] = temp_string\n",
    "    sym_equations_formatted.append(temp_string)\n",
    "\n",
    "# IMPORTANT change for multi-variable implicit equations:\n",
    "# Now that the equations are mathematically formatted, \n",
    "# solve for x0_dot and x1_dot in the algebraic equation.\n",
    "# Have two unknowns, (x0_dot, x1_dot), \n",
    "# so need to solve using two of ANY of the equations,\n",
    "# but for simplicity we choose the equations for x0_dot and x1_dot\n",
    "sym_equations_simplified = sp.solve(\n",
    "    (sp.Add(\n",
    "        sp.sympify(sym_equations_formatted)[0][0], \n",
    "        - sp.sympify(features_formatted[ind1])), \n",
    "    sp.Add(\n",
    "        sp.sympify(sym_equations_formatted)[1][0], \n",
    "        - sp.sympify(features_formatted[ind2]))),\n",
    "    x_dot_sym)\n",
    "print('Solved for xdot equations = ', sym_equations_simplified)\n",
    "\n",
    "# Plot the results for each of the models\n",
    "plt.figure(figsize=(20, 4))\n",
    "x0_test = [0.5, 0.1]\n",
    "t_test = t_train\n",
    "x_test = odeint(bacterial, x0_test, t_test)\n",
    "plt.plot(t_test, x_test, color='k',linestyle='solid')\n",
    "\n",
    "# Not the cleanest notation for multiple variables, but it works\n",
    "ODE_Func = sp.lambdify([x_sym, t_sym], \n",
    "                       [sym_equations_simplified[x_dot_sym[0]], \n",
    "                        sym_equations_simplified[x_dot_sym[1]]])\n",
    "\n",
    "# Now simulate the system we identified\n",
    "x_test_sim = odeint(ODE_Func, x0_test, t_test)\n",
    "plt.plot(t_test, x_test_sim, color='r', linestyle='dashed')\n"
   ]
  },
  {
   "cell_type": "markdown",
   "metadata": {},
   "source": [
    "### Although the model performs well on the test trajectory the final model form looks pretty crazy... this is mostly because of the SymPy solve function, which struggles with getting the correct numerical precisions on each coefficient. \n",
    "\n",
    "### Okay, we have illustrated that we can:\n",
    "### 1. Use SINDyPI to derive implicit equations of motion\n",
    "### 2. Convert to symbolic equations of motion, and use this to solve for x_dot\n",
    "### 3. Plug this into an ODE solver and integrate the new equations of motions for x_dot.\n",
    "### However, for some systems, we may want to be able to integrate and manipulate fully differential algebraic equations (DAEs) without trying to solve for x_dot. Unfortunately, this requires the Julia coding package, which can be obtained online easily.\n",
    "To install the dependencies on my computer, at a terminal, I need to do: <br>\n",
    "julia  (enters the julia console) <br>\n",
    "import Pkg <br>\n",
    "Pkg.add(\"PyCall\") <br>\n",
    "Pkg.add(\"DiffEqBase\") <br>\n",
    "Pkg.add(\"DifferentialEquations\") <br>\n",
    "exit() <br>\n",
    "\n",
    "### In this case we will:\n",
    "### 1. Import the diffeqpy package and install it and its dependencies. This requires the coding language Julia to be installed on your computer.\n",
    "### 2. Use SINDyPI to derive implicit equations of motion\n",
    "### 3. Convert to symbolic equations of motion\n",
    "### 3. Plug this into a general DAE solver and integrate the new equations of motions for x_dot."
   ]
  },
  {
   "cell_type": "code",
   "execution_count": null,
   "metadata": {},
   "outputs": [],
   "source": [
    "# from julia.api import Julia\n",
    "# jl = Julia(compiled_modules=False)\n",
    "# from diffeqpy import de\n",
    "\n",
    "# This can take a few minutes to install!!\n",
    "import diffeqpy\n",
    "diffeqpy.install()\n",
    "from diffeqpy import de"
   ]
  },
  {
   "cell_type": "code",
   "execution_count": null,
   "metadata": {},
   "outputs": [],
   "source": [
    "# Use previously identified models, the system ID part is unchanged\n",
    "\n",
    "# Define the time and p symbols, these are dummy variables\n",
    "t_sym=sp.symbols('t_sym')\n",
    "p_sym=sp.symbols('p_sym')\n",
    "x_sym = sp.symbols('x:%d' % r)\n",
    "x_dot_sym = sp.symbols('x:%d_dot' % r)\n",
    "\n",
    "# lambdify the DAE, not solving for x_dot first!\n",
    "SINDy_model=sp.lambdify([x_dot_sym, x_sym, p_sym, t_sym],  \n",
    "                         [sym_equations_formatted[x_dot_sym[0]], \n",
    "                          sym_equations_formatted[x_dot_sym[1]]])\n",
    "\n",
    "# Integrate the DAE with diffeqpy and plot against true test trajectory\n",
    "plt.figure()\n",
    "plt.plot(t, x_test, 'k')\n",
    "\n",
    "dx0 = [0.05, 0.1]\n",
    "tspan = (t_test[0], t_test[-1])\n",
    "differential_vars = [True, True]\n",
    "prob = de.DAEProblem(SINDy_model, dx0, x0_test, tspan, differential_vars=differential_vars)\n",
    "sol = de.solve(prob)\n",
    "plt.plot(sol.t, sol.u, 'r--')\n",
    "plt.grid(True)"
   ]
  },
  {
   "cell_type": "markdown",
   "metadata": {},
   "source": [
    "### Last example: 4D pendulum on a cart equations,\n",
    "$$\\frac{d}{dt}\\phi = \\dot{\\phi}$$\n",
    "$$\\frac{d}{dt}s = \\dot{s}$$\n",
    "$$\\frac{d}{dt}\\dot{\\phi} = -\\frac{F\\cos(\\phi) - (M + m)g\\sin(\\phi) + mL\\cos(\\phi)\\sin(\\phi)\\dot{\\phi}^2}{L(M + m\\sin^2(\\phi))}$$\n",
    "$$\\frac{d}{dt}\\dot{s} = \\frac{F - mg\\cos(\\phi)\\sin(\\phi) + mL\\sin(\\phi)\\dot{\\phi}^2}{M + m\\sin^2(\\phi)}$$\n"
   ]
  },
  {
   "cell_type": "code",
   "execution_count": null,
   "metadata": {},
   "outputs": [],
   "source": [
    "# define parameters\n",
    "r = 4\n",
    "dt = 0.001\n",
    "T = 20\n",
    "t_train = np.arange(0, T + dt, dt)\n",
    "\n",
    "# no control inputs for simplicity\n",
    "x0 = [0.3, -0.2, 1.0, 0.4]\n",
    "x_train = odeint(pendulum_on_cart, x0, t_train, args=(1, 1, 1, 0, 9.81))\n",
    "\n",
    "# define hyperparameters\n",
    "threshold = 1e-2\n",
    "\n",
    "x_library_functions = [lambda x:1, lambda x:x, lambda x:sin(x),\n",
    "                       lambda x: sin(x) * sin(x), lambda x: sin(x) * cos(x)]\n",
    "x_dot_library_functions = [lambda x:1, lambda x:x, lambda x:x ** 2]\n",
    "        \n",
    "library_function_names = [lambda x:'', lambda x:x, lambda x: 'sin(' + x + ')',\n",
    "                          lambda x: 'sin(' + x + ')' + 'sin(' + x + ')', \n",
    "                          lambda x: 'sin(' + x + ')' + 'cos(' + x + ')',\n",
    "                          lambda x:'', lambda x:x, lambda x: x + x] \n",
    "\n",
    "# Get the indices of the equations for x0_dot, ..., x3_dot\n",
    "lib = ps.SINDyPILibrary(library_functions=x_library_functions, \n",
    "                        x_dot_library_functions=x_dot_library_functions,\n",
    "                        t=t_train,\n",
    "                        function_names=library_function_names,\n",
    "                        ).fit(x_train) \n",
    "lib.transform(x_train)\n",
    "features = np.asarray(lib.get_feature_names())\n",
    "ind1 = np.ravel(np.where(features == \"x0_dot\"))[0]\n",
    "ind2 = np.ravel(np.where(features == \"x1_dot\"))[0]\n",
    "ind3 = np.ravel(np.where(features == \"x2_dot\"))[0]\n",
    "ind4 = np.ravel(np.where(features == \"x3_dot\"))[0]\n",
    "\n",
    "sindy_library = ps.SINDyPILibrary(library_functions=x_library_functions, \n",
    "                                  x_dot_library_functions=x_dot_library_functions,\n",
    "                                  t=t_train[1:-1],\n",
    "                                  function_names=library_function_names,\n",
    "                                  )\n",
    "\n",
    "# Column normalization essential here because phi and s have different units\n",
    "# and problem is very ill-conditioned\n",
    "sindy_opt = ps.SINDyPI(threshold=threshold, tol=1e-6, \n",
    "                       thresholder=\"l1\", max_iter=20000,\n",
    "                       model_subset=[ind1, ind2, ind3, ind4],\n",
    "                       normalize_columns=True)\n",
    "model = ps.SINDy(\n",
    "    optimizer=sindy_opt,\n",
    "    feature_library=sindy_library,\n",
    "    differentiation_method=ps.FiniteDifference(drop_endpoints=True),\n",
    ")\n",
    "model.fit(x_train, t=dt)\n",
    "model.print()"
   ]
  },
  {
   "cell_type": "code",
   "execution_count": null,
   "metadata": {},
   "outputs": [],
   "source": [
    "# Plot the fit of the derivative\n",
    "x_dot_train = model.differentiate(x_train, t_train)\n",
    "x_dot_train_pred = model.predict(x_train[1:-1, :]) \n",
    "reg = np.linalg.norm(sindy_opt.Theta, 2, axis=0)\n",
    "x_dot_train_pred = sindy_opt.Theta @ sindy_opt.coef_.T\n",
    "\n",
    "plt.figure(figsize=(16, 4))\n",
    "inds = [ind1, ind2, ind3, ind4]\n",
    "for i in range(r):\n",
    "    plt.subplot(r, 1, i + 1)\n",
    "    plt.plot(t_train, x_dot_train[:, i], 'k')\n",
    "    plt.plot(t_train[1:-1], x_dot_train_pred[:, inds[i]], 'r--')"
   ]
  },
  {
   "cell_type": "code",
   "execution_count": null,
   "metadata": {},
   "outputs": [],
   "source": [
    "from sympy import sin, cos\n",
    "nfeatures = len(features)\n",
    "features[0] = '1'\n",
    "features_copy = list(np.copy(features))\n",
    "nfeatures = len(features)\n",
    "features_formatted = []\n",
    "# Need to put multiplication between terms for sympy\n",
    "for i in range(nfeatures):\n",
    "    for j in range(r):\n",
    "        # Overkill to make sure all the x0, x1, etc. get replaced\n",
    "        temp_string = features[i].replace('x' + str(j) + 'x', 'x' + str(j) + ' * x')\n",
    "        temp_string = temp_string.replace('x' + str(j) + 'x', 'x' + str(j) + ' * x')\n",
    "        temp_string = temp_string.replace('x' + str(j) + 'x', 'x' + str(j) + ' * x')\n",
    "        temp_string = temp_string.replace('x' + str(j) + 'x', 'x' + str(j) + ' * x')\n",
    "        temp_string = temp_string.replace('tx' + str(j), 't * x' + str(j))\n",
    "        temp_string = temp_string.replace('tx' + str(j), 't * x' + str(j))\n",
    "        temp_string = temp_string.replace(')x', ') * x')\n",
    "        temp_string = temp_string.replace(')c', ') * c')\n",
    "        temp_string = temp_string.replace(')s', ') * s')\n",
    "\n",
    "        features[i] = temp_string\n",
    "    features_formatted.append(temp_string)\n",
    "features = features_copy\n",
    "# print(features)\n",
    "print(features_formatted)\n",
    "\n",
    "coefs = model.coefficients()\n",
    "sym_features = [sp.symbols(feature) for feature in features]\n",
    "sym_theta = [sp.symbols(feature) for feature in features]\n",
    "sym_equations = []\n",
    "sym_equations_rounded = []\n",
    "for i in range(nfeatures):\n",
    "    if np.any(np.around(coefs[i], 2) != 0.0):\n",
    "        sym_equation = sp.solve(sp.Eq(sym_theta[i], \n",
    "                                            sym_theta @ np.around(coefs[i], 10)), \n",
    "                                      sym_features[i])\n",
    "        sym_equations.append(sym_equation)\n",
    "        sym_equation_rounded = sp.solve(sp.Eq(sym_theta[i], \n",
    "                                            sym_theta @ np.around(coefs[i], 2)), \n",
    "                                      sym_features[i])\n",
    "        sym_equations_rounded.append(sym_equation_rounded)\n",
    "        print(sym_theta[i], ' = ', sym_equation_rounded[0])"
   ]
  },
  {
   "cell_type": "code",
   "execution_count": null,
   "metadata": {},
   "outputs": [],
   "source": [
    "# Define the ODE symbol variables\n",
    "t_sym = sp.symbols('t_sym')\n",
    "x_sym = sp.symbols('x:%d' % r)\n",
    "x_dot_sym = sp.symbols('x:%d_dot' % r)\n",
    "\n",
    "# Need to format the above equations so that there are space between x0 * x0, x0 * x_dot0, and so on.\n",
    "sym_equations_formatted = []\n",
    "for i in range(len(sym_equations)):\n",
    "    for j in range(r):\n",
    "        # Overkill to make sure all the x0, x1, etc. get replaced\n",
    "        temp_string = str(sym_equations[i]).replace('x' + str(j) + 'x', 'x' + str(j) + ' * x')\n",
    "        temp_string = temp_string.replace('x' + str(j) + 'x', 'x' + str(j) + ' * x')\n",
    "        temp_string = temp_string.replace('x' + str(j) + 'x', 'x' + str(j) + ' * x')\n",
    "        temp_string = temp_string.replace('x' + str(j) + 'x', 'x' + str(j) + ' * x')\n",
    "        temp_string = temp_string.replace('tx' + str(j), 't * x' + str(j))\n",
    "        temp_string = temp_string.replace('tx' + str(j), 't * x' + str(j))\n",
    "        temp_string = temp_string.replace(')x', ') * x')\n",
    "        temp_string = temp_string.replace(')c', ') * c')\n",
    "        temp_string = temp_string.replace(')s', ') * s')\n",
    "        sym_equations[i] = temp_string\n",
    "    sym_equations_formatted.append(temp_string)\n",
    "\n",
    "# Now that the equations are mathematically formatted, solve for x0_dot and x1_dot in the algebraic equation\n",
    "# Have four unknowns, (x0_dot, x1_dot, x2_dot, x3_dot), so need to solve using four of the equations\n",
    "sym_equations_simplified = sp.solve(\n",
    "    (sp.Add(\n",
    "        sp.sympify(sym_equations_formatted)[0][0], \n",
    "        - sp.sympify(features_formatted[ind1])), \n",
    "    sp.Add(\n",
    "        sp.sympify(sym_equations_formatted)[1][0], \n",
    "        - sp.sympify(features_formatted[ind2])), \n",
    "    sp.Add(\n",
    "        sp.sympify(sym_equations_formatted)[2][0], \n",
    "        - sp.sympify(features_formatted[ind3]))\n",
    "    sp.Add(\n",
    "        sp.sympify(sym_equations_formatted)[3][0], \n",
    "        - sp.sympify(features_formatted[ind4]))),\n",
    "    x_dot_sym)\n",
    "print('Solved for xdot equations = ', sym_equations_simplified)\n",
    "\n",
    "# Plot the results for each of the models\n",
    "plt.figure(figsize=(20, 4))\n",
    "\n",
    "x0_test = [np.pi, 0, 0, 0]\n",
    "t_test = t_train\n",
    "x_test = odeint(pendulum_on_cart, x0_test, t_test, args=(1, 1, 1, 0, 9.81))\n",
    "plt.plot(t_test, x_test, color='k',linestyle='solid')\n",
    "\n",
    "# Not the cleanest notation for multiple variables but it works\n",
    "ODE_Func = sp.lambdify([x_sym, t_sym], \n",
    "                       [sym_equations_simplified[x_dot_sym[0]], \n",
    "                        sym_equations_simplified[x_dot_sym[1]],\n",
    "                        sym_equations_simplified[x_dot_sym[2]],\n",
    "                        sym_equations_simplified[x_dot_sym[3]]])\n",
    "\n",
    "# Now simulate the system we identified\n",
    "x_test_sim = odeint(ODE_Func, x0_test, t_test)\n",
    "plt.plot(t_test, x_test_sim, color='r', linestyle='dashed')"
   ]
  }
 ],
 "metadata": {
  "kernelspec": {
   "display_name": "Python 3",
   "language": "python",
   "name": "python3"
  },
  "language_info": {
   "codemirror_mode": {
    "name": "ipython",
    "version": 3
   },
   "file_extension": ".py",
   "mimetype": "text/x-python",
   "name": "python",
   "nbconvert_exporter": "python",
   "pygments_lexer": "ipython3",
   "version": "3.7.7"
  }
 },
 "nbformat": 4,
 "nbformat_minor": 4
}
