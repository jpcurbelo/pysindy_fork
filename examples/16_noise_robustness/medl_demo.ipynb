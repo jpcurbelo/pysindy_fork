{
 "cells": [
  {
   "cell_type": "markdown",
   "metadata": {},
   "source": [
    "# Demo: Mean-Error-Description-Length Calculator"
   ]
  },
  {
   "cell_type": "code",
   "execution_count": 1,
   "metadata": {},
   "outputs": [],
   "source": [
    "from dysts.base import make_trajectory_ensemble\n",
    "from dysts.base import get_attractor_list\n",
    "import dysts.flows as flows\n",
    "import dysts.datasets as datasets\n",
    "import numpy as np\n",
    "from dysts.analysis import sample_initial_conditions\n",
    "\n",
    "##############################################\n",
    "# import new library\n",
    "from complexity_calculator import compute_medl\n",
    "##############################################"
   ]
  },
  {
   "cell_type": "markdown",
   "metadata": {},
   "source": [
    "## Value Check\n",
    "\n",
    "According to the paper, $m\\times v\\times v/2$ gives MEDL of about 13.58. Notice that since there is no division opperation in our systems, there is no need to support the division symbol. Here, we compute the MEDL of $m\\times v\\times v\\times2$, which should give the same result."
   ]
  },
  {
   "cell_type": "code",
   "execution_count": 2,
   "metadata": {},
   "outputs": [
    {
     "data": {
      "text/latex": [
       "$\\displaystyle 13.5849625007212$"
      ],
      "text/plain": [
       "13.5849625007212"
      ]
     },
     "execution_count": 2,
     "metadata": {},
     "output_type": "execute_result"
    }
   ],
   "source": [
    "from complexity_calculator import get_expr_complexity\n",
    "get_expr_complexity('m * v * v * 2')"
   ]
  },
  {
   "cell_type": "markdown",
   "metadata": {},
   "source": [
    "## Prepare all 72 systems\n",
    "\n",
    "Simplify attributes to only \"parameters\" to reduce unnecessary computation."
   ]
  },
  {
   "cell_type": "code",
   "execution_count": 3,
   "metadata": {},
   "outputs": [],
   "source": [
    "# experimental system list\n",
    "systems_list = [\"Aizawa\", \"Arneodo\", \"Bouali2\", \n",
    "                \"GenesioTesi\", \"HyperBao\", \"HyperCai\", \"HyperJha\", \n",
    "                \"HyperLorenz\", \"HyperLu\", \"HyperPang\", \"Laser\",\n",
    "                \"Lorenz\", \n",
    "                \"LorenzBounded\", \n",
    "                \"MooreSpiegel\", \"Rossler\", \"ShimizuMorioka\",\n",
    "                # Added a bunch of additional polynomial systems\n",
    "                \"HenonHeiles\", \"GuckenheimerHolmes\", \"Halvorsen\", \"KawczynskiStrizhak\",\n",
    "                \"VallisElNino\", \"RabinovichFabrikant\", \"NoseHoover\", \"Dadras\", \"RikitakeDynamo\",\n",
    "                \"NuclearQuadrupole\", \"PehlivanWei\", \"SprottTorus\", \"SprottJerk\", \"SprottA\", \"SprottB\",\n",
    "                \"SprottC\", \"SprottD\", \"SprottE\", \"SprottF\", \"SprottG\", \"SprottH\", \"SprottI\", \"SprottJ\",\n",
    "                \"SprottK\", \"SprottL\", \"SprottM\", \"SprottN\", \"SprottO\", \"SprottP\", \"SprottQ\", \"SprottR\",\n",
    "                \"SprottS\", \"Rucklidge\", \"Sakarya\", \"RayleighBenard\", \"Finance\", \"LuChenCheng\",\n",
    "                \"LuChen\", \"QiChen\", \"ZhouChen\", \"BurkeShaw\", \"Chen\", \"ChenLee\", \"WangSun\", \"DequanLi\",\n",
    "                \"NewtonLiepnik\", \"HyperRossler\", \"HyperQi\", \"Qi\", \"LorenzStenflo\", \"HyperYangChen\", \n",
    "                \"HyperYan\", \"HyperXu\", \"HyperWang\", \"AtmosphericRegime\", \"Hadley\", \"HindmarshRose\",\n",
    "               ]\n",
    "alphabetical_sort = np.argsort(systems_list)\n",
    "systems_list = np.array(systems_list)[alphabetical_sort]\n",
    "\n",
    "# Get training and testing trajectories for all the experimental systems and their attributes\n",
    "n = 5000\n",
    "all_sols_train = dict()\n",
    "\n",
    "# simplify attributes\n",
    "attributes = [\"parameters\"]\n",
    "\n",
    "all_properties = dict()\n",
    "\n",
    "for i, equation_name in enumerate(systems_list):\n",
    "    eq = getattr(flows, equation_name)()\n",
    "    try:\n",
    "        ic_train, ic_test = sample_initial_conditions(eq, 2, traj_length=1000, pts_per_period=30)\n",
    "        eq.ic = ic_train\n",
    "        t_sol, sol = eq.make_trajectory(n, method=\"Radau\", resample=True, return_times=True, standardize=False)\n",
    "        all_sols_train[equation_name] = sol\n",
    "        attr_vals = [getattr(eq, item, None) for item in attributes]\n",
    "        all_properties[equation_name] = dict(zip(attributes, attr_vals))\n",
    "    except SystemError:\n",
    "        print('Could not load one of the systems: ', equation_name)\n",
    "    except TypeError:\n",
    "        print('Could not load one of the systems ', equation_name)\n",
    "\n",
    "# rearrange parameters in list\n",
    "num_attractors = len(systems_list)\n",
    "\n",
    "param_list = []\n",
    "\n",
    "for system in systems_list:\n",
    "    param_list.append(all_properties[system]['parameters'])"
   ]
  },
  {
   "cell_type": "markdown",
   "metadata": {},
   "source": [
    "## Compute MEDL\n",
    "\n",
    "One may obtain the MEDL of a list of systems using the oneline code as follows."
   ]
  },
  {
   "cell_type": "code",
   "execution_count": 4,
   "metadata": {},
   "outputs": [],
   "source": [
    "medl_list = compute_medl(systems_list, all_sols_train, param_list)"
   ]
  },
  {
   "cell_type": "markdown",
   "metadata": {},
   "source": [
    "Preview the MEDL of each system."
   ]
  },
  {
   "cell_type": "code",
   "execution_count": 5,
   "metadata": {},
   "outputs": [
    {
     "name": "stdout",
     "output_type": "stream",
     "text": [
      "Aizawa MEDL: 122.18299067736842\n",
      "Arneodo MEDL: 31.019550008653873\n",
      "AtmosphericRegime MEDL: 89.54887502163467\n",
      "Bouali2 MEDL: 77.69207659553408\n",
      "BurkeShaw MEDL: 37.34856396581859\n",
      "Chen MEDL: 40.18506523353571\n",
      "ChenLee MEDL: 37.150849518197795\n",
      "Dadras MEDL: 52.70600608014152\n",
      "DequanLi MEDL: 69.21055681077809\n",
      "Finance MEDL: 43.37291214297528\n",
      "GenesioTesi MEDL: 28.4345875079327\n",
      "GuckenheimerHolmes MEDL: 120.50338698022776\n",
      "Hadley MEDL: 73.85288120852478\n",
      "Halvorsen MEDL: 101.06477719407376\n",
      "HenonHeiles MEDL: 29.9315685693242\n",
      "HindmarshRose MEDL: 80.54017176567734\n",
      "HyperBao MEDL: 55.24558702324589\n",
      "HyperCai MEDL: 65.1693962282014\n",
      "HyperJha MEDL: 57.567515118133244\n",
      "HyperLorenz MEDL: 57.567515118133244\n",
      "HyperLu MEDL: 52.92365892835852\n",
      "HyperPang MEDL: 55.19269349816422\n",
      "HyperQi MEDL: 84.49793939376858\n",
      "HyperRossler MEDL: 39.93156856932417\n",
      "HyperWang MEDL: 54.858009173586574\n",
      "HyperXu MEDL: 57.214152983811836\n",
      "HyperYan MEDL: 85.750738751617\n",
      "HyperYangChen MEDL: 47.62919048309068\n",
      "KawczynskiStrizhak MEDL: 57.851253107868175\n",
      "Laser MEDL: 62.421783389835674\n",
      "Lorenz MEDL: 37.86313713864835\n",
      "LorenzBounded MEDL: 334.0752357248549\n",
      "LorenzStenflo MEDL: 60.152477618854405\n",
      "LuChen MEDL: 33.21928094887362\n",
      "LuChenCheng MEDL: 49.558778688286615\n",
      "MooreSpiegel MEDL: 33.894019126570015\n",
      "NewtonLiepnik MEDL: 53.18669333419231\n",
      "NoseHoover MEDL: 17.042599881712917\n",
      "NuclearQuadrupole MEDL: 91.47603381439838\n",
      "PehlivanWei MEDL: 41.611268575093426\n",
      "Qi MEDL: 78.96697610496959\n",
      "QiChen MEDL: 50.38407798525415\n",
      "RabinovichFabrikant MEDL: 82.44150829103654\n",
      "RayleighBenard MEDL: 33.21928094887362\n",
      "RikitakeDynamo MEDL: 37.18506523353571\n",
      "Rossler MEDL: 33.25349666421154\n",
      "Rucklidge MEDL: 28.5754247590989\n",
      "Sakarya MEDL: 58.09358392980083\n",
      "ShimizuMorioka MEDL: 30.1850652335357\n",
      "SprottA MEDL: 15.042599881712917\n",
      "SprottB MEDL: 16.509775004326936\n",
      "SprottC MEDL: 15.264662506490405\n",
      "SprottD MEDL: 23.264662506490403\n",
      "SprottE MEDL: 20.5097750043269\n",
      "SprottF MEDL: 22.7548875021635\n",
      "SprottG MEDL: 22.042599881712917\n",
      "SprottH MEDL: 22.7548875021635\n",
      "SprottI MEDL: 30.9264406042624\n",
      "SprottJ MEDL: 27.8384591649327\n",
      "SprottJerk MEDL: 20.6797000057692\n",
      "SprottK MEDL: 22.042599881712917\n",
      "SprottL MEDL: 22.60964047443681\n",
      "SprottM MEDL: 32.101493570766486\n",
      "SprottN MEDL: 28.9494904773214\n",
      "SprottO MEDL: 21.008384166375002\n",
      "SprottP MEDL: 22.7548875021635\n",
      "SprottQ MEDL: 31.0195500086539\n",
      "SprottR MEDL: 23.838459164932694\n",
      "SprottS MEDL: 24.6096404744368\n",
      "SprottTorus MEDL: 53.226909213502125\n",
      "VallisElNino MEDL: 31.897352853986256\n",
      "WangSun MEDL: 55.290968580862675\n",
      "ZhouChen MEDL: 52.66062452252473\n"
     ]
    }
   ],
   "source": [
    "for i, system in enumerate(systems_list):\n",
    "    print(system, \"MEDL:\", medl_list[i])"
   ]
  },
  {
   "cell_type": "markdown",
   "metadata": {},
   "source": [
    "## Visualize the distribution of MEDL"
   ]
  },
  {
   "cell_type": "code",
   "execution_count": 6,
   "metadata": {},
   "outputs": [
    {
     "data": {
      "image/png": "[encoded data removed]",
      "text/plain": [
       "<Figure size 432x288 with 1 Axes>"
      ]
     },
     "metadata": {
      "needs_background": "light"
     },
     "output_type": "display_data"
    },
    {
     "data": {
      "image/png": "[encoded data removed]",
      "text/plain": [
       "<Figure size 432x288 with 1 Axes>"
      ]
     },
     "metadata": {
      "needs_background": "light"
     },
     "output_type": "display_data"
    }
   ],
   "source": [
    "import matplotlib.pyplot as plt\n",
    "\n",
    "plt.figure()\n",
    "compl_levels = np.logspace(0, 3, 60)\n",
    "plt.hist(medl_list, bins=compl_levels, log=True)\n",
    "plt.xlabel('Mean Error Description Length [Log Scale]')\n",
    "plt.xscale('log')\n",
    "plt.grid(True)\n",
    "\n",
    "plt.figure()\n",
    "plt.hist(medl_list, bins=20)\n",
    "plt.xlabel('Mean Error Description Length')\n",
    "plt.grid(True)"
   ]
  }
 ],
 "metadata": {
  "kernelspec": {
   "display_name": "Python 3.8.5 ('base')",
   "language": "python",
   "name": "python3"
  },
  "language_info": {
   "codemirror_mode": {
    "name": "ipython",
    "version": 3
   },
   "file_extension": ".py",
   "mimetype": "text/x-python",
   "name": "python",
   "nbconvert_exporter": "python",
   "pygments_lexer": "ipython3",
   "version": "3.8.5"
  },
  "orig_nbformat": 4,
  "vscode": {
   "interpreter": {
    "hash": "88a0d6e07411f355d5bc789d2deedb094bed694da9f0f0d75ab1dd68917b1366"
   }
  }
 },
 "nbformat": 4,
 "nbformat_minor": 2
}
