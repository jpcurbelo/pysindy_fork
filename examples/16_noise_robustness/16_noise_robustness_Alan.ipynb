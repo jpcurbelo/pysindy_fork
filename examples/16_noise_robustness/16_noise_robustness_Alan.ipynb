{
 "cells": [
  {
   "cell_type": "markdown",
   "metadata": {
    "tags": []
   },
   "source": [
    "\n",
    "\n",
    "\n",
    "# Does PySINDy performance vary with the level of chaos, the level of syntactic complexity, or how multi-scale the system is?\n",
    "\n",
    "This notebook investigates a large database of chaotic systems of pure polynomial expression and polynomial degree <= 4, in order to see if the performance of PySINDy varies with the level of chaos (as measured by the largest Lyapunov exponent) or the level of syntactic complexity."
   ]
  },
  {
   "cell_type": "code",
   "execution_count": 1,
   "metadata": {},
   "outputs": [],
   "source": [
    "import matplotlib.pyplot as plt\n",
    "from mpl_toolkits.mplot3d import Axes3D\n",
    "import numpy as np\n",
    "from scipy.integrate import odeint\n",
    "from sklearn.metrics import mean_squared_error\n",
    "from dysts.base import make_trajectory_ensemble\n",
    "from dysts.base import get_attractor_list\n",
    "import dysts.flows as flows\n",
    "import dysts.datasets as datasets\n",
    "import time\n",
    "\n",
    "from utils import *\n",
    "\n",
    "# Annoyingly requires the neurokit2 package - \"pip install neurokit2\"\n",
    "from dysts.analysis import sample_initial_conditions\n",
    "\n",
    "import pysindy as ps\n",
    "\n",
    "# Ignore warnings\n",
    "import warnings\n",
    "warnings.filterwarnings('ignore')\n",
    "\n",
    "# Seed the random number generators for reproducibility\n",
    "np.random.seed(100)"
   ]
  },
  {
   "cell_type": "markdown",
   "metadata": {},
   "source": [
    "# Chaotic System Initialization\n",
    "\n",
    "This experiment include 77 chaotic systems provided by the database from William Gilpin. \"Chaos as an interpretable benchmark for forecasting and data-driven modelling\" Advances in Neural Information Processing Systems (NeurIPS) 2021 https://arxiv.org/abs/2110.05266."
   ]
  },
  {
   "cell_type": "code",
   "execution_count": 2,
   "metadata": {
    "scrolled": true
   },
   "outputs": [
    {
     "name": "stdout",
     "output_type": "stream",
     "text": [
      "0 AtmosphericRegime(name='AtmosphericRegime', params={'alpha': -2.0, 'beta': -5.0, 'mu1': 0.05, 'mu2': -0.01, 'omega': 3.0, 'sigma': 1.1}, random_state=None)\n",
      "Took  13.018996953964233  seconds to load the systems\n"
     ]
    }
   ],
   "source": [
    "t1 = time.time()\n",
    "\n",
    "# experimental system list\n",
    "systems_list = [\"AtmosphericRegime\"]\n",
    "# [\"Aizawa\", \"Arneodo\", \"Bouali2\", \n",
    "#                 \"GenesioTesi\", \"HyperBao\", \"HyperCai\", \"HyperJha\", \n",
    "#                 \"HyperLorenz\", \"HyperLu\", \"HyperPang\", \"Laser\",\n",
    "#                 \"Lorenz\", \n",
    "#                 \"LorenzBounded\", \n",
    "#                 \"MooreSpiegel\", \"Rossler\", \"ShimizuMorioka\",\n",
    "#                 # Added a bunch of additional polynomial systems\n",
    "#                 \"HenonHeiles\", \"GuckenheimerHolmes\", \"Halvorsen\", \"KawczynskiStrizhak\",\n",
    "#                 \"VallisElNino\", \"RabinovichFabrikant\", \"NoseHoover\", \"Dadras\", \"RikitakeDynamo\",\n",
    "#                 \"NuclearQuadrupole\", \"PehlivanWei\", \"SprottTorus\", \"SprottJerk\", \"SprottA\", \"SprottB\",\n",
    "#                 \"SprottC\", \"SprottD\", \"SprottE\", \"SprottF\", \"SprottG\", \"SprottH\", \"SprottI\", \"SprottJ\",\n",
    "#                 \"SprottK\", \"SprottL\", \"SprottM\", \"SprottN\", \"SprottO\", \"SprottP\", \"SprottQ\", \"SprottR\",\n",
    "#                 \"SprottS\", \"Rucklidge\", \"Sakarya\", \"RayleighBenard\", \"Finance\", \"LuChenCheng\",\n",
    "#                 \"LuChen\", \"QiChen\", \"ZhouChen\", \"BurkeShaw\", \"Chen\", \"ChenLee\", \"WangSun\", \"DequanLi\",\n",
    "#                 \"NewtonLiepnik\", \"HyperRossler\", \"HyperQi\", \"Qi\", \"LorenzStenflo\", \"HyperYangChen\", \n",
    "#                 \"HyperYan\", \"HyperXu\", \"HyperWang\", \"AtmosphericRegime\", \"Hadley\", \"HindmarshRose\",\n",
    "#                ]\n",
    "alphabetical_sort = np.argsort(systems_list)\n",
    "systems_list = np.array(systems_list)[alphabetical_sort]\n",
    "\n",
    "\n",
    "# attributes list\n",
    "attributes = [\n",
    "    \"maximum_lyapunov_estimated\",\n",
    "    \"embedding_dimension\",\n",
    "    \"parameters\"\n",
    "]\n",
    "\n",
    "# Get training and testing trajectories for all the experimental systems and their attributes\n",
    "n = 50000\n",
    "all_sols_train = dict()\n",
    "all_sols_test = dict()\n",
    "all_t_train = dict()\n",
    "all_t_test = dict()\n",
    "all_properties = dict()\n",
    "\n",
    "for i, equation_name in enumerate(systems_list):\n",
    "    eq = getattr(flows, equation_name)()\n",
    "    print(i, eq)\n",
    "    try:\n",
    "        ic_train, ic_test = sample_initial_conditions(eq, 2, traj_length=1000, pts_per_period=30)\n",
    "        eq.ic = ic_train\n",
    "        t_sol, sol = eq.make_trajectory(n, method=\"Radau\", resample=False, return_times=True, standardize=False)\n",
    "        all_sols_train[equation_name] = sol\n",
    "        all_t_train[equation_name] = t_sol\n",
    "        eq.ic = ic_test\n",
    "        t_sol, sol = eq.make_trajectory(n, method=\"Radau\", resample=False, return_times=True, standardize=False)\n",
    "        all_sols_test[equation_name] = sol\n",
    "        all_t_test[equation_name] = t_sol\n",
    "        attr_vals = [getattr(eq, item, None) for item in attributes]\n",
    "        all_properties[equation_name] = dict(zip(attributes, attr_vals))\n",
    "    except SystemError:\n",
    "        print('Could not load one of the systems: ', equation_name)\n",
    "    except TypeError:\n",
    "        print('Could not load one of the systems ', equation_name)\n",
    "        \n",
    "t2 = time.time()\n",
    "print('Took ', t2 - t1, ' seconds to load the systems')"
   ]
  },
  {
   "cell_type": "code",
   "execution_count": 3,
   "metadata": {},
   "outputs": [],
   "source": [
    "num_attractors = len(systems_list)\n",
    "\n",
    "lyap_list = []\n",
    "dimension_list = []\n",
    "param_list = []\n",
    "\n",
    "for system in systems_list:\n",
    "    lyap_list.append(all_properties[system]['maximum_lyapunov_estimated'])\n",
    "    dimension_list.append(all_properties[system]['embedding_dimension'])\n",
    "    param_list.append(all_properties[system]['parameters'])\n",
    "\n",
    "\n",
    "# Make list of the number of polynomial terms in each system1\n",
    "nonlin_list = [4, 3, 3, \n",
    "               2, 2, 2, 2, \n",
    "               2, 2, 2, 3, \n",
    "               2, 2, 3, 2, 2,\n",
    "               2, 3, 2, 3, \n",
    "               2, 3, 2, 2, 2,\n",
    "               3, 2, 2, 2, 2, 2,\n",
    "               2, 2, 2, 2, 2, 2, 2, 2,\n",
    "               2, 2, 2, 2, 2, 2, 2, 2,\n",
    "               2, 2, 2, 2, 2, 2,\n",
    "               2, 2, 2, 2, 2, 2, 2, 2, \n",
    "               2, 2, 2, 3, 2, 2, \n",
    "               2, 2, 2, 2, 2, 3, \n",
    "              ]\n",
    "# number_nonlinear_terms = get_nonlinear_terms(num_attractors)\n",
    "# number_nonlinear_terms = number_nonlinear_terms[alphabetical_sort, :]\n",
    "true_coefficients = make_dysts_true_coefficients(systems_list, all_sols_train, dimension_list, param_list)"
   ]
  },
  {
   "cell_type": "markdown",
   "metadata": {},
   "source": [
    "## Trajectory Visualization"
   ]
  },
  {
   "cell_type": "code",
   "execution_count": 4,
   "metadata": {
    "scrolled": false
   },
   "outputs": [
    {
     "name": "stdout",
     "output_type": "stream",
     "text": [
      "Took  0.45666003227233887  seconds to plot the systems\n"
     ]
    },
    {
     "data": {
      "image/png": "[encoded data removed]",
      "text/plain": [
       "<Figure size 288x1440 with 1 Axes>"
      ]
     },
     "metadata": {
      "needs_background": "light"
     },
     "output_type": "display_data"
    }
   ],
   "source": [
    "t1 = time.time()\n",
    "\n",
    "# Plot the training and testing trajectories for all the chaotic systems\n",
    "num_rows = 5\n",
    "num_cols = int(np.ceil(len(all_sols_train) / num_rows))\n",
    "fig = plt.figure(figsize=(num_cols * 4, num_rows * 4))\n",
    "\n",
    "gs = plt.matplotlib.gridspec.GridSpec(num_rows, num_cols)\n",
    "gs.update(wspace=0.0, hspace=0.05) \n",
    "\n",
    "for i, attractor_name in enumerate(all_sols_train):\n",
    "    \n",
    "    x_train = all_sols_train[attractor_name]\n",
    "    x_test = all_sols_test[attractor_name]\n",
    "    t_train = all_t_train[attractor_name]\n",
    "    t_test = all_t_test[attractor_name]\n",
    "    \n",
    "    plt.subplot(gs[i])\n",
    "    plt.plot(x_train[:, 0], x_train[:, 1], 'k', linewidth=0.25)\n",
    "    plt.plot(x_test[:, 0], x_test[:, 1], 'r', linewidth=0.25)\n",
    "    plt.title(attractor_name, y=-0.05)\n",
    "    plt.gca().axis('off')\n",
    "            \n",
    "plt.savefig('polynomial_attractors.jpg')\n",
    "plt.savefig('polynomial_attractors.pdf')\n",
    "t2 = time.time()\n",
    "print('Took ', t2 - t1, ' seconds to plot the systems')"
   ]
  },
  {
   "cell_type": "markdown",
   "metadata": {},
   "source": [
    "# Define some metrics for performance\n",
    "\n",
    "The normalized root-mean-square-error, the normalized coefficient errors, the success rate, and other metrics"
   ]
  },
  {
   "cell_type": "code",
   "execution_count": 5,
   "metadata": {},
   "outputs": [],
   "source": [
    "def normalized_RMSE(x_dot_true, x_dot_pred):\n",
    "    \"\"\"\n",
    "    \"\"\"\n",
    "    return np.linalg.norm(x_dot_true - x_dot_pred) / np.linalg.norm(x_dot_true)\n",
    "\n",
    "def total_coefficient_error(xi_true, xi_pred):\n",
    "    return np.linalg.norm(xi_true - xi_pred) / np.linalg.norm(xi_true)\n",
    "\n",
    "def coefficient_errors(xi_true, xi_pred):\n",
    "    errors = np.zeros(xi_true.shape)\n",
    "    for i in range(xi_true.shape[0]):\n",
    "        for j in range(xi_true.shape[1]):\n",
    "            if np.isclose(xi_true[i, j], 0.0):\n",
    "                errors[i, j] = abs(xi_true[i, j] - xi_pred[i, j])\n",
    "            else:\n",
    "                errors[i, j] = abs(xi_true[i, j] - xi_pred[i, j]) / xi_true[i, j]\n",
    "    return errors\n",
    "\n",
    "def success_rate(xi_true, xi_pred):\n",
    "    print('to do')\n",
    "    \n",
    "#def stability_metric():"
   ]
  },
  {
   "cell_type": "markdown",
   "metadata": {},
   "source": [
    "## Compute RMSEs and Normalized Errors"
   ]
  },
  {
   "cell_type": "code",
   "execution_count": null,
   "metadata": {
    "jupyter": {
     "outputs_hidden": true
    },
    "scrolled": true,
    "tags": []
   },
   "outputs": [
    {
     "name": "stdout",
     "output_type": "stream",
     "text": [
      "0  /  1 , System =  AtmosphericRegime\n",
      "[[ 0.00000000e+00  5.00049143e-02  0.00000000e+00  0.00000000e+00\n",
      "   0.00000000e+00  1.09942497e+00  0.00000000e+00  0.00000000e+00\n",
      "   0.00000000e+00  0.00000000e+00  0.00000000e+00  0.00000000e+00\n",
      "   0.00000000e+00  0.00000000e+00  2.97350014e-03  0.00000000e+00\n",
      "   0.00000000e+00  0.00000000e+00  0.00000000e+00  0.00000000e+00\n",
      "   0.00000000e+00  0.00000000e+00  0.00000000e+00  0.00000000e+00\n",
      "   0.00000000e+00  0.00000000e+00  0.00000000e+00  0.00000000e+00\n",
      "  -3.08820963e-03  0.00000000e+00  0.00000000e+00  0.00000000e+00\n",
      "   0.00000000e+00  0.00000000e+00  0.00000000e+00]\n",
      " [ 0.00000000e+00  0.00000000e+00 -9.99923844e-03  2.99859593e+00\n",
      "  -1.09943470e+00  0.00000000e+00  0.00000000e+00 -7.18302263e-03\n",
      "  -1.99325605e+00 -4.99045046e+00  0.00000000e+00 -2.06156029e-03\n",
      "  -3.09430465e-03  0.00000000e+00  0.00000000e+00  0.00000000e+00\n",
      "   9.74975504e-03  2.07695141e-02 -2.94330885e-02 -1.92556549e-02\n",
      "   0.00000000e+00  0.00000000e+00  0.00000000e+00  0.00000000e+00\n",
      "   5.51559318e-03  3.60466678e-03  0.00000000e+00  0.00000000e+00\n",
      "   0.00000000e+00  0.00000000e+00 -3.28831140e-03 -1.64918992e-02\n",
      "  -1.09237754e-02  2.97839580e-02  1.20504959e-02]\n",
      " [ 0.00000000e+00  0.00000000e+00 -2.99878865e+00 -9.92792321e-03\n",
      "   0.00000000e+00  0.00000000e+00  0.00000000e+00  1.99743726e+00\n",
      "   4.98414563e+00  2.42357050e-03  0.00000000e+00  3.78689550e-03\n",
      "  -3.14902817e-03 -2.65526306e-03  0.00000000e+00  1.82681461e-03\n",
      "   0.00000000e+00  2.82494724e-02  3.94964270e-02 -9.72920966e-03\n",
      "   0.00000000e+00  0.00000000e+00  2.91841198e-03  0.00000000e+00\n",
      "  -7.11017652e-03  0.00000000e+00  0.00000000e+00  0.00000000e+00\n",
      "   1.87952472e-03  0.00000000e+00 -2.54547114e-03 -9.19143034e-03\n",
      "  -3.81092311e-02 -2.63823963e-02  9.16513720e-03]]\n",
      "0 0.001 0.001 0.0002730524318132093 0.0002730451563236992\n",
      "0.09412984634187342\n",
      "1 0.002 0.001 0.0002730451563236992 0.0002733449578619749\n",
      "0.0941695070291686\n",
      "2 0.002 0.0012 0.0002730451563236992 0.0002733449578619749\n",
      "0.0941695070291686\n",
      "3 0.002 0.0014399999999999999 0.0002730451563236992 0.0002733449578619749\n",
      "0.0941695070291686\n",
      "4 0.002 0.0017279999999999997 0.0002730451563236992 0.0002733449578619749\n",
      "0.0941695070291686\n",
      "5 0.0020735999999999997 0.0020735999999999997 0.0002730451563236992 0.0002736958292401357\n",
      "0.0943566025027434\n",
      "6 0.0024883199999999996 0.0024883199999999996 0.0002730451563236992 0.00027371796850568617\n",
      "0.09436017483716475\n",
      "7 0.0029859839999999993 0.0029859839999999993 0.0002730451563236992 0.00027454464717592114\n",
      "0.09436017235863896\n",
      "8 0.003583180799999999 0.003583180799999999 0.0002730451563236992 0.00027641538380451314\n",
      "0.09472279315741723\n"
     ]
    }
   ],
   "source": [
    "t1 = time.time()\n",
    "\n",
    "with warnings.catch_warnings():\n",
    "    warnings.simplefilter(\"ignore\")\n",
    "\n",
    "# define data structure for records\n",
    "xdot_rmse_errors = {}\n",
    "xdot_coef_errors = {}\n",
    "predicted_coefficients = {}\n",
    "\n",
    "# initialize sturctures\n",
    "for system in systems_list:\n",
    "    xdot_rmse_errors[system] = list()\n",
    "    xdot_coef_errors[system] = list()\n",
    "    predicted_coefficients[system] = list()\n",
    "    \n",
    "# iterate over all systems and noise levels\n",
    "num_fits = 1\n",
    "max_iter = 50\n",
    "tol_iter = 40\n",
    "num_error_levels = 1\n",
    "error_levels = np.linspace(0.01, 0.2, num_error_levels)\n",
    "poly_library = ps.PolynomialLibrary(degree=4)\n",
    "models = []\n",
    "\n",
    "for i, attractor_name in enumerate(systems_list):\n",
    "    print(i, \" / \", num_attractors, \", System = \", attractor_name)\n",
    "\n",
    "    x_train = all_sols_train[attractor_name]\n",
    "    x_test = all_sols_test[attractor_name]\n",
    "    t_train = all_t_train[attractor_name]\n",
    "    t_test = all_t_test[attractor_name]\n",
    "    \n",
    "    # noise variance controller\n",
    "    rmse = mean_squared_error(x_train, np.zeros(x_train.shape), squared=False)\n",
    "    \n",
    "    for error in error_levels:\n",
    "        # multiple test for averaged results\n",
    "        errors_temp = []\n",
    "        coef_errors_temp = []\n",
    "        pred_coefs_temp = []\n",
    "        for j in range(num_fits):\n",
    "            # contruct noisy data\n",
    "            x_train_noisy = x_train  #+ np.random.normal(0, rmse * error, x_train.shape)\n",
    "            \n",
    "            # rudy train\n",
    "            coef_best, err_best, coef_history, err_history, model = rudy_algorithm2(\n",
    "                x_train_noisy, x_test, t_train,\n",
    "                ode_lib=poly_library, dtol=1e-3,\n",
    "                optimizer_max_iter=max_iter,\n",
    "                tol_iter=tol_iter,\n",
    "                change_factor=1.2,\n",
    "                l0_pen=1e-1,\n",
    "                alpha=0.0,\n",
    "                normalize_columns=False,\n",
    "                t_test=t_test\n",
    "            )\n",
    "            #print(coef_best)\n",
    "\n",
    "            x_dot_test = model.differentiate(x_test, t=t_test)\n",
    "            x_dot_test_pred = model.predict(x_test)\n",
    "            plt.figure(1 + i, figsize=(20, 4))\n",
    "            plt.suptitle(attractor_name)\n",
    "            plt.subplot(1, 3, 1)\n",
    "            plt.plot(x_dot_test[:, 0])\n",
    "            plt.plot(x_dot_test_pred[:, 0])\n",
    "            plt.subplot(1, 3, 2)\n",
    "            plt.plot(x_dot_test[:, 1])\n",
    "            plt.plot(x_dot_test_pred[:, 1])\n",
    "            plt.subplot(1, 3, 3)\n",
    "            plt.plot(x_dot_test[:, 2])\n",
    "            plt.plot(x_dot_test_pred[:, 2])\n",
    "#             x_test_pred = model.simulate(x_test[0, :], t=t_test, integrator=\"odeint\",\n",
    "#                                          integrator_kws={\"mxstep\":30})\n",
    "            errors_temp.append(normalized_RMSE(x_dot_test, x_dot_test_pred))\n",
    "            coef_errors_temp.append(coefficient_errors(true_coefficients[i], coef_best))\n",
    "            pred_coefs_temp.append(coef_best)\n",
    "            models.append(model)\n",
    "                \n",
    "        # compute and record normalized errors\n",
    "        #print(np.array(coef_errors_temp).shape)\n",
    "        xdot_rmse_errors[attractor_name].append(np.mean(np.array(errors_temp), axis=0))\n",
    "        xdot_coef_errors[attractor_name].append(np.mean(np.array(coef_errors_temp), axis=0))\n",
    "        predicted_coefficients[attractor_name].append(np.mean(np.array(pred_coefs_temp), axis=0))\n",
    "            \n",
    "t2 = time.time()\n",
    "print('Total time to compute (num_fits x num_error_levels x num_attractors = ', \n",
    "      num_fits, ' x ', num_error_levels, ' x ', num_attractors, ' = ',\n",
    "      num_fits * num_error_levels * num_attractors, ') = ', t2 - t1, ' seconds')\n"
   ]
  },
  {
   "cell_type": "markdown",
   "metadata": {},
   "source": [
    "### Normalized Error"
   ]
  },
  {
   "cell_type": "code",
   "execution_count": null,
   "metadata": {},
   "outputs": [],
   "source": [
    "colors = ['r', 'b', 'g', 'm']\n",
    "labels = ['xdot', 'ydot', 'zdot', 'wdot']\n",
    "\n",
    "for i, system in enumerate(systems_list):\n",
    "    x_train = all_sols_train[system]\n",
    "    plt.figure(figsize=(20, 2))\n",
    "    if dimension_list[i] == 3:\n",
    "        feature_names = poly_library.fit(x_train).get_feature_names(['x', 'y', 'z'])\n",
    "    else:\n",
    "        feature_names = poly_library.fit(x_train).get_feature_names(['x', 'y', 'z', 'w'])\n",
    "    for k in range(dimension_list[i]):\n",
    "        #print(i, k, system, dimension_list[i])\n",
    "        plt.grid(True)\n",
    "        plt.scatter(feature_names, np.array(predicted_coefficients[system])[0, k, :], \n",
    "                        color=colors[k], label=labels[k], s=100)\n",
    "        plt.scatter(feature_names, np.array(true_coefficients[i][k, :]), \n",
    "                        color='k', label='True ' + labels[k], s=50)\n",
    "    if dimension_list[i] == 3:\n",
    "        plt.legend(loc='upper right', framealpha=1.0, ncol=6)\n",
    "    else:\n",
    "        plt.legend(loc='upper right', framealpha=1.0, ncol=8)\n",
    "    plt.title(system)\n",
    "    plt.yscale('symlog', linthreshy=1e-3)\n",
    "    plt.legend(loc='upper right', framealpha=1.0, ncol=6)\n"
   ]
  },
  {
   "cell_type": "code",
   "execution_count": null,
   "metadata": {},
   "outputs": [],
   "source": [
    "print(model.optimizer.coef_, coef_best, model.optimizer.history_[-1])"
   ]
  },
  {
   "cell_type": "code",
   "execution_count": null,
   "metadata": {},
   "outputs": [],
   "source": [
    "# Plot the training and testing trajectories for all the chaotic systems\n",
    "num_rows = int(np.ceil(len(all_sols_train) / num_rows))\n",
    "num_cols = 5\n",
    "#fig = plt.figure(figsize=(num_cols * 4, num_rows * 4))\n",
    "fig = plt.figure(figsize=(20, 20))\n",
    "\n",
    "gs = plt.matplotlib.gridspec.GridSpec(num_rows, num_cols)\n",
    "gs.update(wspace=0.0, hspace=0.05) \n",
    "\n",
    "for i, attractor_name in enumerate(all_sols_train):\n",
    "    \n",
    "    x_test = all_sols_test[attractor_name]\n",
    "    t_test = all_t_test[attractor_name]\n",
    "    print(i, models[i], attractor_name, t_test.shape, x_test.shape, all_sols_train[attractor_name].shape)\n",
    "\n",
    "    x_dot_test = models[i].differentiate(x_test, t=t_test)\n",
    "    x_dot_test_pred = models[i].predict(x_test)\n",
    "    \n",
    "    ax = fig.add_subplot(projection='3d')\n",
    "\n",
    "    plt.plot(x_dot_test[:, 0], x_dot_test[:, 1], x_dot_test[:, 2], 'k', linewidth=0.25)\n",
    "    plt.plot(x_dot_test_pred[:, 0], x_dot_test_pred[:, 1], x_dot_test[:, 2], 'r', linewidth=0.25)\n",
    "    plt.title(attractor_name, y=-0.05)\n",
    "    print(np.linalg.norm(x_dot_test - x_dot_test_pred, 2) ** 2)\n",
    "    plt.gca().axis('off')\n",
    "            \n",
    "plt.savefig('polynomial_attractors_fits.jpg')\n",
    "plt.savefig('polynomial_attractors_fits.pdf')"
   ]
  },
  {
   "cell_type": "code",
   "execution_count": null,
   "metadata": {},
   "outputs": [],
   "source": []
  },
  {
   "cell_type": "code",
   "execution_count": null,
   "metadata": {},
   "outputs": [],
   "source": []
  },
  {
   "cell_type": "code",
   "execution_count": null,
   "metadata": {},
   "outputs": [],
   "source": []
  }
 ],
 "metadata": {
  "kernelspec": {
   "display_name": "Python 3",
   "language": "python",
   "name": "python3"
  },
  "language_info": {
   "codemirror_mode": {
    "name": "ipython",
    "version": 3
   },
   "file_extension": ".py",
   "mimetype": "text/x-python",
   "name": "python",
   "nbconvert_exporter": "python",
   "pygments_lexer": "ipython3",
   "version": "3.7.4"
  },
  "toc-autonumbering": true,
  "toc-showcode": false,
  "toc-showmarkdowntxt": false
 },
 "nbformat": 4,
 "nbformat_minor": 5
}
