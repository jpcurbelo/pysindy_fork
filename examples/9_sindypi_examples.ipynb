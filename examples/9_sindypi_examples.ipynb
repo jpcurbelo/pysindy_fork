{
 "cells": [
  {
   "cell_type": "code",
   "execution_count": 1,
   "metadata": {},
   "outputs": [],
   "source": [
    "# Import libraries.\n",
    "import numpy as np\n",
    "from matplotlib import pyplot as plt\n",
    "from mpl_toolkits.mplot3d import Axes3D\n",
    "import pysindy as ps \n",
    "from pysindy.differentiation import FiniteDifference\n",
    "import scipy.integrate as integrate \n",
    "import matplotlib.gridspec as gridspec\n",
    "import numexpr as ne\n",
    "from numpy import cos, sin\n",
    "from pysindy.utils import enzyme, bacterial, yeast, pendulum_on_cart"
   ]
  },
  {
   "cell_type": "code",
   "execution_count": 2,
   "metadata": {},
   "outputs": [],
   "source": [
    "# Julia language is required for SINDy-PI to be able to solve\n",
    "# the differential algebraic equations (DAEs)\n",
    "#\n",
    "# Note that on my computer, at a terminal, I need to do:\n",
    "# > julia  (enters the julia console)\n",
    "# > import Pkg\n",
    "# > Pkg.add(\"PyCall\")\n",
    "# > Pkg.add(\"DiffEqBase\")\n",
    "# > Pkg.add(\"DifferentialEquations\")\n",
    "# > exit()\n",
    "# jupyter notebook (startup this notebook)\n",
    "\n",
    "# Last thing to do (maybe specific to my installation)\n",
    "from julia.api import Julia\n",
    "jl = Julia(compiled_modules=False)\n",
    "from diffeqpy import de"
   ]
  },
  {
   "cell_type": "code",
   "execution_count": 3,
   "metadata": {},
   "outputs": [],
   "source": [
    "# Plot first three modes in 3D for ground truth and SINDy prediction\n",
    "def make_3d_plots(x_test, x_test_pred, filename):\n",
    "    fig, ax = plt.subplots(1, 1, subplot_kw={'projection': '3d'}, figsize=(8,8))\n",
    "    if filename == 'VonKarman':\n",
    "        ind = -1\n",
    "    else:\n",
    "        ind = 2\n",
    "    plt.plot(x_test[:, 0], x_test[:, 1], x_test[:, ind], 'r')\n",
    "    plt.plot(x_test_pred[:, 0], x_test_pred[:, 1], x_test_pred[:, ind], 'k')\n",
    "    ax = plt.gca()\n",
    "    ax.set_xticklabels([])\n",
    "    ax.set_yticklabels([])\n",
    "    ax.set_zticklabels([])\n",
    "    ax.set_axis_off()\n",
    "    plt.savefig(filename + '_3d.pdf')\n",
    "\n",
    "\n",
    "# Plot the SINDy fits of X and Xdot against the ground truth\n",
    "def make_fits(r, t, xdot_test, xdot_test_pred, x_test, x_test_pred, filename):\n",
    "    fig = plt.figure(figsize=(30, 30))\n",
    "    spec = gridspec.GridSpec(ncols=2, nrows=r, figure=fig, hspace=0.0, wspace=0.0)\n",
    "    for i in range(r):\n",
    "        plt.subplot(spec[i, 0]) #r, 2, 2 * i + 2)\n",
    "        plt.plot(t, xdot_test[:, i], 'r')\n",
    "        plt.plot(t, xdot_test_pred[:, i], 'k--')\n",
    "        ax = plt.gca()\n",
    "        ax.set_xticklabels([])\n",
    "        #ax.set_yticklabels([])\n",
    "        plt.subplot(spec[i, 1])\n",
    "        plt.plot(t, x_test[:, i], 'r')\n",
    "        plt.plot(t, x_test_pred[:, i], 'k--')\n",
    "        ax = plt.gca()\n",
    "        ax.set_xticklabels([])\n",
    "        ax.set_yticklabels([])\n",
    "    plt.savefig(filename + '_fits.pdf')\n",
    "    \n",
    "\n",
    "# Fix feature names\n",
    "def fix_feature_names(feature_names, r):\n",
    "    for i in range(len(feature_names)):\n",
    "        if feature_names[i] == '':\n",
    "            feature_names[i] = '1'\n",
    "        for j in range(r):\n",
    "            feature_names[i] = feature_names[i].replace(\"sin(x\" + str(j) + \")\", \"sin(u[\" + str(j) + \"])*\")  \n",
    "            feature_names[i] = feature_names[i].replace(\"cos(x\" + str(j) + \")\", \"cos(u[\" + str(j) + \"])*\")\n",
    "        for j in range(r):\n",
    "            feature_names[i] = feature_names[i].replace(\"xdot\" + str(j), \"du[\" + str(j) + \"]*\")  \n",
    "            feature_names[i] = feature_names[i].replace(\"x\" + str(j), \"u[\" + str(j) + \"]*\") \n",
    "        if feature_names[i][-1] == '*':\n",
    "            feature_names[i] = feature_names[i][:-1]\n",
    "        print(i, feature_names[i])\n",
    "    return feature_names\n",
    "\n",
    "\n",
    "# Function to build a symbolic DAE\n",
    "# Extract the coefficients and build up a string to evaluate\n",
    "def build_symbolic_DAE(sindy_opt, feature_names, r, coefs, coef_indices):\n",
    "    full_string = ''\n",
    "    for k in range(r):\n",
    "        eval_string = ''\n",
    "        for i in range(len(feature_names)):\n",
    "            eval_string += 'coefs[' + str(i) + ', ' + str(k) + '] * eval(feature_names[' + str(i) + '])'\n",
    "            if i != len(feature_names) - 1:\n",
    "                eval_string += ' + '\n",
    "            else:\n",
    "                eval_string += ' - eval(feature_names[' + str(coef_indices[k]) + '])' # du[' + str(k) + ']'\n",
    "        # Okay, now have the eval string for one of the ODEs and need to string together\n",
    "        if k == 0 and r == 1:\n",
    "            full_string = eval_string\n",
    "        elif k == 0:\n",
    "            full_string += '[' + eval_string + ', '\n",
    "        elif k != 0 and k != r - 1:\n",
    "            full_string += eval_string + ', '\n",
    "        elif k != 0 and k == r - 1:\n",
    "            full_string += eval_string + ']'\n",
    "    return full_string\n",
    "\n",
    "\n",
    "# Definition of the model error for choosing a model at the end\n",
    "def model_error(xdot_test, Theta, full_coefficients):\n",
    "    return np.linalg.norm(Theta - Theta @ full_coefficients, axis=0) / np.linalg.norm(Theta, axis=0) \n",
    "\n",
    "\n",
    "# Definition of the derivative prediction error for choosing a model at the end\n",
    "def prediction_error(xdot_test, xdot_test_pred):\n",
    "    return np.linalg.norm(xdot_test - xdot_test_pred, axis=0) / np.linalg.norm(xdot_test, axis=0)"
   ]
  },
  {
   "cell_type": "code",
   "execution_count": 4,
   "metadata": {},
   "outputs": [
    {
     "name": "stdout",
     "output_type": "stream",
     "text": [
      "(499, 1)\n",
      "Solver failed on model  4 , setting coefs to zeros\n"
     ]
    },
    {
     "data": {
      "text/plain": [
       "SINDy(differentiation_method=FiniteDifference(drop_endpoints=True),\n",
       "      feature_library=<pysindy.feature_library.SINDyPI_library.SINDyPILibrary object at 0x7f355a3ff990>,\n",
       "      feature_names=['x0'],\n",
       "      optimizer=SINDyPIoptimizer(max_iter=20000, model_subset=range(0, 10),\n",
       "                                 threshold=1e-05, tol=1e-10))"
      ]
     },
     "execution_count": 4,
     "metadata": {},
     "output_type": "execute_result"
    }
   ],
   "source": [
    "# define parameters\n",
    "r = 1\n",
    "dt = 0.01\n",
    "T = 5\n",
    "t = np.arange(0, T + dt, dt)\n",
    "x0_train = [0.55]\n",
    "x_train = integrate.odeint(enzyme, x0_train, t)\n",
    "x0_test = [0.05]\n",
    "x_test = integrate.odeint(enzyme, x0_test, t)\n",
    "\n",
    "# define hyperparameters\n",
    "threshold = 1e-5\n",
    "\n",
    "fd = FiniteDifference(drop_endpoints=False)\n",
    "xdot_train = np.nan_to_num(fd._differentiate(x_train, t)) # * dt)\n",
    "xdot_test = np.nan_to_num(fd._differentiate(x_test, t)) # * dt)\n",
    "\n",
    "# Initialize custom SINDy library so that we can have xdot inside it. Using the library\n",
    "# Found in Equation A1 in the SINDy-PI paper\n",
    "x_library_functions = [lambda x:1, lambda x:x, lambda x, y:x * y, lambda x:x ** 2, \n",
    "                       lambda x, y, z:x * y * z, lambda x, y: x * y ** 2, lambda x: x ** 3,\n",
    "                       lambda x, y, z, w: x * y * z * w, lambda x, y, z:x * y * z ** 2,\n",
    "                       lambda x, y:x * y ** 3, lambda x:x ** 4]\n",
    "xdot_library_functions = [lambda x:1, lambda x:x]\n",
    "        \n",
    "library_function_names = [lambda x:'', lambda x:x, lambda x, y: x + y, lambda x:x + x, \n",
    "                          lambda x, y, z:x + y + z, lambda x, y: x + y + y, lambda x: x + x + x,\n",
    "                          lambda x, y, z, w: x + y + z + w, lambda x, y, z:x + y + z + z,\n",
    "                          lambda x, y:x + y + y + y, lambda x:x + x + x + x,\n",
    "                          lambda x:'', lambda x:x] \n",
    "sindy_library = ps.SINDyPILibrary(library_functions=x_library_functions, \n",
    "                                  xdot_library_functions=xdot_library_functions,\n",
    "                                  t=t[1:-1],\n",
    "                                  function_names=library_function_names,\n",
    "                                  )\n",
    "\n",
    "sindy_opt = ps.SINDyPIoptimizer(threshold=threshold, tol=1e-10, thresholder=\"l1\", max_iter=20000)\n",
    "model = ps.SINDy(\n",
    "    optimizer=sindy_opt,\n",
    "    feature_library=sindy_library,\n",
    "    differentiation_method=ps.FiniteDifference(drop_endpoints=True),\n",
    ")\n",
    "model.fit(x_train, t=t)"
   ]
  },
  {
   "cell_type": "code",
   "execution_count": 5,
   "metadata": {
    "scrolled": true
   },
   "outputs": [
    {
     "name": "stdout",
     "output_type": "stream",
     "text": [
      "0 1\n",
      "1 u[0]\n",
      "2 u[0]*u[0]\n",
      "3 u[0]*u[0]*u[0]\n",
      "4 u[0]*u[0]*u[0]*u[0]\n",
      "5 du[0]\n",
      "6 u[0]*du[0]\n",
      "7 u[0]*u[0]*du[0]\n",
      "8 u[0]*u[0]*u[0]*du[0]\n",
      "9 u[0]*u[0]*u[0]*u[0]*du[0]\n",
      " = 5.000 x0 + 1.667 xdot0 + 5.556 x0xdot0\n",
      "x0 = 0.200  + 0.004 x0x0 + -0.334 xdot0 + -1.105 x0xdot0\n",
      "x0x0 = 0.023  + 0.063 x0 + 0.589 x0x0x0 + -0.724 x0xdot0\n",
      "x0x0x0 = -0.007  + 0.352 x0x0 + 0.743 x0x0x0x0 + 0.032 xdot0 + -0.101 x0x0xdot0\n",
      "x0x0x0x0 = 0.000\n",
      "xdot0 = 0.598  + -2.995 x0 + 0.014 x0x0 + -3.306 x0xdot0\n",
      "x0xdot0 = 0.177  + -0.883 x0 + -0.013 x0x0 + -0.293 xdot0\n",
      "x0x0xdot0 = 0.014  + -0.273 x0x0 + -0.368 x0x0x0 + -0.047 xdot0\n",
      "x0x0x0xdot0 = 0.010 x0 + -0.157 x0x0x0 + -0.477 x0x0x0x0 + -0.007 xdot0\n",
      "x0x0x0x0xdot0 = 0.001  + -0.519 x0x0x0x0 + 0.010 xdot0 + -0.082 x0xdot0\n"
     ]
    },
    {
     "data": {
      "text/plain": [
       "[<matplotlib.lines.Line2D at 0x7f355a3ff610>]"
      ]
     },
     "execution_count": 5,
     "metadata": {},
     "output_type": "execute_result"
    },
    {
     "data": {
      "image/png": "[encoded data removed]",
      "text/plain": [
       "<Figure size 432x288 with 1 Axes>"
      ]
     },
     "metadata": {
      "needs_background": "light"
     },
     "output_type": "display_data"
    }
   ],
   "source": [
    "# Need to decide what subset of the SINDy-PI equations to evolve as\n",
    "# the coupled system of ODEs\n",
    "coef_indices = np.arange(1, r + 1)\n",
    "coefs = np.transpose(sindy_opt.coef_)[:, coef_indices]\n",
    "feature_names = model.get_feature_names()\n",
    "feature_names = fix_feature_names(feature_names, r)\n",
    "eval_string = build_symbolic_DAE(sindy_opt, feature_names, 1, coefs, coef_indices)\n",
    "model.print()\n",
    "\n",
    "# Define a SINDy differential algebraic equation (DAE)\n",
    "def SINDy_model(du, u, p, t):\n",
    "    resid = eval(eval_string)\n",
    "    return resid\n",
    "\n",
    "du0 = [-0.04]\n",
    "tspan = (t[0], t[-1])\n",
    "differential_vars = [True]\n",
    "prob = de.DAEProblem(SINDy_model, du0, x0_test, tspan, differential_vars=differential_vars)\n",
    "plt.plot(t, x_test, 'r')\n",
    "sol = de.solve(prob)\n",
    "plt.plot(sol.t, sol.u, 'k--')"
   ]
  },
  {
   "cell_type": "code",
   "execution_count": 6,
   "metadata": {},
   "outputs": [
    {
     "name": "stdout",
     "output_type": "stream",
     "text": [
      "0 1\n",
      "1 u[0]\n",
      "2 u[0]*u[0]\n",
      "3 u[0]*u[0]*u[0]\n",
      "4 u[0]*u[0]*u[0]*u[0]\n",
      "5 du[0]\n",
      "6 u[0]*du[0]\n",
      "7 u[0]*u[0]*du[0]\n",
      "8 u[0]*u[0]*u[0]*du[0]\n",
      "9 u[0]*u[0]*u[0]*u[0]*du[0]\n",
      " = 5.000 x0 + 1.667 xdot0 + 5.556 x0xdot0\n",
      "x0 = 0.200  + 0.004 x0x0 + -0.334 xdot0 + -1.105 x0xdot0\n",
      "x0x0 = 0.023  + 0.063 x0 + 0.589 x0x0x0 + -0.724 x0xdot0\n",
      "x0x0x0 = -0.007  + 0.352 x0x0 + 0.743 x0x0x0x0 + 0.032 xdot0 + -0.101 x0x0xdot0\n",
      "x0x0x0x0 = 0.000\n",
      "xdot0 = 0.598  + -2.995 x0 + 0.014 x0x0 + -3.306 x0xdot0\n",
      "x0xdot0 = 0.177  + -0.883 x0 + -0.013 x0x0 + -0.293 xdot0\n",
      "x0x0xdot0 = 0.014  + -0.273 x0x0 + -0.368 x0x0x0 + -0.047 xdot0\n",
      "x0x0x0xdot0 = 0.010 x0 + -0.157 x0x0x0 + -0.477 x0x0x0x0 + -0.007 xdot0\n",
      "x0x0x0x0xdot0 = 0.001  + -0.519 x0x0x0x0 + 0.010 xdot0 + -0.082 x0xdot0\n"
     ]
    },
    {
     "data": {
      "text/plain": [
       "[<matplotlib.lines.Line2D at 0x7f351419bcd0>]"
      ]
     },
     "execution_count": 6,
     "metadata": {},
     "output_type": "execute_result"
    },
    {
     "data": {
      "image/png": "[encoded data removed]",
      "text/plain": [
       "<Figure size 432x288 with 1 Axes>"
      ]
     },
     "metadata": {
      "needs_background": "light"
     },
     "output_type": "display_data"
    }
   ],
   "source": [
    "# Repeat our success with a different DAE from SINDy-PI\n",
    "coef_indices = np.arange(5, r + 5)\n",
    "coefs = np.transpose(sindy_opt.coef_)[:, coef_indices]\n",
    "feature_names = model.get_feature_names()\n",
    "feature_names = fix_feature_names(feature_names, r)\n",
    "eval_string = build_symbolic_DAE(sindy_opt, feature_names, 1, coefs, coef_indices)\n",
    "model.print()\n",
    "\n",
    "prob = de.DAEProblem(SINDy_model, du0, x0_test, tspan, differential_vars=differential_vars)\n",
    "plt.plot(t, x_test, 'r')\n",
    "sol = de.solve(prob)\n",
    "plt.plot(sol.t, sol.u, 'k--')"
   ]
  }
 ],
 "metadata": {
  "kernelspec": {
   "display_name": "Python 3",
   "language": "python",
   "name": "python3"
  },
  "language_info": {
   "codemirror_mode": {
    "name": "ipython",
    "version": 3
   },
   "file_extension": ".py",
   "mimetype": "text/x-python",
   "name": "python",
   "nbconvert_exporter": "python",
   "pygments_lexer": "ipython3",
   "version": "3.7.7"
  }
 },
 "nbformat": 4,
 "nbformat_minor": 4
}
