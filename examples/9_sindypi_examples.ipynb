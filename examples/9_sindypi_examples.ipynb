{
 "cells": [
  {
   "cell_type": "markdown",
   "metadata": {},
   "source": [
    "# SINDy-PI Feature Overview\n",
    "\n",
    "This notebook provides a simple overview of the basic functionality of SINDy-PI implemented in PySINDy. This is based off of the paper \"Kaheman, K., Kutz, J. N., & Brunton, S. L. (2020). SINDy-PI: a robust algorithm for parallel implicit sparse identification of nonlinear dynamics. Proceedings of the Royal Society A, 476(2242), 20200279.\""
   ]
  },
  {
   "cell_type": "code",
   "execution_count": 1,
   "metadata": {},
   "outputs": [],
   "source": [
    "# Import libraries.\n",
    "import numpy as np\n",
    "from matplotlib import pyplot as plt\n",
    "from mpl_toolkits.mplot3d import Axes3D\n",
    "import pysindy as ps \n",
    "from pysindy.differentiation import FiniteDifference\n",
    "import scipy.integrate as integrate \n",
    "import matplotlib.gridspec as gridspec\n",
    "import numexpr as ne\n",
    "from numpy import cos, sin\n",
    "from pysindy.utils import enzyme"
   ]
  },
  {
   "cell_type": "markdown",
   "metadata": {},
   "source": [
    "# Example to show library functionality\n",
    "Below, we define custom libraries for x and x_dot, showing that the resulting full library and library names are a tensor product of the two independent libraries. Note that lambda x: '', is used to trick the code to generate the constant function 1 without generating repeated entries."
   ]
  },
  {
   "cell_type": "code",
   "execution_count": 2,
   "metadata": {},
   "outputs": [
    {
     "name": "stdout",
     "output_type": "stream",
     "text": [
      "[[ 1.00000000e+00  2.71828183e+00  2.71828183e+00  9.09297427e-01\n",
      "   2.22044605e-16  6.03579815e-16  6.03579815e-16  2.01904588e-16\n",
      "   2.22044605e-16  6.03579815e-16  6.03579815e-16  2.01904588e-16]\n",
      " [ 1.00000000e+00  2.71828183e+00  2.71828183e+00  9.09297427e-01\n",
      "   0.00000000e+00  0.00000000e+00  0.00000000e+00  0.00000000e+00\n",
      "   0.00000000e+00  0.00000000e+00  0.00000000e+00  0.00000000e+00]\n",
      " [ 1.00000000e+00  2.71828183e+00  2.71828183e+00  9.09297427e-01\n",
      "   0.00000000e+00  0.00000000e+00  0.00000000e+00  0.00000000e+00\n",
      "   0.00000000e+00  0.00000000e+00  0.00000000e+00  0.00000000e+00]\n",
      " [ 1.00000000e+00  2.71828183e+00  2.71828183e+00  9.09297427e-01\n",
      "   0.00000000e+00  0.00000000e+00  0.00000000e+00  0.00000000e+00\n",
      "   0.00000000e+00  0.00000000e+00  0.00000000e+00  0.00000000e+00]\n",
      " [ 1.00000000e+00  2.71828183e+00  2.71828183e+00  9.09297427e-01\n",
      "  -2.22044605e-16 -6.03579815e-16 -6.03579815e-16 -2.01904588e-16\n",
      "  -2.22044605e-16 -6.03579815e-16 -6.03579815e-16 -2.01904588e-16]]\n",
      "['', 'exp(x0)', 'exp(x1)', 'sin(x0x1)', 'x_dot0', 'exp(x0)x_dot0', 'exp(x1)x_dot0', 'sin(x0x1)x_dot0', 'x_dot1', 'exp(x0)x_dot1', 'exp(x1)x_dot1', 'sin(x0x1)x_dot1']\n"
     ]
    }
   ],
   "source": [
    "t = np.linspace(0, 1, 5)\n",
    "x = np.ones((5, 2))\n",
    "functions = [lambda x: 1, lambda x : np.exp(x), lambda x,y : np.sin(x+y)]\n",
    "x_dot_functions = [lambda x: 1, lambda x : x]\n",
    "function_names = [lambda x: '',\n",
    "                  lambda x : 'exp(' + x + ')',\n",
    "                  lambda x, y : 'sin(' + x + y + ')',\n",
    "                  lambda x: '',\n",
    "                  lambda x : x]\n",
    "lib = ps.SINDyPILibrary(library_functions=functions,\n",
    "                        x_dot_library_functions=x_dot_functions,\n",
    "                        function_names=function_names, t=t\n",
    "                        ).fit(x)\n",
    "print(lib.transform(x))\n",
    "print(lib.get_feature_names())"
   ]
  },
  {
   "cell_type": "markdown",
   "metadata": {},
   "source": [
    "# Julia language is required for SINDy-PI to be able to solve differential algebraic equations (DAEs)\n",
    "\n",
    "Note that on my computer, at a terminal, I need to do: <br>\n",
    "julia  (enters the julia console) <br>\n",
    "import Pkg <br>\n",
    "Pkg.add(\"PyCall\") <br>\n",
    "Pkg.add(\"DiffEqBase\") <br>\n",
    "Pkg.add(\"DifferentialEquations\") <br>\n",
    "exit() <br>\n",
    "jupyter notebook <br>"
   ]
  },
  {
   "cell_type": "code",
   "execution_count": 3,
   "metadata": {},
   "outputs": [],
   "source": [
    "from julia.api import Julia\n",
    "jl = Julia(compiled_modules=False)\n",
    "from diffeqpy import de"
   ]
  },
  {
   "cell_type": "markdown",
   "metadata": {},
   "source": [
    "# Define some functions that facilitate integration\n",
    "SINDy-PI produces differential algebraic equations (DAEs), which cannot be generally solved by python's native routines odeint or solve_ivp. Instead, we need to define some functions to put the equations into a format amenable to the Julia-reliant diffeqpy package."
   ]
  },
  {
   "cell_type": "code",
   "execution_count": 4,
   "metadata": {},
   "outputs": [],
   "source": [
    "# Fix feature names\n",
    "def fix_feature_names(feature_names, r):\n",
    "    for i in range(len(feature_names)):\n",
    "        if feature_names[i] == '':\n",
    "            feature_names[i] = '1'\n",
    "        for j in range(r):\n",
    "            feature_names[i] = feature_names[i].replace(\"sin(x\" + str(j) + \")\", \"sin(u[\" + str(j) + \"])*\")  \n",
    "            feature_names[i] = feature_names[i].replace(\"cos(x\" + str(j) + \")\", \"cos(u[\" + str(j) + \"])*\")\n",
    "        for j in range(r):\n",
    "            feature_names[i] = feature_names[i].replace(\"x_dot\" + str(j), \"du[\" + str(j) + \"]*\")  \n",
    "            feature_names[i] = feature_names[i].replace(\"x\" + str(j), \"u[\" + str(j) + \"]*\") \n",
    "        if feature_names[i][-1] == '*':\n",
    "            feature_names[i] = feature_names[i][:-1]\n",
    "        print(i, feature_names[i])\n",
    "    return feature_names\n",
    "\n",
    "\n",
    "# Function to build a symbolic DAE\n",
    "# Extract the coefficients and build up a string to evaluate\n",
    "def build_symbolic_DAE(sindy_opt, feature_names, r, coefs, coef_indices):\n",
    "    full_string = ''\n",
    "    for k in range(r):\n",
    "        eval_string = ''\n",
    "        for i in range(len(feature_names)):\n",
    "            eval_string += 'coefs[' + str(i) + ', ' + str(k) + '] * eval(feature_names[' + str(i) + '])'\n",
    "            if i != len(feature_names) - 1:\n",
    "                eval_string += ' + '\n",
    "            else:\n",
    "                eval_string += ' - eval(feature_names[' + str(coef_indices[k]) + '])' # du[' + str(k) + ']'\n",
    "        # Okay, now have the eval string for one of the ODEs and need to string together\n",
    "        if k == 0 and r == 1:\n",
    "            full_string = eval_string\n",
    "        elif k == 0:\n",
    "            full_string += '[' + eval_string + ', '\n",
    "        elif k != 0 and k != r - 1:\n",
    "            full_string += eval_string + ', '\n",
    "        elif k != 0 and k == r - 1:\n",
    "            full_string += eval_string + ']'\n",
    "    return full_string"
   ]
  },
  {
   "cell_type": "code",
   "execution_count": 5,
   "metadata": {},
   "outputs": [
    {
     "name": "stdout",
     "output_type": "stream",
     "text": [
      "Solver failed on model  3 , setting coefs to zeros\n",
      " = 5.000 x0 + 0.001 x0x0x0 + 1.666 x_dot0 + 5.557 x0x_dot0\n",
      "x0 = 0.200  + -0.333 x_dot0 + -1.111 x0x_dot0\n",
      "x0x0 = 0.198 x0 + 0.006 x0x0x0 + -0.338 x0x_dot0 + -1.099 x0x0x_dot0\n",
      "x0x0x0 = 0.000\n",
      "x0x0x0x0 = -0.001  + 0.362 x0x0x0 + 0.041 x0x_dot0 + -1.206 x0x0x0x0x_dot0\n",
      "x_dot0 = 0.600  + -3.000 x0 + -3.334 x0x_dot0\n",
      "x0x_dot0 = 0.180  + -0.899 x0 + -0.300 x_dot0\n",
      "x0x0x_dot0 = -0.001  + 0.177 x0 + -0.848 x0x0 + -0.030 x0x0x0 + -0.262 x0x_dot0\n",
      "x0x0x0x_dot0 = 0.003  + 0.001 x0 + -0.389 x0x0x0 + -0.249 x0x0x0x0 + -0.107 x0x_dot0\n",
      "x0x0x0x0x_dot0 = 0.001  + -0.669 x0x0x0x0 + -0.005 x_dot0 + 0.028 x0x_dot0 + -0.268 x0x0x_dot0\n"
     ]
    }
   ],
   "source": [
    "# define parameters\n",
    "r = 1\n",
    "dt = 0.01\n",
    "T = 5\n",
    "t = np.arange(0, T + dt, dt)\n",
    "x0_train = [0.55]\n",
    "x_train = integrate.odeint(enzyme, x0_train, t)\n",
    "x0_test = [0.05]\n",
    "x_test = integrate.odeint(enzyme, x0_test, t)\n",
    "\n",
    "fd = FiniteDifference(drop_endpoints=False)\n",
    "x_dot_train = np.nan_to_num(fd._differentiate(x_train, t))\n",
    "x_dot_test = np.nan_to_num(fd._differentiate(x_test, t))\n",
    "\n",
    "# Initialize custom SINDy library so that we can have x_dot inside it. Using the library\n",
    "# Found in Equation A1 in the SINDy-PI paper\n",
    "x_library_functions = [lambda x:1, lambda x:x, lambda x, y:x * y, lambda x:x ** 2, \n",
    "                       lambda x, y, z:x * y * z, lambda x, y: x * y ** 2, lambda x: x ** 3,\n",
    "                       lambda x, y, z, w: x * y * z * w, lambda x, y, z:x * y * z ** 2,\n",
    "                       lambda x, y:x * y ** 3, lambda x:x ** 4]\n",
    "x_dot_library_functions = [lambda x:1, lambda x:x]\n",
    "        \n",
    "library_function_names = [lambda x:'', lambda x:x, lambda x, y: x + y, lambda x:x + x, \n",
    "                          lambda x, y, z:x + y + z, lambda x, y: x + y + y, lambda x: x + x + x,\n",
    "                          lambda x, y, z, w: x + y + z + w, lambda x, y, z:x + y + z + z,\n",
    "                          lambda x, y:x + y + y + y, lambda x:x + x + x + x,\n",
    "                          lambda x:'', lambda x:x] \n",
    "sindy_library = ps.SINDyPILibrary(library_functions=x_library_functions, \n",
    "                                  x_dot_library_functions=x_dot_library_functions,\n",
    "                                  t=t[1:-1],\n",
    "                                  function_names=library_function_names,\n",
    "                                  )\n",
    "\n",
    "sindy_opt = ps.SINDyPI(threshold=1e-7, tol=1e-10, thresholder=\"l1\", max_iter=20000)\n",
    "model = ps.SINDy(\n",
    "    optimizer=sindy_opt,\n",
    "    feature_library=sindy_library,\n",
    "    differentiation_method=ps.FiniteDifference(drop_endpoints=True),\n",
    ")\n",
    "model.fit(x_train, t=t)\n",
    "model.print()"
   ]
  },
  {
   "cell_type": "code",
   "execution_count": 6,
   "metadata": {
    "scrolled": true
   },
   "outputs": [
    {
     "name": "stdout",
     "output_type": "stream",
     "text": [
      "0 1\n",
      "1 u[0]\n",
      "2 u[0]*u[0]\n",
      "3 u[0]*u[0]*u[0]\n",
      "4 u[0]*u[0]*u[0]*u[0]\n",
      "5 du[0]\n",
      "6 u[0]*du[0]\n",
      "7 u[0]*u[0]*du[0]\n",
      "8 u[0]*u[0]*u[0]*du[0]\n",
      "9 u[0]*u[0]*u[0]*u[0]*du[0]\n"
     ]
    },
    {
     "data": {
      "text/plain": [
       "[<matplotlib.lines.Line2D at 0x7fb01d8479d0>]"
      ]
     },
     "execution_count": 6,
     "metadata": {},
     "output_type": "execute_result"
    },
    {
     "data": {
      "image/png": "[encoded data removed]",
      "text/plain": [
       "<Figure size 432x288 with 1 Axes>"
      ]
     },
     "metadata": {
      "needs_background": "light"
     },
     "output_type": "display_data"
    }
   ],
   "source": [
    "# Need to decide what subset of the SINDy-PI equations to evolve as\n",
    "# the coupled system of ODEs\n",
    "coef_indices = np.arange(1, r + 1)\n",
    "coefs = np.transpose(sindy_opt.coef_)[:, coef_indices]\n",
    "feature_names = model.get_feature_names()\n",
    "feature_names = fix_feature_names(feature_names, r)\n",
    "eval_string = build_symbolic_DAE(sindy_opt, feature_names, 1, coefs, coef_indices)\n",
    "\n",
    "# Define a SINDy differential algebraic equation (DAE)\n",
    "def SINDy_model(du, u, p, t):\n",
    "    resid = eval(eval_string)\n",
    "    return resid\n",
    "\n",
    "du0 = [-0.04]\n",
    "tspan = (t[0], t[-1])\n",
    "differential_vars = [True]\n",
    "prob = de.DAEProblem(SINDy_model, du0, x0_test, tspan, differential_vars=differential_vars)\n",
    "plt.plot(t, x_test, 'r')\n",
    "sol = de.solve(prob)\n",
    "plt.plot(sol.t, sol.u, 'k--')"
   ]
  },
  {
   "cell_type": "code",
   "execution_count": 7,
   "metadata": {},
   "outputs": [
    {
     "name": "stdout",
     "output_type": "stream",
     "text": [
      "0 1\n",
      "1 u[0]\n",
      "2 u[0]*u[0]\n",
      "3 u[0]*u[0]*u[0]\n",
      "4 u[0]*u[0]*u[0]*u[0]\n",
      "5 du[0]\n",
      "6 u[0]*du[0]\n",
      "7 u[0]*u[0]*du[0]\n",
      "8 u[0]*u[0]*u[0]*du[0]\n",
      "9 u[0]*u[0]*u[0]*u[0]*du[0]\n",
      " = 5.000 x0 + 0.001 x0x0x0 + 1.666 x_dot0 + 5.557 x0x_dot0\n",
      "x0 = 0.200  + -0.333 x_dot0 + -1.111 x0x_dot0\n",
      "x0x0 = 0.198 x0 + 0.006 x0x0x0 + -0.338 x0x_dot0 + -1.099 x0x0x_dot0\n",
      "x0x0x0 = 0.000\n",
      "x0x0x0x0 = -0.001  + 0.362 x0x0x0 + 0.041 x0x_dot0 + -1.206 x0x0x0x0x_dot0\n",
      "x_dot0 = 0.600  + -3.000 x0 + -3.334 x0x_dot0\n",
      "x0x_dot0 = 0.180  + -0.899 x0 + -0.300 x_dot0\n",
      "x0x0x_dot0 = -0.001  + 0.177 x0 + -0.848 x0x0 + -0.030 x0x0x0 + -0.262 x0x_dot0\n",
      "x0x0x0x_dot0 = 0.003  + 0.001 x0 + -0.389 x0x0x0 + -0.249 x0x0x0x0 + -0.107 x0x_dot0\n",
      "x0x0x0x0x_dot0 = 0.001  + -0.669 x0x0x0x0 + -0.005 x_dot0 + 0.028 x0x_dot0 + -0.268 x0x0x_dot0\n"
     ]
    },
    {
     "data": {
      "text/plain": [
       "[<matplotlib.lines.Line2D at 0x7fafdf5c1990>]"
      ]
     },
     "execution_count": 7,
     "metadata": {},
     "output_type": "execute_result"
    },
    {
     "data": {
      "image/png": "[encoded data removed]",
      "text/plain": [
       "<Figure size 432x288 with 1 Axes>"
      ]
     },
     "metadata": {
      "needs_background": "light"
     },
     "output_type": "display_data"
    }
   ],
   "source": [
    "# Repeat our success with a different DAE from SINDy-PI\n",
    "coef_indices = np.arange(5, r + 5)\n",
    "coefs = np.transpose(sindy_opt.coef_)[:, coef_indices]\n",
    "feature_names = model.get_feature_names()\n",
    "feature_names = fix_feature_names(feature_names, r)\n",
    "eval_string = build_symbolic_DAE(sindy_opt, feature_names, 1, coefs, coef_indices)\n",
    "model.print()\n",
    "\n",
    "prob = de.DAEProblem(SINDy_model, du0, x0_test, tspan, differential_vars=differential_vars)\n",
    "plt.plot(t, x_test, 'r')\n",
    "sol = de.solve(prob)\n",
    "plt.plot(sol.t, sol.u, 'k--')"
   ]
  }
 ],
 "metadata": {
  "kernelspec": {
   "display_name": "Python 3",
   "language": "python",
   "name": "python3"
  },
  "language_info": {
   "codemirror_mode": {
    "name": "ipython",
    "version": 3
   },
   "file_extension": ".py",
   "mimetype": "text/x-python",
   "name": "python",
   "nbconvert_exporter": "python",
   "pygments_lexer": "ipython3",
   "version": "3.7.7"
  }
 },
 "nbformat": 4,
 "nbformat_minor": 4
}
