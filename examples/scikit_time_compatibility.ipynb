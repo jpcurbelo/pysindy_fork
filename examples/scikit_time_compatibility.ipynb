{
 "cells": [
  {
   "cell_type": "markdown",
   "metadata": {},
   "source": [
    "# Scikit-time objects\n",
    "\n",
    "This notebook showcases two PySINDy objects designed for use in [Scikit-time](https://scikit-time.github.io/index.htm):\n",
    "* `SINDyEstimator` - TODO\n",
    "* `SINDyModel` - TODO"
   ]
  },
  {
   "cell_type": "code",
   "execution_count": 1,
   "metadata": {
    "ExecuteTime": {
     "end_time": "2020-08-07T00:41:34.926335Z",
     "start_time": "2020-08-07T00:41:34.271655Z"
    }
   },
   "outputs": [],
   "source": [
    "import numpy as np\n",
    "from scipy.integrate import odeint\n",
    "\n",
    "import pysindy as ps"
   ]
  },
  {
   "cell_type": "code",
   "execution_count": 2,
   "metadata": {
    "ExecuteTime": {
     "end_time": "2020-08-07T00:41:34.965015Z",
     "start_time": "2020-08-07T00:41:34.927983Z"
    }
   },
   "outputs": [],
   "source": [
    "def lorenz(z, t):\n",
    "    return [\n",
    "        10 * (z[1] - z[0]),\n",
    "        z[0] * (28 - z[2]) - z[1],\n",
    "        z[0] * z[1] - (8 / 3) * z[2]\n",
    "    ]\n",
    "\n",
    "# Generate measurement data\n",
    "dt = .002\n",
    "\n",
    "# Train data\n",
    "t_train = np.arange(0, 10, dt)\n",
    "x0_train = [-8, 8, 27]\n",
    "x_train = odeint(lorenz, x0_train, t_train)\n",
    "\n",
    "# Test data\n",
    "\n",
    "# Evolve the Lorenz equations in time using a different initial condition\n",
    "t_test = np.arange(0, 15, dt)\n",
    "x0_test = np.array([8, 7, 15])\n",
    "x_test = odeint(lorenz, x0_test, t_test)"
   ]
  },
  {
   "cell_type": "code",
   "execution_count": 3,
   "metadata": {
    "ExecuteTime": {
     "end_time": "2020-08-07T00:41:35.037758Z",
     "start_time": "2020-08-07T00:41:34.967038Z"
    }
   },
   "outputs": [],
   "source": [
    "# Fit an estimator\n",
    "estimator = ps.scikit_time.SINDyEstimator(t_default=dt)\n",
    "estimator.fit(x_train);"
   ]
  },
  {
   "cell_type": "code",
   "execution_count": 4,
   "metadata": {
    "ExecuteTime": {
     "end_time": "2020-08-07T00:41:36.437501Z",
     "start_time": "2020-08-07T00:41:35.041443Z"
    }
   },
   "outputs": [
    {
     "name": "stdout",
     "output_type": "stream",
     "text": [
      "Model score: 1.000000\n"
     ]
    }
   ],
   "source": [
    "# Extract a model\n",
    "model = estimator.fetch_model()\n",
    "\n",
    "# Compare SINDy-predicted derivatives with finite difference derivatives\n",
    "print('Model score: %f' % model.score(x_test, t=dt))\n",
    "\n",
    "# Evolve the new initial condition in time with the SINDy model\n",
    "x_test_sim = model.simulate(x0_test, t_test)"
   ]
  },
  {
   "cell_type": "code",
   "execution_count": 6,
   "metadata": {
    "ExecuteTime": {
     "end_time": "2020-08-07T00:41:41.439016Z",
     "start_time": "2020-08-07T00:41:41.416000Z"
    }
   },
   "outputs": [],
   "source": [
    "# Try out some other combinations of methods\n",
    "estimator = ps.scikit_time.SINDyEstimator(\n",
    "    optimizer=ps.SR3(threshold=0.5, max_iter=50),\n",
    "    feature_library=ps.PolynomialLibrary(degree=3)\n",
    ")\n",
    "estimator.fit(x_train, t=dt)\n",
    "\n",
    "model = estimator.fetch_model()"
   ]
  }
 ],
 "metadata": {
  "kernelspec": {
   "display_name": "Python 3",
   "language": "python",
   "name": "python3"
  },
  "language_info": {
   "codemirror_mode": {
    "name": "ipython",
    "version": 3
   },
   "file_extension": ".py",
   "mimetype": "text/x-python",
   "name": "python",
   "nbconvert_exporter": "python",
   "pygments_lexer": "ipython3",
   "version": "3.6.9"
  },
  "toc": {
   "base_numbering": 1,
   "nav_menu": {},
   "number_sections": true,
   "sideBar": true,
   "skip_h1_title": false,
   "title_cell": "Table of Contents",
   "title_sidebar": "Contents",
   "toc_cell": false,
   "toc_position": {},
   "toc_section_display": true,
   "toc_window_display": false
  }
 },
 "nbformat": 4,
 "nbformat_minor": 4
}
