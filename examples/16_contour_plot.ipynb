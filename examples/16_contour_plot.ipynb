{
 "cells": [
  {
   "cell_type": "markdown",
   "id": "e17c7295-26e5-4cc2-b240-14aa9232b554",
   "metadata": {},
   "source": [
    "# PySINDy Performance W.R.T. Chaotic Level & Noisy Level\n",
    "\n",
    "This notebook uses contour plots to demostrate the relationship of predicted model root-mean-square-error (RMSE) between chaotic level and noisy level. The chaotic level is measured by **Estimated Maximum Lyapunov Exponent** of each system and noisy level is measured by the **percentage of noise** added to the clean data."
   ]
  },
  {
   "cell_type": "code",
   "execution_count": 2,
   "id": "7fcdd81b-4434-45e4-a99a-6841df3a8ea0",
   "metadata": {},
   "outputs": [],
   "source": [
    "import matplotlib.pyplot as plt\n",
    "from mpl_toolkits.mplot3d import Axes3D\n",
    "import numpy as np\n",
    "from scipy.integrate import odeint\n",
    "from sklearn.metrics import mean_squared_error\n",
    "from dysts.base import make_trajectory_ensemble\n",
    "from dysts.base import get_attractor_list\n",
    "import dysts.flows as flows\n",
    "import dysts.datasets as datasets\n",
    "\n",
    "# Annoyingly requires the neurokit2 package - \"pip install neurokit2\"\n",
    "from dysts.analysis import sample_initial_conditions\n",
    "\n",
    "import pysindy as ps\n",
    "\n",
    "# Ignore warnings\n",
    "import warnings\n",
    "warnings.filterwarnings('ignore')\n",
    "\n",
    "# Seed the random number generators for reproducibility\n",
    "np.random.seed(100)"
   ]
  },
  {
   "cell_type": "markdown",
   "id": "80330306-845b-4fac-9654-ac1fe570bb2f",
   "metadata": {},
   "source": [
    "## Chaotic System Initialization\n",
    "\n",
    "Precompute the time-series trajectory data of experimental systems and systems' attributes that describes the complexity of systems, including *Estimated Maximum Lyapunov Exponent*, *Kaplan Yorke Dimension*, *Multiscale Entropy*, and *Correlation Dimension*.\n",
    "\n",
    "The dynamic systems used in this notebook are: \n",
    "             \"Aizawa\", \"AnishchenkoAstakhov\", \"Arneodo\", \"Blasius\", \"Bouali\", \n",
    "             \"CaTwoPlus\", \"GenesioTesi\", \"HenonHeiles\", \"HyperBao\", \"HyperCai\",\n",
    "             \"HyperJha\", \"HyperLorenz\", \"HyperLu\", \"HyperPang\", \"Laser\",\n",
    "             \"Lorenz\", \"LorenzBounded\", \"MooreSpiegel\", \"Rossler\", \"ShimizuMorioka\"."
   ]
  },
  {
   "cell_type": "code",
   "execution_count": 53,
   "id": "cd036427-e75d-458e-bcdf-601a5bdff964",
   "metadata": {},
   "outputs": [],
   "source": [
    "# experimental system list\n",
    "systems_list = [\"Aizawa\", \"AnishchenkoAstakhov\", \"Arneodo\", \"Blasius\", \"Bouali\", \n",
    "                \"CaTwoPlus\", \"GenesioTesi\", \"HyperBao\", \"HyperCai\",\n",
    "                \"HyperJha\", \"HyperLorenz\", \"HyperLu\", \"HyperPang\", \"Laser\",\n",
    "                \"Lorenz\", \"LorenzBounded\", \"MooreSpiegel\", \"Rossler\", \"ShimizuMorioka\"]\n",
    "\n",
    "# attributes list\n",
    "attributes = [\n",
    "    \"maximum_lyapunov_estimated\",\n",
    "    \"kaplan_yorke_dimension\",\n",
    "    \"multiscale_entropy\",\n",
    "    \"correlation_dimension\",\n",
    "]\n",
    "\n",
    "# Get training and testing trajectories for all the experimental systems and their attributes\n",
    "n = 2000\n",
    "all_sols_train = dict()\n",
    "all_sols_test = dict()\n",
    "all_t_train = dict()\n",
    "all_t_test = dict()\n",
    "all_properties = dict()\n",
    "\n",
    "for equation_name in systems_list:\n",
    "    eq = getattr(flows, equation_name)()\n",
    "    try:\n",
    "        ic_train, ic_test = sample_initial_conditions(eq, 2, traj_length=1000, pts_per_period=30)\n",
    "        eq.ic = ic_train\n",
    "        t_sol, sol = eq.make_trajectory(n, method=\"Radau\", resample=True, return_times=True, standardize=False)\n",
    "        all_sols_train[equation_name] = sol\n",
    "        all_t_train[equation_name] = t_sol\n",
    "        eq.ic = ic_test\n",
    "        t_sol, sol = eq.make_trajectory(n, method=\"Radau\", resample=True, return_times=True, standardize=False)\n",
    "        all_sols_test[equation_name] = sol\n",
    "        all_t_test[equation_name] = t_sol\n",
    "        attr_vals = [getattr(eq, item, None) for item in attributes]\n",
    "        all_properties[equation_name] = dict(zip(attributes, attr_vals))\n",
    "    except SystemError:\n",
    "        print('Could not load one of the systems: ', equation_name)\n",
    "    except TypeError:\n",
    "        print('Could not load one of the systems ', equation_name)"
   ]
  },
  {
   "cell_type": "markdown",
   "id": "dc86d5d7-7a49-49e5-90c7-8cc33423606f",
   "metadata": {},
   "source": [
    "## Algorithm 2 from Rudy et al. (2017) \n",
    "Algorithm 2 is implemented here for scanning the thresholds passed to the STLSQ optimizer (which actually defaults to Ridge Regression with the $l_0$ norm). This hyperparameter scanning is required if we are trying to fit many systems at once, which will have many different physical scales."
   ]
  },
  {
   "cell_type": "code",
   "execution_count": 6,
   "id": "8c027ff7-0a73-42c3-85d4-a4325c6efd04",
   "metadata": {},
   "outputs": [],
   "source": [
    "# Algorithm to scan over threshold values during Ridge Regression, and select\n",
    "# highest performing model on the test set\n",
    "\n",
    "def rudy_algorithm2(x_train, x_test, t_train, ode_lib, dtol, alpha=1e-5, \n",
    "                    tol_iter=25, change_factor=2, l0_pen=1e-3,\n",
    "                    normalize_columns=True, optimizer_max_iter=20):  \n",
    "    \n",
    "    # Do an initial least-squares fit to get an initial guess of the coefficients\n",
    "    optimizer = ps.STLSQ(threshold=0, alpha=0, \n",
    "                         max_iter=optimizer_max_iter, \n",
    "                         normalize_columns=normalize_columns, \n",
    "                         ridge_kw={'tol': 1e-10})\n",
    "    \n",
    "    # Compute initial model\n",
    "    model = ps.SINDy(feature_library=ode_lib, optimizer=optimizer)\n",
    "    model.fit(x_train, t=t_train)\n",
    "    \n",
    "    # Set the L0 penalty based on the condition number of Theta\n",
    "    l0_penalty = l0_pen * np.linalg.cond(optimizer.Theta_)\n",
    "    coef_best = optimizer.coef_\n",
    "    \n",
    "    # Compute MSE on the testing x_dot data (takes x_test and computes x_dot_test)\n",
    "    error_best = model.score(x_test, metric=mean_squared_error, squared=False\n",
    "                            ) + l0_penalty * np.count_nonzero(coef_best)\n",
    "    \n",
    "    coef_history_ = np.zeros((coef_best.shape[0], coef_best.shape[1], 1 + tol_iter))\n",
    "    error_history_ = np.zeros(1 + tol_iter)\n",
    "    coef_history_[:, :, 0] = coef_best\n",
    "    error_history_[0] = error_best\n",
    "    tol = dtol\n",
    "    \n",
    "    # Loop over threshold values, note needs some coding \n",
    "    # if not using STLSQ optimizer\n",
    "    for i in range(tol_iter):\n",
    "        optimizer = ps.STLSQ(threshold=tol, alpha=alpha, \n",
    "                             max_iter=optimizer_max_iter,\n",
    "                             normalize_columns=normalize_columns, \n",
    "                             ridge_kw={'tol': 1e-10})\n",
    "        model = ps.SINDy(feature_library=ode_lib, optimizer=optimizer)\n",
    "        model.fit(x_train, t=t_train)\n",
    "        coef_new = optimizer.coef_\n",
    "        coef_history_[:, :, i + 1] = coef_new\n",
    "        error_new = model.score(x_test, metric=mean_squared_error, squared=False\n",
    "                               ) + l0_penalty * np.count_nonzero(coef_new)\n",
    "        error_history_[i + 1] = error_new\n",
    "        \n",
    "        # If error improves, set the new best coefficients\n",
    "        if error_new <= error_best:\n",
    "            error_best = error_new\n",
    "            coef_best = coef_new\n",
    "            tol += dtol\n",
    "            #tol *= change_factor\n",
    "        else:\n",
    "            #tol = tol / (change_factor * 1.1)\n",
    "            tol = max(0, tol - change_factor * dtol)\n",
    "            dtol = change_factor * dtol / (tol_iter - i)\n",
    "            tol += dtol\n",
    "    return coef_best, error_best, coef_history_, error_history_, model"
   ]
  },
  {
   "cell_type": "markdown",
   "id": "9678776c-f656-4be7-89ac-b0659d00c19e",
   "metadata": {},
   "source": [
    "## Reorder System List by Chaotic Level\n",
    "\n",
    "Rearrange the name list of systems as y-axis label in contour plot."
   ]
  },
  {
   "cell_type": "code",
   "execution_count": 11,
   "id": "17e2daa6-cb43-4e55-ae7c-15f7e8196a6b",
   "metadata": {},
   "outputs": [],
   "source": [
    "# Obtain Lyapunov Exponent of each system\n",
    "lyap_list = []\n",
    "for system in systems_list:\n",
    "    lyap_list.append(all_properties[system]['maximum_lyapunov_estimated'])\n",
    "\n",
    "# Get reordered index\n",
    "re_idx = np.argsort(lyap_list)\n",
    "\n",
    "# Reorder systems list\n",
    "re_sys_list = [systems_list[i] for i in re_idx]"
   ]
  },
  {
   "cell_type": "markdown",
   "id": "c4a0af1b-821b-4655-bf05-a060b57a6e48",
   "metadata": {},
   "source": [
    "## Compute Averaged RMSE WRT Different Noisy Level of Each System\n",
    "\n",
    "Because of the randomness of noise added to the model, we take the average of the 10 RMSEs for each system to ensure the correctness and eliminate edge cases.\n",
    "\n",
    "Notice that we ignore the extremely large RMSE, where typical RMSEs are about 1.0."
   ]
  },
  {
   "cell_type": "markdown",
   "id": "23b6b742-86be-4fc8-956e-e5a7ea5ff858",
   "metadata": {},
   "source": [
    "### Preparation"
   ]
  },
  {
   "cell_type": "code",
   "execution_count": 39,
   "id": "554cd2b6-2c74-4f38-903a-f804764a6380",
   "metadata": {},
   "outputs": [],
   "source": [
    "# Define helper method for mult-test\n",
    "def multi_x_helper(x_train_added_noise, x_test, t_train, concat_library, \n",
    "                   max_iter, tol_iter):\n",
    "    # rudy train\n",
    "    coef_best, err_best, coef_history, err_history, model = rudy_algorithm2(\n",
    "        x_train_added_noise, x_test, t_train,\n",
    "        ode_lib=concat_library, dtol=1e-3,\n",
    "        optimizer_max_iter=30,\n",
    "        tol_iter=tol_iter,\n",
    "        change_factor=2,\n",
    "        l0_pen=1e-1\n",
    "    )\n",
    "\n",
    "    # compute predicted system\n",
    "    x_dot_test = model.differentiate(x_test, t=t_test)\n",
    "    x_dot_test_pred = model.predict(x_test)\n",
    "    x_test_pred = model.simulate(x_test[0, :], t=t_test, integrator=\"odeint\",\n",
    "                                 integrator_kws={\"mxstep\":30})\n",
    "\n",
    "    curr_x_rmse = mean_squared_error(x_test_pred, x_test, squared=False)\n",
    "    curr_dot_rmse = mean_squared_error(x_dot_test_pred, x_dot_test, squared=False)\n",
    "    \n",
    "    return curr_x_rmse, curr_dot_rmse"
   ]
  },
  {
   "cell_type": "code",
   "execution_count": 19,
   "id": "3c46367b-3e7b-4968-ae1c-c088d023c390",
   "metadata": {},
   "outputs": [],
   "source": [
    "# Define discovered parameters for particular models\n",
    "parameter_dic = {\"HenonHeiles\":[15, 10], \"HyperLorenz\":[50, 3], \"Rossler\":[10, 4], \"HyperBao\":[30, 3]}"
   ]
  },
  {
   "cell_type": "markdown",
   "id": "7bf798dd-1239-4dc9-8997-2de51f417fb1",
   "metadata": {},
   "source": [
    "### Computation"
   ]
  },
  {
   "cell_type": "code",
   "execution_count": null,
   "id": "f491692b-06e2-4762-960f-fbfdd5cb7661",
   "metadata": {
    "collapsed": true,
    "jupyter": {
     "outputs_hidden": true
    },
    "tags": []
   },
   "outputs": [
    {
     "name": "stdout",
     "output_type": "stream",
     "text": [
      "-----------------------------------------------\n",
      "-------------- Aizawa --------------\n",
      "-----------------------------------------------\n",
      "-----------------------------------------------\n",
      "-------------- AnishchenkoAstakhov --------------\n",
      "-----------------------------------------------\n",
      "-----------------------------------------------\n",
      "-------------- Arneodo --------------\n",
      "-----------------------------------------------\n",
      "-----------------------------------------------\n",
      "-------------- Blasius --------------\n",
      "-----------------------------------------------\n",
      "-----------------------------------------------\n",
      "-------------- Bouali --------------\n",
      "-----------------------------------------------\n",
      "-----------------------------------------------\n",
      "-------------- CaTwoPlus --------------\n",
      "-----------------------------------------------\n"
     ]
    },
    {
     "name": "stderr",
     "output_type": "stream",
     "text": [
      "/Users/zhanglanyue/opt/anaconda3/envs/pysindy/lib/python3.7/site-packages/sklearn/linear_model/_ridge.py:157: LinAlgWarning: Ill-conditioned matrix (rcond=3.19935e-18): result may not be accurate.\n",
      "  return linalg.solve(A, Xy, sym_pos=True, overwrite_a=True).T\n",
      "/Users/zhanglanyue/opt/anaconda3/envs/pysindy/lib/python3.7/site-packages/sklearn/linear_model/_ridge.py:157: LinAlgWarning: Ill-conditioned matrix (rcond=3.19935e-18): result may not be accurate.\n",
      "  return linalg.solve(A, Xy, sym_pos=True, overwrite_a=True).T\n",
      "/Users/zhanglanyue/opt/anaconda3/envs/pysindy/lib/python3.7/site-packages/sklearn/linear_model/_ridge.py:157: LinAlgWarning: Ill-conditioned matrix (rcond=3.19935e-18): result may not be accurate.\n",
      "  return linalg.solve(A, Xy, sym_pos=True, overwrite_a=True).T\n",
      "/Users/zhanglanyue/opt/anaconda3/envs/pysindy/lib/python3.7/site-packages/sklearn/linear_model/_ridge.py:157: LinAlgWarning: Ill-conditioned matrix (rcond=2.38345e-19): result may not be accurate.\n",
      "  return linalg.solve(A, Xy, sym_pos=True, overwrite_a=True).T\n",
      "/Users/zhanglanyue/opt/anaconda3/envs/pysindy/lib/python3.7/site-packages/sklearn/linear_model/_ridge.py:157: LinAlgWarning: Ill-conditioned matrix (rcond=2.38345e-19): result may not be accurate.\n",
      "  return linalg.solve(A, Xy, sym_pos=True, overwrite_a=True).T\n",
      "/Users/zhanglanyue/opt/anaconda3/envs/pysindy/lib/python3.7/site-packages/sklearn/linear_model/_ridge.py:157: LinAlgWarning: Ill-conditioned matrix (rcond=2.38345e-19): result may not be accurate.\n",
      "  return linalg.solve(A, Xy, sym_pos=True, overwrite_a=True).T\n",
      "/Users/zhanglanyue/opt/anaconda3/envs/pysindy/lib/python3.7/site-packages/sklearn/linear_model/_ridge.py:157: LinAlgWarning: Ill-conditioned matrix (rcond=5.25474e-19): result may not be accurate.\n",
      "  return linalg.solve(A, Xy, sym_pos=True, overwrite_a=True).T\n",
      "/Users/zhanglanyue/opt/anaconda3/envs/pysindy/lib/python3.7/site-packages/sklearn/linear_model/_ridge.py:157: LinAlgWarning: Ill-conditioned matrix (rcond=5.25474e-19): result may not be accurate.\n",
      "  return linalg.solve(A, Xy, sym_pos=True, overwrite_a=True).T\n",
      "/Users/zhanglanyue/opt/anaconda3/envs/pysindy/lib/python3.7/site-packages/sklearn/linear_model/_ridge.py:157: LinAlgWarning: Ill-conditioned matrix (rcond=5.25474e-19): result may not be accurate.\n",
      "  return linalg.solve(A, Xy, sym_pos=True, overwrite_a=True).T\n",
      "/Users/zhanglanyue/opt/anaconda3/envs/pysindy/lib/python3.7/site-packages/sklearn/linear_model/_ridge.py:157: LinAlgWarning: Ill-conditioned matrix (rcond=3.87677e-19): result may not be accurate.\n",
      "  return linalg.solve(A, Xy, sym_pos=True, overwrite_a=True).T\n",
      "/Users/zhanglanyue/opt/anaconda3/envs/pysindy/lib/python3.7/site-packages/sklearn/linear_model/_ridge.py:157: LinAlgWarning: Ill-conditioned matrix (rcond=3.87677e-19): result may not be accurate.\n",
      "  return linalg.solve(A, Xy, sym_pos=True, overwrite_a=True).T\n",
      "/Users/zhanglanyue/opt/anaconda3/envs/pysindy/lib/python3.7/site-packages/sklearn/linear_model/_ridge.py:157: LinAlgWarning: Ill-conditioned matrix (rcond=3.87677e-19): result may not be accurate.\n",
      "  return linalg.solve(A, Xy, sym_pos=True, overwrite_a=True).T\n"
     ]
    },
    {
     "name": "stdout",
     "output_type": "stream",
     "text": [
      "-----------------------------------------------\n",
      "-------------- GenesioTesi --------------\n",
      "-----------------------------------------------\n",
      "-----------------------------------------------\n",
      "-------------- HyperBao --------------\n",
      "-----------------------------------------------\n",
      "-----------------------------------------------\n",
      "-------------- HyperCai --------------\n",
      "-----------------------------------------------\n",
      "-----------------------------------------------\n",
      "-------------- HyperJha --------------\n",
      "-----------------------------------------------\n",
      "-----------------------------------------------\n",
      "-------------- HyperLorenz --------------\n",
      "-----------------------------------------------\n",
      "-----------------------------------------------\n",
      "-------------- HyperLu --------------\n",
      "-----------------------------------------------\n",
      "-----------------------------------------------\n",
      "-------------- HyperPang --------------\n",
      "-----------------------------------------------\n",
      "-----------------------------------------------\n",
      "-------------- Laser --------------\n",
      "-----------------------------------------------\n",
      "-----------------------------------------------\n",
      "-------------- Lorenz --------------\n",
      "-----------------------------------------------\n",
      "-----------------------------------------------\n",
      "-------------- LorenzBounded --------------\n",
      "-----------------------------------------------\n"
     ]
    }
   ],
   "source": [
    "# data storages\n",
    "noisy_levels = []\n",
    "chaotic_levels = []\n",
    "x_rmse_list = []\n",
    "dot_rmse_list = []\n",
    "\n",
    "# computation\n",
    "for attractor_name in systems_list:\n",
    "    print(\"-----------------------------------------------\")\n",
    "    print(\"--------------\", attractor_name, \"--------------\")\n",
    "    print(\"-----------------------------------------------\")\n",
    "\n",
    "    x_train = all_sols_train[attractor_name]\n",
    "    x_test = all_sols_test[attractor_name]\n",
    "    t_train = all_t_train[attractor_name]\n",
    "    t_test = all_t_test[attractor_name]\n",
    "    \n",
    "    if attractor_name in parameter_dic:\n",
    "        max_iter = parameter_dic[attractor_name][0]\n",
    "        tol_iter = parameter_dic[attractor_name][1]\n",
    "    else:\n",
    "        max_iter = 30\n",
    "        tol_iter = 15\n",
    "    \n",
    "    # noise variance controller\n",
    "    rmse = mean_squared_error(x_train, np.zeros(x_train.shape), squared=False)\n",
    "    \n",
    "    for denominator in range(10, 101, 10):\n",
    "        temp_x = []\n",
    "        temp_dot = []\n",
    "        \n",
    "        # multiple test for averaged results\n",
    "        for j in range(10):\n",
    "            x_train_noisy = x_train + np.random.normal(0, rmse / denominator, x_train.shape)\n",
    "            \n",
    "            poly_library = ps.PolynomialLibrary(degree=4)\n",
    "            fourier_library = ps.FourierLibrary()\n",
    "            concat_library = poly_library + fourier_library\n",
    "            \n",
    "            # computation\n",
    "            curr_x, curr_dot = multi_x_helper(x_train_noisy, x_test, t_train, concat_library,\n",
    "                                              max_iter, tol_iter)\n",
    "            \n",
    "            # check result\n",
    "            if curr_x < 1e3:\n",
    "                temp_x.append(curr_x)\n",
    "            if curr_dot < 1e3:\n",
    "                temp_dot.append(curr_dot)\n",
    "                \n",
    "        if (len(temp_x) > 0):\n",
    "            # record result\n",
    "            x_rmse_list.append(sum(temp_x) / len(temp_x))\n",
    "            dot_rmse_list.append(sum(temp_dot) / len(temp_dot))\n",
    "            noisy_levels.append(10 / denominator)\n",
    "            chaotic_levels.append(all_properties[attractor_name]['maximum_lyapunov_estimated'])"
   ]
  },
  {
   "cell_type": "markdown",
   "id": "d5a4e83c-a044-4662-9f64-84ca77a18453",
   "metadata": {},
   "source": [
    "## Unstandardised Contour Plot\n",
    "\n",
    "We plot 3 contour plots with different interpolation methods: `nearest` and `linear`. \n",
    "\n",
    "### X values"
   ]
  },
  {
   "cell_type": "code",
   "execution_count": 167,
   "id": "b1d3cd7e-5b77-4d24-aa2f-f94e12edf174",
   "metadata": {},
   "outputs": [],
   "source": [
    "from matplotlib.colors import LogNorm\n",
    "from scipy.interpolate import griddata\n",
    "from mpl_toolkits.axes_grid1 import make_axes_locatable\n",
    "\n",
    "# make plot larger\n",
    "plt.rcParams[\"figure.figsize\"] = (20, 10)"
   ]
  },
  {
   "cell_type": "code",
   "execution_count": 180,
   "id": "153ba98c-254b-433a-8ae9-dcadc39c0775",
   "metadata": {},
   "outputs": [
    {
     "name": "stdout",
     "output_type": "stream",
     "text": [
      "['AnishchenkoAstakhov', 'ShimizuMorioka', 'Blasius', 'Bouali', 'Rossler', 'Aizawa', 'GenesioTesi', 'Arneodo', 'HyperLorenz', 'HyperJha', 'MooreSpiegel', 'CaTwoPlus', 'HyperBao', 'Laser', 'LorenzBounded', 'HyperLu', 'Lorenz', 'HyperPang', 'HyperCai']\n",
      "\n",
      "[0.03977755489021002, 0.044032234819090736, 0.047127554009157836, 0.04911273564448129, 0.07633013937806932, 0.08947878317195473, 0.09974381765927796, 0.24285661379003065, 0.2925643599949083, 0.3949499860671474, 0.4074353399833356, 0.5788123099350391, 0.6959739496471207, 0.7637435195473311, 0.8497533717540197, 1.0855770127041702, 1.0910931847726466, 1.586932998381499, 1.6344436239089568]\n"
     ]
    }
   ],
   "source": [
    "## deal with tight y ticks\n",
    "# preview ordered name list\n",
    "print(re_sys_list)\n",
    "print()\n",
    "# preview y ticks positon values\n",
    "print(re_lyap_list)"
   ]
  },
  {
   "cell_type": "code",
   "execution_count": 201,
   "id": "583cb018-d0e3-4d56-8578-9d331f9f6403",
   "metadata": {},
   "outputs": [],
   "source": [
    "# rewrite y ticks\n",
    "y_ticks = ['AnishchenkoAstakhov, Blasius,\\n' + 'ShimizuMorioka, Bouali',\n",
    "           'Rossler, Aizawa,\\n' + 'GenesioTesi', 'Arneodo', 'HyperLorenz',\n",
    "           'HyperJha\\n' + 'MooreSpiegel', 'CaTwoPlus', 'HyperBao', 'Laser',\n",
    "           'LorenzBounded', 'HyperLu,\\n' + 'Lorenz', 'HyperPang', 'HyperCai'\n",
    "          ]\n",
    "          \n",
    "# relocate y ticks\n",
    "y_location = [sum(re_lyap_list[0:4]) / 4, sum(re_lyap_list[4:7]) / 3 + 0.02,\n",
    "              re_lyap_list[7], re_lyap_list[8], sum(re_lyap_list[9:11]) / 2,\n",
    "              re_lyap_list[11], re_lyap_list[12], re_lyap_list[13], re_lyap_list[14],\n",
    "              sum(re_lyap_list[15:17]) / 2, re_lyap_list[17], re_lyap_list[18]\n",
    "             ]"
   ]
  },
  {
   "cell_type": "code",
   "execution_count": 202,
   "id": "0d310aab-d9a5-41e0-a83d-281786b15ec8",
   "metadata": {},
   "outputs": [
    {
     "data": {
      "text/plain": [
       "<Figure size 1440x720 with 2 Axes>"
      ]
     },
     "metadata": {
      "needs_background": "light"
     },
     "output_type": "display_data"
    }
   ],
   "source": [
    "ax = plt.subplot()\n",
    "\n",
    "# form data grid for plotting\n",
    "xx, yy = np.meshgrid(np.linspace(np.amin(noisy_levels), np.amax(noisy_levels), 30),\n",
    "                     np.linspace(np.amin(chaotic_levels), np.amax(chaotic_levels), 30))\n",
    "zz = griddata((noisy_levels, chaotic_levels), x_rmse_list, (xx, yy), method='nearest')\n",
    "\n",
    "# visualize contour plot\n",
    "im = ax.imshow(zz, extent=(np.amin(noisy_levels), np.amax(noisy_levels), \n",
    "                           np.amin(chaotic_levels), np.amax(chaotic_levels)),\n",
    "               norm=LogNorm(vmin=zz.min(), vmax=zz.max()), origin=\"lower\")\n",
    "\n",
    "plt.colorbar(im, extend='max')\n",
    "\n",
    "# add text descriptions\n",
    "plt.title(\"Log Normal for X\", fontsize=20)\n",
    "plt.xlabel(\"Noisy Level\", fontsize=15)\n",
    "plt.ylabel(\"System\", fontsize=15)\n",
    "\n",
    "# replace y tick\n",
    "ax.set_yticks(y_location)\n",
    "ax.set_yticklabels(y_ticks)\n",
    "\n",
    "plt.tight_layout()\n",
    "plt.show()"
   ]
  },
  {
   "cell_type": "code",
   "execution_count": 203,
   "id": "9f9f1e21-dfe4-4bda-b7ac-cefe69f71325",
   "metadata": {},
   "outputs": [
    {
     "data": {
      "text/plain": [
       "<Figure size 1440x720 with 2 Axes>"
      ]
     },
     "metadata": {
      "needs_background": "light"
     },
     "output_type": "display_data"
    }
   ],
   "source": [
    "ax = plt.subplot()\n",
    "\n",
    "# form data grid for plotting\n",
    "xx, yy = np.meshgrid(np.linspace(np.amin(noisy_levels), np.amax(noisy_levels), 20),\n",
    "                     np.linspace(np.amin(chaotic_levels), np.amax(chaotic_levels), 20))\n",
    "zz = griddata((noisy_levels, chaotic_levels), x_rmse_list, (xx, yy), method='linear')\n",
    "\n",
    "# visualize contour plot\n",
    "im = ax.imshow(zz, extent=(np.amin(noisy_levels), np.amax(noisy_levels), \n",
    "                           np.amin(chaotic_levels), np.amax(chaotic_levels)),\n",
    "               norm=LogNorm(vmin=zz.min(), vmax=zz.max()), origin=\"lower\")\n",
    "\n",
    "plt.colorbar(im, extend='max')\n",
    "\n",
    "# add text descriptions\n",
    "plt.title(\"Log Normal for X\", fontsize=20)\n",
    "plt.xlabel(\"Noisy Level\", fontsize=15)\n",
    "plt.ylabel(\"System Name\", fontsize=15)\n",
    "\n",
    "# replace y tick\n",
    "ax.set_yticks(y_location)\n",
    "ax.set_yticklabels(y_ticks)\n",
    "\n",
    "plt.show()"
   ]
  },
  {
   "cell_type": "markdown",
   "id": "d50eeb8f-216b-493d-846b-707c1963fbef",
   "metadata": {},
   "source": [
    "### X_dot values\n"
   ]
  },
  {
   "cell_type": "code",
   "execution_count": 204,
   "id": "b200065f-e3c2-485a-a0fe-0c6d2c644cb4",
   "metadata": {},
   "outputs": [
    {
     "data": {
      "text/plain": [
       "<Figure size 1440x720 with 2 Axes>"
      ]
     },
     "metadata": {
      "needs_background": "light"
     },
     "output_type": "display_data"
    }
   ],
   "source": [
    "ax = plt.subplot()\n",
    "\n",
    "# form data grid for plotting\n",
    "xx, yy = np.meshgrid(np.linspace(np.amin(noisy_levels), np.amax(noisy_levels), 30),\n",
    "                     lyap_list)\n",
    "zz = griddata((noisy_levels, chaotic_levels), dot_rmse_list, (xx, yy), method='nearest')\n",
    "\n",
    "# visualize contour plot\n",
    "im = ax.imshow(zz, extent=(np.amin(noisy_levels), np.amax(noisy_levels), \n",
    "                           np.amin(lyap_list), np.amax(lyap_list)),\n",
    "               norm=LogNorm(vmin=zz.min(), vmax=zz.max()), origin=\"lower\")\n",
    "\n",
    "plt.colorbar(im, extend='max')\n",
    "\n",
    "# add text descriptions\n",
    "plt.title(\"Log Normal for X_dot\", fontsize=20)\n",
    "plt.xlabel(\"Noisy Level\", fontsize=15)\n",
    "plt.ylabel(\"System Name\", fontsize=15)\n",
    "\n",
    "# replace y tick\n",
    "ax.set_yticks(y_location)\n",
    "ax.set_yticklabels(y_ticks)\n",
    "\n",
    "plt.show()"
   ]
  },
  {
   "cell_type": "code",
   "execution_count": 205,
   "id": "1c1cb6eb-d6dd-48bc-aa68-3790c2bdef10",
   "metadata": {},
   "outputs": [
    {
     "data": {
      "text/plain": [
       "<Figure size 1440x720 with 2 Axes>"
      ]
     },
     "metadata": {
      "needs_background": "light"
     },
     "output_type": "display_data"
    }
   ],
   "source": [
    "ax = plt.subplot()\n",
    "\n",
    "# form data grid for plotting\n",
    "xx, yy = np.meshgrid(np.linspace(np.amin(noisy_levels), np.amax(noisy_levels), 30),\n",
    "                     np.linspace(np.amin(chaotic_levels), np.amax(chaotic_levels), 30))\n",
    "zz = griddata((noisy_levels, chaotic_levels), x_rmse_list, (xx, yy), method='linear')\n",
    "\n",
    "# visualize contour plot\n",
    "im = ax.imshow(zz, extent=(np.amin(noisy_levels), np.amax(noisy_levels), \n",
    "                           np.amin(chaotic_levels), np.amax(chaotic_levels)),\n",
    "               norm=LogNorm(vmin=zz.min(), vmax=zz.max()), origin=\"lower\")\n",
    "\n",
    "plt.colorbar(im, extend='max')\n",
    "\n",
    "# add text descriptions\n",
    "plt.title(\"Log Normal for X_dot\", fontsize=20)\n",
    "plt.xlabel(\"Noisy Level\", fontsize=15)\n",
    "plt.ylabel(\"System Name\", fontsize=15)\n",
    "\n",
    "# replace y tick\n",
    "ax.set_yticks(y_location)\n",
    "ax.set_yticklabels(y_ticks)\n",
    "\n",
    "plt.show()"
   ]
  },
  {
   "cell_type": "markdown",
   "id": "3ae83581-126a-40ac-be3c-daada8c6a15e",
   "metadata": {},
   "source": [
    "## Standardised Contour Plot\n",
    "\n",
    "Contour plots in the above section describe RMSE variations with respect to chaotic and noisy level. The RMSEs range from 0.01 to 100 or more. Thus, we standardise the RMSE for better observation of the variation trend."
   ]
  },
  {
   "cell_type": "markdown",
   "id": "46afa348-908a-4a6d-b353-bc173bb51624",
   "metadata": {},
   "source": [
    "## Chaotic Level vs RMSE Plot"
   ]
  },
  {
   "cell_type": "code",
   "execution_count": 145,
   "id": "61885d0c-ba27-4572-988c-efe876fe645f",
   "metadata": {},
   "outputs": [],
   "source": [
    "# storage for 2D plot\n",
    "mid_chaotic_list = []\n",
    "mid_x_rmse_list = []\n",
    "mid_dot_rmse_list = []\n",
    "\n",
    "# retrieve middle value from each model\n",
    "ini_index = 0\n",
    "for attractor_name in systems_list:\n",
    "    mid_x_rmse_list.append(sum(x_rmse_list[ini_index:ini_index+10]) / len(x_rmse_list[ini_index:ini_index+10]))\n",
    "    mid_dot_rmse_list.append(sum(dot_rmse_list[ini_index:ini_index+10]) / len(dot_rmse_list[ini_index:ini_index+10]))\n",
    "    mid_chaotic_list.append(all_properties[attractor_name]['maximum_lyapunov_estimated'])\n",
    "    ini_index += 10"
   ]
  },
  {
   "cell_type": "code",
   "execution_count": 146,
   "id": "45e116bb-1be6-440e-9d23-a89c54b4c72f",
   "metadata": {},
   "outputs": [],
   "source": [
    "# sort by chaotic level\n",
    "re_idx = np.argsort(mid_chaotic_list)\n",
    "\n",
    "re_chaotic = [mid_chaotic_list for i in re_idx]\n",
    "re_mid_x = [mid_x_rmse_list[i] for i in re_idx]\n",
    "re_mid_dot = [mid_dot_rmse_list[i] for i in re_idx]"
   ]
  },
  {
   "cell_type": "code",
   "execution_count": 206,
   "id": "312b2d08-496a-45b0-ae45-b00c269c5668",
   "metadata": {},
   "outputs": [
    {
     "data": {
      "text/plain": [
       "<Figure size 1440x360 with 1 Axes>"
      ]
     },
     "metadata": {
      "needs_background": "light"
     },
     "output_type": "display_data"
    }
   ],
   "source": [
    "# X values\n",
    "fig, ax = plt.subplots()\n",
    "ax.scatter(mid_chaotic_list, mid_x_rmse_list)\n",
    "\n",
    "# replace x tick\n",
    "ax.set_xticks(y_location)\n",
    "ax.set_xticklabels(y_ticks, rotation=90)\n",
    "\n",
    "ax.grid()\n",
    "ax.title.set_text('Chaotic Level vs RMSE for X')\n",
    "ax.set_xlabel(\"Lyapunov Exponent\", fontsize=10)\n",
    "ax.set_ylabel(\"RMSE\", fontsize=10)\n",
    "fig.set_size_inches(20, 5)\n",
    "plt.show()  "
   ]
  },
  {
   "cell_type": "code",
   "execution_count": 207,
   "id": "2cda035d-776d-4957-b5bf-5385bbfb61a5",
   "metadata": {},
   "outputs": [
    {
     "data": {
      "text/plain": [
       "<Figure size 1440x360 with 1 Axes>"
      ]
     },
     "metadata": {
      "needs_background": "light"
     },
     "output_type": "display_data"
    }
   ],
   "source": [
    "# X values\n",
    "fig, ax = plt.subplots()\n",
    "ax.scatter(mid_chaotic_list, mid_dot_rmse_list)\n",
    "ax.grid()\n",
    "\n",
    "# replace x tick\n",
    "ax.set_xticks(y_location)\n",
    "ax.set_xticklabels(y_ticks, rotation=90)\n",
    "\n",
    "ax.title.set_text('Chaotic Level vs RMSE for X dot')\n",
    "ax.set_xlabel(\"Lyapunov Exponent\", fontsize=10)\n",
    "ax.set_ylabel(\"RMSE\", fontsize=10)\n",
    "fig.set_size_inches(20, 5)\n",
    "plt.show()  "
   ]
  },
  {
   "cell_type": "markdown",
   "id": "75b482d3-b578-42e4-8a92-89f1aeada0db",
   "metadata": {},
   "source": []
  }
 ],
 "metadata": {
  "kernelspec": {
   "display_name": "Python 3 (ipykernel)",
   "language": "python",
   "name": "python3"
  },
  "language_info": {
   "codemirror_mode": {
    "name": "ipython",
    "version": 3
   },
   "file_extension": ".py",
   "mimetype": "text/x-python",
   "name": "python",
   "nbconvert_exporter": "python",
   "pygments_lexer": "ipython3",
   "version": "3.7.11"
  }
 },
 "nbformat": 4,
 "nbformat_minor": 5
}
