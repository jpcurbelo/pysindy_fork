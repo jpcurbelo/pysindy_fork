{
 "cells": [
  {
   "cell_type": "code",
   "execution_count": null,
   "id": "ebb914a6",
   "metadata": {
    "lines_to_next_cell": 0
   },
   "outputs": [],
   "source": [
    "# # Differentiators in PySINDy\n",
    "#\n",
    "# This notebook explores the differentiation methods available in PySINDy. Most of the methods are powered by the [derivative](https://pypi.org/project/derivative/) package. While this notebook explores these methods on temporal data, these apply equally well to the computation of spatial derivatives for SINDy for PDE identification (see example Jupyter notebooks 10 and 12, on PDEs and weak forms).\n",
    "# [![Binder](https://mybinder.org/badge_logo.svg)](https://mybinder.org/v2/gh/dynamicslab/pysindy/v1.7?filepath=examples/5_differentiation.ipynb)"
   ]
  },
  {
   "cell_type": "code",
   "execution_count": null,
   "id": "e594eade",
   "metadata": {},
   "outputs": [],
   "source": [
    "import warnings\n",
    "\n",
    "import matplotlib.pyplot as plt\n",
    "\n",
    "plt.ion()\n",
    "import numpy as np\n",
    "\n",
    "import pysindy as ps\n",
    "\n",
    "# ignore user warnings\n",
    "warnings.filterwarnings(\"ignore\", category=UserWarning)\n",
    "\n",
    "integrator_keywords = {}\n",
    "integrator_keywords[\"rtol\"] = 1e-12\n",
    "integrator_keywords[\"method\"] = \"LSODA\"\n",
    "integrator_keywords[\"atol\"] = 1e-12\n",
    "\n",
    "from utils import (\n",
    "    compare_methods,\n",
    "    print_equations,\n",
    "    compare_coefficient_plots,\n",
    "    plot_sho,\n",
    "    plot_lorenz,\n",
    ")\n",
    "\n",
    "if __name__ != \"testing\":\n",
    "    from example_data import (\n",
    "        gen_data_sine,\n",
    "        gen_data_step,\n",
    "        gen_data_sho,\n",
    "        gen_data_lorenz,\n",
    "        n_spectral,\n",
    "        fd_order,\n",
    "    )\n",
    "else:\n",
    "    from mock_data import (\n",
    "        gen_data_sine,\n",
    "        gen_data_step,\n",
    "        gen_data_sho,\n",
    "        gen_data_lorenz,\n",
    "        n_spectral,\n",
    "        fd_order,\n",
    "    )\n",
    "\n",
    "\n",
    "# In the cell below we define all the available differentiators. Note that the different options in `SINDyDerivative` all originate from `derivative`.\n",
    "#\n",
    "# * `FiniteDifference` - First order (forward difference) or second order (centered difference) finite difference methods with the ability to drop endpoints. Does *not* assume a uniform time step. Appropriate for smooth data.\n",
    "# * `finite_difference` - Central finite differences of any order. Assumes a uniform time step. Appropriate for smooth data.\n",
    "# * `Smoothed Finite Difference` - `FiniteDifference` with a smoother (default is Savitzky Golay) applied to the data before differentiation. Appropriate for noisy data.\n",
    "# * `savitzky_golay` - Perform a least-squares fit of a polynomial to the data, then compute the derivative of the polynomial. Appropriate for noisy data.\n",
    "# * `spline` - Fit the data with a spline (of arbitrary order) then perform differentiation on the spline. Appropriate for noisy data.\n",
    "# * `trend_filtered` - Use total squared variations to fit the data (computes a global derivative that is a piecewise combination of polynomials of a chosen order). Set `order=0` to obtain the total-variational derivative. Appropriate for noisy data\n",
    "# * `spectral` - Compute the spectral derivative of the data via Fourier Transform. Appropriate for very smooth (i.e. analytic) data. There is an in-house PySINDy version for speed but this is also included in the derivative package."
   ]
  },
  {
   "cell_type": "code",
   "execution_count": null,
   "id": "5cf7e864",
   "metadata": {},
   "outputs": [],
   "source": [
    "\n",
    "\n",
    "diffs = [\n",
    "    (\"PySINDy Finite Difference\", ps.FiniteDifference()),\n",
    "    (\"Finite Difference\", ps.SINDyDerivative(kind=\"finite_difference\", k=1)),\n",
    "    (\"Smoothed Finite Difference\", ps.SmoothedFiniteDifference()),\n",
    "    (\n",
    "        \"Savitzky Golay\",\n",
    "        ps.SINDyDerivative(kind=\"savitzky_golay\", left=0.5, right=0.5, order=3),\n",
    "    ),\n",
    "    (\"Spline\", ps.SINDyDerivative(kind=\"spline\", s=1e-2)),\n",
    "    (\"Trend Filtered\", ps.SINDyDerivative(kind=\"trend_filtered\", order=0, alpha=1e-2)),\n",
    "    (\"Spectral\", ps.SINDyDerivative(kind=\"spectral\")),\n",
    "    (\"Spectral, PySINDy version\", ps.SpectralDerivative()),\n",
    "    (\"Kalman\", ps.SINDyDerivative(kind=\"kalman\", alpha=0.05)),\n",
    "]\n",
    "\n",
    "\n",
    "# ## Compare differentiation methods directly\n",
    "# First we'll use the methods to numerically approximate derivatives to measurement data directly, without bringing SINDy into the picture. We'll compare the different methods' accuracies when working with clean data (\"approx\" in the plots) and data with a small amount of white noise (\"noisy\")."
   ]
  },
  {
   "cell_type": "code",
   "execution_count": null,
   "id": "98524f44",
   "metadata": {},
   "outputs": [],
   "source": [
    "\n",
    "\n",
    "noise_level = 0.01\n",
    "\n",
    "\n",
    "# ### Sine"
   ]
  },
  {
   "cell_type": "code",
   "execution_count": null,
   "id": "182a5688",
   "metadata": {},
   "outputs": [],
   "source": [
    "\n",
    "\n",
    "# True data\n",
    "x, y, y_noisy, y_dot = gen_data_sine(noise_level)\n",
    "axs = compare_methods(diffs, x, y, y_noisy, y_dot)\n",
    "plt.show()\n",
    "\n",
    "\n",
    "# ### Absolute value"
   ]
  },
  {
   "cell_type": "code",
   "execution_count": null,
   "id": "457c4469",
   "metadata": {},
   "outputs": [],
   "source": [
    "\n",
    "\n",
    "# Shrink window for Savitzky Golay method\n",
    "diffs[3] = (\n",
    "    \"Savitzky Golay\",\n",
    "    ps.SINDyDerivative(kind=\"savitzky_golay\", left=0.1, right=0.1, order=3),\n",
    ")\n",
    "diffs[8] = (\"Kalman\", ps.SINDyDerivative(kind=\"kalman\", alpha=0.01))\n",
    "\n",
    "x, y, y_dot, y_noisy = gen_data_step(noise_level)\n",
    "\n",
    "axs = compare_methods(diffs, x, y, y_noisy, y_dot)\n",
    "plt.show()\n",
    "\n",
    "\n",
    "# ## Compare differentiators when used in PySINDy\n",
    "# We got some idea of the performance of the differentiation options applied to raw data. Next we'll look at how they work as a single component of the SINDy algorithm.\n",
    "\n",
    "# ### Linear oscillator\n",
    "# $$ \\frac{d}{dt} \\begin{bmatrix}x \\\\ y\\end{bmatrix} = \\begin{bmatrix} -0.1 & 2 \\\\ -2 & -0.1 \\end{bmatrix} \\begin{bmatrix}x \\\\ y\\end{bmatrix} $$"
   ]
  },
  {
   "cell_type": "code",
   "execution_count": null,
   "id": "1a747b08",
   "metadata": {
    "lines_to_next_cell": 2
   },
   "outputs": [],
   "source": [
    "\n",
    "\n",
    "noise_level = 0.1"
   ]
  },
  {
   "cell_type": "code",
   "execution_count": null,
   "id": "2840e73f",
   "metadata": {},
   "outputs": [],
   "source": [
    "\n",
    "\n",
    "# Generate training data\n",
    "\n",
    "dt, t_train, x_train, x_train_noisy = gen_data_sho(noise_level, integrator_keywords)"
   ]
  },
  {
   "cell_type": "code",
   "execution_count": null,
   "id": "716cf784",
   "metadata": {
    "lines_to_next_cell": 2
   },
   "outputs": [],
   "source": [
    "figure = plt.figure(figsize=[5, 5])\n",
    "plot_sho(x_train, x_train_noisy)\n",
    "\n",
    "# Allow Trend Filtered method to work with linear functions\n",
    "diffs[5] = (\n",
    "    \"Trend Filtered\",\n",
    "    ps.SINDyDerivative(kind=\"trend_filtered\", order=1, alpha=1e-2),\n",
    ")\n",
    "diffs[8] = (\"Kalman\", ps.SINDyDerivative(kind=\"kalman\", alpha=0.5))\n",
    "diffs.append((\"Smooth FD, reuse old x\", ps.SmoothedFiniteDifference(save_smooth=False)))\n",
    "diffs.append(\n",
    "    (\n",
    "        \"Kalman, reuse old x\",\n",
    "        ps.SINDyDerivative(kind=\"kalman\", alpha=0.5, save_smooth=False),\n",
    "    )\n",
    ")\n",
    "\n",
    "equations_clean = {}\n",
    "equations_noisy = {}\n",
    "coefficients_clean = {}\n",
    "coefficients_noisy = {}\n",
    "input_features = [\"x\", \"y\"]\n",
    "threshold = 0.5\n",
    "\n",
    "for name, method in diffs:\n",
    "    model = ps.SINDy(\n",
    "        differentiation_method=method,\n",
    "        optimizer=ps.STLSQ(threshold=threshold),\n",
    "        t_default=dt,\n",
    "        feature_names=input_features,\n",
    "    )\n",
    "\n",
    "    model.fit(x_train, quiet=True)\n",
    "    equations_clean[name] = model.equations()\n",
    "    coefficients_clean[name] = model.coefficients()\n",
    "\n",
    "    model.fit(x_train_noisy, quiet=True)\n",
    "    equations_noisy[name] = model.equations()\n",
    "    coefficients_noisy[name] = model.coefficients()"
   ]
  },
  {
   "cell_type": "code",
   "execution_count": null,
   "id": "df54c95c",
   "metadata": {
    "lines_to_next_cell": 2
   },
   "outputs": [],
   "source": [
    "\n",
    "\n",
    "print_equations(equations_clean, equations_noisy)"
   ]
  },
  {
   "cell_type": "code",
   "execution_count": null,
   "id": "a7efb355",
   "metadata": {
    "lines_to_next_cell": 2
   },
   "outputs": [],
   "source": [
    "\n",
    "\n",
    "feature_names = model.get_feature_names()\n",
    "compare_coefficient_plots(\n",
    "    coefficients_clean,\n",
    "    coefficients_noisy,\n",
    "    input_features=input_features,\n",
    "    feature_names=feature_names,\n",
    ")\n",
    "plt.show()"
   ]
  },
  {
   "cell_type": "markdown",
   "id": "3e2b29a0",
   "metadata": {
    "lines_to_next_cell": 0
   },
   "source": [
    "\n",
    "We can take a look at the smoothed values of x that some differentiation\n",
    "methods implicitly calculate:"
   ]
  },
  {
   "cell_type": "code",
   "execution_count": null,
   "id": "f9a15ac6",
   "metadata": {},
   "outputs": [],
   "source": [
    "fig = plt.figure(figsize=[12, 5])\n",
    "fig.suptitle(\"Training Data Coordinates\")\n",
    "plt.subplot(1, 2, 1)\n",
    "ax = plot_sho(x_train, x_train_noisy, diffs[2][1].smoothed_x_)\n",
    "ax.set_title(\"Savitzky-Golay filtered for Smoothed FD method\")\n",
    "plt.subplot(1, 2, 2)\n",
    "ax = plot_sho(x_train, x_train_noisy, diffs[8][1].smoothed_x_)\n",
    "ax.set_title(\"Kalman smoothed\")"
   ]
  },
  {
   "cell_type": "markdown",
   "id": "b25b489f",
   "metadata": {},
   "source": [
    "### Lorenz system\n",
    "\n",
    "$$ \\begin{aligned} \\dot x &= 10(y-x)\\\\ \\dot y &= x(28 - z) - y \\\\ \\dot z &= xy - \\tfrac{8}{3} z, \\end{aligned} $$\n"
   ]
  },
  {
   "cell_type": "code",
   "execution_count": null,
   "id": "8836dd56",
   "metadata": {
    "lines_to_next_cell": 2
   },
   "outputs": [],
   "source": [
    "\n",
    "\n",
    "noise_level = 0.5"
   ]
  },
  {
   "cell_type": "code",
   "execution_count": null,
   "id": "83cdbcfc",
   "metadata": {
    "lines_to_next_cell": 2
   },
   "outputs": [],
   "source": [
    "\n",
    "\n",
    "# Generate measurement data\n",
    "dt, t_train, x_train, x_train_noisy = gen_data_lorenz(noise_level, integrator_keywords)"
   ]
  },
  {
   "cell_type": "code",
   "execution_count": null,
   "id": "caca39a4",
   "metadata": {},
   "outputs": [],
   "source": [
    "\n",
    "\n",
    "fig = plt.figure(figsize=(8, 8))\n",
    "plot_lorenz(x_train, x_train_noisy)\n",
    "fig.show()"
   ]
  },
  {
   "cell_type": "code",
   "execution_count": null,
   "id": "83289533",
   "metadata": {
    "lines_to_next_cell": 2
   },
   "outputs": [],
   "source": [
    "diffs[8] = (\"Kalman\", ps.SINDyDerivative(kind=\"kalman\", alpha=0.0015))\n",
    "diffs[10] = (\n",
    "    \"Kalman, reuse old x\",\n",
    "    ps.SINDyDerivative(kind=\"kalman\", alpha=0.0015, save_smooth=False),\n",
    ")\n",
    "\n",
    "equations_clean = {}\n",
    "equations_noisy = {}\n",
    "coefficients_clean = {}\n",
    "coefficients_noisy = {}\n",
    "input_features = [\"x\", \"y\", \"z\"]\n",
    "\n",
    "threshold = 0.5\n",
    "\n",
    "for name, method in diffs:\n",
    "    model = ps.SINDy(\n",
    "        differentiation_method=method,\n",
    "        optimizer=ps.STLSQ(threshold=threshold),\n",
    "        t_default=dt,\n",
    "        feature_names=input_features,\n",
    "    )\n",
    "\n",
    "    model.fit(x_train, quiet=True)\n",
    "    equations_clean[name] = model.equations()\n",
    "    coefficients_clean[name] = model.coefficients()\n",
    "\n",
    "    model.fit(x_train_noisy, quiet=True)\n",
    "    equations_noisy[name] = model.equations()\n",
    "    coefficients_noisy[name] = model.coefficients()"
   ]
  },
  {
   "cell_type": "code",
   "execution_count": null,
   "id": "46679130",
   "metadata": {
    "lines_to_next_cell": 2
   },
   "outputs": [],
   "source": [
    "\n",
    "\n",
    "print_equations(equations_clean, equations_noisy)"
   ]
  },
  {
   "cell_type": "code",
   "execution_count": null,
   "id": "5efd645c",
   "metadata": {
    "lines_to_next_cell": 2
   },
   "outputs": [],
   "source": [
    "\n",
    "\n",
    "feature_names = model.get_feature_names()\n",
    "compare_coefficient_plots(\n",
    "    coefficients_clean,\n",
    "    coefficients_noisy,\n",
    "    input_features=input_features,\n",
    "    feature_names=feature_names,\n",
    ")\n",
    "plt.show()"
   ]
  },
  {
   "cell_type": "code",
   "execution_count": null,
   "id": "a649820b",
   "metadata": {
    "lines_to_next_cell": 2
   },
   "outputs": [],
   "source": []
  },
  {
   "cell_type": "code",
   "execution_count": null,
   "id": "eac99578",
   "metadata": {},
   "outputs": [],
   "source": [
    "fig = plt.figure(figsize=(16.5, 8))\n",
    "fig.suptitle(\"Training Data Coordinates\")\n",
    "ax = fig.add_subplot(1, 2, 1, projection=\"3d\")\n",
    "ax = plot_lorenz(x_train, x_train_noisy, diffs[2][1].smoothed_x_, ax=ax)\n",
    "ax.set_title(\"Savitzky-Golay filtered for Smoothed FD method\")\n",
    "ax = fig.add_subplot(1, 2, 2, projection=\"3d\")\n",
    "ax = plot_lorenz(x_train, x_train_noisy, diffs[8][1].smoothed_x_, ax=ax)\n",
    "ax.set_title(\"Kalman smoothed\")"
   ]
  },
  {
   "cell_type": "code",
   "execution_count": null,
   "id": "6b48431a",
   "metadata": {
    "lines_to_next_cell": 2
   },
   "outputs": [],
   "source": [
    "import timeit\n",
    "\n",
    "N_spectral = np.logspace(1, 8, n_spectral, dtype=int)\n",
    "spectral_times = np.zeros((n_spectral, 2))\n",
    "for i in range(n_spectral):\n",
    "    # True data\n",
    "    x = np.linspace(0, 2 * np.pi, N_spectral[i])\n",
    "    y = np.sin(x)\n",
    "    y_dot = np.cos(x)\n",
    "    noise_level = 0.05\n",
    "    y_noisy = y + noise_level * np.random.randn(len(y))\n",
    "\n",
    "    start = timeit.default_timer()\n",
    "    spectral1 = ps.SINDyDerivative(kind=\"spectral\")(y_noisy, x)\n",
    "    stop = timeit.default_timer()\n",
    "    spectral_times[i, 0] = stop - start\n",
    "\n",
    "    start = timeit.default_timer()\n",
    "    spectral2 = ps.SpectralDerivative(y_noisy, x)\n",
    "    stop = timeit.default_timer()\n",
    "    spectral_times[i, 1] = stop - start"
   ]
  },
  {
   "cell_type": "code",
   "execution_count": null,
   "id": "35a38fc0",
   "metadata": {
    "lines_to_next_cell": 2
   },
   "outputs": [],
   "source": [
    "\n",
    "\n",
    "plt.figure()\n",
    "plt.grid(True)\n",
    "plt.semilogy(spectral_times[:, 0], label=\"derivative python package\")\n",
    "plt.semilogy(spectral_times[:, 1], label=\"In-house spectral derivative\")\n",
    "plt.ylabel(\"Time (s)\")\n",
    "plt.xlabel(\"Matrix size in powers of 10\")\n",
    "plt.legend()\n",
    "plt.show()"
   ]
  },
  {
   "cell_type": "code",
   "execution_count": null,
   "id": "43120452",
   "metadata": {
    "lines_to_next_cell": 2
   },
   "outputs": [],
   "source": [
    "\n",
    "\n",
    "# Check error improves as order increases\n",
    "x = np.linspace(0, 2 * np.pi, 100)\n",
    "y = np.sin(x) - x**5\n",
    "y_dot = np.cos(x) - 5 * x**4\n",
    "err = np.zeros(9)\n",
    "for order in range(1, fd_order + 1):\n",
    "    diff = ps.FiniteDifference(d=1, order=order)\n",
    "    diff = diff(y, x)\n",
    "    err[order - 1] = np.sum(np.abs(y_dot - diff))\n",
    "plt.figure()\n",
    "plt.plot(range(1, 10), err)\n",
    "plt.grid(True)\n",
    "plt.ylabel(\"Derivative error\")\n",
    "plt.xlabel(\"Finite difference order\")\n",
    "plt.show()"
   ]
  },
  {
   "cell_type": "code",
   "execution_count": null,
   "id": "b4b758ef",
   "metadata": {},
   "outputs": [],
   "source": []
  }
 ],
 "metadata": {
  "jupytext": {
   "cell_metadata_filter": "-all",
   "encoding": "# coding: utf-8",
   "executable": "/usr/bin/env python",
   "main_language": "python",
   "notebook_metadata_filter": "-all"
  }
 },
 "nbformat": 4,
 "nbformat_minor": 5
}
