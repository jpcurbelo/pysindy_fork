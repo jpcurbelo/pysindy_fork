{
 "cells": [
  {
   "cell_type": "markdown",
   "metadata": {},
   "source": [
    "# Ensembling Feature Overview\n",
    "\n",
    "This notebook provides an overview of the basic and advanced functionality of using ensemble methods in PySINDy. \n",
    "\n",
    "An interactive version of this notebook is available on binder."
   ]
  },
  {
   "cell_type": "markdown",
   "metadata": {
    "ExecuteTime": {
     "end_time": "2020-03-09T00:05:47.829870Z",
     "start_time": "2020-03-09T00:05:47.821638Z"
    }
   },
   "source": [
    "[![Binder](https://mybinder.org/badge_logo.svg)](https://mybinder.org/v2/gh/dynamicslab/pysindy/v0.13.0?filepath=example%2Ffeature_overview.ipynb)"
   ]
  },
  {
   "cell_type": "code",
   "execution_count": 1,
   "metadata": {
    "ExecuteTime": {
     "end_time": "2020-10-22T22:20:41.222450Z",
     "start_time": "2020-10-22T22:20:40.308783Z"
    }
   },
   "outputs": [],
   "source": [
    "import matplotlib.pyplot as plt\n",
    "from mpl_toolkits.mplot3d import Axes3D\n",
    "import numpy as np\n",
    "from scipy.integrate import odeint\n",
    "from sklearn.linear_model import Lasso\n",
    "\n",
    "import pysindy as ps\n",
    "\n",
    "# Seed the random number generators for reproducibility\n",
    "np.random.seed(100)\n",
    "\n",
    "# define the Lorenz system\n",
    "def lorenz(z, t):\n",
    "    return [\n",
    "        10 * (z[1] - z[0]),\n",
    "        z[0] * (28 - z[2]) - z[1],\n",
    "        z[0] * z[1] - (8 / 3) * z[2]\n",
    "    ]"
   ]
  },
  {
   "cell_type": "markdown",
   "metadata": {},
   "source": [
    "### Ensemble methods\n",
    "One way to improve the robustness of a SINDy method is to use ensemble methods. Basically, we solve the regression problem many times on subsets (of size $n_{subset}$) of the time slices, generating $n_{models}$ models. All the coefficients are returned in model.coef_list and the average (bagging) can be used via np.mean(model.coef_list, axis=0) or the median (bragging) can be used via np.median(model.coef_list, axis=0). \n",
    "\n",
    "### The default number of models to generate is 20, and the default sampling strategy is to sample the entire time base with replacement, so that on average 60% or so of the data is seen. Default model is that the last fitted model is returned -- this is typically a bad approximation so use model.coef_list instead."
   ]
  },
  {
   "cell_type": "code",
   "execution_count": 2,
   "metadata": {},
   "outputs": [
    {
     "name": "stdout",
     "output_type": "stream",
     "text": [
      "x' = 0.875 1 + -10.203 x + 10.056 y\n",
      "y' = 26.791 x + -0.613 y + -0.973 x z\n",
      "z' = 0.921 1 + -0.129 x + -2.636 z + 0.976 x y\n"
     ]
    }
   ],
   "source": [
    "dt = .005\n",
    "t_train = np.arange(0, 10, dt)\n",
    "x0_train = [-8, 8, 27]\n",
    "x_train = odeint(lorenz, x0_train, t_train)\n",
    "# add noise for more complexity\n",
    "x_train = x_train + np.random.randn(x_train.shape[0], x_train.shape[1]) / 4.0\n",
    "\n",
    "# Evolve the Lorenz equations in time using a different initial condition\n",
    "t_test = np.arange(0, 15, dt)\n",
    "x0_test = np.array([8, 7, 15])\n",
    "x_test = odeint(lorenz, x0_test, t_test)  \n",
    "\n",
    "# Instantiate and fit the SINDy model\n",
    "feature_names = ['x', 'y', 'z']\n",
    "ensemble_optimizer = ps.STLSQ()\n",
    "model = ps.SINDy(feature_names=feature_names, optimizer=ensemble_optimizer)\n",
    "model.fit(x_train, t=dt, ensemble=True)\n",
    "model.print()\n",
    "ensemble_coefs = model.coef_list"
   ]
  },
  {
   "cell_type": "markdown",
   "metadata": {},
   "source": [
    "### Library ensemble methods\n",
    "Another way to do ensembling is to solve the regression problem on subsets of the candidate library, generating $p$ (the number of candidate terms) models. The syntax and code is a bit different, but the user-facing part is the same. Once again, the coefficients are returned in model.coef_list and the average can be used via np.mean(model.coef_list, axis=0). The default is still 20 generated models and the default sub-sampling is to chop one candidate term for each model."
   ]
  },
  {
   "cell_type": "code",
   "execution_count": 3,
   "metadata": {},
   "outputs": [
    {
     "name": "stdout",
     "output_type": "stream",
     "text": [
      "x' = -9.995 x + 9.971 y\n",
      "y' = 0.494 1 + 25.391 x + -0.946 x z\n",
      "z' = 0.237 1 + -2.674 z + 1.001 x y\n"
     ]
    }
   ],
   "source": [
    "# Instantiate and fit the SINDy model\n",
    "library_ensemble_optimizer = ps.STLSQ()\n",
    "model = ps.SINDy(feature_names=feature_names, optimizer=library_ensemble_optimizer)\n",
    "model.fit(x_train, t=dt, library_ensemble=True)\n",
    "model.print()\n",
    "library_ensemble_coefs = model.coef_list"
   ]
  },
  {
   "cell_type": "markdown",
   "metadata": {},
   "source": [
    "### Now do both types of ensembling with multiple candidate drops!"
   ]
  },
  {
   "cell_type": "code",
   "execution_count": 4,
   "metadata": {},
   "outputs": [
    {
     "name": "stdout",
     "output_type": "stream",
     "text": [
      "x' = -0.741 1 + -10.070 x + 10.023 y\n",
      "y' = -0.457 1 + 28.033 x + -0.975 y + -0.991 x z\n",
      "z' = -0.474 1 + -2.660 z + 0.996 x y\n"
     ]
    }
   ],
   "source": [
    "double_ensemble_optimizer = ps.STLSQ()\n",
    "model = ps.SINDy(feature_names=feature_names, optimizer=double_ensemble_optimizer)\n",
    "model.fit(x_train, t=dt, library_ensemble=True, ensemble=True, n_candidates_to_drop=2)\n",
    "model.print()\n",
    "double_ensemble_coefs = model.coef_list"
   ]
  },
  {
   "cell_type": "markdown",
   "metadata": {},
   "source": [
    "### Alternatives to averaging (bagging) or taking the median (bragging) of the models: \n",
    "1. Weighted average of the coefficients, with weights corresponding to the mean-squared error with the testing (or training, if you like) $\\dot{\\mathbf{X}}$.\n",
    "2. Define a function that does small integration forward of all the potential models for a bunch of a random initial conditions and chop any unstable models. Then repeat bagging or bragging."
   ]
  },
  {
   "cell_type": "code",
   "execution_count": 5,
   "metadata": {},
   "outputs": [],
   "source": [
    "from sklearn.metrics import mean_squared_error\n",
    "\n",
    "def weighted_coefficient_average(coef_list, x_test, dt, optimizer):\n",
    "    mse = np.zeros(np.shape(coef_list)[0])\n",
    "    for i in range(np.shape(coef_list)[0]):\n",
    "        optimizer.coef_ = np.asarray(coef_list)[i, :, :]\n",
    "        mse[i] = model.score(x_test, t=dt, metric=mean_squared_error)\n",
    "    avg = np.average(coef_list, axis=0, weights=mse)\n",
    "    coef_subtracted = np.zeros(np.shape(coef_list))\n",
    "    for i in range(np.shape(coef_list)[0]):\n",
    "        coef_subtracted[i, :, :] = np.asarray(coef_list)[i, :, :] - avg\n",
    "    std = np.sqrt(np.average(coef_subtracted ** 2, axis=0, weights=mse))\n",
    "    return avg, std\n",
    "\n",
    "e_wavg, e_wstd = weighted_coefficient_average(ensemble_coefs, x_test, dt, ensemble_optimizer)\n",
    "l_wavg, l_wstd = weighted_coefficient_average(library_ensemble_coefs, x_test, dt, library_ensemble_optimizer) \n",
    "\n",
    "def integration_metric(coef_list, optimizer):\n",
    "    t_test = np.arange(0, 2, 0.01)    \n",
    "    # Try 5 test trajectories\n",
    "    for k in range(5):\n",
    "        x0_test = (np.random.rand(3) - 0.5) * 10\n",
    "        x_test = odeint(lorenz, x0_test, t_test)  \n",
    "        for i in range(np.shape(coef_list)[0]):\n",
    "            optimizer.coef_ = coef_list[i, :, :]\n",
    "            x_test_sim = model.simulate(x0_test, t_test)\n",
    "            if np.any(np.abs(x_test_sim) > 100):\n",
    "                print('unstable model!')\n",
    "                coef_list[i, :, :] = 0.0\n",
    "    return coef_list\n",
    "\n",
    "stable_ensemble_coefs = integration_metric(np.asarray(ensemble_coefs), ensemble_optimizer)\n",
    "stable_library_ensemble_coefs = integration_metric(np.asarray(library_ensemble_coefs), library_ensemble_optimizer)"
   ]
  },
  {
   "cell_type": "code",
   "execution_count": 6,
   "metadata": {},
   "outputs": [
    {
     "data": {
      "image/png": "[encoded data removed]",
      "text/plain": [
       "<Figure size 1152x648 with 8 Axes>"
      ]
     },
     "metadata": {
      "needs_background": "light"
     },
     "output_type": "display_data"
    }
   ],
   "source": [
    "# Plot bagging results with error bars\n",
    "coef_types = [np.mean(ensemble_coefs, axis=0), \n",
    "              np.mean(library_ensemble_coefs, axis=0), \n",
    "              e_wavg,\n",
    "              l_wavg,\n",
    "              np.median(ensemble_coefs, axis=0),\n",
    "              np.median(library_ensemble_coefs, axis=0),\n",
    "              np.mean(stable_ensemble_coefs, axis=0), \n",
    "              np.mean(stable_library_ensemble_coefs, axis=0), \n",
    "             ]\n",
    "coef_stds = [np.std(ensemble_coefs, axis=0), \n",
    "             np.std(library_ensemble_coefs, axis=0), \n",
    "             e_wstd,\n",
    "             l_wstd,\n",
    "             np.std(ensemble_coefs, axis=0), \n",
    "             np.std(library_ensemble_coefs, axis=0), \n",
    "             np.std(stable_ensemble_coefs, axis=0), \n",
    "             np.std(stable_library_ensemble_coefs, axis=0), \n",
    "             ]\n",
    "colors = ['b', 'r', 'k']\n",
    "props = dict(boxstyle='round', facecolor='wheat', alpha=1.0)\n",
    "textstrs = ['bagging', 'bragging', 'weighted\\nbagging', 'stability\\nweighted\\nbagging']\n",
    "plt.figure(figsize=(16, 9))\n",
    "for k, coefs in enumerate(coef_types):\n",
    "    coef_std = coef_stds[k]\n",
    "    plt.subplot(4, 2, k + 1)\n",
    "    for i in range(coefs.shape[0]):\n",
    "        plt.errorbar(range(coefs.shape[1]), coefs[i, :], yerr=coef_std[i, :], \n",
    "                     fmt='o', color=colors[i], label='$\\dot ' + feature_names[i] + '_{}$' + ' coefficients')\n",
    "    ax = plt.gca()\n",
    "    ax.set_xticks(range(10))\n",
    "    if k >= 6:\n",
    "        xticknames = model.get_feature_names()\n",
    "        for i in range(10):\n",
    "            xticknames[i] = '$' + xticknames[i] + '$'\n",
    "        ax.set_xticklabels(xticknames, verticalalignment='top')\n",
    "    else:\n",
    "        ax.set_xticklabels([])\n",
    "    plt.ylim(-20, 35)\n",
    "    if k == 0:\n",
    "        plt.legend(fontsize=16, framealpha=1.0, loc='upper right')\n",
    "        ax.text(0.38, 1.1, 'ensemble', transform=ax.transAxes, fontsize=16, bbox=props)\n",
    "    if k == 1:\n",
    "        ax.text(0.35, 1.1, 'library ensemble', transform=ax.transAxes, fontsize=16, bbox=props)\n",
    "    plt.xticks(fontsize=16)\n",
    "    plt.yticks(fontsize=16)\n",
    "    plt.grid(True)\n",
    "    ax.set_yticks([-20, -10, 0, 10, 20, 30])\n",
    "    if k % 2 == 0:\n",
    "        textstr = textstrs[k // 2]\n",
    "        ax.text(-0.3, 0.4, textstr, transform=ax.transAxes, fontsize=16, bbox=props)\n",
    "    else:\n",
    "        ax.set_yticklabels([])\n",
    "plt.savefig('ensemble_summary.pdf')"
   ]
  },
  {
   "cell_type": "markdown",
   "metadata": {},
   "source": [
    "### Even more advanced use of ensembling. We will loop through all the optimizers with ensembling and numerically calculate if the resulting models are stable (no unbounded trajectories) for any initial condition! The stability check relies on some analytic results about energy-preserving flows like the Lorenz system."
   ]
  },
  {
   "cell_type": "code",
   "execution_count": 7,
   "metadata": {},
   "outputs": [],
   "source": [
    "# Define some setup and plotting functions\n",
    "# Build the energy-preserving quadratic nonlinearity constraints\n",
    "# for ConstrainedSR3 and TrappingSR3 optimizer\n",
    "def make_constraints(r):\n",
    "    q = 0\n",
    "    N = int((r ** 2 + 3 * r) / 2.0)\n",
    "    p = r + r * (r - 1) + int(r * (r - 1)*(r - 2) / 6.0)\n",
    "    constraint_zeros = np.zeros(p)\n",
    "    constraint_matrix = np.zeros((p, r * N))    \n",
    "    \n",
    "    # Set coefficients adorning terms like a_i^3 to zero\n",
    "    for i in range(r):\n",
    "        constraint_matrix[q, r * (N - r) + i * (r + 1)] = 1.0\n",
    "        q = q + 1\n",
    "\n",
    "    # Set coefficients adorning terms like a_ia_j^2 to be antisymmetric\n",
    "    for i in range(r):\n",
    "        for j in range(i + 1, r):\n",
    "            constraint_matrix[q, r * (N - r + j) + i] = 1.0\n",
    "            constraint_matrix[q, r * (r + j - 1) + j + r * int(i * (2 * r - i - 3) / 2.0)] = 1.0\n",
    "            q = q + 1\n",
    "    for i in range(r):\n",
    "         for j in range(0, i):\n",
    "            constraint_matrix[q, r * (N - r + j) + i] = 1.0\n",
    "            constraint_matrix[q, r * (r + i - 1) + j + r * int(j * (2 * r - j - 3) / 2.0)] = 1.0\n",
    "            q = q + 1\n",
    "\n",
    "    # Set coefficients adorning terms like a_ia_ja_k to be antisymmetric\n",
    "    for i in range(r):\n",
    "        for j in range(i + 1, r):\n",
    "            for k in range(j + 1, r):\n",
    "                constraint_matrix[q, r * (r + k - 1) + i + r * int(j * (2 * r - j - 3) / 2.0)] = 1.0\n",
    "                constraint_matrix[q, r * (r + k - 1) + j + r * int(i * (2 * r - i - 3) / 2.0)] = 1.0\n",
    "                constraint_matrix[q, r * (r + j - 1) + k + r * int(i * (2 * r - i - 3) / 2.0)] = 1.0\n",
    "                q = q + 1\n",
    "                \n",
    "    return constraint_zeros, constraint_matrix\n",
    "    \n",
    "\n",
    "# Make the projection tensors used for the algorithm\n",
    "def make_Ptensor(r):\n",
    "    N = int((r ** 2 + 3 * r) / 2.0)\n",
    "\n",
    "    # delta_{il}delta_{jk}\n",
    "    PL_tensor = np.zeros((r, r, r, N))\n",
    "    PL_tensor_unsym = np.zeros((r, r, r, N))\n",
    "    for i in range(r):\n",
    "        for j in range(r):\n",
    "            for k in range(r):\n",
    "                for l in range(N):\n",
    "                    if i == l and j == k:\n",
    "                        PL_tensor_unsym[i, j, k, l] = 1.0\n",
    "\n",
    "    # Now symmetrize PL\n",
    "    for i in range(r):\n",
    "        for j in range(N):\n",
    "            PL_tensor[:, :, i, j] = 0.5 * (PL_tensor_unsym[:, :, i, j] + PL_tensor_unsym[:, :, i, j].T)\n",
    "\n",
    "    # if j == k, delta_{il}delta_{N-r+j,n}\n",
    "    # if j != k, delta_{il}delta_{r+j+k-1,n}\n",
    "    PQ_tensor = np.zeros((r, r, r, r, N))\n",
    "    for i in range(r):\n",
    "        for j in range(r):\n",
    "            for k in range(r):\n",
    "                for l in range(r):\n",
    "                    for n in range(N):\n",
    "                        if (j == k) and (n == N - r + j) and (i == l):\n",
    "                            PQ_tensor[i, j, k, l, n] = 1.0\n",
    "                        if (j != k) and (n == r + j + k - 1) and (i == l):\n",
    "                            PQ_tensor[i, j, k, l, n] = 1.0 / 2.0\n",
    "        \n",
    "    return PL_tensor_unsym, PL_tensor, PQ_tensor\n",
    "    \n",
    "\n",
    "# Plot first three modes in 3D for ground truth and SINDy prediction\n",
    "def make_3d_plots(x_test, x_test_pred, filename):\n",
    "    fig, ax = plt.subplots(1, 1, subplot_kw={'projection': '3d'}, figsize=(8,8))\n",
    "    if filename == 'VonKarman':\n",
    "        ind = -1\n",
    "    else:\n",
    "        ind = 2\n",
    "    plt.plot(x_test[:, 0], x_test[:, 1], x_test[:, ind], 'r')\n",
    "    plt.plot(x_test_pred[:, 0], x_test_pred[:, 1], x_test_pred[:, ind], 'k')\n",
    "    ax = plt.gca()\n",
    "    ax.set_xticklabels([])\n",
    "    ax.set_yticklabels([])\n",
    "    ax.set_zticklabels([])\n",
    "    ax.set_axis_off()\n",
    "    plt.savefig(filename + '_3d.pdf')"
   ]
  },
  {
   "cell_type": "code",
   "execution_count": 8,
   "metadata": {},
   "outputs": [
    {
     "name": "stdout",
     "output_type": "stream",
     "text": [
      "0\n",
      "x' = -0.813 x + 3.782 y + -0.376 z + 0.010 xy + -0.236 xz + 0.152 yz + -0.080 xx + 0.020 yy + 0.010 zz\n",
      "y' = 19.083 x + 5.526 y + -0.067 z + -0.010 xy + -0.746 xz + -0.189 yz + -0.066 xx + 0.013 yy + 0.011 zz\n",
      "z' = -4.725 x + 2.582 y + -3.184 z + 0.980 xy + 0.128 xz + -0.074 yz + -0.128 xx + 0.069 yy + 0.027 zz\n",
      "1\n"
     ]
    },
    {
     "name": "stderr",
     "output_type": "stream",
     "text": [
      "/Users/alankaptanoglu/pysindy/pysindy/optimizers/sr3.py:314: ConvergenceWarning: SR3._reduce did not converge after 500 iterations.\n",
      "  ConvergenceWarning,\n",
      "/Users/alankaptanoglu/pysindy/pysindy/optimizers/sr3.py:314: ConvergenceWarning: SR3._reduce did not converge after 500 iterations.\n",
      "  ConvergenceWarning,\n",
      "/Users/alankaptanoglu/pysindy/pysindy/optimizers/sr3.py:314: ConvergenceWarning: SR3._reduce did not converge after 500 iterations.\n",
      "  ConvergenceWarning,\n",
      "/Users/alankaptanoglu/pysindy/pysindy/optimizers/sr3.py:314: ConvergenceWarning: SR3._reduce did not converge after 500 iterations.\n",
      "  ConvergenceWarning,\n",
      "/Users/alankaptanoglu/pysindy/pysindy/optimizers/sr3.py:314: ConvergenceWarning: SR3._reduce did not converge after 500 iterations.\n",
      "  ConvergenceWarning,\n",
      "/Users/alankaptanoglu/pysindy/pysindy/optimizers/sr3.py:314: ConvergenceWarning: SR3._reduce did not converge after 500 iterations.\n",
      "  ConvergenceWarning,\n",
      "/Users/alankaptanoglu/pysindy/pysindy/optimizers/sr3.py:314: ConvergenceWarning: SR3._reduce did not converge after 500 iterations.\n",
      "  ConvergenceWarning,\n",
      "/Users/alankaptanoglu/pysindy/pysindy/optimizers/sr3.py:314: ConvergenceWarning: SR3._reduce did not converge after 500 iterations.\n",
      "  ConvergenceWarning,\n",
      "/Users/alankaptanoglu/pysindy/pysindy/optimizers/sr3.py:314: ConvergenceWarning: SR3._reduce did not converge after 500 iterations.\n",
      "  ConvergenceWarning,\n",
      "/Users/alankaptanoglu/pysindy/pysindy/optimizers/sr3.py:314: ConvergenceWarning: SR3._reduce did not converge after 500 iterations.\n",
      "  ConvergenceWarning,\n",
      "/Users/alankaptanoglu/pysindy/pysindy/optimizers/sr3.py:314: ConvergenceWarning: SR3._reduce did not converge after 500 iterations.\n",
      "  ConvergenceWarning,\n",
      "/Users/alankaptanoglu/pysindy/pysindy/optimizers/sr3.py:314: ConvergenceWarning: SR3._reduce did not converge after 500 iterations.\n",
      "  ConvergenceWarning,\n",
      "/Users/alankaptanoglu/pysindy/pysindy/optimizers/sr3.py:314: ConvergenceWarning: SR3._reduce did not converge after 500 iterations.\n",
      "  ConvergenceWarning,\n",
      "/Users/alankaptanoglu/pysindy/pysindy/optimizers/sr3.py:314: ConvergenceWarning: SR3._reduce did not converge after 500 iterations.\n",
      "  ConvergenceWarning,\n",
      "/Users/alankaptanoglu/pysindy/pysindy/optimizers/sr3.py:314: ConvergenceWarning: SR3._reduce did not converge after 500 iterations.\n",
      "  ConvergenceWarning,\n",
      "/Users/alankaptanoglu/pysindy/pysindy/optimizers/sr3.py:314: ConvergenceWarning: SR3._reduce did not converge after 500 iterations.\n",
      "  ConvergenceWarning,\n",
      "/Users/alankaptanoglu/pysindy/pysindy/optimizers/sr3.py:314: ConvergenceWarning: SR3._reduce did not converge after 500 iterations.\n",
      "  ConvergenceWarning,\n",
      "/Users/alankaptanoglu/pysindy/pysindy/optimizers/sr3.py:314: ConvergenceWarning: SR3._reduce did not converge after 500 iterations.\n",
      "  ConvergenceWarning,\n",
      "/Users/alankaptanoglu/pysindy/pysindy/optimizers/sr3.py:314: ConvergenceWarning: SR3._reduce did not converge after 500 iterations.\n",
      "  ConvergenceWarning,\n",
      "/Users/alankaptanoglu/pysindy/pysindy/optimizers/sr3.py:314: ConvergenceWarning: SR3._reduce did not converge after 500 iterations.\n",
      "  ConvergenceWarning,\n",
      "/Users/alankaptanoglu/pysindy/pysindy/optimizers/sr3.py:314: ConvergenceWarning: SR3._reduce did not converge after 500 iterations.\n",
      "  ConvergenceWarning,\n"
     ]
    },
    {
     "name": "stdout",
     "output_type": "stream",
     "text": [
      "x' = 1.128 x + 5.194 y + -0.457 z + -0.248 xy + -0.291 xz + 0.100 yz + 0.080 xx + 0.152 yy + 0.011 zz\n",
      "y' = 17.296 x + 4.613 y + -0.700 z + 0.132 xy + -0.700 xz + -0.143 yz + -0.203 xx + 0.001 yy + 0.037 zz\n",
      "z' = -1.537 x + 1.455 y + -2.961 z + 0.650 xy + 0.080 xz + -0.075 yz + 0.096 xx + 0.188 yy + 0.011 zz\n",
      "2\n"
     ]
    },
    {
     "name": "stderr",
     "output_type": "stream",
     "text": [
      "/Users/alankaptanoglu/pysindy/pysindy/optimizers/sr3.py:314: ConvergenceWarning: SR3._reduce did not converge after 500 iterations.\n",
      "  ConvergenceWarning,\n",
      "/Users/alankaptanoglu/pysindy/pysindy/optimizers/sr3.py:314: ConvergenceWarning: SR3._reduce did not converge after 500 iterations.\n",
      "  ConvergenceWarning,\n",
      "/Users/alankaptanoglu/pysindy/pysindy/optimizers/sr3.py:314: ConvergenceWarning: SR3._reduce did not converge after 500 iterations.\n",
      "  ConvergenceWarning,\n",
      "/Users/alankaptanoglu/pysindy/pysindy/optimizers/sr3.py:314: ConvergenceWarning: SR3._reduce did not converge after 500 iterations.\n",
      "  ConvergenceWarning,\n",
      "/Users/alankaptanoglu/pysindy/pysindy/optimizers/sr3.py:314: ConvergenceWarning: SR3._reduce did not converge after 500 iterations.\n",
      "  ConvergenceWarning,\n",
      "/Users/alankaptanoglu/pysindy/pysindy/optimizers/sr3.py:314: ConvergenceWarning: SR3._reduce did not converge after 500 iterations.\n",
      "  ConvergenceWarning,\n",
      "/Users/alankaptanoglu/pysindy/pysindy/optimizers/sr3.py:314: ConvergenceWarning: SR3._reduce did not converge after 500 iterations.\n",
      "  ConvergenceWarning,\n",
      "/Users/alankaptanoglu/pysindy/pysindy/optimizers/sr3.py:314: ConvergenceWarning: SR3._reduce did not converge after 500 iterations.\n",
      "  ConvergenceWarning,\n",
      "/Users/alankaptanoglu/pysindy/pysindy/optimizers/sr3.py:314: ConvergenceWarning: SR3._reduce did not converge after 500 iterations.\n",
      "  ConvergenceWarning,\n",
      "/Users/alankaptanoglu/pysindy/pysindy/optimizers/sr3.py:314: ConvergenceWarning: SR3._reduce did not converge after 500 iterations.\n",
      "  ConvergenceWarning,\n",
      "/Users/alankaptanoglu/pysindy/pysindy/optimizers/sr3.py:314: ConvergenceWarning: SR3._reduce did not converge after 500 iterations.\n",
      "  ConvergenceWarning,\n",
      "/Users/alankaptanoglu/pysindy/pysindy/optimizers/sr3.py:314: ConvergenceWarning: SR3._reduce did not converge after 500 iterations.\n",
      "  ConvergenceWarning,\n",
      "/Users/alankaptanoglu/pysindy/pysindy/optimizers/sr3.py:314: ConvergenceWarning: SR3._reduce did not converge after 500 iterations.\n",
      "  ConvergenceWarning,\n",
      "/Users/alankaptanoglu/pysindy/pysindy/optimizers/sr3.py:314: ConvergenceWarning: SR3._reduce did not converge after 500 iterations.\n",
      "  ConvergenceWarning,\n",
      "/Users/alankaptanoglu/pysindy/pysindy/optimizers/sr3.py:314: ConvergenceWarning: SR3._reduce did not converge after 500 iterations.\n",
      "  ConvergenceWarning,\n",
      "/Users/alankaptanoglu/pysindy/pysindy/optimizers/sr3.py:314: ConvergenceWarning: SR3._reduce did not converge after 500 iterations.\n",
      "  ConvergenceWarning,\n",
      "/Users/alankaptanoglu/pysindy/pysindy/optimizers/sr3.py:314: ConvergenceWarning: SR3._reduce did not converge after 500 iterations.\n",
      "  ConvergenceWarning,\n",
      "/Users/alankaptanoglu/pysindy/pysindy/optimizers/sr3.py:314: ConvergenceWarning: SR3._reduce did not converge after 500 iterations.\n",
      "  ConvergenceWarning,\n",
      "/Users/alankaptanoglu/pysindy/pysindy/optimizers/sr3.py:314: ConvergenceWarning: SR3._reduce did not converge after 500 iterations.\n",
      "  ConvergenceWarning,\n"
     ]
    },
    {
     "name": "stdout",
     "output_type": "stream",
     "text": [
      "x' = 3.208 x + 1.494 y + 0.156 z + -0.337 xy + -0.341 xz + 0.229 yz + 0.216 xx + 0.150 yy + -0.016 zz\n",
      "y' = 16.328 x + 5.327 y + 0.113 z + 0.113 xy + -0.666 xz + -0.173 yz + -0.040 xx + -0.071 yy + -0.001 zz\n",
      "z' = -2.018 x + 1.318 y + -2.586 z + 0.934 xy + 0.050 xz + -0.040 yz + -0.056 xx + 0.049 yy + 0.007 zz\n",
      "3\n",
      "x' = -3.050 x + 6.384 y + -0.135 z + -0.275 xy + -0.174 xz + 0.083 yz + 0.161 xx + 0.118 yy + -0.003 zz\n",
      "y' = 20.318 x + 4.142 y + -0.870 z + 0.296 xy + -0.784 xz + -0.149 yz + -0.335 xx + -0.061 yy + 0.040 zz\n",
      "z' = -6.340 x + 4.883 y + -2.865 z + 0.763 xy + 0.188 xz + -0.166 yz + 0.039 xx + 0.134 yy + 0.012 zz\n",
      "4\n",
      "x' = -1.702 x + 5.052 y + -0.579 z + 0.151 xy + -0.205 xz + 0.105 yz + -0.194 xx + -0.010 yy + 0.029 zz\n",
      "y' = 19.575 x + 3.648 y + -0.165 z + -0.105 xy + -0.787 xz + -0.110 yz + 0.049 xx + 0.055 yy + 0.010 zz\n",
      "z' = -2.789 x + 1.612 y + -2.571 z + 0.940 xy + 0.078 xz + -0.051 yz + -0.010 xx + 0.014 yy + 0.003 zz\n",
      "5\n",
      "x' = -2.032 x + 4.978 y + 0.683 z + -0.084 xy + -0.239 xz + 0.153 yz + 0.117 xx + -0.029 zz\n",
      "y' = 13.329 x + 8.414 y + -0.692 z + 0.091 xy + -0.566 xz + -0.286 yz + -0.133 xx + 0.033 zz\n",
      "z' = -1.759 x + 0.736 y + -2.878 z + 0.822 xy + 0.042 xz + -0.014 yz + 0.118 yy + 0.012 zz\n",
      "6\n"
     ]
    },
    {
     "name": "stderr",
     "output_type": "stream",
     "text": [
      "/Users/alankaptanoglu/pysindy/pysindy/optimizers/constrained_sr3.py:382: ConvergenceWarning: SR3._reduce did not converge after 5000 iterations.\n",
      "  ConvergenceWarning,\n",
      "/Users/alankaptanoglu/pysindy/pysindy/optimizers/constrained_sr3.py:382: ConvergenceWarning: SR3._reduce did not converge after 5000 iterations.\n",
      "  ConvergenceWarning,\n",
      "/Users/alankaptanoglu/pysindy/pysindy/optimizers/constrained_sr3.py:382: ConvergenceWarning: SR3._reduce did not converge after 5000 iterations.\n",
      "  ConvergenceWarning,\n",
      "/Users/alankaptanoglu/pysindy/pysindy/optimizers/constrained_sr3.py:382: ConvergenceWarning: SR3._reduce did not converge after 5000 iterations.\n",
      "  ConvergenceWarning,\n",
      "/Users/alankaptanoglu/pysindy/pysindy/optimizers/constrained_sr3.py:382: ConvergenceWarning: SR3._reduce did not converge after 5000 iterations.\n",
      "  ConvergenceWarning,\n",
      "/Users/alankaptanoglu/pysindy/pysindy/optimizers/constrained_sr3.py:382: ConvergenceWarning: SR3._reduce did not converge after 5000 iterations.\n",
      "  ConvergenceWarning,\n",
      "/Users/alankaptanoglu/pysindy/pysindy/optimizers/constrained_sr3.py:382: ConvergenceWarning: SR3._reduce did not converge after 5000 iterations.\n",
      "  ConvergenceWarning,\n",
      "/Users/alankaptanoglu/pysindy/pysindy/optimizers/constrained_sr3.py:382: ConvergenceWarning: SR3._reduce did not converge after 5000 iterations.\n",
      "  ConvergenceWarning,\n",
      "/Users/alankaptanoglu/pysindy/pysindy/optimizers/constrained_sr3.py:382: ConvergenceWarning: SR3._reduce did not converge after 5000 iterations.\n",
      "  ConvergenceWarning,\n",
      "/Users/alankaptanoglu/pysindy/pysindy/optimizers/constrained_sr3.py:382: ConvergenceWarning: SR3._reduce did not converge after 5000 iterations.\n",
      "  ConvergenceWarning,\n",
      "/Users/alankaptanoglu/pysindy/pysindy/optimizers/constrained_sr3.py:382: ConvergenceWarning: SR3._reduce did not converge after 5000 iterations.\n",
      "  ConvergenceWarning,\n",
      "/Users/alankaptanoglu/pysindy/pysindy/optimizers/constrained_sr3.py:382: ConvergenceWarning: SR3._reduce did not converge after 5000 iterations.\n",
      "  ConvergenceWarning,\n",
      "/Users/alankaptanoglu/pysindy/pysindy/optimizers/constrained_sr3.py:382: ConvergenceWarning: SR3._reduce did not converge after 5000 iterations.\n",
      "  ConvergenceWarning,\n",
      "/Users/alankaptanoglu/pysindy/pysindy/optimizers/constrained_sr3.py:382: ConvergenceWarning: SR3._reduce did not converge after 5000 iterations.\n",
      "  ConvergenceWarning,\n",
      "/Users/alankaptanoglu/pysindy/pysindy/optimizers/constrained_sr3.py:382: ConvergenceWarning: SR3._reduce did not converge after 5000 iterations.\n",
      "  ConvergenceWarning,\n",
      "/Users/alankaptanoglu/pysindy/pysindy/optimizers/constrained_sr3.py:382: ConvergenceWarning: SR3._reduce did not converge after 5000 iterations.\n",
      "  ConvergenceWarning,\n",
      "/Users/alankaptanoglu/pysindy/pysindy/optimizers/constrained_sr3.py:382: ConvergenceWarning: SR3._reduce did not converge after 5000 iterations.\n",
      "  ConvergenceWarning,\n",
      "/Users/alankaptanoglu/pysindy/pysindy/optimizers/constrained_sr3.py:382: ConvergenceWarning: SR3._reduce did not converge after 5000 iterations.\n",
      "  ConvergenceWarning,\n",
      "/Users/alankaptanoglu/pysindy/pysindy/optimizers/constrained_sr3.py:382: ConvergenceWarning: SR3._reduce did not converge after 5000 iterations.\n",
      "  ConvergenceWarning,\n",
      "/Users/alankaptanoglu/pysindy/pysindy/optimizers/constrained_sr3.py:382: ConvergenceWarning: SR3._reduce did not converge after 5000 iterations.\n",
      "  ConvergenceWarning,\n"
     ]
    },
    {
     "name": "stdout",
     "output_type": "stream",
     "text": [
      "x' = -3.251 x + 6.307 y + 0.138 z + 0.069 xy + -0.163 xz + 0.068 yz + -0.046 yy + -0.005 zz\n",
      "y' = 18.169 x + 4.837 y + -0.187 z + 0.046 xy + -0.738 xz + -0.140 yz + -0.069 xx + 0.011 zz\n",
      "z' = -0.040 x + 0.067 y + -2.835 z + 0.670 xy + 0.005 xz + -0.011 yz + 0.163 xx + 0.140 yy\n",
      "7\n",
      " Iteration | Data Error | Stability Error |   L1 Error\n",
      "           0  2.41101e+08  1.15653e+03  0.00000e+00\n",
      "         500  2.41101e+08  4.77971e+00  0.00000e+00\n",
      "        1000  2.41101e+08  6.74114e-01  0.00000e+00\n",
      "        1500  2.41101e+08  1.69699e-01  0.00000e+00\n",
      "        2000  2.41101e+08  5.26223e-02  0.00000e+00\n",
      "        2500  2.41101e+08  1.80225e-02  0.00000e+00\n",
      "        3000  2.41101e+08  6.51150e-03  0.00000e+00\n",
      "        3500  2.41101e+08  2.42573e-03  0.00000e+00\n",
      "        4000  2.41101e+08  9.20209e-04  0.00000e+00\n",
      "        4500  2.41101e+08  3.52941e-04  0.00000e+00\n"
     ]
    },
    {
     "name": "stderr",
     "output_type": "stream",
     "text": [
      "/Users/alankaptanoglu/pysindy/pysindy/optimizers/trapping_sr3.py:631: ConvergenceWarning: TrappingSR3._reduce did not converge after 5000 iters.\n",
      "  ConvergenceWarning,\n"
     ]
    },
    {
     "name": "stdout",
     "output_type": "stream",
     "text": [
      " Iteration | Data Error | Stability Error |   L1 Error\n",
      "           0  2.37270e+08  1.19892e+03  0.00000e+00\n",
      "         500  2.37270e+08  1.94241e+00  0.00000e+00\n",
      "        1000  2.37270e+08  8.88048e-02  0.00000e+00\n",
      "        1500  2.37270e+08  6.21521e-03  0.00000e+00\n",
      "        2000  2.37270e+08  4.79541e-04  0.00000e+00\n",
      "        2500  2.37270e+08  3.79784e-05  0.00000e+00\n",
      "        3000  2.37270e+08  3.02976e-06  0.00000e+00\n",
      "        3500  2.37270e+08  2.42197e-07  0.00000e+00\n",
      "        4000  2.37270e+08  1.93723e-08  0.00000e+00\n",
      "        4500  2.37270e+08  1.54976e-09  0.00000e+00\n"
     ]
    },
    {
     "name": "stderr",
     "output_type": "stream",
     "text": [
      "/Users/alankaptanoglu/pysindy/pysindy/optimizers/trapping_sr3.py:631: ConvergenceWarning: TrappingSR3._reduce did not converge after 5000 iters.\n",
      "  ConvergenceWarning,\n"
     ]
    },
    {
     "name": "stdout",
     "output_type": "stream",
     "text": [
      " Iteration | Data Error | Stability Error |   L1 Error\n",
      "           0  2.37270e+08  1.19892e+03  0.00000e+00\n",
      "         500  2.37270e+08  1.94241e+00  0.00000e+00\n",
      "        1000  2.37270e+08  8.88048e-02  0.00000e+00\n",
      "        1500  2.37270e+08  6.21521e-03  0.00000e+00\n",
      "        2000  2.37270e+08  4.79541e-04  0.00000e+00\n",
      "        2500  2.37270e+08  3.79784e-05  0.00000e+00\n",
      "        3000  2.37270e+08  3.02976e-06  0.00000e+00\n",
      "        3500  2.37270e+08  2.42197e-07  0.00000e+00\n",
      "        4000  2.37270e+08  1.93723e-08  0.00000e+00\n",
      "        4500  2.37270e+08  1.54976e-09  0.00000e+00\n"
     ]
    },
    {
     "name": "stderr",
     "output_type": "stream",
     "text": [
      "/Users/alankaptanoglu/pysindy/pysindy/optimizers/trapping_sr3.py:631: ConvergenceWarning: TrappingSR3._reduce did not converge after 5000 iters.\n",
      "  ConvergenceWarning,\n"
     ]
    },
    {
     "name": "stdout",
     "output_type": "stream",
     "text": [
      " Iteration | Data Error | Stability Error |   L1 Error\n",
      "           0  2.37270e+08  1.19892e+03  0.00000e+00\n",
      "         500  2.37270e+08  1.94241e+00  0.00000e+00\n",
      "        1000  2.37270e+08  8.88048e-02  0.00000e+00\n",
      "        1500  2.37270e+08  6.21521e-03  0.00000e+00\n",
      "        2000  2.37270e+08  4.79541e-04  0.00000e+00\n",
      "        2500  2.37270e+08  3.79784e-05  0.00000e+00\n",
      "        3000  2.37270e+08  3.02976e-06  0.00000e+00\n",
      "        3500  2.37270e+08  2.42197e-07  0.00000e+00\n",
      "        4000  2.37270e+08  1.93723e-08  0.00000e+00\n",
      "        4500  2.37270e+08  1.54976e-09  0.00000e+00\n"
     ]
    },
    {
     "name": "stderr",
     "output_type": "stream",
     "text": [
      "/Users/alankaptanoglu/pysindy/pysindy/optimizers/trapping_sr3.py:631: ConvergenceWarning: TrappingSR3._reduce did not converge after 5000 iters.\n",
      "  ConvergenceWarning,\n"
     ]
    },
    {
     "name": "stdout",
     "output_type": "stream",
     "text": [
      " Iteration | Data Error | Stability Error |   L1 Error\n",
      "           0  2.37270e+08  1.19892e+03  0.00000e+00\n",
      "         500  2.37270e+08  1.94241e+00  0.00000e+00\n",
      "        1000  2.37270e+08  8.88048e-02  0.00000e+00\n",
      "        1500  2.37270e+08  6.21521e-03  0.00000e+00\n",
      "        2000  2.37270e+08  4.79541e-04  0.00000e+00\n",
      "        2500  2.37270e+08  3.79784e-05  0.00000e+00\n",
      "        3000  2.37270e+08  3.02976e-06  0.00000e+00\n",
      "        3500  2.37270e+08  2.42197e-07  0.00000e+00\n",
      "        4000  2.37270e+08  1.93723e-08  0.00000e+00\n",
      "        4500  2.37270e+08  1.54976e-09  0.00000e+00\n"
     ]
    },
    {
     "name": "stderr",
     "output_type": "stream",
     "text": [
      "/Users/alankaptanoglu/pysindy/pysindy/optimizers/trapping_sr3.py:631: ConvergenceWarning: TrappingSR3._reduce did not converge after 5000 iters.\n",
      "  ConvergenceWarning,\n"
     ]
    },
    {
     "name": "stdout",
     "output_type": "stream",
     "text": [
      " Iteration | Data Error | Stability Error |   L1 Error\n",
      "           0  2.37270e+08  1.19892e+03  0.00000e+00\n",
      "         500  2.37270e+08  1.94241e+00  0.00000e+00\n",
      "        1000  2.37270e+08  8.88048e-02  0.00000e+00\n",
      "        1500  2.37270e+08  6.21521e-03  0.00000e+00\n",
      "        2000  2.37270e+08  4.79541e-04  0.00000e+00\n",
      "        2500  2.37270e+08  3.79784e-05  0.00000e+00\n",
      "        3000  2.37270e+08  3.02976e-06  0.00000e+00\n",
      "        3500  2.37270e+08  2.42197e-07  0.00000e+00\n",
      "        4000  2.37270e+08  1.93723e-08  0.00000e+00\n",
      "        4500  2.37270e+08  1.54976e-09  0.00000e+00\n"
     ]
    },
    {
     "name": "stderr",
     "output_type": "stream",
     "text": [
      "/Users/alankaptanoglu/pysindy/pysindy/optimizers/trapping_sr3.py:631: ConvergenceWarning: TrappingSR3._reduce did not converge after 5000 iters.\n",
      "  ConvergenceWarning,\n"
     ]
    },
    {
     "name": "stdout",
     "output_type": "stream",
     "text": [
      " Iteration | Data Error | Stability Error |   L1 Error\n",
      "           0  2.37270e+08  1.19892e+03  0.00000e+00\n",
      "         500  2.37270e+08  1.94241e+00  0.00000e+00\n",
      "        1000  2.37270e+08  8.88048e-02  0.00000e+00\n",
      "        1500  2.37270e+08  6.21521e-03  0.00000e+00\n",
      "        2000  2.37270e+08  4.79541e-04  0.00000e+00\n",
      "        2500  2.37270e+08  3.79784e-05  0.00000e+00\n",
      "        3000  2.37270e+08  3.02976e-06  0.00000e+00\n",
      "        3500  2.37270e+08  2.42197e-07  0.00000e+00\n",
      "        4000  2.37270e+08  1.93723e-08  0.00000e+00\n",
      "        4500  2.37270e+08  1.54976e-09  0.00000e+00\n"
     ]
    },
    {
     "name": "stderr",
     "output_type": "stream",
     "text": [
      "/Users/alankaptanoglu/pysindy/pysindy/optimizers/trapping_sr3.py:631: ConvergenceWarning: TrappingSR3._reduce did not converge after 5000 iters.\n",
      "  ConvergenceWarning,\n"
     ]
    },
    {
     "name": "stdout",
     "output_type": "stream",
     "text": [
      " Iteration | Data Error | Stability Error |   L1 Error\n",
      "           0  2.37270e+08  1.19892e+03  0.00000e+00\n",
      "         500  2.37270e+08  1.94241e+00  0.00000e+00\n",
      "        1000  2.37270e+08  8.88048e-02  0.00000e+00\n",
      "        1500  2.37270e+08  6.21521e-03  0.00000e+00\n",
      "        2000  2.37270e+08  4.79541e-04  0.00000e+00\n",
      "        2500  2.37270e+08  3.79784e-05  0.00000e+00\n",
      "        3000  2.37270e+08  3.02976e-06  0.00000e+00\n",
      "        3500  2.37270e+08  2.42197e-07  0.00000e+00\n",
      "        4000  2.37270e+08  1.93723e-08  0.00000e+00\n",
      "        4500  2.37270e+08  1.54976e-09  0.00000e+00\n"
     ]
    },
    {
     "name": "stderr",
     "output_type": "stream",
     "text": [
      "/Users/alankaptanoglu/pysindy/pysindy/optimizers/trapping_sr3.py:631: ConvergenceWarning: TrappingSR3._reduce did not converge after 5000 iters.\n",
      "  ConvergenceWarning,\n"
     ]
    },
    {
     "name": "stdout",
     "output_type": "stream",
     "text": [
      " Iteration | Data Error | Stability Error |   L1 Error\n",
      "           0  2.37270e+08  1.19892e+03  0.00000e+00\n",
      "         500  2.37270e+08  1.94241e+00  0.00000e+00\n",
      "        1000  2.37270e+08  8.88048e-02  0.00000e+00\n",
      "        1500  2.37270e+08  6.21521e-03  0.00000e+00\n",
      "        2000  2.37270e+08  4.79541e-04  0.00000e+00\n",
      "        2500  2.37270e+08  3.79784e-05  0.00000e+00\n",
      "        3000  2.37270e+08  3.02976e-06  0.00000e+00\n",
      "        3500  2.37270e+08  2.42197e-07  0.00000e+00\n",
      "        4000  2.37270e+08  1.93723e-08  0.00000e+00\n",
      "        4500  2.37270e+08  1.54976e-09  0.00000e+00\n"
     ]
    },
    {
     "name": "stderr",
     "output_type": "stream",
     "text": [
      "/Users/alankaptanoglu/pysindy/pysindy/optimizers/trapping_sr3.py:631: ConvergenceWarning: TrappingSR3._reduce did not converge after 5000 iters.\n",
      "  ConvergenceWarning,\n"
     ]
    },
    {
     "name": "stdout",
     "output_type": "stream",
     "text": [
      " Iteration | Data Error | Stability Error |   L1 Error\n",
      "           0  2.37270e+08  1.19892e+03  0.00000e+00\n",
      "         500  2.37270e+08  1.94241e+00  0.00000e+00\n",
      "        1000  2.37270e+08  8.88048e-02  0.00000e+00\n",
      "        1500  2.37270e+08  6.21521e-03  0.00000e+00\n",
      "        2000  2.37270e+08  4.79541e-04  0.00000e+00\n",
      "        2500  2.37270e+08  3.79784e-05  0.00000e+00\n",
      "        3000  2.37270e+08  3.02976e-06  0.00000e+00\n",
      "        3500  2.37270e+08  2.42197e-07  0.00000e+00\n",
      "        4000  2.37270e+08  1.93723e-08  0.00000e+00\n",
      "        4500  2.37270e+08  1.54976e-09  0.00000e+00\n"
     ]
    },
    {
     "name": "stderr",
     "output_type": "stream",
     "text": [
      "/Users/alankaptanoglu/pysindy/pysindy/optimizers/trapping_sr3.py:631: ConvergenceWarning: TrappingSR3._reduce did not converge after 5000 iters.\n",
      "  ConvergenceWarning,\n"
     ]
    },
    {
     "name": "stdout",
     "output_type": "stream",
     "text": [
      " Iteration | Data Error | Stability Error |   L1 Error\n",
      "           0  2.37270e+08  1.19892e+03  0.00000e+00\n",
      "         500  2.37270e+08  1.94241e+00  0.00000e+00\n",
      "        1000  2.37270e+08  8.88048e-02  0.00000e+00\n",
      "        1500  2.37270e+08  6.21521e-03  0.00000e+00\n",
      "        2000  2.37270e+08  4.79541e-04  0.00000e+00\n",
      "        2500  2.37270e+08  3.79784e-05  0.00000e+00\n",
      "        3000  2.37270e+08  3.02976e-06  0.00000e+00\n",
      "        3500  2.37270e+08  2.42197e-07  0.00000e+00\n",
      "        4000  2.37270e+08  1.93723e-08  0.00000e+00\n",
      "        4500  2.37270e+08  1.54976e-09  0.00000e+00\n"
     ]
    },
    {
     "name": "stderr",
     "output_type": "stream",
     "text": [
      "/Users/alankaptanoglu/pysindy/pysindy/optimizers/trapping_sr3.py:631: ConvergenceWarning: TrappingSR3._reduce did not converge after 5000 iters.\n",
      "  ConvergenceWarning,\n"
     ]
    },
    {
     "name": "stdout",
     "output_type": "stream",
     "text": [
      " Iteration | Data Error | Stability Error |   L1 Error\n",
      "           0  2.37270e+08  1.19892e+03  0.00000e+00\n",
      "         500  2.37270e+08  1.94241e+00  0.00000e+00\n",
      "        1000  2.37270e+08  8.88048e-02  0.00000e+00\n",
      "        1500  2.37270e+08  6.21521e-03  0.00000e+00\n",
      "        2000  2.37270e+08  4.79541e-04  0.00000e+00\n",
      "        2500  2.37270e+08  3.79784e-05  0.00000e+00\n",
      "        3000  2.37270e+08  3.02976e-06  0.00000e+00\n",
      "        3500  2.37270e+08  2.42197e-07  0.00000e+00\n",
      "        4000  2.37270e+08  1.93723e-08  0.00000e+00\n",
      "        4500  2.37270e+08  1.54976e-09  0.00000e+00\n"
     ]
    },
    {
     "name": "stderr",
     "output_type": "stream",
     "text": [
      "/Users/alankaptanoglu/pysindy/pysindy/optimizers/trapping_sr3.py:631: ConvergenceWarning: TrappingSR3._reduce did not converge after 5000 iters.\n",
      "  ConvergenceWarning,\n"
     ]
    },
    {
     "name": "stdout",
     "output_type": "stream",
     "text": [
      " Iteration | Data Error | Stability Error |   L1 Error\n",
      "           0  2.37270e+08  1.19892e+03  0.00000e+00\n",
      "         500  2.37270e+08  1.94241e+00  0.00000e+00\n",
      "        1000  2.37270e+08  8.88048e-02  0.00000e+00\n",
      "        1500  2.37270e+08  6.21521e-03  0.00000e+00\n",
      "        2000  2.37270e+08  4.79541e-04  0.00000e+00\n",
      "        2500  2.37270e+08  3.79784e-05  0.00000e+00\n",
      "        3000  2.37270e+08  3.02976e-06  0.00000e+00\n",
      "        3500  2.37270e+08  2.42197e-07  0.00000e+00\n",
      "        4000  2.37270e+08  1.93723e-08  0.00000e+00\n",
      "        4500  2.37270e+08  1.54976e-09  0.00000e+00\n"
     ]
    },
    {
     "name": "stderr",
     "output_type": "stream",
     "text": [
      "/Users/alankaptanoglu/pysindy/pysindy/optimizers/trapping_sr3.py:631: ConvergenceWarning: TrappingSR3._reduce did not converge after 5000 iters.\n",
      "  ConvergenceWarning,\n"
     ]
    },
    {
     "name": "stdout",
     "output_type": "stream",
     "text": [
      " Iteration | Data Error | Stability Error |   L1 Error\n",
      "           0  2.37270e+08  1.19892e+03  0.00000e+00\n",
      "         500  2.37270e+08  1.94241e+00  0.00000e+00\n",
      "        1000  2.37270e+08  8.88048e-02  0.00000e+00\n",
      "        1500  2.37270e+08  6.21521e-03  0.00000e+00\n",
      "        2000  2.37270e+08  4.79541e-04  0.00000e+00\n",
      "        2500  2.37270e+08  3.79784e-05  0.00000e+00\n",
      "        3000  2.37270e+08  3.02976e-06  0.00000e+00\n",
      "        3500  2.37270e+08  2.42197e-07  0.00000e+00\n",
      "        4000  2.37270e+08  1.93723e-08  0.00000e+00\n",
      "        4500  2.37270e+08  1.54976e-09  0.00000e+00\n"
     ]
    },
    {
     "name": "stderr",
     "output_type": "stream",
     "text": [
      "/Users/alankaptanoglu/pysindy/pysindy/optimizers/trapping_sr3.py:631: ConvergenceWarning: TrappingSR3._reduce did not converge after 5000 iters.\n",
      "  ConvergenceWarning,\n"
     ]
    },
    {
     "name": "stdout",
     "output_type": "stream",
     "text": [
      " Iteration | Data Error | Stability Error |   L1 Error\n",
      "           0  2.37270e+08  1.19892e+03  0.00000e+00\n",
      "         500  2.37270e+08  1.94241e+00  0.00000e+00\n",
      "        1000  2.37270e+08  8.88048e-02  0.00000e+00\n",
      "        1500  2.37270e+08  6.21521e-03  0.00000e+00\n",
      "        2000  2.37270e+08  4.79541e-04  0.00000e+00\n",
      "        2500  2.37270e+08  3.79784e-05  0.00000e+00\n",
      "        3000  2.37270e+08  3.02976e-06  0.00000e+00\n",
      "        3500  2.37270e+08  2.42197e-07  0.00000e+00\n",
      "        4000  2.37270e+08  1.93723e-08  0.00000e+00\n",
      "        4500  2.37270e+08  1.54976e-09  0.00000e+00\n"
     ]
    },
    {
     "name": "stderr",
     "output_type": "stream",
     "text": [
      "/Users/alankaptanoglu/pysindy/pysindy/optimizers/trapping_sr3.py:631: ConvergenceWarning: TrappingSR3._reduce did not converge after 5000 iters.\n",
      "  ConvergenceWarning,\n"
     ]
    },
    {
     "name": "stdout",
     "output_type": "stream",
     "text": [
      " Iteration | Data Error | Stability Error |   L1 Error\n",
      "           0  2.37270e+08  1.19892e+03  0.00000e+00\n",
      "         500  2.37270e+08  1.94241e+00  0.00000e+00\n",
      "        1000  2.37270e+08  8.88048e-02  0.00000e+00\n",
      "        1500  2.37270e+08  6.21521e-03  0.00000e+00\n",
      "        2000  2.37270e+08  4.79541e-04  0.00000e+00\n",
      "        2500  2.37270e+08  3.79784e-05  0.00000e+00\n",
      "        3000  2.37270e+08  3.02976e-06  0.00000e+00\n",
      "        3500  2.37270e+08  2.42197e-07  0.00000e+00\n",
      "        4000  2.37270e+08  1.93723e-08  0.00000e+00\n",
      "        4500  2.37270e+08  1.54976e-09  0.00000e+00\n"
     ]
    },
    {
     "name": "stderr",
     "output_type": "stream",
     "text": [
      "/Users/alankaptanoglu/pysindy/pysindy/optimizers/trapping_sr3.py:631: ConvergenceWarning: TrappingSR3._reduce did not converge after 5000 iters.\n",
      "  ConvergenceWarning,\n"
     ]
    },
    {
     "name": "stdout",
     "output_type": "stream",
     "text": [
      " Iteration | Data Error | Stability Error |   L1 Error\n",
      "           0  2.37270e+08  1.19892e+03  0.00000e+00\n",
      "         500  2.37270e+08  1.94241e+00  0.00000e+00\n",
      "        1000  2.37270e+08  8.88048e-02  0.00000e+00\n",
      "        1500  2.37270e+08  6.21521e-03  0.00000e+00\n",
      "        2000  2.37270e+08  4.79541e-04  0.00000e+00\n",
      "        2500  2.37270e+08  3.79784e-05  0.00000e+00\n",
      "        3000  2.37270e+08  3.02976e-06  0.00000e+00\n",
      "        3500  2.37270e+08  2.42197e-07  0.00000e+00\n",
      "        4000  2.37270e+08  1.93723e-08  0.00000e+00\n",
      "        4500  2.37270e+08  1.54976e-09  0.00000e+00\n"
     ]
    },
    {
     "name": "stderr",
     "output_type": "stream",
     "text": [
      "/Users/alankaptanoglu/pysindy/pysindy/optimizers/trapping_sr3.py:631: ConvergenceWarning: TrappingSR3._reduce did not converge after 5000 iters.\n",
      "  ConvergenceWarning,\n"
     ]
    },
    {
     "name": "stdout",
     "output_type": "stream",
     "text": [
      " Iteration | Data Error | Stability Error |   L1 Error\n",
      "           0  2.37270e+08  1.19892e+03  0.00000e+00\n",
      "         500  2.37270e+08  1.94241e+00  0.00000e+00\n",
      "        1000  2.37270e+08  8.88048e-02  0.00000e+00\n",
      "        1500  2.37270e+08  6.21521e-03  0.00000e+00\n",
      "        2000  2.37270e+08  4.79541e-04  0.00000e+00\n",
      "        2500  2.37270e+08  3.79784e-05  0.00000e+00\n",
      "        3000  2.37270e+08  3.02976e-06  0.00000e+00\n",
      "        3500  2.37270e+08  2.42197e-07  0.00000e+00\n",
      "        4000  2.37270e+08  1.93723e-08  0.00000e+00\n",
      "        4500  2.37270e+08  1.54976e-09  0.00000e+00\n"
     ]
    },
    {
     "name": "stderr",
     "output_type": "stream",
     "text": [
      "/Users/alankaptanoglu/pysindy/pysindy/optimizers/trapping_sr3.py:631: ConvergenceWarning: TrappingSR3._reduce did not converge after 5000 iters.\n",
      "  ConvergenceWarning,\n"
     ]
    },
    {
     "name": "stdout",
     "output_type": "stream",
     "text": [
      " Iteration | Data Error | Stability Error |   L1 Error\n",
      "           0  2.37270e+08  1.19892e+03  0.00000e+00\n",
      "         500  2.37270e+08  1.94241e+00  0.00000e+00\n",
      "        1000  2.37270e+08  8.88048e-02  0.00000e+00\n",
      "        1500  2.37270e+08  6.21521e-03  0.00000e+00\n",
      "        2000  2.37270e+08  4.79541e-04  0.00000e+00\n",
      "        2500  2.37270e+08  3.79784e-05  0.00000e+00\n",
      "        3000  2.37270e+08  3.02976e-06  0.00000e+00\n",
      "        3500  2.37270e+08  2.42197e-07  0.00000e+00\n",
      "        4000  2.37270e+08  1.93723e-08  0.00000e+00\n",
      "        4500  2.37270e+08  1.54976e-09  0.00000e+00\n"
     ]
    },
    {
     "name": "stderr",
     "output_type": "stream",
     "text": [
      "/Users/alankaptanoglu/pysindy/pysindy/optimizers/trapping_sr3.py:631: ConvergenceWarning: TrappingSR3._reduce did not converge after 5000 iters.\n",
      "  ConvergenceWarning,\n"
     ]
    },
    {
     "name": "stdout",
     "output_type": "stream",
     "text": [
      " Iteration | Data Error | Stability Error |   L1 Error\n",
      "           0  2.37270e+08  1.19892e+03  0.00000e+00\n",
      "         500  2.37270e+08  1.94241e+00  0.00000e+00\n",
      "        1000  2.37270e+08  8.88048e-02  0.00000e+00\n",
      "        1500  2.37270e+08  6.21521e-03  0.00000e+00\n",
      "        2000  2.37270e+08  4.79541e-04  0.00000e+00\n",
      "        2500  2.37270e+08  3.79784e-05  0.00000e+00\n",
      "        3000  2.37270e+08  3.02976e-06  0.00000e+00\n",
      "        3500  2.37270e+08  2.42197e-07  0.00000e+00\n",
      "        4000  2.37270e+08  1.93723e-08  0.00000e+00\n",
      "        4500  2.37270e+08  1.54976e-09  0.00000e+00\n",
      "x' = -0.545 x + 5.644 y + -0.026 z + 0.112 xy + -0.224 xz + 0.075 yz + -0.059 yy + -0.004 zz\n",
      "y' = 15.031 x + 5.936 y + 0.056 z + 0.059 xy + -0.636 xz + -0.191 yz + -0.112 xx + 0.006 zz\n",
      "z' = 0.373 x + -0.241 y + -2.892 z + 0.561 xy + 0.004 xz + -0.006 yz + 0.224 xx + 0.191 yy\n"
     ]
    },
    {
     "name": "stderr",
     "output_type": "stream",
     "text": [
      "/Users/alankaptanoglu/pysindy/pysindy/optimizers/trapping_sr3.py:631: ConvergenceWarning: TrappingSR3._reduce did not converge after 5000 iters.\n",
      "  ConvergenceWarning,\n"
     ]
    }
   ],
   "source": [
    "dt = 0.005\n",
    "T = 40\n",
    "t = np.arange(0, T + dt, dt)\n",
    "r = 3\n",
    "PL_tensor_unsym, PL_tensor, PQ_tensor = make_Ptensor(r)\n",
    "constraint_zeros, constraint_matrix = make_constraints(r)\n",
    "# initial value of the training trajectories\n",
    "x0 = [1, -1, 20]\n",
    "# sparsity thresholds to try\n",
    "thresholds = [0.0]\n",
    "# going to sample from Gaussians with variance 4\n",
    "variance = 1.0\n",
    "# define the clean training data\n",
    "x_orig = odeint(lorenz, x0, t)\n",
    "noise = np.random.normal(0.0, variance, x_orig.shape)\n",
    "x_train = x_orig + noise\n",
    "x0_test = (np.random.rand(3) - 0.5) * 200\n",
    "\n",
    "# Initialize quadratic SINDy library, with custom ordering to be consistent with the constraint\n",
    "library_functions = [lambda x:x, lambda x, y:x * y, lambda x:x ** 2]\n",
    "library_function_names = [lambda x:x, lambda x, y:x + y, lambda x:x + x]\n",
    "sindy_library = ps.CustomLibrary(library_functions=library_functions, function_names=library_function_names)\n",
    "feature_names = ['x', 'y', 'z']\n",
    "\n",
    "# loop over threshold list\n",
    "opt_coef_list = np.zeros((8, 20, 3, 9))\n",
    "for i in range(8):\n",
    "    print(i)\n",
    "    if i == 0: \n",
    "        sindy_opt = ps.STLSQ(threshold=0, normalize_columns=True, max_iter=100)\n",
    "    if i == 1: \n",
    "        sindy_opt = ps.SR3(threshold=0, normalize_columns=True, thresholder='l0', max_iter=500)\n",
    "    if i == 2:\n",
    "        sindy_opt = ps.SR3(threshold=0, normalize_columns=True, thresholder='l1', max_iter=500)\n",
    "    if i == 3:\n",
    "        sindy_opt = ps.SSR(normalize_columns=True, L0_penalty=1e-3)\n",
    "    if i == 4:\n",
    "        sindy_opt = ps.SSR(normalize_columns=True, criteria='model_residual', L0_penalty=1e-3)\n",
    "    if i == 5:\n",
    "        sindy_opt = ps.FROLS(normalize_columns=True, L0_penalty=1e-3)\n",
    "    if i == 6:\n",
    "        sindy_opt = ps.ConstrainedSR3(threshold=0, max_iter=5000, tol=1e-10,\n",
    "                           constraint_lhs=constraint_matrix,\n",
    "                           constraint_rhs=constraint_zeros,\n",
    "                           constraint_order=\"feature\")\n",
    "    if i == 7:\n",
    "        eta = 1.0e-1\n",
    "        alpha_m = 5e-2 * eta\n",
    "        alpha_A = 1.0 * eta\n",
    "        sindy_opt = ps.TrappingSR3(threshold=0, eta=eta, alpha_m=alpha_m, alpha_A=alpha_A, \n",
    "                           tol_m=1e-10,\n",
    "                           PL=PL_tensor, PQ=PQ_tensor, max_iter=5000, tol=1e-10,\n",
    "                           gamma=-1,\n",
    "                           constraint_lhs=constraint_matrix,\n",
    "                           constraint_rhs=constraint_zeros,\n",
    "                           constraint_order=\"feature\",\n",
    "                           )\n",
    "    model = ps.SINDy(\n",
    "        feature_names=feature_names,\n",
    "        optimizer=sindy_opt,\n",
    "        feature_library=sindy_library,\n",
    "    )\n",
    "    model.fit(x_train, t=t, ensemble=True)\n",
    "    opt_coef_list[i, :, :, :] = model.coef_list\n",
    "    model.print()"
   ]
  },
  {
   "cell_type": "code",
   "execution_count": 9,
   "metadata": {},
   "outputs": [
    {
     "name": "stdout",
     "output_type": "stream",
     "text": [
      "0 5 -2.193701311165197 [57.34738966 -4.23631992 36.11007986]\n",
      "0 7 -3.0895305444084444 [500.         -17.82982287 277.21044997]\n",
      "1 0 -7.5246055150481395 [500.         -32.32759424 323.28371796]\n",
      "1 1 -1.3792959182940818 [43.1799835  -3.15412621 40.42380934]\n",
      "1 2 -0.23815840983433173 [38.01747866  5.01917805 36.16202581]\n",
      "1 3 -2.8742001573291445 [ 7.72715123 -3.7959974  41.11452253]\n",
      "1 4 -1.6238731901935948 [20.91325872  0.63048727 34.97294413]\n",
      "1 7 -0.9382628845486012 [23.40614055 -0.74559092 31.93368904]\n",
      "1 9 -0.8243315361658088 [ 64.4311603  -23.32543844  44.67264198]\n",
      "2 0 -1.5199874380749514 [ 58.65068332 -11.29381037  41.5357933 ]\n",
      "2 4 -0.6582773480134756 [ 1.67655875  1.79029345 34.30661725]\n",
      "2 6 -1.7468458845256918 [53.9106337  -5.99893633 34.64513432]\n",
      "2 7 -1.5797403081435066 [ -4.56898292 -10.74097102  47.3501263 ]\n",
      "3 0 -0.7845734145847775 [85.7056814  -3.86664217 30.94672536]\n",
      "3 3 -0.5161607560444703 [ 5.48733072  3.77327743 37.76618578]\n",
      "3 4 -2.752849675986458 [64.38498867  4.18856943 62.16900606]\n",
      "3 5 -0.8801990933777986 [124.88589318  -7.87467261  30.86899492]\n",
      "3 6 -5.3153071835145465 [ 325.51410845 -146.51705866  171.81830265]\n",
      "4 0 -3.4990794777584506 [66.07190473 -2.041609   48.77947955]\n",
      "4 2 -0.4120809562040727 [ 68.28185644 -36.42260233  62.9892678 ]\n",
      "4 3 -0.8640076495542839 [37.88797644  1.00926268 33.35238787]\n",
      "4 4 -2.420011150734595 [59.57059304 10.0159302  75.24077195]\n",
      "5 3 -2.3002311670736026 [33.79359651 -4.55009924 41.80226058]\n",
      "5 4 -2.649596740346332 [54.55961833  7.74400912 68.24228186]\n",
      "5 8 -0.9599161288485571 [19.00491885  3.543611   32.05159947]\n",
      "6 0 -2.604411439796624 [-0.57873668  1.39019469 46.37663657]\n",
      "6 1 -1.495196780927552 [-5.95454112 13.89766844 54.56699566]\n",
      "6 2 -0.917780841691953 [58.7995518  -3.73047137 36.42000681]\n",
      "6 3 -1.8136981039350886 [-3.37087545 -5.78861328 43.49201578]\n",
      "6 4 -1.7564092856140627 [-10.50736114  -0.97216339  42.76564721]\n",
      "6 5 -2.3767220654206938 [ 2.20647204 -6.3325923  50.26170374]\n",
      "6 6 -7.978425553778783 [-500.           54.90605987   86.93869487]\n",
      "6 7 -0.6348349521442431 [-7.11686725 -3.19035858 39.07028705]\n",
      "6 8 -1.4817701045597376 [-81.11440424  -2.19163011  33.77520444]\n",
      "6 9 -2.3766530831374166 [-1.52872274  4.58885425 51.41132292]\n",
      "6 mean:  -1.3484122077252567 [-8.19239498  9.66190021 46.30624885]\n",
      "6 median:  -1.070099891731232 [-4.39275872 -9.47554941 40.44846644]\n",
      "7 0 -1.667502741384126 [-0.21203558 -6.66567418 50.21884532]\n",
      "7 1 -2.3457503293832365 [-5.48790652  3.87223906 52.4650752 ]\n",
      "7 2 -2.345750329517333 [-2.4237666  -3.919652   47.47819405]\n",
      "7 3 -2.34575032951592 [-4.86844166  2.2970468  51.45678257]\n",
      "7 4 -2.345750328966229 [-3.56733594 -1.0110546  49.34005079]\n",
      "7 5 -2.3457503202520837 [-4.3849479   1.06724799 50.67156131]\n",
      "7 6 -2.345750329483863 [-7.55531442  9.12969128 55.82958608]\n",
      "7 7 -2.34575032950917 [-7.65891641  9.39323835 55.99814502]\n",
      "7 8 -2.3457503272779743 [-3.43464728 -1.34764041 49.12487024]\n",
      "7 9 -2.3457503281269316 [-7.27791456  8.42320801 55.37772898]\n",
      "7 mean:  -2.3125000893845487 [-4.4428202   1.28009744 50.92684097]\n",
      "7 median:  -2.3457503213254594 [-4.11232552  0.37505609 50.22514998]\n"
     ]
    }
   ],
   "source": [
    "# Import simulated annealing algorithm for numerically computing the stability of these models\n",
    "from scipy.optimize import dual_annealing as anneal_algo\n",
    "\n",
    "# define the objective function to be minimized by simulated annealing\n",
    "def obj_function(m, L_obj, Q_obj):\n",
    "    As = L_obj - np.tensordot(m, Q_obj,axes=([0], [0]))\n",
    "    eigvals, eigvecs = np.linalg.eigh(As)\n",
    "    return(eigvals[-1])\n",
    "\n",
    "# Search between -500, 500 for each component of m\n",
    "boundvals = np.zeros((r, 2))\n",
    "boundmax = 500\n",
    "boundmin = -500\n",
    "boundvals[:, 0] = boundmin\n",
    "boundvals[:, 1] = boundmax\n",
    "num_stable = np.zeros(8, dtype=int)\n",
    "\n",
    "# Run through all the models and check stability\n",
    "for i in range(8):\n",
    "    for j in range(10):\n",
    "        Xi = opt_coef_list[i, j, :, :]\n",
    "        L = np.tensordot(PL_tensor_unsym, Xi.T, axes=([3, 2], [0, 1]))\n",
    "        Q = np.tensordot(PQ_tensor, Xi.T, axes=([4, 3], [0, 1]))\n",
    "        Ls = 0.5 * (L + L.T)\n",
    "        algo_sol = anneal_algo(obj_function, bounds=boundvals, args=(Ls, Q), maxiter=200)\n",
    "        opt_m = algo_sol.x\n",
    "        opt_energy = algo_sol.fun\n",
    "        # print out results if model is stable (opt_energy < 0)\n",
    "        if opt_energy < 0:\n",
    "            print(i, j, opt_energy, opt_m)\n",
    "            num_stable[i] += 1\n",
    "            \n",
    "    # Check the stability of the mean coefficients for each optimizer\n",
    "    coef_mean = np.mean(opt_coef_list[i, :, :, :], axis=0)\n",
    "    Xi = coef_mean\n",
    "    L = np.tensordot(PL_tensor_unsym, Xi.T, axes=([3, 2], [0, 1]))\n",
    "    Q = np.tensordot(PQ_tensor, Xi.T, axes=([4, 3], [0, 1]))\n",
    "    Ls = 0.5 * (L + L.T)\n",
    "    algo_sol = anneal_algo(obj_function, bounds=boundvals, args=(Ls, Q), maxiter=200)\n",
    "    opt_m = algo_sol.x\n",
    "    opt_energy = algo_sol.fun\n",
    "    opt_result = algo_sol.message\n",
    "    if opt_energy < 0:\n",
    "        print(i, 'mean: ', opt_energy, opt_m)\n",
    "        \n",
    "    # Check the stability of the median coefficients for each optimizer\n",
    "    coef_median = np.median(opt_coef_list[i, :, :, :], axis=0)\n",
    "    Xi = coef_median\n",
    "    L = np.tensordot(PL_tensor_unsym, Xi.T, axes=([3, 2], [0, 1]))\n",
    "    Q = np.tensordot(PQ_tensor, Xi.T, axes=([4, 3], [0, 1]))\n",
    "    Ls = 0.5 * (L + L.T)\n",
    "    algo_sol = anneal_algo(obj_function, bounds=boundvals, args=(Ls, Q), maxiter=200)\n",
    "    opt_m = algo_sol.x\n",
    "    opt_energy = algo_sol.fun\n",
    "    opt_result = algo_sol.message\n",
    "    if opt_energy < 0:\n",
    "        print(i, 'median: ', opt_energy, opt_m)"
   ]
  },
  {
   "cell_type": "code",
   "execution_count": 11,
   "metadata": {},
   "outputs": [
    {
     "data": {
      "image/png": "[encoded data removed]",
      "text/plain": [
       "<Figure size 1728x432 with 8 Axes>"
      ]
     },
     "metadata": {
      "needs_background": "light"
     },
     "output_type": "display_data"
    }
   ],
   "source": [
    "# Plot each optimizer results for the coefficients + error bars\n",
    "colors = ['b', 'r', 'k']\n",
    "plt.figure(figsize=(24, 6))\n",
    "x_sims_mean = np.zeros((8, len(t), 3))\n",
    "x_sims_median = np.zeros((8, len(t), 3))\n",
    "opt_names = ['STLSQ', 'SR3 L0', 'SR3 L1', 'SSR1', 'SSR2', 'FROLS', 'ConstrainedSR3', 'Trapping']\n",
    "for i in range(8):\n",
    "    coef_mean = np.mean(opt_coef_list[i, :, :, :], axis=0)\n",
    "    coef_median = np.median(opt_coef_list[i, :, :, :], axis=0)\n",
    "    coef_std = np.std(opt_coef_list[i, :, :, :], axis=0)\n",
    "    plt.subplot(2, 4, i + 1)\n",
    "    for j in range(3):\n",
    "        plt.errorbar(range(9), coef_mean[j, :], yerr=coef_std[j, :], fmt='o', color=colors[j])\n",
    "    ax = plt.gca()\n",
    "    ax.set_xticks(range(9))\n",
    "    xticknames = model.get_feature_names()\n",
    "    for j in range(9):\n",
    "        xticknames[j] = '$' + xticknames[j] + '$'\n",
    "    ax.set_xticklabels(xticknames, verticalalignment='top', fontsize=16)\n",
    "    plt.grid(True)\n",
    "    \n",
    "    sindy_opt.coef_ = coef_mean\n",
    "    x_sims_mean[i, :, :] = model.simulate(x0_test, t)\n",
    "    sindy_opt.coef_ = coef_median\n",
    "    x_sims_median[i, :, :] = model.simulate(x0_test, t)\n",
    "    plt.ylim(-5, 25)\n",
    "    plt.xticks(fontsize=18)\n",
    "    plt.yticks(fontsize=18)\n",
    "    plt.title(opt_names[i] + ' ' + str(num_stable[i]) + '/10 stable models', fontsize=18)\n",
    "    if i != 0 and i != 4:\n",
    "        ax.set_yticklabels([])\n",
    "    if i < 4:\n",
    "        ax.set_xticklabels([])\n",
    "plt.savefig('ensemble_stability_summary.pdf')"
   ]
  }
 ],
 "metadata": {
  "kernelspec": {
   "display_name": "Python 3",
   "language": "python",
   "name": "python3"
  },
  "language_info": {
   "codemirror_mode": {
    "name": "ipython",
    "version": 3
   },
   "file_extension": ".py",
   "mimetype": "text/x-python",
   "name": "python",
   "nbconvert_exporter": "python",
   "pygments_lexer": "ipython3",
   "version": "3.7.4"
  },
  "toc": {
   "base_numbering": 1,
   "nav_menu": {},
   "number_sections": true,
   "sideBar": true,
   "skip_h1_title": false,
   "title_cell": "Table of Contents",
   "title_sidebar": "Contents",
   "toc_cell": false,
   "toc_position": {
    "height": "calc(100% - 180px)",
    "left": "10px",
    "top": "150px",
    "width": "296.475px"
   },
   "toc_section_display": true,
   "toc_window_display": true
  },
  "varInspector": {
   "cols": {
    "lenName": 16,
    "lenType": 16,
    "lenVar": 40
   },
   "kernels_config": {
    "python": {
     "delete_cmd_postfix": "",
     "delete_cmd_prefix": "del ",
     "library": "var_list.py",
     "varRefreshCmd": "print(var_dic_list())"
    },
    "r": {
     "delete_cmd_postfix": ") ",
     "delete_cmd_prefix": "rm(",
     "library": "var_list.r",
     "varRefreshCmd": "cat(var_dic_list()) "
    }
   },
   "types_to_exclude": [
    "module",
    "function",
    "builtin_function_or_method",
    "instance",
    "_Feature"
   ],
   "window_display": false
  }
 },
 "nbformat": 4,
 "nbformat_minor": 2
}
