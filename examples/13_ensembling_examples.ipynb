{
 "cells": [
  {
   "cell_type": "markdown",
   "metadata": {},
   "source": [
    "# Ensembling Feature Overview\n",
    "\n",
    "This notebook provides an overview of the basic and advanced functionality of using ensemble methods in PySINDy. \n",
    "\n",
    "An interactive version of this notebook is available on binder."
   ]
  },
  {
   "cell_type": "markdown",
   "metadata": {
    "ExecuteTime": {
     "end_time": "2020-03-09T00:05:47.829870Z",
     "start_time": "2020-03-09T00:05:47.821638Z"
    }
   },
   "source": [
    "[![Binder](https://mybinder.org/badge_logo.svg)](https://mybinder.org/v2/gh/dynamicslab/pysindy/v0.13.0?filepath=example%2Ffeature_overview.ipynb)"
   ]
  },
  {
   "cell_type": "code",
   "execution_count": 1,
   "metadata": {
    "ExecuteTime": {
     "end_time": "2020-10-22T22:20:41.222450Z",
     "start_time": "2020-10-22T22:20:40.308783Z"
    }
   },
   "outputs": [],
   "source": [
    "import matplotlib.pyplot as plt\n",
    "from mpl_toolkits.mplot3d import Axes3D\n",
    "import numpy as np\n",
    "from scipy.integrate import odeint\n",
    "from sklearn.linear_model import Lasso\n",
    "\n",
    "import pysindy as ps\n",
    "\n",
    "# Seed the random number generators for reproducibility\n",
    "np.random.seed(100)\n",
    "\n",
    "# define the Lorenz system\n",
    "def lorenz(z, t):\n",
    "    return [\n",
    "        10 * (z[1] - z[0]),\n",
    "        z[0] * (28 - z[2]) - z[1],\n",
    "        z[0] * z[1] - (8 / 3) * z[2]\n",
    "    ]"
   ]
  },
  {
   "cell_type": "markdown",
   "metadata": {},
   "source": [
    "### Ensemble methods\n",
    "One way to improve the robustness of a SINDy method is to use ensemble methods. Basically, we solve the regression problem many times on subsets (of size $n_{subset}$) of the time slices, generating $n_{models}$ models. All the coefficients are returned in model.coef_list and the average (bagging) can be used via np.mean(model.coef_list, axis=0) or the median (bragging) can be used via np.median(model.coef_list, axis=0). \n",
    "\n",
    "### The default number of models to generate is 20, and the default sampling strategy is to sample the entire time base with replacement, so that on average 60% or so of the data is seen. Default model is that the last fitted model is returned -- this is typically a bad approximation so use model.coef_list instead."
   ]
  },
  {
   "cell_type": "code",
   "execution_count": 2,
   "metadata": {},
   "outputs": [
    {
     "name": "stdout",
     "output_type": "stream",
     "text": [
      "x' = 0.875 1 + -10.203 x + 10.056 y\n",
      "y' = 26.791 x + -0.613 y + -0.973 x z\n",
      "z' = 0.921 1 + -0.129 x + -2.636 z + 0.976 x y\n"
     ]
    }
   ],
   "source": [
    "dt = .005\n",
    "t_train = np.arange(0, 10, dt)\n",
    "x0_train = [-8, 8, 27]\n",
    "x_train = odeint(lorenz, x0_train, t_train)\n",
    "# add noise for more complexity\n",
    "x_train = x_train + np.random.randn(x_train.shape[0], x_train.shape[1]) / 4.0\n",
    "\n",
    "# Evolve the Lorenz equations in time using a different initial condition\n",
    "t_test = np.arange(0, 15, dt)\n",
    "x0_test = np.array([8, 7, 15])\n",
    "x_test = odeint(lorenz, x0_test, t_test)  \n",
    "\n",
    "# Instantiate and fit the SINDy model\n",
    "feature_names = ['x', 'y', 'z']\n",
    "ensemble_optimizer = ps.STLSQ()\n",
    "model = ps.SINDy(feature_names=feature_names, optimizer=ensemble_optimizer)\n",
    "model.fit(x_train, t=dt, ensemble=True)\n",
    "model.print()\n",
    "ensemble_coefs = model.coef_list"
   ]
  },
  {
   "cell_type": "markdown",
   "metadata": {},
   "source": [
    "### Library ensemble methods\n",
    "Another way to do ensembling is to solve the regression problem on subsets of the candidate library, generating $p$ (the number of candidate terms) models. The syntax and code is a bit different, but the user-facing part is the same. Once again, the coefficients are returned in model.coef_list and the average can be used via np.mean(model.coef_list, axis=0). The default is still 20 generated models and the default sub-sampling is to chop one candidate term for each model."
   ]
  },
  {
   "cell_type": "code",
   "execution_count": 3,
   "metadata": {},
   "outputs": [
    {
     "name": "stdout",
     "output_type": "stream",
     "text": [
      "x' = -9.995 x + 9.971 y\n",
      "y' = 0.494 1 + 25.391 x + -0.946 x z\n",
      "z' = 0.237 1 + -2.674 z + 1.001 x y\n"
     ]
    }
   ],
   "source": [
    "# Instantiate and fit the SINDy model\n",
    "library_ensemble_optimizer = ps.STLSQ()\n",
    "model = ps.SINDy(feature_names=feature_names, optimizer=library_ensemble_optimizer)\n",
    "model.fit(x_train, t=dt, library_ensemble=True)\n",
    "model.print()\n",
    "library_ensemble_coefs = model.coef_list"
   ]
  },
  {
   "cell_type": "markdown",
   "metadata": {},
   "source": [
    "### Now do both types of ensembling with multiple candidate drops!"
   ]
  },
  {
   "cell_type": "code",
   "execution_count": 4,
   "metadata": {},
   "outputs": [
    {
     "name": "stdout",
     "output_type": "stream",
     "text": [
      "x' = -0.741 1 + -10.070 x + 10.023 y\n",
      "y' = -0.457 1 + 28.033 x + -0.975 y + -0.991 x z\n",
      "z' = -0.474 1 + -2.660 z + 0.996 x y\n"
     ]
    }
   ],
   "source": [
    "double_ensemble_optimizer = ps.STLSQ()\n",
    "model = ps.SINDy(feature_names=feature_names, optimizer=double_ensemble_optimizer)\n",
    "model.fit(x_train, t=dt, library_ensemble=True, ensemble=True, n_candidates_to_drop=2)\n",
    "model.print()\n",
    "double_ensemble_coefs = model.coef_list"
   ]
  },
  {
   "cell_type": "markdown",
   "metadata": {},
   "source": [
    "### Alternatives to averaging (bagging) or taking the median (bragging) of the models: \n",
    "1. Weighted average of the coefficients, with weights corresponding to the mean-squared error with the testing (or training, if you like) $\\dot{\\mathbf{X}}$.\n",
    "2. Define a function that does small integration forward of all the potential models for a bunch of a random initial conditions and chop any unstable models. Then repeat bagging or bragging."
   ]
  },
  {
   "cell_type": "code",
   "execution_count": 5,
   "metadata": {},
   "outputs": [],
   "source": [
    "from sklearn.metrics import mean_squared_error\n",
    "\n",
    "def weighted_coefficient_average(coef_list, x_test, dt, optimizer):\n",
    "    mse = np.zeros(np.shape(coef_list)[0])\n",
    "    for i in range(np.shape(coef_list)[0]):\n",
    "        optimizer.coef_ = np.asarray(coef_list)[i, :, :]\n",
    "        mse[i] = model.score(x_test, t=dt, metric=mean_squared_error)\n",
    "    avg = np.average(coef_list, axis=0, weights=mse)\n",
    "    coef_subtracted = np.zeros(np.shape(coef_list))\n",
    "    for i in range(np.shape(coef_list)[0]):\n",
    "        coef_subtracted[i, :, :] = np.asarray(coef_list)[i, :, :] - avg\n",
    "    std = np.sqrt(np.average(coef_subtracted ** 2, axis=0, weights=mse))\n",
    "    return avg, std\n",
    "\n",
    "e_wavg, e_wstd = weighted_coefficient_average(ensemble_coefs, x_test, dt, ensemble_optimizer)\n",
    "l_wavg, l_wstd = weighted_coefficient_average(library_ensemble_coefs, x_test, dt, library_ensemble_optimizer) \n",
    "\n",
    "def integration_metric(coef_list, optimizer):\n",
    "    t_test = np.arange(0, 2, 0.01)    \n",
    "    # Try 5 test trajectories\n",
    "    for k in range(5):\n",
    "        x0_test = (np.random.rand(3) - 0.5) * 10\n",
    "        x_test = odeint(lorenz, x0_test, t_test)  \n",
    "        for i in range(np.shape(coef_list)[0]):\n",
    "            optimizer.coef_ = coef_list[i, :, :]\n",
    "            x_test_sim = model.simulate(x0_test, t_test)\n",
    "            if np.any(np.abs(x_test_sim) > 100):\n",
    "                print('unstable model!')\n",
    "                coef_list[i, :, :] = 0.0\n",
    "    return coef_list\n",
    "\n",
    "stable_ensemble_coefs = integration_metric(np.asarray(ensemble_coefs), ensemble_optimizer)\n",
    "stable_library_ensemble_coefs = integration_metric(np.asarray(library_ensemble_coefs), library_ensemble_optimizer)"
   ]
  },
  {
   "cell_type": "code",
   "execution_count": 6,
   "metadata": {},
   "outputs": [
    {
     "data": {
      "image/png": "[encoded data removed]",
      "text/plain": [
       "<Figure size 1152x648 with 8 Axes>"
      ]
     },
     "metadata": {
      "needs_background": "light"
     },
     "output_type": "display_data"
    }
   ],
   "source": [
    "# Plot bagging results with error bars\n",
    "coef_types = [np.mean(ensemble_coefs, axis=0), \n",
    "              np.mean(library_ensemble_coefs, axis=0), \n",
    "              e_wavg,\n",
    "              l_wavg,\n",
    "              np.median(ensemble_coefs, axis=0),\n",
    "              np.median(library_ensemble_coefs, axis=0),\n",
    "              np.mean(stable_ensemble_coefs, axis=0), \n",
    "              np.mean(stable_library_ensemble_coefs, axis=0), \n",
    "             ]\n",
    "coef_stds = [np.std(ensemble_coefs, axis=0), \n",
    "             np.std(library_ensemble_coefs, axis=0), \n",
    "             e_wstd,\n",
    "             l_wstd,\n",
    "             np.std(ensemble_coefs, axis=0), \n",
    "             np.std(library_ensemble_coefs, axis=0), \n",
    "             np.std(stable_ensemble_coefs, axis=0), \n",
    "             np.std(stable_library_ensemble_coefs, axis=0), \n",
    "             ]\n",
    "colors = ['b', 'r', 'k']\n",
    "props = dict(boxstyle='round', facecolor='wheat', alpha=1.0)\n",
    "textstrs = ['bagging', 'bragging', 'weighted\\nbagging', 'stability\\nweighted\\nbagging']\n",
    "plt.figure(figsize=(16, 9))\n",
    "for k, coefs in enumerate(coef_types):\n",
    "    coef_std = coef_stds[k]\n",
    "    plt.subplot(4, 2, k + 1)\n",
    "    for i in range(coefs.shape[0]):\n",
    "        plt.errorbar(range(coefs.shape[1]), coefs[i, :], yerr=coef_std[i, :], \n",
    "                     fmt='o', color=colors[i], label='$\\dot ' + feature_names[i] + '_{}$' + ' coefficients')\n",
    "    ax = plt.gca()\n",
    "    ax.set_xticks(range(10))\n",
    "    if k >= 6:\n",
    "        xticknames = model.get_feature_names()\n",
    "        for i in range(10):\n",
    "            xticknames[i] = '$' + xticknames[i] + '$'\n",
    "        ax.set_xticklabels(xticknames, verticalalignment='top')\n",
    "    else:\n",
    "        ax.set_xticklabels([])\n",
    "    plt.ylim(-20, 35)\n",
    "    if k == 0:\n",
    "        plt.legend(fontsize=16, framealpha=1.0, loc='upper right')\n",
    "        ax.text(0.38, 1.1, 'ensemble', transform=ax.transAxes, fontsize=16, bbox=props)\n",
    "    if k == 1:\n",
    "        ax.text(0.35, 1.1, 'library ensemble', transform=ax.transAxes, fontsize=16, bbox=props)\n",
    "    plt.xticks(fontsize=16)\n",
    "    plt.yticks(fontsize=16)\n",
    "    plt.grid(True)\n",
    "    ax.set_yticks([-20, -10, 0, 10, 20, 30])\n",
    "    if k % 2 == 0:\n",
    "        textstr = textstrs[k // 2]\n",
    "        ax.text(-0.3, 0.4, textstr, transform=ax.transAxes, fontsize=16, bbox=props)\n",
    "    else:\n",
    "        ax.set_yticklabels([])\n",
    "plt.savefig('ensemble_summary.pdf')"
   ]
  },
  {
   "cell_type": "markdown",
   "metadata": {},
   "source": [
    "### Even more advanced use of ensembling. We will loop through all the optimizers with ensembling and numerically calculate if the resulting models are stable (no unbounded trajectories) for any initial condition! The stability check relies on some analytic results about energy-preserving flows like the Lorenz system."
   ]
  },
  {
   "cell_type": "code",
   "execution_count": 7,
   "metadata": {},
   "outputs": [],
   "source": [
    "# Define some setup and plotting functions\n",
    "# Build the energy-preserving quadratic nonlinearity constraints\n",
    "# for ConstrainedSR3 and TrappingSR3 optimizer\n",
    "def make_constraints(r):\n",
    "    q = 0\n",
    "    N = int((r ** 2 + 3 * r) / 2.0)\n",
    "    p = r + r * (r - 1) + int(r * (r - 1)*(r - 2) / 6.0)\n",
    "    constraint_zeros = np.zeros(p)\n",
    "    constraint_matrix = np.zeros((p, r * N))    \n",
    "    \n",
    "    # Set coefficients adorning terms like a_i^3 to zero\n",
    "    for i in range(r):\n",
    "        constraint_matrix[q, r * (N - r) + i * (r + 1)] = 1.0\n",
    "        q = q + 1\n",
    "\n",
    "    # Set coefficients adorning terms like a_ia_j^2 to be antisymmetric\n",
    "    for i in range(r):\n",
    "        for j in range(i + 1, r):\n",
    "            constraint_matrix[q, r * (N - r + j) + i] = 1.0\n",
    "            constraint_matrix[q, r * (r + j - 1) + j + r * int(i * (2 * r - i - 3) / 2.0)] = 1.0\n",
    "            q = q + 1\n",
    "    for i in range(r):\n",
    "         for j in range(0, i):\n",
    "            constraint_matrix[q, r * (N - r + j) + i] = 1.0\n",
    "            constraint_matrix[q, r * (r + i - 1) + j + r * int(j * (2 * r - j - 3) / 2.0)] = 1.0\n",
    "            q = q + 1\n",
    "\n",
    "    # Set coefficients adorning terms like a_ia_ja_k to be antisymmetric\n",
    "    for i in range(r):\n",
    "        for j in range(i + 1, r):\n",
    "            for k in range(j + 1, r):\n",
    "                constraint_matrix[q, r * (r + k - 1) + i + r * int(j * (2 * r - j - 3) / 2.0)] = 1.0\n",
    "                constraint_matrix[q, r * (r + k - 1) + j + r * int(i * (2 * r - i - 3) / 2.0)] = 1.0\n",
    "                constraint_matrix[q, r * (r + j - 1) + k + r * int(i * (2 * r - i - 3) / 2.0)] = 1.0\n",
    "                q = q + 1\n",
    "                \n",
    "    return constraint_zeros, constraint_matrix\n",
    "    \n",
    "\n",
    "# Make the projection tensors used for the algorithm\n",
    "def make_Ptensor(r):\n",
    "    N = int((r ** 2 + 3 * r) / 2.0)\n",
    "\n",
    "    # delta_{il}delta_{jk}\n",
    "    PL_tensor = np.zeros((r, r, r, N))\n",
    "    PL_tensor_unsym = np.zeros((r, r, r, N))\n",
    "    for i in range(r):\n",
    "        for j in range(r):\n",
    "            for k in range(r):\n",
    "                for l in range(N):\n",
    "                    if i == l and j == k:\n",
    "                        PL_tensor_unsym[i, j, k, l] = 1.0\n",
    "\n",
    "    # Now symmetrize PL\n",
    "    for i in range(r):\n",
    "        for j in range(N):\n",
    "            PL_tensor[:, :, i, j] = 0.5 * (PL_tensor_unsym[:, :, i, j] + PL_tensor_unsym[:, :, i, j].T)\n",
    "\n",
    "    # if j == k, delta_{il}delta_{N-r+j,n}\n",
    "    # if j != k, delta_{il}delta_{r+j+k-1,n}\n",
    "    PQ_tensor = np.zeros((r, r, r, r, N))\n",
    "    for i in range(r):\n",
    "        for j in range(r):\n",
    "            for k in range(r):\n",
    "                for l in range(r):\n",
    "                    for n in range(N):\n",
    "                        if (j == k) and (n == N - r + j) and (i == l):\n",
    "                            PQ_tensor[i, j, k, l, n] = 1.0\n",
    "                        if (j != k) and (n == r + j + k - 1) and (i == l):\n",
    "                            PQ_tensor[i, j, k, l, n] = 1.0 / 2.0\n",
    "        \n",
    "    return PL_tensor_unsym, PL_tensor, PQ_tensor\n",
    "    \n",
    "\n",
    "# Plot first three modes in 3D for ground truth and SINDy prediction\n",
    "def make_3d_plots(x_test, x_test_pred, filename):\n",
    "    fig, ax = plt.subplots(1, 1, subplot_kw={'projection': '3d'}, figsize=(8,8))\n",
    "    if filename == 'VonKarman':\n",
    "        ind = -1\n",
    "    else:\n",
    "        ind = 2\n",
    "    plt.plot(x_test[:, 0], x_test[:, 1], x_test[:, ind], 'r')\n",
    "    plt.plot(x_test_pred[:, 0], x_test_pred[:, 1], x_test_pred[:, ind], 'k')\n",
    "    ax = plt.gca()\n",
    "    ax.set_xticklabels([])\n",
    "    ax.set_yticklabels([])\n",
    "    ax.set_zticklabels([])\n",
    "    ax.set_axis_off()\n",
    "    plt.savefig(filename + '_3d.pdf')"
   ]
  },
  {
   "cell_type": "code",
   "execution_count": 8,
   "metadata": {},
   "outputs": [
    {
     "name": "stdout",
     "output_type": "stream",
     "text": [
      "0\n",
      "x' = -0.813 x + 3.782 y + -0.376 z + 0.010 xy + -0.236 xz + 0.152 yz + -0.080 xx + 0.020 yy + 0.010 zz\n",
      "y' = 19.083 x + 5.526 y + -0.067 z + -0.010 xy + -0.746 xz + -0.189 yz + -0.066 xx + 0.013 yy + 0.011 zz\n",
      "z' = -4.725 x + 2.582 y + -3.184 z + 0.980 xy + 0.128 xz + -0.074 yz + -0.128 xx + 0.069 yy + 0.027 zz\n",
      "1\n",
      "x' = 1.128 x + 5.194 y + -0.457 z + -0.248 xy + -0.291 xz + 0.100 yz + 0.080 xx + 0.152 yy + 0.011 zz\n",
      "y' = 17.296 x + 4.613 y + -0.700 z + 0.132 xy + -0.700 xz + -0.143 yz + -0.203 xx + 0.001 yy + 0.037 zz\n",
      "z' = -1.537 x + 1.455 y + -2.961 z + 0.650 xy + 0.080 xz + -0.075 yz + 0.096 xx + 0.188 yy + 0.011 zz\n",
      "2\n",
      "x' = 3.208 x + 1.494 y + 0.156 z + -0.337 xy + -0.341 xz + 0.229 yz + 0.216 xx + 0.150 yy + -0.016 zz\n",
      "y' = 16.328 x + 5.327 y + 0.113 z + 0.113 xy + -0.666 xz + -0.173 yz + -0.040 xx + -0.071 yy + -0.001 zz\n",
      "z' = -2.018 x + 1.318 y + -2.586 z + 0.934 xy + 0.050 xz + -0.040 yz + -0.056 xx + 0.049 yy + 0.007 zz\n",
      "3\n",
      "x' = -3.050 x + 6.384 y + -0.135 z + -0.275 xy + -0.174 xz + 0.083 yz + 0.161 xx + 0.118 yy + -0.003 zz\n",
      "y' = 20.318 x + 4.142 y + -0.870 z + 0.296 xy + -0.784 xz + -0.149 yz + -0.335 xx + -0.061 yy + 0.040 zz\n",
      "z' = -6.340 x + 4.883 y + -2.865 z + 0.763 xy + 0.188 xz + -0.166 yz + 0.039 xx + 0.134 yy + 0.012 zz\n",
      "4\n",
      "x' = -1.702 x + 5.052 y + -0.579 z + 0.151 xy + -0.205 xz + 0.105 yz + -0.194 xx + -0.010 yy + 0.029 zz\n",
      "y' = 19.575 x + 3.648 y + -0.165 z + -0.105 xy + -0.787 xz + -0.110 yz + 0.049 xx + 0.055 yy + 0.010 zz\n",
      "z' = -2.789 x + 1.612 y + -2.571 z + 0.940 xy + 0.078 xz + -0.051 yz + -0.010 xx + 0.014 yy + 0.003 zz\n",
      "5\n",
      "x' = -2.032 x + 4.978 y + 0.683 z + -0.084 xy + -0.239 xz + 0.153 yz + 0.117 xx + -0.029 zz\n",
      "y' = 13.329 x + 8.414 y + -0.692 z + 0.091 xy + -0.566 xz + -0.286 yz + -0.133 xx + 0.033 zz\n",
      "z' = -1.759 x + 0.736 y + -2.878 z + 0.822 xy + 0.042 xz + -0.014 yz + 0.118 yy + 0.012 zz\n",
      "6\n",
      "x' = -3.251 x + 6.307 y + 0.138 z + 0.069 xy + -0.163 xz + 0.068 yz + -0.046 yy + -0.005 zz\n",
      "y' = 18.169 x + 4.837 y + -0.187 z + 0.046 xy + -0.738 xz + -0.140 yz + -0.069 xx + 0.011 zz\n",
      "z' = -0.040 x + 0.067 y + -2.835 z + 0.670 xy + 0.005 xz + -0.011 yz + 0.163 xx + 0.140 yy\n",
      "7\n",
      " Iteration | Data Error | Stability Error |   L1 Error\n",
      "           0  2.41101e+08  1.15653e+03  0.00000e+00\n",
      "         500  2.41101e+08  4.77971e+00  0.00000e+00\n",
      "        1000  2.41101e+08  6.74114e-01  0.00000e+00\n",
      "        1500  2.41101e+08  1.69699e-01  0.00000e+00\n",
      "        2000  2.41101e+08  5.26223e-02  0.00000e+00\n",
      "        2500  2.41101e+08  1.80225e-02  0.00000e+00\n",
      "        3000  2.41101e+08  6.51150e-03  0.00000e+00\n",
      "        3500  2.41101e+08  2.42573e-03  0.00000e+00\n",
      "        4000  2.41101e+08  9.20209e-04  0.00000e+00\n",
      "        4500  2.41101e+08  3.52941e-04  0.00000e+00\n"
     ]
    },
    {
     "name": "stderr",
     "output_type": "stream",
     "text": [
      "/media/akaptano/HITSI-Work/pysindy/pysindy/optimizers/trapping_sr3.py:620: ConvergenceWarning: TrappingSR3._reduce did not converge after 5000 iters.\n",
      "  ConvergenceWarning,\n"
     ]
    },
    {
     "name": "stdout",
     "output_type": "stream",
     "text": [
      " Iteration | Data Error | Stability Error |   L1 Error\n",
      "           0  2.37270e+08  1.19892e+03  0.00000e+00\n",
      "         500  2.37270e+08  1.94241e+00  0.00000e+00\n",
      "        1000  2.37270e+08  8.88048e-02  0.00000e+00\n",
      "        1500  2.37270e+08  6.21521e-03  0.00000e+00\n",
      "        2000  2.37270e+08  4.79541e-04  0.00000e+00\n",
      "        2500  2.37270e+08  3.79784e-05  0.00000e+00\n",
      "        3000  2.37270e+08  3.02976e-06  0.00000e+00\n",
      "        3500  2.37270e+08  2.42197e-07  0.00000e+00\n",
      "        4000  2.37270e+08  1.93723e-08  0.00000e+00\n",
      "        4500  2.37270e+08  1.54976e-09  0.00000e+00\n"
     ]
    },
    {
     "name": "stderr",
     "output_type": "stream",
     "text": [
      "/media/akaptano/HITSI-Work/pysindy/pysindy/optimizers/trapping_sr3.py:620: ConvergenceWarning: TrappingSR3._reduce did not converge after 5000 iters.\n",
      "  ConvergenceWarning,\n"
     ]
    },
    {
     "name": "stdout",
     "output_type": "stream",
     "text": [
      " Iteration | Data Error | Stability Error |   L1 Error\n",
      "           0  2.37270e+08  1.19892e+03  0.00000e+00\n",
      "         500  2.37270e+08  1.94241e+00  0.00000e+00\n",
      "        1000  2.37270e+08  8.88048e-02  0.00000e+00\n",
      "        1500  2.37270e+08  6.21521e-03  0.00000e+00\n",
      "        2000  2.37270e+08  4.79541e-04  0.00000e+00\n",
      "        2500  2.37270e+08  3.79784e-05  0.00000e+00\n",
      "        3000  2.37270e+08  3.02976e-06  0.00000e+00\n",
      "        3500  2.37270e+08  2.42197e-07  0.00000e+00\n",
      "        4000  2.37270e+08  1.93723e-08  0.00000e+00\n",
      "        4500  2.37270e+08  1.54976e-09  0.00000e+00\n"
     ]
    },
    {
     "name": "stderr",
     "output_type": "stream",
     "text": [
      "/media/akaptano/HITSI-Work/pysindy/pysindy/optimizers/trapping_sr3.py:620: ConvergenceWarning: TrappingSR3._reduce did not converge after 5000 iters.\n",
      "  ConvergenceWarning,\n"
     ]
    },
    {
     "name": "stdout",
     "output_type": "stream",
     "text": [
      " Iteration | Data Error | Stability Error |   L1 Error\n",
      "           0  2.37270e+08  1.19892e+03  0.00000e+00\n",
      "         500  2.37270e+08  1.94241e+00  0.00000e+00\n",
      "        1000  2.37270e+08  8.88048e-02  0.00000e+00\n",
      "        1500  2.37270e+08  6.21521e-03  0.00000e+00\n",
      "        2000  2.37270e+08  4.79541e-04  0.00000e+00\n",
      "        2500  2.37270e+08  3.79784e-05  0.00000e+00\n",
      "        3000  2.37270e+08  3.02976e-06  0.00000e+00\n",
      "        3500  2.37270e+08  2.42197e-07  0.00000e+00\n",
      "        4000  2.37270e+08  1.93723e-08  0.00000e+00\n",
      "        4500  2.37270e+08  1.54976e-09  0.00000e+00\n"
     ]
    },
    {
     "name": "stderr",
     "output_type": "stream",
     "text": [
      "/media/akaptano/HITSI-Work/pysindy/pysindy/optimizers/trapping_sr3.py:620: ConvergenceWarning: TrappingSR3._reduce did not converge after 5000 iters.\n",
      "  ConvergenceWarning,\n"
     ]
    },
    {
     "name": "stdout",
     "output_type": "stream",
     "text": [
      " Iteration | Data Error | Stability Error |   L1 Error\n",
      "           0  2.37270e+08  1.19892e+03  0.00000e+00\n",
      "         500  2.37270e+08  1.94241e+00  0.00000e+00\n",
      "        1000  2.37270e+08  8.88048e-02  0.00000e+00\n",
      "        1500  2.37270e+08  6.21521e-03  0.00000e+00\n",
      "        2000  2.37270e+08  4.79541e-04  0.00000e+00\n",
      "        2500  2.37270e+08  3.79784e-05  0.00000e+00\n",
      "        3000  2.37270e+08  3.02976e-06  0.00000e+00\n",
      "        3500  2.37270e+08  2.42197e-07  0.00000e+00\n",
      "        4000  2.37270e+08  1.93723e-08  0.00000e+00\n",
      "        4500  2.37270e+08  1.54976e-09  0.00000e+00\n"
     ]
    },
    {
     "name": "stderr",
     "output_type": "stream",
     "text": [
      "/media/akaptano/HITSI-Work/pysindy/pysindy/optimizers/trapping_sr3.py:620: ConvergenceWarning: TrappingSR3._reduce did not converge after 5000 iters.\n",
      "  ConvergenceWarning,\n"
     ]
    },
    {
     "name": "stdout",
     "output_type": "stream",
     "text": [
      " Iteration | Data Error | Stability Error |   L1 Error\n",
      "           0  2.37270e+08  1.19892e+03  0.00000e+00\n",
      "         500  2.37270e+08  1.94241e+00  0.00000e+00\n",
      "        1000  2.37270e+08  8.88048e-02  0.00000e+00\n",
      "        1500  2.37270e+08  6.21521e-03  0.00000e+00\n",
      "        2000  2.37270e+08  4.79541e-04  0.00000e+00\n",
      "        2500  2.37270e+08  3.79784e-05  0.00000e+00\n",
      "        3000  2.37270e+08  3.02976e-06  0.00000e+00\n",
      "        3500  2.37270e+08  2.42197e-07  0.00000e+00\n",
      "        4000  2.37270e+08  1.93723e-08  0.00000e+00\n",
      "        4500  2.37270e+08  1.54976e-09  0.00000e+00\n"
     ]
    },
    {
     "name": "stderr",
     "output_type": "stream",
     "text": [
      "/media/akaptano/HITSI-Work/pysindy/pysindy/optimizers/trapping_sr3.py:620: ConvergenceWarning: TrappingSR3._reduce did not converge after 5000 iters.\n",
      "  ConvergenceWarning,\n"
     ]
    },
    {
     "name": "stdout",
     "output_type": "stream",
     "text": [
      " Iteration | Data Error | Stability Error |   L1 Error\n",
      "           0  2.37270e+08  1.19892e+03  0.00000e+00\n",
      "         500  2.37270e+08  1.94241e+00  0.00000e+00\n",
      "        1000  2.37270e+08  8.88048e-02  0.00000e+00\n",
      "        1500  2.37270e+08  6.21521e-03  0.00000e+00\n",
      "        2000  2.37270e+08  4.79541e-04  0.00000e+00\n",
      "        2500  2.37270e+08  3.79784e-05  0.00000e+00\n",
      "        3000  2.37270e+08  3.02976e-06  0.00000e+00\n",
      "        3500  2.37270e+08  2.42197e-07  0.00000e+00\n",
      "        4000  2.37270e+08  1.93723e-08  0.00000e+00\n",
      "        4500  2.37270e+08  1.54976e-09  0.00000e+00\n"
     ]
    },
    {
     "name": "stderr",
     "output_type": "stream",
     "text": [
      "/media/akaptano/HITSI-Work/pysindy/pysindy/optimizers/trapping_sr3.py:620: ConvergenceWarning: TrappingSR3._reduce did not converge after 5000 iters.\n",
      "  ConvergenceWarning,\n"
     ]
    },
    {
     "name": "stdout",
     "output_type": "stream",
     "text": [
      " Iteration | Data Error | Stability Error |   L1 Error\n",
      "           0  2.37270e+08  1.19892e+03  0.00000e+00\n",
      "         500  2.37270e+08  1.94241e+00  0.00000e+00\n",
      "        1000  2.37270e+08  8.88048e-02  0.00000e+00\n",
      "        1500  2.37270e+08  6.21521e-03  0.00000e+00\n",
      "        2000  2.37270e+08  4.79541e-04  0.00000e+00\n",
      "        2500  2.37270e+08  3.79784e-05  0.00000e+00\n",
      "        3000  2.37270e+08  3.02976e-06  0.00000e+00\n",
      "        3500  2.37270e+08  2.42197e-07  0.00000e+00\n",
      "        4000  2.37270e+08  1.93723e-08  0.00000e+00\n",
      "        4500  2.37270e+08  1.54976e-09  0.00000e+00\n"
     ]
    },
    {
     "name": "stderr",
     "output_type": "stream",
     "text": [
      "/media/akaptano/HITSI-Work/pysindy/pysindy/optimizers/trapping_sr3.py:620: ConvergenceWarning: TrappingSR3._reduce did not converge after 5000 iters.\n",
      "  ConvergenceWarning,\n"
     ]
    },
    {
     "name": "stdout",
     "output_type": "stream",
     "text": [
      " Iteration | Data Error | Stability Error |   L1 Error\n",
      "           0  2.37270e+08  1.19892e+03  0.00000e+00\n",
      "         500  2.37270e+08  1.94241e+00  0.00000e+00\n",
      "        1000  2.37270e+08  8.88048e-02  0.00000e+00\n",
      "        1500  2.37270e+08  6.21521e-03  0.00000e+00\n",
      "        2000  2.37270e+08  4.79541e-04  0.00000e+00\n",
      "        2500  2.37270e+08  3.79784e-05  0.00000e+00\n",
      "        3000  2.37270e+08  3.02976e-06  0.00000e+00\n",
      "        3500  2.37270e+08  2.42197e-07  0.00000e+00\n",
      "        4000  2.37270e+08  1.93723e-08  0.00000e+00\n",
      "        4500  2.37270e+08  1.54976e-09  0.00000e+00\n"
     ]
    },
    {
     "name": "stderr",
     "output_type": "stream",
     "text": [
      "/media/akaptano/HITSI-Work/pysindy/pysindy/optimizers/trapping_sr3.py:620: ConvergenceWarning: TrappingSR3._reduce did not converge after 5000 iters.\n",
      "  ConvergenceWarning,\n"
     ]
    },
    {
     "name": "stdout",
     "output_type": "stream",
     "text": [
      " Iteration | Data Error | Stability Error |   L1 Error\n",
      "           0  2.37270e+08  1.19892e+03  0.00000e+00\n",
      "         500  2.37270e+08  1.94241e+00  0.00000e+00\n",
      "        1000  2.37270e+08  8.88048e-02  0.00000e+00\n",
      "        1500  2.37270e+08  6.21521e-03  0.00000e+00\n",
      "        2000  2.37270e+08  4.79541e-04  0.00000e+00\n",
      "        2500  2.37270e+08  3.79784e-05  0.00000e+00\n",
      "        3000  2.37270e+08  3.02976e-06  0.00000e+00\n",
      "        3500  2.37270e+08  2.42197e-07  0.00000e+00\n",
      "        4000  2.37270e+08  1.93723e-08  0.00000e+00\n",
      "        4500  2.37270e+08  1.54976e-09  0.00000e+00\n"
     ]
    },
    {
     "name": "stderr",
     "output_type": "stream",
     "text": [
      "/media/akaptano/HITSI-Work/pysindy/pysindy/optimizers/trapping_sr3.py:620: ConvergenceWarning: TrappingSR3._reduce did not converge after 5000 iters.\n",
      "  ConvergenceWarning,\n"
     ]
    },
    {
     "name": "stdout",
     "output_type": "stream",
     "text": [
      " Iteration | Data Error | Stability Error |   L1 Error\n",
      "           0  2.37270e+08  1.19892e+03  0.00000e+00\n",
      "         500  2.37270e+08  1.94241e+00  0.00000e+00\n",
      "        1000  2.37270e+08  8.88048e-02  0.00000e+00\n",
      "        1500  2.37270e+08  6.21521e-03  0.00000e+00\n",
      "        2000  2.37270e+08  4.79541e-04  0.00000e+00\n",
      "        2500  2.37270e+08  3.79784e-05  0.00000e+00\n",
      "        3000  2.37270e+08  3.02976e-06  0.00000e+00\n",
      "        3500  2.37270e+08  2.42197e-07  0.00000e+00\n",
      "        4000  2.37270e+08  1.93723e-08  0.00000e+00\n",
      "        4500  2.37270e+08  1.54976e-09  0.00000e+00\n"
     ]
    },
    {
     "name": "stderr",
     "output_type": "stream",
     "text": [
      "/media/akaptano/HITSI-Work/pysindy/pysindy/optimizers/trapping_sr3.py:620: ConvergenceWarning: TrappingSR3._reduce did not converge after 5000 iters.\n",
      "  ConvergenceWarning,\n"
     ]
    },
    {
     "name": "stdout",
     "output_type": "stream",
     "text": [
      " Iteration | Data Error | Stability Error |   L1 Error\n",
      "           0  2.37270e+08  1.19892e+03  0.00000e+00\n",
      "         500  2.37270e+08  1.94241e+00  0.00000e+00\n",
      "        1000  2.37270e+08  8.88048e-02  0.00000e+00\n",
      "        1500  2.37270e+08  6.21521e-03  0.00000e+00\n",
      "        2000  2.37270e+08  4.79541e-04  0.00000e+00\n",
      "        2500  2.37270e+08  3.79784e-05  0.00000e+00\n",
      "        3000  2.37270e+08  3.02976e-06  0.00000e+00\n",
      "        3500  2.37270e+08  2.42197e-07  0.00000e+00\n",
      "        4000  2.37270e+08  1.93723e-08  0.00000e+00\n",
      "        4500  2.37270e+08  1.54976e-09  0.00000e+00\n"
     ]
    },
    {
     "name": "stderr",
     "output_type": "stream",
     "text": [
      "/media/akaptano/HITSI-Work/pysindy/pysindy/optimizers/trapping_sr3.py:620: ConvergenceWarning: TrappingSR3._reduce did not converge after 5000 iters.\n",
      "  ConvergenceWarning,\n"
     ]
    },
    {
     "name": "stdout",
     "output_type": "stream",
     "text": [
      " Iteration | Data Error | Stability Error |   L1 Error\n",
      "           0  2.37270e+08  1.19892e+03  0.00000e+00\n",
      "         500  2.37270e+08  1.94241e+00  0.00000e+00\n",
      "        1000  2.37270e+08  8.88048e-02  0.00000e+00\n",
      "        1500  2.37270e+08  6.21521e-03  0.00000e+00\n",
      "        2000  2.37270e+08  4.79541e-04  0.00000e+00\n",
      "        2500  2.37270e+08  3.79784e-05  0.00000e+00\n",
      "        3000  2.37270e+08  3.02976e-06  0.00000e+00\n",
      "        3500  2.37270e+08  2.42197e-07  0.00000e+00\n",
      "        4000  2.37270e+08  1.93723e-08  0.00000e+00\n",
      "        4500  2.37270e+08  1.54976e-09  0.00000e+00\n"
     ]
    },
    {
     "name": "stderr",
     "output_type": "stream",
     "text": [
      "/media/akaptano/HITSI-Work/pysindy/pysindy/optimizers/trapping_sr3.py:620: ConvergenceWarning: TrappingSR3._reduce did not converge after 5000 iters.\n",
      "  ConvergenceWarning,\n"
     ]
    },
    {
     "name": "stdout",
     "output_type": "stream",
     "text": [
      " Iteration | Data Error | Stability Error |   L1 Error\n",
      "           0  2.37270e+08  1.19892e+03  0.00000e+00\n",
      "         500  2.37270e+08  1.94241e+00  0.00000e+00\n",
      "        1000  2.37270e+08  8.88048e-02  0.00000e+00\n",
      "        1500  2.37270e+08  6.21521e-03  0.00000e+00\n",
      "        2000  2.37270e+08  4.79541e-04  0.00000e+00\n",
      "        2500  2.37270e+08  3.79784e-05  0.00000e+00\n",
      "        3000  2.37270e+08  3.02976e-06  0.00000e+00\n",
      "        3500  2.37270e+08  2.42197e-07  0.00000e+00\n",
      "        4000  2.37270e+08  1.93723e-08  0.00000e+00\n",
      "        4500  2.37270e+08  1.54976e-09  0.00000e+00\n"
     ]
    },
    {
     "name": "stderr",
     "output_type": "stream",
     "text": [
      "/media/akaptano/HITSI-Work/pysindy/pysindy/optimizers/trapping_sr3.py:620: ConvergenceWarning: TrappingSR3._reduce did not converge after 5000 iters.\n",
      "  ConvergenceWarning,\n"
     ]
    },
    {
     "name": "stdout",
     "output_type": "stream",
     "text": [
      " Iteration | Data Error | Stability Error |   L1 Error\n",
      "           0  2.37270e+08  1.19892e+03  0.00000e+00\n",
      "         500  2.37270e+08  1.94241e+00  0.00000e+00\n",
      "        1000  2.37270e+08  8.88048e-02  0.00000e+00\n",
      "        1500  2.37270e+08  6.21521e-03  0.00000e+00\n",
      "        2000  2.37270e+08  4.79541e-04  0.00000e+00\n",
      "        2500  2.37270e+08  3.79784e-05  0.00000e+00\n",
      "        3000  2.37270e+08  3.02976e-06  0.00000e+00\n",
      "        3500  2.37270e+08  2.42197e-07  0.00000e+00\n",
      "        4000  2.37270e+08  1.93723e-08  0.00000e+00\n",
      "        4500  2.37270e+08  1.54976e-09  0.00000e+00\n"
     ]
    },
    {
     "name": "stderr",
     "output_type": "stream",
     "text": [
      "/media/akaptano/HITSI-Work/pysindy/pysindy/optimizers/trapping_sr3.py:620: ConvergenceWarning: TrappingSR3._reduce did not converge after 5000 iters.\n",
      "  ConvergenceWarning,\n"
     ]
    },
    {
     "name": "stdout",
     "output_type": "stream",
     "text": [
      " Iteration | Data Error | Stability Error |   L1 Error\n",
      "           0  2.37270e+08  1.19892e+03  0.00000e+00\n",
      "         500  2.37270e+08  1.94241e+00  0.00000e+00\n",
      "        1000  2.37270e+08  8.88048e-02  0.00000e+00\n",
      "        1500  2.37270e+08  6.21521e-03  0.00000e+00\n",
      "        2000  2.37270e+08  4.79541e-04  0.00000e+00\n",
      "        2500  2.37270e+08  3.79784e-05  0.00000e+00\n",
      "        3000  2.37270e+08  3.02976e-06  0.00000e+00\n",
      "        3500  2.37270e+08  2.42197e-07  0.00000e+00\n",
      "        4000  2.37270e+08  1.93723e-08  0.00000e+00\n",
      "        4500  2.37270e+08  1.54976e-09  0.00000e+00\n"
     ]
    },
    {
     "name": "stderr",
     "output_type": "stream",
     "text": [
      "/media/akaptano/HITSI-Work/pysindy/pysindy/optimizers/trapping_sr3.py:620: ConvergenceWarning: TrappingSR3._reduce did not converge after 5000 iters.\n",
      "  ConvergenceWarning,\n"
     ]
    },
    {
     "name": "stdout",
     "output_type": "stream",
     "text": [
      " Iteration | Data Error | Stability Error |   L1 Error\n",
      "           0  2.37270e+08  1.19892e+03  0.00000e+00\n",
      "         500  2.37270e+08  1.94241e+00  0.00000e+00\n",
      "        1000  2.37270e+08  8.88048e-02  0.00000e+00\n",
      "        1500  2.37270e+08  6.21521e-03  0.00000e+00\n",
      "        2000  2.37270e+08  4.79541e-04  0.00000e+00\n",
      "        2500  2.37270e+08  3.79784e-05  0.00000e+00\n",
      "        3000  2.37270e+08  3.02976e-06  0.00000e+00\n",
      "        3500  2.37270e+08  2.42197e-07  0.00000e+00\n",
      "        4000  2.37270e+08  1.93723e-08  0.00000e+00\n",
      "        4500  2.37270e+08  1.54976e-09  0.00000e+00\n"
     ]
    },
    {
     "name": "stderr",
     "output_type": "stream",
     "text": [
      "/media/akaptano/HITSI-Work/pysindy/pysindy/optimizers/trapping_sr3.py:620: ConvergenceWarning: TrappingSR3._reduce did not converge after 5000 iters.\n",
      "  ConvergenceWarning,\n"
     ]
    },
    {
     "name": "stdout",
     "output_type": "stream",
     "text": [
      " Iteration | Data Error | Stability Error |   L1 Error\n",
      "           0  2.37270e+08  1.19892e+03  0.00000e+00\n",
      "         500  2.37270e+08  1.94241e+00  0.00000e+00\n",
      "        1000  2.37270e+08  8.88048e-02  0.00000e+00\n",
      "        1500  2.37270e+08  6.21521e-03  0.00000e+00\n",
      "        2000  2.37270e+08  4.79541e-04  0.00000e+00\n",
      "        2500  2.37270e+08  3.79784e-05  0.00000e+00\n",
      "        3000  2.37270e+08  3.02976e-06  0.00000e+00\n",
      "        3500  2.37270e+08  2.42197e-07  0.00000e+00\n",
      "        4000  2.37270e+08  1.93723e-08  0.00000e+00\n",
      "        4500  2.37270e+08  1.54976e-09  0.00000e+00\n"
     ]
    },
    {
     "name": "stderr",
     "output_type": "stream",
     "text": [
      "/media/akaptano/HITSI-Work/pysindy/pysindy/optimizers/trapping_sr3.py:620: ConvergenceWarning: TrappingSR3._reduce did not converge after 5000 iters.\n",
      "  ConvergenceWarning,\n"
     ]
    },
    {
     "name": "stdout",
     "output_type": "stream",
     "text": [
      " Iteration | Data Error | Stability Error |   L1 Error\n",
      "           0  2.37270e+08  1.19892e+03  0.00000e+00\n",
      "         500  2.37270e+08  1.94241e+00  0.00000e+00\n",
      "        1000  2.37270e+08  8.88048e-02  0.00000e+00\n",
      "        1500  2.37270e+08  6.21521e-03  0.00000e+00\n",
      "        2000  2.37270e+08  4.79541e-04  0.00000e+00\n",
      "        2500  2.37270e+08  3.79784e-05  0.00000e+00\n",
      "        3000  2.37270e+08  3.02976e-06  0.00000e+00\n",
      "        3500  2.37270e+08  2.42197e-07  0.00000e+00\n",
      "        4000  2.37270e+08  1.93723e-08  0.00000e+00\n",
      "        4500  2.37270e+08  1.54976e-09  0.00000e+00\n"
     ]
    },
    {
     "name": "stderr",
     "output_type": "stream",
     "text": [
      "/media/akaptano/HITSI-Work/pysindy/pysindy/optimizers/trapping_sr3.py:620: ConvergenceWarning: TrappingSR3._reduce did not converge after 5000 iters.\n",
      "  ConvergenceWarning,\n"
     ]
    },
    {
     "name": "stdout",
     "output_type": "stream",
     "text": [
      " Iteration | Data Error | Stability Error |   L1 Error\n",
      "           0  2.37270e+08  1.19892e+03  0.00000e+00\n",
      "         500  2.37270e+08  1.94241e+00  0.00000e+00\n",
      "        1000  2.37270e+08  8.88048e-02  0.00000e+00\n",
      "        1500  2.37270e+08  6.21521e-03  0.00000e+00\n",
      "        2000  2.37270e+08  4.79541e-04  0.00000e+00\n",
      "        2500  2.37270e+08  3.79784e-05  0.00000e+00\n",
      "        3000  2.37270e+08  3.02976e-06  0.00000e+00\n",
      "        3500  2.37270e+08  2.42197e-07  0.00000e+00\n",
      "        4000  2.37270e+08  1.93723e-08  0.00000e+00\n",
      "        4500  2.37270e+08  1.54976e-09  0.00000e+00\n",
      "x' = -0.545 x + 5.644 y + -0.026 z + 0.112 xy + -0.224 xz + 0.075 yz + -0.059 yy + -0.004 zz\n",
      "y' = 15.031 x + 5.936 y + 0.056 z + 0.059 xy + -0.636 xz + -0.191 yz + -0.112 xx + 0.006 zz\n",
      "z' = 0.373 x + -0.241 y + -2.892 z + 0.561 xy + 0.004 xz + -0.006 yz + 0.224 xx + 0.191 yy\n"
     ]
    },
    {
     "name": "stderr",
     "output_type": "stream",
     "text": [
      "/media/akaptano/HITSI-Work/pysindy/pysindy/optimizers/trapping_sr3.py:620: ConvergenceWarning: TrappingSR3._reduce did not converge after 5000 iters.\n",
      "  ConvergenceWarning,\n"
     ]
    }
   ],
   "source": [
    "dt = 0.005\n",
    "T = 40\n",
    "t = np.arange(0, T + dt, dt)\n",
    "r = 3\n",
    "PL_tensor_unsym, PL_tensor, PQ_tensor = make_Ptensor(r)\n",
    "constraint_zeros, constraint_matrix = make_constraints(r)\n",
    "# initial value of the training trajectories\n",
    "x0 = [1, -1, 20]\n",
    "# sparsity thresholds to try\n",
    "thresholds = [0.0]\n",
    "# going to sample from Gaussians with variance 4\n",
    "variance = 1.0\n",
    "# define the clean training data\n",
    "x_orig = odeint(lorenz, x0, t)\n",
    "noise = np.random.normal(0.0, variance, x_orig.shape)\n",
    "x_train = x_orig + noise\n",
    "x0_test = (np.random.rand(3) - 0.5) * 200\n",
    "\n",
    "# Initialize quadratic SINDy library, with custom ordering to be consistent with the constraint\n",
    "library_functions = [lambda x:x, lambda x, y:x * y, lambda x:x ** 2]\n",
    "library_function_names = [lambda x:x, lambda x, y:x + y, lambda x:x + x]\n",
    "sindy_library = ps.CustomLibrary(library_functions=library_functions, function_names=library_function_names)\n",
    "feature_names = ['x', 'y', 'z']\n",
    "\n",
    "# loop over threshold list\n",
    "opt_coef_list = np.zeros((8, 20, 3, 9))\n",
    "for i in range(8):\n",
    "    print(i)\n",
    "    if i == 0: \n",
    "        sindy_opt = ps.STLSQ(threshold=0, normalize_columns=True, max_iter=100)\n",
    "    if i == 1: \n",
    "        sindy_opt = ps.SR3(threshold=0, normalize_columns=True, thresholder='l0', max_iter=500)\n",
    "    if i == 2:\n",
    "        sindy_opt = ps.SR3(threshold=0, normalize_columns=True, thresholder='l1', max_iter=500)\n",
    "    if i == 3:\n",
    "        sindy_opt = ps.SSR(normalize_columns=True, L0_penalty=1e-3)\n",
    "    if i == 4:\n",
    "        sindy_opt = ps.SSR(normalize_columns=True, criteria='model_residual', L0_penalty=1e-3)\n",
    "    if i == 5:\n",
    "        sindy_opt = ps.FROLS(normalize_columns=True, L0_penalty=1e-3)\n",
    "    if i == 6:\n",
    "        sindy_opt = ps.ConstrainedSR3(threshold=0, max_iter=5000, tol=1e-10,\n",
    "                           constraint_lhs=constraint_matrix,\n",
    "                           constraint_rhs=constraint_zeros,\n",
    "                           constraint_order=\"feature\")\n",
    "    if i == 7:\n",
    "        eta = 1.0e-1\n",
    "        alpha_m = 5e-2 * eta\n",
    "        alpha_A = 1.0 * eta\n",
    "        sindy_opt = ps.TrappingSR3(threshold=0, eta=eta, alpha_m=alpha_m, alpha_A=alpha_A, \n",
    "                           tol_m=1e-10,\n",
    "                           PL=PL_tensor, PQ=PQ_tensor, max_iter=5000, tol=1e-10,\n",
    "                           gamma=-1,\n",
    "                           constraint_lhs=constraint_matrix,\n",
    "                           constraint_rhs=constraint_zeros,\n",
    "                           constraint_order=\"feature\",\n",
    "                           )\n",
    "    model = ps.SINDy(\n",
    "        feature_names=feature_names,\n",
    "        optimizer=sindy_opt,\n",
    "        feature_library=sindy_library,\n",
    "    )\n",
    "    model.fit(x_train, t=t, ensemble=True)\n",
    "    opt_coef_list[i, :, :, :] = model.coef_list\n",
    "    model.print()"
   ]
  },
  {
   "cell_type": "code",
   "execution_count": 9,
   "metadata": {},
   "outputs": [
    {
     "name": "stdout",
     "output_type": "stream",
     "text": [
      "0 5 -2.193701256905031 [57.34643159 -4.2366935  36.11023035]\n",
      "0 7 -3.0895305428309783 [500.         -17.83003582 277.20971816]\n",
      "1 0 -7.56113609376102 [500.         -32.06991903 325.62524561]\n",
      "1 1 -1.379295931996989 [43.18251002 -3.15239132 40.42348144]\n",
      "1 2 -0.23815928219526966 [37.99489893  5.02429633 36.16373882]\n",
      "1 3 -2.874199844771793 [ 7.72543146 -3.79536719 41.11356055]\n",
      "1 4 -1.62387348052416 [20.9165179   0.62827289 34.9692769 ]\n",
      "1 7 -0.9382630964713289 [23.40122464 -0.74510892 31.93369042]\n",
      "2 0 -1.5199874430415987 [ 58.65102201 -11.29264763  41.53436084]\n",
      "2 4 -0.6582740439298967 [ 1.67596599  1.78241034 34.3020473 ]\n",
      "2 6 -1.746859029683865 [53.80636306 -5.98303863 34.62992022]\n",
      "2 7 -1.5797397605493104 [ -4.57391413 -10.73666173  47.33776247]\n",
      "3 0 -0.7845825629914273 [85.61496639 -3.84694764 30.95233534]\n",
      "3 3 -0.5161584548574844 [ 5.50049175  3.76400149 37.7558291 ]\n",
      "3 4 -2.752845431276826 [64.33462516  4.20772572 62.1419641 ]\n",
      "3 5 -0.9115380651867414 [104.40335631  -5.92946196  30.86352576]\n",
      "3 6 -6.872432765066439 [ 500.         -231.77001782  270.26492789]\n",
      "4 0 -1.2922432500053689 [327.55275766 -75.85303716 248.37345384]\n",
      "4 2 -0.41207867667564324 [ 68.086199   -36.33523969  62.85440083]\n",
      "4 3 -0.8640120054043013 [37.86940278  1.02498086 33.36312413]\n",
      "4 4 -2.4200110792821885 [59.56604019 10.0163742  75.23664168]\n",
      "5 3 -2.3002294812743767 [33.75426159 -4.53325286 41.76748711]\n",
      "5 4 -2.649595483486534 [54.61091446  7.73431291 68.29347139]\n",
      "5 8 -0.9599152431257594 [19.01657266  3.53896085 32.04839634]\n",
      "6 0 -2.6044114404036334 [ 1.23236039 -4.0493785  46.50863491]\n",
      "6 1 -1.4951967810742954 [-6.02410736 14.10429856 54.65877865]\n",
      "6 2 -0.9177808416915745 [ 60.96368682 -17.16457008  44.95976662]\n",
      "6 3 -1.8136981039079516 [-5.07792622  2.39565676 45.00888051]\n",
      "6 4 -1.7564092682775336 [-10.408816    -1.24554384  42.53242207]\n",
      "6 5 -2.3767220645090608 [ 2.59944367 -7.37326559 50.19870312]\n",
      "6 6 -7.978425480460477 [-500.           54.90610439   86.93879678]\n",
      "6 7 -0.6348349522618778 [-6.51801816 -6.80274599 38.12807485]\n",
      "6 8 -1.4817701051148378 [-82.89844894   8.68884584  41.65596986]\n",
      "6 9 -2.3766530828493813 [-0.46100703  1.97878508 50.39791897]\n",
      "6 mean:  -1.3484122079658787 [-6.38421051  2.08744694 43.92823852]\n",
      "6 median:  -1.070104466832779 [-4.34150135 -9.48724153 40.46664511]\n",
      "7 0 -1.6675027414900845 [-1.32963087 -3.85453476 51.17372147]\n",
      "7 1 -2.345750329362506 [-1.91412393 -5.21587817 46.64859028]\n",
      "7 2 -2.345750329386161 [-2.58956372 -3.49803224 47.74814549]\n",
      "7 3 -2.3457503282459085 [-7.02475956  7.78128083 54.96658895]\n",
      "7 4 -2.3457503235715444 [-2.59446732 -3.4865038  47.75392005]\n",
      "7 5 -2.34575032679073 [-3.21020333 -1.92090168 48.7576352 ]\n",
      "7 6 -2.3457503291898103 [-7.54683155  9.1076606  55.81560679]\n",
      "7 7 -2.345750329441165 [-1.94896176 -5.12699402 46.70556389]\n",
      "7 8 -2.345750329136351 [-6.56327637  6.60712668 54.21536236]\n",
      "7 9 -2.345750329078582 [-2.9083003  -2.68811998 48.26615401]\n",
      "7 mean:  -2.3125000886072264 [-2.1365981  -4.57499592 47.28820691]\n",
      "7 median:  -2.345750329404726 [-6.4731769   6.37765182 54.06835831]\n"
     ]
    }
   ],
   "source": [
    "# Import simulated annealing algorithm for numerically computing the stability of these models\n",
    "from scipy.optimize import dual_annealing as anneal_algo\n",
    "\n",
    "# define the objective function to be minimized by simulated annealing\n",
    "def obj_function(m, L_obj, Q_obj):\n",
    "    As = L_obj - np.tensordot(m, Q_obj,axes=([0], [0]))\n",
    "    eigvals, eigvecs = np.linalg.eigh(As)\n",
    "    return(eigvals[-1])\n",
    "\n",
    "# Search between -500, 500 for each component of m\n",
    "boundvals = np.zeros((r, 2))\n",
    "boundmax = 500\n",
    "boundmin = -500\n",
    "boundvals[:, 0] = boundmin\n",
    "boundvals[:, 1] = boundmax\n",
    "num_stable = np.zeros(8, dtype=int)\n",
    "\n",
    "# Run through all the models and check stability\n",
    "for i in range(8):\n",
    "    for j in range(10):\n",
    "        Xi = opt_coef_list[i, j, :, :]\n",
    "        L = np.tensordot(PL_tensor_unsym, Xi.T, axes=([3, 2], [0, 1]))\n",
    "        Q = np.tensordot(PQ_tensor, Xi.T, axes=([4, 3], [0, 1]))\n",
    "        Ls = 0.5 * (L + L.T)\n",
    "        algo_sol = anneal_algo(obj_function, bounds=boundvals, args=(Ls, Q), maxiter=200)\n",
    "        opt_m = algo_sol.x\n",
    "        opt_energy = algo_sol.fun\n",
    "        # print out results if model is stable (opt_energy < 0)\n",
    "        if opt_energy < 0:\n",
    "            print(i, j, opt_energy, opt_m)\n",
    "            num_stable[i] += 1\n",
    "            \n",
    "    # Check the stability of the mean coefficients for each optimizer\n",
    "    coef_mean = np.mean(opt_coef_list[i, :, :, :], axis=0)\n",
    "    Xi = coef_mean\n",
    "    L = np.tensordot(PL_tensor_unsym, Xi.T, axes=([3, 2], [0, 1]))\n",
    "    Q = np.tensordot(PQ_tensor, Xi.T, axes=([4, 3], [0, 1]))\n",
    "    Ls = 0.5 * (L + L.T)\n",
    "    algo_sol = anneal_algo(obj_function, bounds=boundvals, args=(Ls, Q), maxiter=200)\n",
    "    opt_m = algo_sol.x\n",
    "    opt_energy = algo_sol.fun\n",
    "    opt_result = algo_sol.message\n",
    "    if opt_energy < 0:\n",
    "        print(i, 'mean: ', opt_energy, opt_m)\n",
    "        \n",
    "    # Check the stability of the median coefficients for each optimizer\n",
    "    coef_median = np.median(opt_coef_list[i, :, :, :], axis=0)\n",
    "    Xi = coef_median\n",
    "    L = np.tensordot(PL_tensor_unsym, Xi.T, axes=([3, 2], [0, 1]))\n",
    "    Q = np.tensordot(PQ_tensor, Xi.T, axes=([4, 3], [0, 1]))\n",
    "    Ls = 0.5 * (L + L.T)\n",
    "    algo_sol = anneal_algo(obj_function, bounds=boundvals, args=(Ls, Q), maxiter=200)\n",
    "    opt_m = algo_sol.x\n",
    "    opt_energy = algo_sol.fun\n",
    "    opt_result = algo_sol.message\n",
    "    if opt_energy < 0:\n",
    "        print(i, 'median: ', opt_energy, opt_m)"
   ]
  },
  {
   "cell_type": "code",
   "execution_count": 10,
   "metadata": {},
   "outputs": [
    {
     "data": {
      "image/png": "[encoded data removed]",
      "text/plain": [
       "<Figure size 1728x432 with 8 Axes>"
      ]
     },
     "metadata": {
      "needs_background": "light"
     },
     "output_type": "display_data"
    }
   ],
   "source": [
    "# Plot each optimizer results for the coefficients + error bars\n",
    "colors = ['b', 'r', 'k']\n",
    "plt.figure(figsize=(24, 6))\n",
    "x_sims_mean = np.zeros((8, len(t), 3))\n",
    "x_sims_median = np.zeros((8, len(t), 3))\n",
    "opt_names = ['STLSQ', 'SR3 L0', 'SR3 L1', 'SSR1', 'SSR2', 'FROLS', 'ConstrainedSR3', 'Trapping']\n",
    "for i in range(8):\n",
    "    coef_mean = np.mean(opt_coef_list[i, :, :, :], axis=0)\n",
    "    coef_median = np.median(opt_coef_list[i, :, :, :], axis=0)\n",
    "    coef_std = np.std(opt_coef_list[i, :, :, :], axis=0)\n",
    "    plt.subplot(2, 4, i + 1)\n",
    "    for j in range(3):\n",
    "        plt.errorbar(range(9), coef_mean[j, :], yerr=coef_std[j, :], fmt='o', color=colors[j])\n",
    "    ax = plt.gca()\n",
    "    ax.set_xticks(range(9))\n",
    "    xticknames = model.get_feature_names()\n",
    "    for j in range(9):\n",
    "        xticknames[j] = '$' + xticknames[j] + '$'\n",
    "    ax.set_xticklabels(xticknames, verticalalignment='top', fontsize=16)\n",
    "    plt.grid(True)\n",
    "    \n",
    "    sindy_opt.coef_ = coef_mean\n",
    "    x_sims_mean[i, :, :] = model.simulate(x0_test, t)\n",
    "    sindy_opt.coef_ = coef_median\n",
    "    x_sims_median[i, :, :] = model.simulate(x0_test, t)\n",
    "    plt.ylim(-5, 25)\n",
    "    plt.xticks(fontsize=18)\n",
    "    plt.yticks(fontsize=18)\n",
    "    plt.title(opt_names[i] + ' ' + str(num_stable[i]) + '/10 stable models', fontsize=18)\n",
    "    if i != 0 and i != 4:\n",
    "        ax.set_yticklabels([])\n",
    "    if i < 4:\n",
    "        ax.set_xticklabels([])\n",
    "plt.savefig('ensemble_stability_summary.pdf')"
   ]
  }
 ],
 "metadata": {
  "kernelspec": {
   "display_name": "Python 3",
   "language": "python",
   "name": "python3"
  },
  "language_info": {
   "codemirror_mode": {
    "name": "ipython",
    "version": 3
   },
   "file_extension": ".py",
   "mimetype": "text/x-python",
   "name": "python",
   "nbconvert_exporter": "python",
   "pygments_lexer": "ipython3",
   "version": "3.7.4"
  },
  "toc": {
   "base_numbering": 1,
   "nav_menu": {},
   "number_sections": true,
   "sideBar": true,
   "skip_h1_title": false,
   "title_cell": "Table of Contents",
   "title_sidebar": "Contents",
   "toc_cell": false,
   "toc_position": {
    "height": "calc(100% - 180px)",
    "left": "10px",
    "top": "150px",
    "width": "296.475px"
   },
   "toc_section_display": true,
   "toc_window_display": true
  },
  "varInspector": {
   "cols": {
    "lenName": 16,
    "lenType": 16,
    "lenVar": 40
   },
   "kernels_config": {
    "python": {
     "delete_cmd_postfix": "",
     "delete_cmd_prefix": "del ",
     "library": "var_list.py",
     "varRefreshCmd": "print(var_dic_list())"
    },
    "r": {
     "delete_cmd_postfix": ") ",
     "delete_cmd_prefix": "rm(",
     "library": "var_list.r",
     "varRefreshCmd": "cat(var_dic_list()) "
    }
   },
   "types_to_exclude": [
    "module",
    "function",
    "builtin_function_or_method",
    "instance",
    "_Feature"
   ],
   "window_display": false
  }
 },
 "nbformat": 4,
 "nbformat_minor": 2
}
