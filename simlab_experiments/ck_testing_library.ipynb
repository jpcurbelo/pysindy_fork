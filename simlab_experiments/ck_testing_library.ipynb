{
 "cells": [
  {
   "cell_type": "code",
   "execution_count": 2,
   "metadata": {},
   "outputs": [
    {
     "name": "stdout",
     "output_type": "stream",
     "text": [
      "Random word: shou\n"
     ]
    }
   ],
   "source": [
    "import random\n",
    "from nltk.corpus import words\n",
    "\n",
    "def generate_random_word():\n",
    "    word_list = words.words()\n",
    "    filtered_words = [word.lower() for word in word_list if len(word) == 4]\n",
    "    return random.choice(filtered_words)\n",
    "\n",
    "random_word = generate_random_word()\n",
    "print(\"Random word:\", random_word)"
   ]
  }
 ],
 "metadata": {
  "kernelspec": {
   "display_name": "venv-pysindy",
   "language": "python",
   "name": "python3"
  },
  "language_info": {
   "codemirror_mode": {
    "name": "ipython",
    "version": 3
   },
   "file_extension": ".py",
   "mimetype": "text/x-python",
   "name": "python",
   "nbconvert_exporter": "python",
   "pygments_lexer": "ipython3",
   "version": "3.12.3"
  }
 },
 "nbformat": 4,
 "nbformat_minor": 2
}
